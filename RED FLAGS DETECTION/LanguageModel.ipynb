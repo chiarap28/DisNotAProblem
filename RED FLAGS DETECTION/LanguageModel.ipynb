{
  "nbformat": 4,
  "nbformat_minor": 0,
  "metadata": {
    "colab": {
      "name": "LanguageModel.ipynb",
      "provenance": []
    },
    "kernelspec": {
      "name": "python3",
      "display_name": "Python 3"
    }
  },
  "cells": [
    {
      "cell_type": "code",
      "metadata": {
        "id": "DnNxeotLdOjp",
        "outputId": "5de34426-7b80-4874-8435-2091fd99e983",
        "colab": {
          "base_uri": "https://localhost:8080/",
          "height": 126
        }
      },
      "source": [
        "!pip install -U pip\n",
        "!pip install -U dill\n",
        "!pip install -U nltk==3.4"
      ],
      "execution_count": null,
      "outputs": [
        {
          "output_type": "stream",
          "text": [
            "Requirement already up-to-date: pip in /usr/local/lib/python3.6/dist-packages (20.2.4)\n",
            "Requirement already up-to-date: dill in /usr/local/lib/python3.6/dist-packages (0.3.2)\n",
            "Requirement already up-to-date: nltk==3.4 in /usr/local/lib/python3.6/dist-packages (3.4)\n",
            "Requirement already satisfied, skipping upgrade: six in /usr/local/lib/python3.6/dist-packages (from nltk==3.4) (1.15.0)\n",
            "Requirement already satisfied, skipping upgrade: singledispatch in /usr/local/lib/python3.6/dist-packages (from nltk==3.4) (3.4.0.3)\n"
          ],
          "name": "stdout"
        }
      ]
    },
    {
      "cell_type": "code",
      "metadata": {
        "id": "op4rciRhpCPe",
        "outputId": "8186d6bd-1f2c-495e-e52c-2bf490aff583",
        "colab": {
          "base_uri": "https://localhost:8080/",
          "height": 70
        }
      },
      "source": [
        "import nltk\n",
        "nltk.download('punkt')"
      ],
      "execution_count": null,
      "outputs": [
        {
          "output_type": "stream",
          "text": [
            "[nltk_data] Downloading package punkt to /root/nltk_data...\n",
            "[nltk_data]   Package punkt is already up-to-date!\n"
          ],
          "name": "stderr"
        },
        {
          "output_type": "execute_result",
          "data": {
            "text/plain": [
              "True"
            ]
          },
          "metadata": {
            "tags": []
          },
          "execution_count": 2
        }
      ]
    },
    {
      "cell_type": "code",
      "metadata": {
        "id": "j1Z9dqfudT--"
      },
      "source": [
        "from nltk.util import pad_sequence\n",
        "from nltk.util import bigrams, trigrams\n",
        "from nltk.util import ngrams\n",
        "from nltk.util import everygrams\n",
        "from nltk.lm.preprocessing import pad_both_ends\n",
        "from nltk.lm.preprocessing import flatten\n",
        "from nltk import word_tokenize, sent_tokenize "
      ],
      "execution_count": null,
      "outputs": []
    },
    {
      "cell_type": "code",
      "metadata": {
        "id": "MAETr1abdbsJ"
      },
      "source": [
        "import os\n",
        "import requests\n",
        "import io\n",
        "import re\n",
        "import glob\n",
        "import pandas as pd\n"
      ],
      "execution_count": null,
      "outputs": []
    },
    {
      "cell_type": "code",
      "metadata": {
        "id": "NyMxmR9dmexA"
      },
      "source": [
        "text = ''\n",
        "for file_name in glob.glob('/content/drive/My Drive/TESI/paisa/'+'*.txt'):\n",
        "\n",
        "  with io.open(file_name) as fin:\n",
        "        \n",
        "    text += fin.read()\n"
      ],
      "execution_count": null,
      "outputs": []
    },
    {
      "cell_type": "code",
      "metadata": {
        "id": "JkEwWj4MtKdN"
      },
      "source": [
        "file_diz = pd.read_csv('/content/drive/My Drive/TESI/DIZIONARIO.csv', sep=';')"
      ],
      "execution_count": null,
      "outputs": []
    },
    {
      "cell_type": "code",
      "metadata": {
        "id": "IqzjWv29txRy"
      },
      "source": [
        "dizionario = list(file_diz['TOKEN'])"
      ],
      "execution_count": null,
      "outputs": []
    },
    {
      "cell_type": "code",
      "metadata": {
        "id": "djvoqxP_uLd_",
        "outputId": "8b654177-494c-4117-cb95-d97db80110ca",
        "colab": {
          "base_uri": "https://localhost:8080/",
          "height": 195
        }
      },
      "source": [
        "dizionario[:10]"
      ],
      "execution_count": null,
      "outputs": [
        {
          "output_type": "execute_result",
          "data": {
            "text/plain": [
              "['AICA',\n",
              " 'AIMA',\n",
              " 'AIR',\n",
              " 'AIX',\n",
              " 'AN',\n",
              " 'AT',\n",
              " 'AUDITEL',\n",
              " 'AUSTRALIA',\n",
              " 'Aardman',\n",
              " 'Aaren']"
            ]
          },
          "metadata": {
            "tags": []
          },
          "execution_count": 8
        }
      ]
    },
    {
      "cell_type": "code",
      "metadata": {
        "id": "nozhs3fhoLTH"
      },
      "source": [
        "corpus = re.sub(r'<.*?>', '' , text)"
      ],
      "execution_count": null,
      "outputs": []
    },
    {
      "cell_type": "code",
      "metadata": {
        "id": "0A-X0PHgoMe-"
      },
      "source": [
        ""
      ],
      "execution_count": null,
      "outputs": []
    },
    {
      "cell_type": "code",
      "metadata": {
        "id": "OCLRMIXiooCs"
      },
      "source": [
        "corpus = re.sub(r'\\t', '' , corpus)"
      ],
      "execution_count": null,
      "outputs": []
    },
    {
      "cell_type": "code",
      "metadata": {
        "id": "ZTn2sL6kukCA"
      },
      "source": [
        "sentences_split = list(map(str.lower, sent_tokenize(corpus, language='italian')))"
      ],
      "execution_count": null,
      "outputs": []
    },
    {
      "cell_type": "code",
      "metadata": {
        "id": "ZRR_o7LAowh_"
      },
      "source": [
        "tokenized_text = [list(map(str.lower, word_tokenize(sent, language='italian'))) for sent in sentences_split]"
      ],
      "execution_count": null,
      "outputs": []
    },
    {
      "cell_type": "code",
      "metadata": {
        "id": "BwmfA1uQFNpk",
        "outputId": "af6efd82-04ea-4289-c766-363f32389203",
        "colab": {
          "base_uri": "https://localhost:8080/",
          "height": 35
        }
      },
      "source": [
        "len(tokenized_text)"
      ],
      "execution_count": null,
      "outputs": [
        {
          "output_type": "execute_result",
          "data": {
            "text/plain": [
              "664199"
            ]
          },
          "metadata": {
            "tags": []
          },
          "execution_count": 14
        }
      ]
    },
    {
      "cell_type": "code",
      "metadata": {
        "id": "eLRA1kB_ppWA"
      },
      "source": [
        "from nltk.lm.preprocessing import padded_everygram_pipeline"
      ],
      "execution_count": null,
      "outputs": []
    },
    {
      "cell_type": "code",
      "metadata": {
        "id": "0_5Z7WZExB5h"
      },
      "source": [
        "diz, diz_pad = padded_everygram_pipeline(1,dizionario)"
      ],
      "execution_count": null,
      "outputs": []
    },
    {
      "cell_type": "code",
      "metadata": {
        "id": "RMs-U1fAo_DW"
      },
      "source": [
        "n = 3\n",
        "train_data, padded_sents = padded_everygram_pipeline(n, tokenized_text)"
      ],
      "execution_count": null,
      "outputs": []
    },
    {
      "cell_type": "code",
      "metadata": {
        "id": "mSvSW1XUpnUG"
      },
      "source": [
        "from nltk.lm import MLE"
      ],
      "execution_count": null,
      "outputs": []
    },
    {
      "cell_type": "code",
      "metadata": {
        "id": "l9UBl7vnp2fq"
      },
      "source": [
        "model = MLE(n)"
      ],
      "execution_count": null,
      "outputs": []
    },
    {
      "cell_type": "code",
      "metadata": {
        "id": "EYeoo1NTp3Be",
        "outputId": "9547b1a5-6667-4114-8215-c40de45e8a75",
        "colab": {
          "base_uri": "https://localhost:8080/",
          "height": 35
        }
      },
      "source": [
        "model.fit(train_data, padded_sents)\n",
        "print(model.vocab)"
      ],
      "execution_count": null,
      "outputs": [
        {
          "output_type": "stream",
          "text": [
            "<Vocabulary with cutoff=1 unk_label='<UNK>' and 658281 items>\n"
          ],
          "name": "stdout"
        }
      ]
    },
    {
      "cell_type": "code",
      "metadata": {
        "id": "GbJr1e_y17w0",
        "outputId": "da2b534a-702c-414a-dc59-ae6772dabf61",
        "colab": {
          "base_uri": "https://localhost:8080/",
          "height": 35
        }
      },
      "source": [
        "len(model.vocab)"
      ],
      "execution_count": null,
      "outputs": [
        {
          "output_type": "execute_result",
          "data": {
            "text/plain": [
              "658281"
            ]
          },
          "metadata": {
            "tags": []
          },
          "execution_count": 101
        }
      ]
    },
    {
      "cell_type": "code",
      "metadata": {
        "id": "Oe_1xeIt9f1Y",
        "outputId": "712bab32-e678-475f-f26c-2f24f8d3931c",
        "colab": {
          "base_uri": "https://localhost:8080/",
          "height": 35
        }
      },
      "source": [
        "model.score('mamma')"
      ],
      "execution_count": null,
      "outputs": [
        {
          "output_type": "execute_result",
          "data": {
            "text/plain": [
              "4.907639089427882e-05"
            ]
          },
          "metadata": {
            "tags": []
          },
          "execution_count": 102
        }
      ]
    },
    {
      "cell_type": "code",
      "metadata": {
        "id": "wKfJk44xJ7Um"
      },
      "source": [
        "test_sentences = \"\"\n",
        "for file_name in glob.glob('/content/drive/My Drive/TESI/paisa_02.txt'):\n",
        "\n",
        "  with io.open(file_name) as fin:\n",
        "        \n",
        "    test_sentences = fin.read()"
      ],
      "execution_count": null,
      "outputs": []
    },
    {
      "cell_type": "code",
      "metadata": {
        "id": "ySoTH--uqykF"
      },
      "source": [
        "sentences_split = list(map(str.lower, sent_tokenize(test_sentences, language='italian')))"
      ],
      "execution_count": null,
      "outputs": []
    },
    {
      "cell_type": "code",
      "metadata": {
        "id": "dCqqxP5cbb5q"
      },
      "source": [
        "tokenized_ts = [list(map(str.lower, word_tokenize(sent, language='italian'))) for sent in sentences_split if sent!=[]]"
      ],
      "execution_count": null,
      "outputs": []
    },
    {
      "cell_type": "code",
      "metadata": {
        "id": "KJGaHjzke_7f"
      },
      "source": [
        "tokenized_ts = [tok for tok in tokenized_ts if tok!=[]]"
      ],
      "execution_count": null,
      "outputs": []
    },
    {
      "cell_type": "code",
      "metadata": {
        "id": "dROLDw_ZYMpg"
      },
      "source": [
        "test_data, _ = padded_everygram_pipeline(3, tokenized_ts)"
      ],
      "execution_count": null,
      "outputs": []
    },
    {
      "cell_type": "code",
      "metadata": {
        "id": "LMSXYmC21G13"
      },
      "source": [
        "import pickle"
      ],
      "execution_count": null,
      "outputs": []
    },
    {
      "cell_type": "code",
      "metadata": {
        "id": "WUd6DUnq-EmQ"
      },
      "source": [
        "pickle_out = open(\"/content/drive/My Drive/TESI/langmod.pickle\",\"wb\")\n",
        "pickle.dump(model, pickle_out)\n",
        "pickle_out.close()"
      ],
      "execution_count": null,
      "outputs": []
    },
    {
      "cell_type": "markdown",
      "metadata": {
        "id": "ug7WhW0ea4Hl"
      },
      "source": [
        "**ESEMPI**"
      ]
    },
    {
      "cell_type": "code",
      "metadata": {
        "id": "gqDAG9H_a488"
      },
      "source": [
        "testo = 'Carlo sa che Maria non lama più'"
      ],
      "execution_count": null,
      "outputs": []
    },
    {
      "cell_type": "code",
      "metadata": {
        "id": "ajTy7gzPbFT5"
      },
      "source": [
        "tok_test = word_tokenize(testo.lower())"
      ],
      "execution_count": null,
      "outputs": []
    },
    {
      "cell_type": "code",
      "metadata": {
        "id": "cMbdGao2bBkJ"
      },
      "source": [
        "trig = list(trigrams(tok_test))"
      ],
      "execution_count": null,
      "outputs": []
    },
    {
      "cell_type": "code",
      "metadata": {
        "id": "KQasmt6ibOsY",
        "outputId": "6b9a828c-8215-4b2a-d2c3-0abd841cbc67",
        "colab": {
          "base_uri": "https://localhost:8080/",
          "height": 141
        }
      },
      "source": [
        "for t in tok_test:\n",
        "\n",
        "  print(model.vocab.lookup(t))"
      ],
      "execution_count": null,
      "outputs": [
        {
          "output_type": "stream",
          "text": [
            "carlo\n",
            "sa\n",
            "che\n",
            "maria\n",
            "non\n",
            "lama\n",
            "più\n"
          ],
          "name": "stdout"
        }
      ]
    },
    {
      "cell_type": "code",
      "metadata": {
        "id": "dA8aAkRtbTnm",
        "outputId": "afc9a952-215f-4bac-e9fc-89d1957f3db5",
        "colab": {
          "base_uri": "https://localhost:8080/",
          "height": 106
        }
      },
      "source": [
        "for t in trig:\n",
        "\n",
        "  print(t, model.score(t[2],[t[1]]))"
      ],
      "execution_count": null,
      "outputs": [
        {
          "output_type": "stream",
          "text": [
            "('carlo', 'sa', 'che') 0.1658960606621047\n",
            "('sa', 'che', 'maria') 6.068938961123214e-05\n",
            "('che', 'maria', 'non') 0.01171875\n",
            "('maria', 'non', 'lama') 3.94915073513441e-06\n",
            "('non', 'lama', 'più') 0.0\n"
          ],
          "name": "stdout"
        }
      ]
    },
    {
      "cell_type": "code",
      "metadata": {
        "id": "uTFcopkTbkSa"
      },
      "source": [
        ""
      ],
      "execution_count": null,
      "outputs": []
    }
  ]
}