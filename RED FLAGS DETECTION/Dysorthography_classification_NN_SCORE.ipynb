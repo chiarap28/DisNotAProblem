{
  "nbformat": 4,
  "nbformat_minor": 0,
  "metadata": {
    "accelerator": "GPU",
    "colab": {
      "name": "Dysorthography-classification-NN-SCORE.ipynb",
      "provenance": [],
      "collapsed_sections": []
    },
    "kernelspec": {
      "display_name": "Python 3",
      "name": "python3"
    }
  },
  "cells": [
    {
      "cell_type": "code",
      "metadata": {
        "id": "aOmiMQv0N577"
      },
      "source": [
        "import os, re\n",
        "import pandas as pd\n",
        "import numpy as np\n",
        "import tensorflow as tf\n",
        "import matplotlib.pyplot as plt\n",
        "\n",
        "from keras.layers import Dense, Input, LSTM, Embedding, Dropout, Bidirectional, GRU\n",
        "from keras.layers import GlobalMaxPool1D, Conv1D, MaxPooling1D, Flatten, AveragePooling1D\n",
        "from keras.models import Model, Sequential\n",
        "from keras import initializers, regularizers, constraints, optimizers, layers\n",
        "from keras.callbacks import EarlyStopping, ModelCheckpoint\n",
        "from keras.metrics import AUC\n",
        "from keras.models import load_model\n",
        "import os, re\n",
        "import pandas as pd\n",
        "import numpy as np\n",
        "import tensorflow as tf\n",
        "import matplotlib.pyplot as plt\n",
        "import nltk\n",
        "from sklearn.utils import shuffle\n",
        "\n",
        "from string import digits, punctuation\n",
        "\n",
        "from keras.preprocessing.text import Tokenizer \n",
        "from nltk.tokenize.casual import reduce_lengthening\n",
        "from nltk.corpus import stopwords, wordnet\n",
        "from nltk.tokenize import WhitespaceTokenizer\n",
        "from nltk.tokenize import word_tokenize\n",
        "from nltk.stem import WordNetLemmatizer, PorterStemmer, LancasterStemmer\n",
        "from keras.preprocessing.sequence import pad_sequences\n",
        "\n",
        "from sklearn.feature_extraction.text import CountVectorizer,TfidfVectorizer\n",
        "from sklearn.model_selection import train_test_split"
      ],
      "execution_count": null,
      "outputs": []
    },
    {
      "cell_type": "code",
      "metadata": {
        "id": "z9kqXYZeOGYo"
      },
      "source": [
        "data = pd.read_csv('/content/drive/My Drive/TESI/dataset.csv')"
      ],
      "execution_count": null,
      "outputs": []
    },
    {
      "cell_type": "code",
      "metadata": {
        "id": "aRVZngjcp6z5",
        "outputId": "51eb8594-ab18-4136-c6fa-ed0018824c8a",
        "colab": {
          "base_uri": "https://localhost:8080/",
          "height": 35
        }
      },
      "source": [
        "len(data)"
      ],
      "execution_count": null,
      "outputs": [
        {
          "output_type": "execute_result",
          "data": {
            "text/plain": [
              "124207"
            ]
          },
          "metadata": {
            "tags": []
          },
          "execution_count": 7
        }
      ]
    },
    {
      "cell_type": "code",
      "metadata": {
        "id": "Ib7VwdNKroBM",
        "outputId": "d89d5b3f-311f-4f42-c0c9-f3bb2372e0cf",
        "colab": {
          "base_uri": "https://localhost:8080/",
          "height": 35
        }
      },
      "source": [
        "data['TESTO'].isnull().any()"
      ],
      "execution_count": null,
      "outputs": [
        {
          "output_type": "execute_result",
          "data": {
            "text/plain": [
              "False"
            ]
          },
          "metadata": {
            "tags": []
          },
          "execution_count": 8
        }
      ]
    },
    {
      "cell_type": "code",
      "metadata": {
        "id": "plKl_wf6zin3"
      },
      "source": [
        "isacco = pd.read_csv('/content/drive/My Drive/TESI/ISACCO.csv')"
      ],
      "execution_count": null,
      "outputs": []
    },
    {
      "cell_type": "code",
      "metadata": {
        "id": "F4XKodvu10Xg",
        "outputId": "4102219c-10b2-4676-c8b0-630dc283272b",
        "colab": {
          "base_uri": "https://localhost:8080/",
          "height": 35
        }
      },
      "source": [
        "isacco['TESTO'].isnull().any()"
      ],
      "execution_count": null,
      "outputs": [
        {
          "output_type": "execute_result",
          "data": {
            "text/plain": [
              "False"
            ]
          },
          "metadata": {
            "tags": []
          },
          "execution_count": 10
        }
      ]
    },
    {
      "cell_type": "code",
      "metadata": {
        "id": "P9EiwqBKrg45",
        "outputId": "af677c46-99d4-4234-ac9d-d2d1ea7abd0c",
        "colab": {
          "base_uri": "https://localhost:8080/",
          "height": 194
        }
      },
      "source": [
        "isacco.head()"
      ],
      "execution_count": null,
      "outputs": [
        {
          "output_type": "execute_result",
          "data": {
            "text/html": [
              "<div>\n",
              "<style scoped>\n",
              "    .dataframe tbody tr th:only-of-type {\n",
              "        vertical-align: middle;\n",
              "    }\n",
              "\n",
              "    .dataframe tbody tr th {\n",
              "        vertical-align: top;\n",
              "    }\n",
              "\n",
              "    .dataframe thead th {\n",
              "        text-align: right;\n",
              "    }\n",
              "</style>\n",
              "<table border=\"1\" class=\"dataframe\">\n",
              "  <thead>\n",
              "    <tr style=\"text-align: right;\">\n",
              "      <th></th>\n",
              "      <th>Unnamed: 0</th>\n",
              "      <th>TESTO</th>\n",
              "      <th>DOPPIE</th>\n",
              "      <th>INV. OMIS. INS. LETT/SILL</th>\n",
              "      <th>FUS./SEP ILL.</th>\n",
              "      <th>SCAMBIO OMOF.</th>\n",
              "      <th>H</th>\n",
              "      <th>ACCENTI</th>\n",
              "    </tr>\n",
              "  </thead>\n",
              "  <tbody>\n",
              "    <tr>\n",
              "      <th>0</th>\n",
              "      <td>0</td>\n",
              "      <td>La statua nel parco C'era una volta una statu...</td>\n",
              "      <td>0</td>\n",
              "      <td>0</td>\n",
              "      <td>0</td>\n",
              "      <td>0</td>\n",
              "      <td>0</td>\n",
              "      <td>0</td>\n",
              "    </tr>\n",
              "    <tr>\n",
              "      <th>1</th>\n",
              "      <td>1</td>\n",
              "      <td>La statua nel parco C'era una volta una statu...</td>\n",
              "      <td>0</td>\n",
              "      <td>0</td>\n",
              "      <td>0</td>\n",
              "      <td>0</td>\n",
              "      <td>0</td>\n",
              "      <td>0</td>\n",
              "    </tr>\n",
              "    <tr>\n",
              "      <th>2</th>\n",
              "      <td>2</td>\n",
              "      <td>La statua nel parco In un parco c'era una sta...</td>\n",
              "      <td>0</td>\n",
              "      <td>0</td>\n",
              "      <td>0</td>\n",
              "      <td>0</td>\n",
              "      <td>0</td>\n",
              "      <td>0</td>\n",
              "    </tr>\n",
              "    <tr>\n",
              "      <th>3</th>\n",
              "      <td>3</td>\n",
              "      <td>La statua nel parco C'era una volta una statu...</td>\n",
              "      <td>0</td>\n",
              "      <td>0</td>\n",
              "      <td>0</td>\n",
              "      <td>0</td>\n",
              "      <td>0</td>\n",
              "      <td>0</td>\n",
              "    </tr>\n",
              "    <tr>\n",
              "      <th>4</th>\n",
              "      <td>4</td>\n",
              "      <td>La statua nel parco C'era una volta in un par...</td>\n",
              "      <td>0</td>\n",
              "      <td>0</td>\n",
              "      <td>0</td>\n",
              "      <td>0</td>\n",
              "      <td>0</td>\n",
              "      <td>0</td>\n",
              "    </tr>\n",
              "  </tbody>\n",
              "</table>\n",
              "</div>"
            ],
            "text/plain": [
              "   Unnamed: 0                                              TESTO  ...  H  ACCENTI\n",
              "0           0   La statua nel parco C'era una volta una statu...  ...  0        0\n",
              "1           1   La statua nel parco C'era una volta una statu...  ...  0        0\n",
              "2           2   La statua nel parco In un parco c'era una sta...  ...  0        0\n",
              "3           3   La statua nel parco C'era una volta una statu...  ...  0        0\n",
              "4           4   La statua nel parco C'era una volta in un par...  ...  0        0\n",
              "\n",
              "[5 rows x 8 columns]"
            ]
          },
          "metadata": {
            "tags": []
          },
          "execution_count": 11
        }
      ]
    },
    {
      "cell_type": "code",
      "metadata": {
        "id": "IQMAsgMYr_fn"
      },
      "source": [
        "no_dys = pd.read_csv('/content/drive/My Drive/TESI/no_dysorthography.csv', sep=';')"
      ],
      "execution_count": null,
      "outputs": []
    },
    {
      "cell_type": "code",
      "metadata": {
        "id": "Ur35yLvosKSz",
        "outputId": "a0d4dbcf-ecb8-4b89-a2a6-5b7532ff1a1c",
        "colab": {
          "base_uri": "https://localhost:8080/",
          "height": 868
        }
      },
      "source": [
        "no_dys"
      ],
      "execution_count": null,
      "outputs": [
        {
          "output_type": "execute_result",
          "data": {
            "text/html": [
              "<div>\n",
              "<style scoped>\n",
              "    .dataframe tbody tr th:only-of-type {\n",
              "        vertical-align: middle;\n",
              "    }\n",
              "\n",
              "    .dataframe tbody tr th {\n",
              "        vertical-align: top;\n",
              "    }\n",
              "\n",
              "    .dataframe thead th {\n",
              "        text-align: right;\n",
              "    }\n",
              "</style>\n",
              "<table border=\"1\" class=\"dataframe\">\n",
              "  <thead>\n",
              "    <tr style=\"text-align: right;\">\n",
              "      <th></th>\n",
              "      <th>TESTO</th>\n",
              "      <th>DISORTOGRAFICO</th>\n",
              "    </tr>\n",
              "  </thead>\n",
              "  <tbody>\n",
              "    <tr>\n",
              "      <th>0</th>\n",
              "      <td>L’autunno comincia con l’equinozio che cade in...</td>\n",
              "      <td>NaN</td>\n",
              "    </tr>\n",
              "    <tr>\n",
              "      <th>1</th>\n",
              "      <td>La rana salta in alto. Paolo legge il giornale...</td>\n",
              "      <td>NaN</td>\n",
              "    </tr>\n",
              "    <tr>\n",
              "      <th>2</th>\n",
              "      <td>Un’ape si è posata sul fiore. Ai bambini piace...</td>\n",
              "      <td>NaN</td>\n",
              "    </tr>\n",
              "    <tr>\n",
              "      <th>3</th>\n",
              "      <td>La leggenda di Isabella coccinella e Gastone C...</td>\n",
              "      <td>NaN</td>\n",
              "    </tr>\n",
              "    <tr>\n",
              "      <th>4</th>\n",
              "      <td>Mi chiamo Francesca e lavoro come segretaria n...</td>\n",
              "      <td>NaN</td>\n",
              "    </tr>\n",
              "    <tr>\n",
              "      <th>5</th>\n",
              "      <td>Una mattina speciale. Questa mattina sulle pis...</td>\n",
              "      <td>NaN</td>\n",
              "    </tr>\n",
              "    <tr>\n",
              "      <th>6</th>\n",
              "      <td>La giornata degli animali. Michele è un bambin...</td>\n",
              "      <td>NaN</td>\n",
              "    </tr>\n",
              "    <tr>\n",
              "      <th>7</th>\n",
              "      <td>Sui tetti della mia città, c’è una gatta che n...</td>\n",
              "      <td>NaN</td>\n",
              "    </tr>\n",
              "    <tr>\n",
              "      <th>8</th>\n",
              "      <td>La cuoca Pasqualina non sa cucinare, combina t...</td>\n",
              "      <td>NaN</td>\n",
              "    </tr>\n",
              "    <tr>\n",
              "      <th>9</th>\n",
              "      <td>Cara Eugenia, gli ippopotami non mangiano carn...</td>\n",
              "      <td>NaN</td>\n",
              "    </tr>\n",
              "    <tr>\n",
              "      <th>10</th>\n",
              "      <td>Eravamo pronti per partire, la mamma mi aveva ...</td>\n",
              "      <td>NaN</td>\n",
              "    </tr>\n",
              "    <tr>\n",
              "      <th>11</th>\n",
              "      <td>RISVEGLIO. È un mattino di luglio. Il coniglio...</td>\n",
              "      <td>NaN</td>\n",
              "    </tr>\n",
              "    <tr>\n",
              "      <th>12</th>\n",
              "      <td>Un ombrello colorato per sfidare il temporale,...</td>\n",
              "      <td>NaN</td>\n",
              "    </tr>\n",
              "    <tr>\n",
              "      <th>13</th>\n",
              "      <td>Il micio di Cecilia si chiama Ciccio e va semp...</td>\n",
              "      <td>NaN</td>\n",
              "    </tr>\n",
              "    <tr>\n",
              "      <th>14</th>\n",
              "      <td>La gallina Gasperina è tanto golosa e ha ingoi...</td>\n",
              "      <td>NaN</td>\n",
              "    </tr>\n",
              "    <tr>\n",
              "      <th>15</th>\n",
              "      <td>In una minuscola casetta di legno in montagna ...</td>\n",
              "      <td>NaN</td>\n",
              "    </tr>\n",
              "    <tr>\n",
              "      <th>16</th>\n",
              "      <td>Quando la neve si scioglie in montagna, gli sc...</td>\n",
              "      <td>NaN</td>\n",
              "    </tr>\n",
              "    <tr>\n",
              "      <th>17</th>\n",
              "      <td>La bicicletta del papà Il mio papà ha comprato...</td>\n",
              "      <td>NaN</td>\n",
              "    </tr>\n",
              "    <tr>\n",
              "      <th>18</th>\n",
              "      <td>Il cieco e la fiaccola Un cieco girava per le ...</td>\n",
              "      <td>NaN</td>\n",
              "    </tr>\n",
              "    <tr>\n",
              "      <th>19</th>\n",
              "      <td>Il leone e il gallo Il re degli animali, con u...</td>\n",
              "      <td>NaN</td>\n",
              "    </tr>\n",
              "    <tr>\n",
              "      <th>20</th>\n",
              "      <td>Indiani e bisonti Nelle sterminate pianure ame...</td>\n",
              "      <td>NaN</td>\n",
              "    </tr>\n",
              "    <tr>\n",
              "      <th>21</th>\n",
              "      <td>Il colore dei pesci Molti pesci che vivono nei...</td>\n",
              "      <td>NaN</td>\n",
              "    </tr>\n",
              "    <tr>\n",
              "      <th>22</th>\n",
              "      <td>Viaggio sul Nilo Io, dopo essermi trattenuto t...</td>\n",
              "      <td>NaN</td>\n",
              "    </tr>\n",
              "    <tr>\n",
              "      <th>23</th>\n",
              "      <td>La piccola antilope La piccola antilope seguiv...</td>\n",
              "      <td>NaN</td>\n",
              "    </tr>\n",
              "    <tr>\n",
              "      <th>24</th>\n",
              "      <td>L’assalto dei leoni Mi parve di udire verso la...</td>\n",
              "      <td>NaN</td>\n",
              "    </tr>\n",
              "    <tr>\n",
              "      <th>25</th>\n",
              "      <td>La mamma, seduta in riva al lago, stava cucend...</td>\n",
              "      <td>NaN</td>\n",
              "    </tr>\n",
              "    <tr>\n",
              "      <th>26</th>\n",
              "      <td>Il bambino ha preso la merenda prima di andare...</td>\n",
              "      <td>NaN</td>\n",
              "    </tr>\n",
              "    <tr>\n",
              "      <th>27</th>\n",
              "      <td>Non v’era traccia della vera assassina sul tre...</td>\n",
              "      <td>NaN</td>\n",
              "    </tr>\n",
              "  </tbody>\n",
              "</table>\n",
              "</div>"
            ],
            "text/plain": [
              "                                                TESTO  DISORTOGRAFICO\n",
              "0   L’autunno comincia con l’equinozio che cade in...             NaN\n",
              "1   La rana salta in alto. Paolo legge il giornale...             NaN\n",
              "2   Un’ape si è posata sul fiore. Ai bambini piace...             NaN\n",
              "3   La leggenda di Isabella coccinella e Gastone C...             NaN\n",
              "4   Mi chiamo Francesca e lavoro come segretaria n...             NaN\n",
              "5   Una mattina speciale. Questa mattina sulle pis...             NaN\n",
              "6   La giornata degli animali. Michele è un bambin...             NaN\n",
              "7   Sui tetti della mia città, c’è una gatta che n...             NaN\n",
              "8   La cuoca Pasqualina non sa cucinare, combina t...             NaN\n",
              "9   Cara Eugenia, gli ippopotami non mangiano carn...             NaN\n",
              "10  Eravamo pronti per partire, la mamma mi aveva ...             NaN\n",
              "11  RISVEGLIO. È un mattino di luglio. Il coniglio...             NaN\n",
              "12  Un ombrello colorato per sfidare il temporale,...             NaN\n",
              "13  Il micio di Cecilia si chiama Ciccio e va semp...             NaN\n",
              "14  La gallina Gasperina è tanto golosa e ha ingoi...             NaN\n",
              "15  In una minuscola casetta di legno in montagna ...             NaN\n",
              "16  Quando la neve si scioglie in montagna, gli sc...             NaN\n",
              "17  La bicicletta del papà Il mio papà ha comprato...             NaN\n",
              "18  Il cieco e la fiaccola Un cieco girava per le ...             NaN\n",
              "19  Il leone e il gallo Il re degli animali, con u...             NaN\n",
              "20  Indiani e bisonti Nelle sterminate pianure ame...             NaN\n",
              "21  Il colore dei pesci Molti pesci che vivono nei...             NaN\n",
              "22  Viaggio sul Nilo Io, dopo essermi trattenuto t...             NaN\n",
              "23  La piccola antilope La piccola antilope seguiv...             NaN\n",
              "24  L’assalto dei leoni Mi parve di udire verso la...             NaN\n",
              "25  La mamma, seduta in riva al lago, stava cucend...             NaN\n",
              "26  Il bambino ha preso la merenda prima di andare...             NaN\n",
              "27  Non v’era traccia della vera assassina sul tre...             NaN"
            ]
          },
          "metadata": {
            "tags": []
          },
          "execution_count": 13
        }
      ]
    },
    {
      "cell_type": "code",
      "metadata": {
        "id": "pD3Y6Ixp2PC5",
        "outputId": "652e4168-2574-45ad-ccc9-999e161d322d",
        "colab": {
          "base_uri": "https://localhost:8080/",
          "height": 70
        }
      },
      "source": [
        "no_dys.isnull().any()"
      ],
      "execution_count": null,
      "outputs": [
        {
          "output_type": "execute_result",
          "data": {
            "text/plain": [
              "TESTO             False\n",
              "DISORTOGRAFICO     True\n",
              "dtype: bool"
            ]
          },
          "metadata": {
            "tags": []
          },
          "execution_count": 14
        }
      ]
    },
    {
      "cell_type": "code",
      "metadata": {
        "id": "1yOmhBgbsdio"
      },
      "source": [
        "data = data.append(isacco)"
      ],
      "execution_count": null,
      "outputs": []
    },
    {
      "cell_type": "code",
      "metadata": {
        "id": "3kYp_1-BskA2",
        "outputId": "958496b5-c173-4d3d-96ce-ea93e69a4d42",
        "colab": {
          "base_uri": "https://localhost:8080/",
          "height": 399
        }
      },
      "source": [
        "data"
      ],
      "execution_count": null,
      "outputs": [
        {
          "output_type": "execute_result",
          "data": {
            "text/html": [
              "<div>\n",
              "<style scoped>\n",
              "    .dataframe tbody tr th:only-of-type {\n",
              "        vertical-align: middle;\n",
              "    }\n",
              "\n",
              "    .dataframe tbody tr th {\n",
              "        vertical-align: top;\n",
              "    }\n",
              "\n",
              "    .dataframe thead th {\n",
              "        text-align: right;\n",
              "    }\n",
              "</style>\n",
              "<table border=\"1\" class=\"dataframe\">\n",
              "  <thead>\n",
              "    <tr style=\"text-align: right;\">\n",
              "      <th></th>\n",
              "      <th>Unnamed: 0</th>\n",
              "      <th>TESTO</th>\n",
              "      <th>DOPPIE</th>\n",
              "      <th>INV. OMIS. INS. LETT/SILL</th>\n",
              "      <th>FUS./SEP ILL.</th>\n",
              "      <th>SCAMBIO OMOF.</th>\n",
              "      <th>H</th>\n",
              "      <th>ACCENTI</th>\n",
              "      <th>DISORTOGRAFICO</th>\n",
              "    </tr>\n",
              "  </thead>\n",
              "  <tbody>\n",
              "    <tr>\n",
              "      <th>0</th>\n",
              "      <td>0</td>\n",
              "      <td>Filippo un ragazzo che abita in un piccolo qua...</td>\n",
              "      <td>1</td>\n",
              "      <td>2</td>\n",
              "      <td>3</td>\n",
              "      <td>1</td>\n",
              "      <td>0</td>\n",
              "      <td>2</td>\n",
              "      <td>1.0</td>\n",
              "    </tr>\n",
              "    <tr>\n",
              "      <th>1</th>\n",
              "      <td>1</td>\n",
              "      <td>I bisonti rappresentavano la principale fonte ...</td>\n",
              "      <td>0</td>\n",
              "      <td>2</td>\n",
              "      <td>3</td>\n",
              "      <td>3</td>\n",
              "      <td>0</td>\n",
              "      <td>0</td>\n",
              "      <td>1.0</td>\n",
              "    </tr>\n",
              "    <tr>\n",
              "      <th>2</th>\n",
              "      <td>2</td>\n",
              "      <td>Se al calar della notte si avvicinavano ad un ...</td>\n",
              "      <td>0</td>\n",
              "      <td>2</td>\n",
              "      <td>3</td>\n",
              "      <td>3</td>\n",
              "      <td>0</td>\n",
              "      <td>0</td>\n",
              "      <td>1.0</td>\n",
              "    </tr>\n",
              "    <tr>\n",
              "      <th>3</th>\n",
              "      <td>3</td>\n",
              "      <td>I bisonti rappresentavano la principale fonte ...</td>\n",
              "      <td>0</td>\n",
              "      <td>2</td>\n",
              "      <td>3</td>\n",
              "      <td>3</td>\n",
              "      <td>0</td>\n",
              "      <td>0</td>\n",
              "      <td>1.0</td>\n",
              "    </tr>\n",
              "    <tr>\n",
              "      <th>4</th>\n",
              "      <td>4</td>\n",
              "      <td>Quando i bisonti cominciavano a correre (il ru...</td>\n",
              "      <td>0</td>\n",
              "      <td>2</td>\n",
              "      <td>3</td>\n",
              "      <td>3</td>\n",
              "      <td>0</td>\n",
              "      <td>0</td>\n",
              "      <td>1.0</td>\n",
              "    </tr>\n",
              "    <tr>\n",
              "      <th>...</th>\n",
              "      <td>...</td>\n",
              "      <td>...</td>\n",
              "      <td>...</td>\n",
              "      <td>...</td>\n",
              "      <td>...</td>\n",
              "      <td>...</td>\n",
              "      <td>...</td>\n",
              "      <td>...</td>\n",
              "      <td>...</td>\n",
              "    </tr>\n",
              "    <tr>\n",
              "      <th>119</th>\n",
              "      <td>119</td>\n",
              "      <td>C'era una volta in un parco una statua di pie...</td>\n",
              "      <td>0</td>\n",
              "      <td>60</td>\n",
              "      <td>0</td>\n",
              "      <td>0</td>\n",
              "      <td>0</td>\n",
              "      <td>0</td>\n",
              "      <td>NaN</td>\n",
              "    </tr>\n",
              "    <tr>\n",
              "      <th>120</th>\n",
              "      <td>120</td>\n",
              "      <td>La storia nel parco C'era una volta un geogra...</td>\n",
              "      <td>0</td>\n",
              "      <td>15</td>\n",
              "      <td>0</td>\n",
              "      <td>0</td>\n",
              "      <td>0</td>\n",
              "      <td>2</td>\n",
              "      <td>NaN</td>\n",
              "    </tr>\n",
              "    <tr>\n",
              "      <th>121</th>\n",
              "      <td>121</td>\n",
              "      <td>Al centro di un parco c'era una statua di pie...</td>\n",
              "      <td>3</td>\n",
              "      <td>34</td>\n",
              "      <td>0</td>\n",
              "      <td>0</td>\n",
              "      <td>0</td>\n",
              "      <td>0</td>\n",
              "      <td>NaN</td>\n",
              "    </tr>\n",
              "    <tr>\n",
              "      <th>122</th>\n",
              "      <td>122</td>\n",
              "      <td>La statua nel prato C'era una volta una statu...</td>\n",
              "      <td>2</td>\n",
              "      <td>6</td>\n",
              "      <td>0</td>\n",
              "      <td>0</td>\n",
              "      <td>0</td>\n",
              "      <td>0</td>\n",
              "      <td>NaN</td>\n",
              "    </tr>\n",
              "    <tr>\n",
              "      <th>123</th>\n",
              "      <td>123</td>\n",
              "      <td>Un giorno dei ragazzi  butarono  giu  un mapp...</td>\n",
              "      <td>1</td>\n",
              "      <td>21</td>\n",
              "      <td>0</td>\n",
              "      <td>0</td>\n",
              "      <td>1</td>\n",
              "      <td>0</td>\n",
              "      <td>NaN</td>\n",
              "    </tr>\n",
              "  </tbody>\n",
              "</table>\n",
              "<p>124331 rows × 9 columns</p>\n",
              "</div>"
            ],
            "text/plain": [
              "     Unnamed: 0  ... DISORTOGRAFICO\n",
              "0             0  ...            1.0\n",
              "1             1  ...            1.0\n",
              "2             2  ...            1.0\n",
              "3             3  ...            1.0\n",
              "4             4  ...            1.0\n",
              "..          ...  ...            ...\n",
              "119         119  ...            NaN\n",
              "120         120  ...            NaN\n",
              "121         121  ...            NaN\n",
              "122         122  ...            NaN\n",
              "123         123  ...            NaN\n",
              "\n",
              "[124331 rows x 9 columns]"
            ]
          },
          "metadata": {
            "tags": []
          },
          "execution_count": 16
        }
      ]
    },
    {
      "cell_type": "code",
      "metadata": {
        "id": "unOUixQ4PQ5d",
        "outputId": "076ae8b9-2f1b-4248-e44c-f7f4ecbb996c",
        "colab": {
          "base_uri": "https://localhost:8080/",
          "height": 230
        }
      },
      "source": [
        "#x_train = data['comment_text']\n",
        "x_train = data['TESTO']\n",
        "\n",
        "x_train"
      ],
      "execution_count": null,
      "outputs": [
        {
          "output_type": "execute_result",
          "data": {
            "text/plain": [
              "0      Filippo un ragazzo che abita in un piccolo qua...\n",
              "1      I bisonti rappresentavano la principale fonte ...\n",
              "2      Se al calar della notte si avvicinavano ad un ...\n",
              "3      I bisonti rappresentavano la principale fonte ...\n",
              "4      Quando i bisonti cominciavano a correre (il ru...\n",
              "                             ...                        \n",
              "119     C'era una volta in un parco una statua di pie...\n",
              "120     La storia nel parco C'era una volta un geogra...\n",
              "121     Al centro di un parco c'era una statua di pie...\n",
              "122     La statua nel prato C'era una volta una statu...\n",
              "123     Un giorno dei ragazzi  butarono  giu  un mapp...\n",
              "Name: TESTO, Length: 124331, dtype: object"
            ]
          },
          "metadata": {
            "tags": []
          },
          "execution_count": 17
        }
      ]
    },
    {
      "cell_type": "code",
      "metadata": {
        "id": "tLAulupF_diS"
      },
      "source": [
        "data.loc[data[\"DOPPIE\"]+data[\"INV. OMIS. INS. LETT/SILL\"]+data[\"FUS./SEP ILL.\"]+data[\"SCAMBIO OMOF.\"]+data[\"H\"]+data[\"ACCENTI\"]<=2, \"SCORE\"] = 0\n",
        "data.loc[data[\"DOPPIE\"]+data[\"INV. OMIS. INS. LETT/SILL\"]+data[\"FUS./SEP ILL.\"]+data[\"SCAMBIO OMOF.\"]+data[\"H\"]+data[\"ACCENTI\"]<=5, \"SCORE\"] = 1\n",
        "data.loc[data[\"DOPPIE\"]+data[\"INV. OMIS. INS. LETT/SILL\"]+data[\"FUS./SEP ILL.\"]+data[\"SCAMBIO OMOF.\"]+data[\"H\"]+data[\"ACCENTI\"]<=8, \"SCORE\"] = 2\n",
        "data.loc[data[\"DOPPIE\"]+data[\"INV. OMIS. INS. LETT/SILL\"]+data[\"FUS./SEP ILL.\"]+data[\"SCAMBIO OMOF.\"]+data[\"H\"]+data[\"ACCENTI\"]>=9, \"SCORE\"] = 3"
      ],
      "execution_count": null,
      "outputs": []
    },
    {
      "cell_type": "code",
      "metadata": {
        "id": "igJZTpen_8j4",
        "outputId": "1fcd97b9-26fc-4c54-caa5-326f911c8ca3",
        "colab": {
          "base_uri": "https://localhost:8080/",
          "height": 399
        }
      },
      "source": [
        "data"
      ],
      "execution_count": null,
      "outputs": [
        {
          "output_type": "execute_result",
          "data": {
            "text/html": [
              "<div>\n",
              "<style scoped>\n",
              "    .dataframe tbody tr th:only-of-type {\n",
              "        vertical-align: middle;\n",
              "    }\n",
              "\n",
              "    .dataframe tbody tr th {\n",
              "        vertical-align: top;\n",
              "    }\n",
              "\n",
              "    .dataframe thead th {\n",
              "        text-align: right;\n",
              "    }\n",
              "</style>\n",
              "<table border=\"1\" class=\"dataframe\">\n",
              "  <thead>\n",
              "    <tr style=\"text-align: right;\">\n",
              "      <th></th>\n",
              "      <th>Unnamed: 0</th>\n",
              "      <th>TESTO</th>\n",
              "      <th>DOPPIE</th>\n",
              "      <th>INV. OMIS. INS. LETT/SILL</th>\n",
              "      <th>FUS./SEP ILL.</th>\n",
              "      <th>SCAMBIO OMOF.</th>\n",
              "      <th>H</th>\n",
              "      <th>ACCENTI</th>\n",
              "      <th>DISORTOGRAFICO</th>\n",
              "      <th>SCORE</th>\n",
              "    </tr>\n",
              "  </thead>\n",
              "  <tbody>\n",
              "    <tr>\n",
              "      <th>0</th>\n",
              "      <td>0</td>\n",
              "      <td>Filippo un ragazzo che abita in un piccolo qua...</td>\n",
              "      <td>1</td>\n",
              "      <td>2</td>\n",
              "      <td>3</td>\n",
              "      <td>1</td>\n",
              "      <td>0</td>\n",
              "      <td>2</td>\n",
              "      <td>1.0</td>\n",
              "      <td>3.0</td>\n",
              "    </tr>\n",
              "    <tr>\n",
              "      <th>1</th>\n",
              "      <td>1</td>\n",
              "      <td>I bisonti rappresentavano la principale fonte ...</td>\n",
              "      <td>0</td>\n",
              "      <td>2</td>\n",
              "      <td>3</td>\n",
              "      <td>3</td>\n",
              "      <td>0</td>\n",
              "      <td>0</td>\n",
              "      <td>1.0</td>\n",
              "      <td>2.0</td>\n",
              "    </tr>\n",
              "    <tr>\n",
              "      <th>2</th>\n",
              "      <td>2</td>\n",
              "      <td>Se al calar della notte si avvicinavano ad un ...</td>\n",
              "      <td>0</td>\n",
              "      <td>2</td>\n",
              "      <td>3</td>\n",
              "      <td>3</td>\n",
              "      <td>0</td>\n",
              "      <td>0</td>\n",
              "      <td>1.0</td>\n",
              "      <td>2.0</td>\n",
              "    </tr>\n",
              "    <tr>\n",
              "      <th>3</th>\n",
              "      <td>3</td>\n",
              "      <td>I bisonti rappresentavano la principale fonte ...</td>\n",
              "      <td>0</td>\n",
              "      <td>2</td>\n",
              "      <td>3</td>\n",
              "      <td>3</td>\n",
              "      <td>0</td>\n",
              "      <td>0</td>\n",
              "      <td>1.0</td>\n",
              "      <td>2.0</td>\n",
              "    </tr>\n",
              "    <tr>\n",
              "      <th>4</th>\n",
              "      <td>4</td>\n",
              "      <td>Quando i bisonti cominciavano a correre (il ru...</td>\n",
              "      <td>0</td>\n",
              "      <td>2</td>\n",
              "      <td>3</td>\n",
              "      <td>3</td>\n",
              "      <td>0</td>\n",
              "      <td>0</td>\n",
              "      <td>1.0</td>\n",
              "      <td>2.0</td>\n",
              "    </tr>\n",
              "    <tr>\n",
              "      <th>...</th>\n",
              "      <td>...</td>\n",
              "      <td>...</td>\n",
              "      <td>...</td>\n",
              "      <td>...</td>\n",
              "      <td>...</td>\n",
              "      <td>...</td>\n",
              "      <td>...</td>\n",
              "      <td>...</td>\n",
              "      <td>...</td>\n",
              "      <td>...</td>\n",
              "    </tr>\n",
              "    <tr>\n",
              "      <th>119</th>\n",
              "      <td>119</td>\n",
              "      <td>C'era una volta in un parco una statua di pie...</td>\n",
              "      <td>0</td>\n",
              "      <td>60</td>\n",
              "      <td>0</td>\n",
              "      <td>0</td>\n",
              "      <td>0</td>\n",
              "      <td>0</td>\n",
              "      <td>NaN</td>\n",
              "      <td>3.0</td>\n",
              "    </tr>\n",
              "    <tr>\n",
              "      <th>120</th>\n",
              "      <td>120</td>\n",
              "      <td>La storia nel parco C'era una volta un geogra...</td>\n",
              "      <td>0</td>\n",
              "      <td>15</td>\n",
              "      <td>0</td>\n",
              "      <td>0</td>\n",
              "      <td>0</td>\n",
              "      <td>2</td>\n",
              "      <td>NaN</td>\n",
              "      <td>3.0</td>\n",
              "    </tr>\n",
              "    <tr>\n",
              "      <th>121</th>\n",
              "      <td>121</td>\n",
              "      <td>Al centro di un parco c'era una statua di pie...</td>\n",
              "      <td>3</td>\n",
              "      <td>34</td>\n",
              "      <td>0</td>\n",
              "      <td>0</td>\n",
              "      <td>0</td>\n",
              "      <td>0</td>\n",
              "      <td>NaN</td>\n",
              "      <td>3.0</td>\n",
              "    </tr>\n",
              "    <tr>\n",
              "      <th>122</th>\n",
              "      <td>122</td>\n",
              "      <td>La statua nel prato C'era una volta una statu...</td>\n",
              "      <td>2</td>\n",
              "      <td>6</td>\n",
              "      <td>0</td>\n",
              "      <td>0</td>\n",
              "      <td>0</td>\n",
              "      <td>0</td>\n",
              "      <td>NaN</td>\n",
              "      <td>2.0</td>\n",
              "    </tr>\n",
              "    <tr>\n",
              "      <th>123</th>\n",
              "      <td>123</td>\n",
              "      <td>Un giorno dei ragazzi  butarono  giu  un mapp...</td>\n",
              "      <td>1</td>\n",
              "      <td>21</td>\n",
              "      <td>0</td>\n",
              "      <td>0</td>\n",
              "      <td>1</td>\n",
              "      <td>0</td>\n",
              "      <td>NaN</td>\n",
              "      <td>3.0</td>\n",
              "    </tr>\n",
              "  </tbody>\n",
              "</table>\n",
              "<p>124331 rows × 10 columns</p>\n",
              "</div>"
            ],
            "text/plain": [
              "     Unnamed: 0  ... SCORE\n",
              "0             0  ...   3.0\n",
              "1             1  ...   2.0\n",
              "2             2  ...   2.0\n",
              "3             3  ...   2.0\n",
              "4             4  ...   2.0\n",
              "..          ...  ...   ...\n",
              "119         119  ...   3.0\n",
              "120         120  ...   3.0\n",
              "121         121  ...   3.0\n",
              "122         122  ...   2.0\n",
              "123         123  ...   3.0\n",
              "\n",
              "[124331 rows x 10 columns]"
            ]
          },
          "metadata": {
            "tags": []
          },
          "execution_count": 19
        }
      ]
    },
    {
      "cell_type": "code",
      "metadata": {
        "id": "TuUnGzjBPbsy"
      },
      "source": [
        "col = ['DOPPIE', 'INV. OMIS. INS. LETT/SILL', 'FUS./SEP ILL.', 'SCAMBIO OMOF.', 'H', 'ACCENTI']\n",
        "#col = ['subj',\t'opos',\t'oneg'\t,'iro',\t'lpos',\t'lneg',\t'top'\t]\n",
        "y_train = data['SCORE']"
      ],
      "execution_count": null,
      "outputs": []
    },
    {
      "cell_type": "code",
      "metadata": {
        "id": "aeYDiN9gPiG9",
        "outputId": "44eb75f3-a185-4572-c666-26d3c2811cb9",
        "colab": {
          "base_uri": "https://localhost:8080/",
          "height": 35
        }
      },
      "source": [
        "# control of null elements\n",
        "\n",
        "x_train.isnull().any()"
      ],
      "execution_count": null,
      "outputs": [
        {
          "output_type": "execute_result",
          "data": {
            "text/plain": [
              "False"
            ]
          },
          "metadata": {
            "tags": []
          },
          "execution_count": 21
        }
      ]
    },
    {
      "cell_type": "code",
      "metadata": {
        "id": "hhAZ2yoxAPep",
        "outputId": "c6e55c9b-51b1-46d7-fe0b-3a378e45af37",
        "colab": {
          "base_uri": "https://localhost:8080/",
          "height": 35
        }
      },
      "source": [
        "y_train.isnull().any()"
      ],
      "execution_count": null,
      "outputs": [
        {
          "output_type": "execute_result",
          "data": {
            "text/plain": [
              "False"
            ]
          },
          "metadata": {
            "tags": []
          },
          "execution_count": 22
        }
      ]
    },
    {
      "cell_type": "code",
      "metadata": {
        "id": "twJSSkh4AWHc"
      },
      "source": [
        "y_train = y_train.values"
      ],
      "execution_count": null,
      "outputs": []
    },
    {
      "cell_type": "code",
      "metadata": {
        "id": "obTyNj9GAbCT"
      },
      "source": [
        "y_train = tf.keras.utils.to_categorical(y_train)"
      ],
      "execution_count": null,
      "outputs": []
    },
    {
      "cell_type": "code",
      "metadata": {
        "id": "QG9wssEFQFVr"
      },
      "source": [
        "max_features = 30000\n",
        "\n",
        "tokenizer = Tokenizer(num_words=max_features)\n",
        "\n",
        "tokenizer.fit_on_texts(list(x_train))"
      ],
      "execution_count": null,
      "outputs": []
    },
    {
      "cell_type": "code",
      "metadata": {
        "id": "n1rLoSOTQppC",
        "outputId": "28ee1d6f-ef66-41c9-954f-c05c4af67f26",
        "colab": {
          "base_uri": "https://localhost:8080/",
          "height": 35
        }
      },
      "source": [
        "np.mean(x_train.str.len()), np.std(x_train.str.len())"
      ],
      "execution_count": null,
      "outputs": [
        {
          "output_type": "execute_result",
          "data": {
            "text/plain": [
              "(683.6265613563794, 298.79798926672174)"
            ]
          },
          "metadata": {
            "tags": []
          },
          "execution_count": 27
        }
      ]
    },
    {
      "cell_type": "code",
      "metadata": {
        "id": "-YnAMfG7R-aS"
      },
      "source": [
        "x_tr_tokenized = tokenizer.texts_to_sequences(x_train)"
      ],
      "execution_count": null,
      "outputs": []
    },
    {
      "cell_type": "code",
      "metadata": {
        "id": "xqssK4qyQZWb"
      },
      "source": [
        "\n",
        "max_len = 600\n",
        "X_tr_tok = pad_sequences(x_tr_tokenized, maxlen=max_len)"
      ],
      "execution_count": null,
      "outputs": []
    },
    {
      "cell_type": "code",
      "metadata": {
        "id": "hApYvhnJQ1SK"
      },
      "source": [
        "def build_model():\n",
        "    \"\"\"\n",
        "    Questa funzione crea il modello e lo compila\n",
        "    return: a model\n",
        "    \n",
        "    emb_matrix: matrice che inizializza i pesi dell'Embedding layer\n",
        "    \n",
        "    \"\"\"\n",
        "    \n",
        "    inp = Input(shape=(max_len,))\n",
        "    emb = Embedding(max_features, 200, input_length=max_len)(inp)\n",
        "    d1 = Dense(units=100, activation='relu')(emb)\n",
        "    x = Flatten()(d1)\n",
        "    out = Dense(4, activation='sigmoid')(x)\n",
        "    model = Model(inputs=inp, outputs=out)\n",
        "    model.compile(optimizer='adam', loss='binary_crossentropy', metrics=[AUC()])\n",
        "    \n",
        "    return model"
      ],
      "execution_count": null,
      "outputs": []
    },
    {
      "cell_type": "code",
      "metadata": {
        "id": "P78xk53nSX0j"
      },
      "source": [
        "model = build_model()"
      ],
      "execution_count": null,
      "outputs": []
    },
    {
      "cell_type": "code",
      "metadata": {
        "id": "QO5YytlFVSCB",
        "outputId": "47aecd05-f84a-4b0d-f6fc-e4f899cf2f7d",
        "colab": {
          "base_uri": "https://localhost:8080/",
          "height": 337
        }
      },
      "source": [
        "model.summary()"
      ],
      "execution_count": null,
      "outputs": [
        {
          "output_type": "stream",
          "text": [
            "Model: \"functional_1\"\n",
            "_________________________________________________________________\n",
            "Layer (type)                 Output Shape              Param #   \n",
            "=================================================================\n",
            "input_1 (InputLayer)         [(None, 600)]             0         \n",
            "_________________________________________________________________\n",
            "embedding (Embedding)        (None, 600, 200)          6000000   \n",
            "_________________________________________________________________\n",
            "dense (Dense)                (None, 600, 100)          20100     \n",
            "_________________________________________________________________\n",
            "flatten (Flatten)            (None, 60000)             0         \n",
            "_________________________________________________________________\n",
            "dense_1 (Dense)              (None, 4)                 240004    \n",
            "=================================================================\n",
            "Total params: 6,260,104\n",
            "Trainable params: 6,260,104\n",
            "Non-trainable params: 0\n",
            "_________________________________________________________________\n"
          ],
          "name": "stdout"
        }
      ]
    },
    {
      "cell_type": "code",
      "metadata": {
        "id": "E1rQaBy92qXl"
      },
      "source": [
        "cp = ModelCheckpoint('/content/drive/My Drive/TESI/model_SCORE.h5',verbose=1, monitor='val_auc', mode='max')"
      ],
      "execution_count": null,
      "outputs": []
    },
    {
      "cell_type": "code",
      "metadata": {
        "id": "ih2f64J2SZYs",
        "outputId": "979450e3-64ca-4eba-b6b3-fe8b22b37c50",
        "colab": {
          "base_uri": "https://localhost:8080/",
          "height": 159
        }
      },
      "source": [
        "history1_1 = model.fit(X_tr_tok, y_train, batch_size=128, validation_split=0.1,epochs=2, verbose=1, callbacks=[cp])"
      ],
      "execution_count": null,
      "outputs": [
        {
          "output_type": "stream",
          "text": [
            "Epoch 1/2\n",
            "875/875 [==============================] - ETA: 0s - loss: 0.0194 - auc: 0.9997\n",
            "Epoch 00001: saving model to /content/drive/My Drive/TESI/model_SCORE.h5\n",
            "875/875 [==============================] - 112s 128ms/step - loss: 0.0194 - auc: 0.9997 - val_loss: 0.7892 - val_auc: 0.9039\n",
            "Epoch 2/2\n",
            "875/875 [==============================] - ETA: 0s - loss: 1.7991e-05 - auc: 1.0000\n",
            "Epoch 00002: saving model to /content/drive/My Drive/TESI/model_SCORE.h5\n",
            "875/875 [==============================] - 114s 130ms/step - loss: 1.7991e-05 - auc: 1.0000 - val_loss: 0.9148 - val_auc: 0.8605\n"
          ],
          "name": "stdout"
        }
      ]
    },
    {
      "cell_type": "code",
      "metadata": {
        "id": "6LPuHlhHCez_"
      },
      "source": [
        "from keras.models import load_model"
      ],
      "execution_count": null,
      "outputs": []
    },
    {
      "cell_type": "code",
      "metadata": {
        "id": "Eq-DhrAVCwJw"
      },
      "source": [
        "model = load_model('/content/drive/My Drive/TESI/model_SCORE.h5')"
      ],
      "execution_count": null,
      "outputs": []
    },
    {
      "cell_type": "code",
      "metadata": {
        "id": "HbcYiMgbC1_l"
      },
      "source": [
        "import pandas as pd"
      ],
      "execution_count": null,
      "outputs": []
    },
    {
      "cell_type": "code",
      "metadata": {
        "id": "cAOkWWIoELts"
      },
      "source": [
        "test_set = pd.read_csv('/content/drive/My Drive/TESI/test_set.csv', sep=';')"
      ],
      "execution_count": null,
      "outputs": []
    },
    {
      "cell_type": "code",
      "metadata": {
        "id": "G4bpZvjEESao"
      },
      "source": [
        "x = ['']"
      ],
      "execution_count": null,
      "outputs": []
    },
    {
      "cell_type": "code",
      "metadata": {
        "id": "7u8KiVE3EXSr"
      },
      "source": [
        "col = ['SCORE1', 'SCORE2', 'SCORE3', 'SCORE4']\n",
        "y = test_set[col]"
      ],
      "execution_count": null,
      "outputs": []
    },
    {
      "cell_type": "code",
      "metadata": {
        "id": "5x4j_gG7Eo3j"
      },
      "source": [
        "max_features = 30000\n",
        "\n",
        "tokenizer = Tokenizer(num_words=max_features)\n",
        "\n",
        "tokenizer.fit_on_texts(list(x))"
      ],
      "execution_count": null,
      "outputs": []
    },
    {
      "cell_type": "code",
      "metadata": {
        "id": "WPpv6clkEo31"
      },
      "source": [
        "x_tr_tokenized = tokenizer.texts_to_sequences(x)"
      ],
      "execution_count": null,
      "outputs": []
    },
    {
      "cell_type": "code",
      "metadata": {
        "id": "dfVwI9MIEo35"
      },
      "source": [
        "max_len = 600\n",
        "X_tr_tok = pad_sequences(x_tr_tokenized, maxlen=max_len)"
      ],
      "execution_count": null,
      "outputs": []
    },
    {
      "cell_type": "code",
      "metadata": {
        "id": "mZ_AoUwoEzd8",
        "outputId": "437fbc07-1c10-4d8e-80e2-2f21a231a097",
        "colab": {
          "base_uri": "https://localhost:8080/",
          "height": 35
        }
      },
      "source": [
        "np.argmax(model.predict(X_tr_tok))"
      ],
      "execution_count": null,
      "outputs": [
        {
          "output_type": "execute_result",
          "data": {
            "text/plain": [
              "2"
            ]
          },
          "metadata": {
            "tags": []
          },
          "execution_count": 53
        }
      ]
    },
    {
      "cell_type": "code",
      "metadata": {
        "id": "XoLuBA0hE4Ff"
      },
      "source": [
        ""
      ],
      "execution_count": null,
      "outputs": []
    }
  ]
}