{
  "nbformat": 4,
  "nbformat_minor": 0,
  "metadata": {
    "colab": {
      "name": "Model2-HWR-byclass-upper.ipynb",
      "provenance": []
    },
    "kernelspec": {
      "name": "python3",
      "display_name": "Python 3"
    },
    "accelerator": "GPU"
  },
  "cells": [
    {
      "cell_type": "code",
      "metadata": {
        "id": "WaamsQlM5zPi",
        "outputId": "ccc1b6b7-0490-459a-a5f5-70d578fc639b",
        "colab": {
          "base_uri": "https://localhost:8080/",
          "height": 159
        }
      },
      "source": [
        "pip install emnist"
      ],
      "execution_count": null,
      "outputs": [
        {
          "output_type": "stream",
          "text": [
            "Requirement already satisfied: emnist in /usr/local/lib/python3.6/dist-packages (0.0)\n",
            "Requirement already satisfied: requests in /usr/local/lib/python3.6/dist-packages (from emnist) (2.23.0)\n",
            "Requirement already satisfied: tqdm in /usr/local/lib/python3.6/dist-packages (from emnist) (4.41.1)\n",
            "Requirement already satisfied: numpy in /usr/local/lib/python3.6/dist-packages (from emnist) (1.18.5)\n",
            "Requirement already satisfied: chardet<4,>=3.0.2 in /usr/local/lib/python3.6/dist-packages (from requests->emnist) (3.0.4)\n",
            "Requirement already satisfied: urllib3!=1.25.0,!=1.25.1,<1.26,>=1.21.1 in /usr/local/lib/python3.6/dist-packages (from requests->emnist) (1.24.3)\n",
            "Requirement already satisfied: idna<3,>=2.5 in /usr/local/lib/python3.6/dist-packages (from requests->emnist) (2.10)\n",
            "Requirement already satisfied: certifi>=2017.4.17 in /usr/local/lib/python3.6/dist-packages (from requests->emnist) (2020.6.20)\n"
          ],
          "name": "stdout"
        }
      ]
    },
    {
      "cell_type": "code",
      "metadata": {
        "id": "yzz5cngH59he"
      },
      "source": [
        "import os\n",
        "import numpy as np\n",
        "import matplotlib.pyplot as plt\n",
        "\n",
        "from pathlib import Path\n",
        "from collections import Counter\n",
        "\n",
        "import tensorflow as tf\n",
        "from tensorflow import keras\n",
        "from tensorflow.keras import layers\n",
        "\n",
        "from emnist import list_datasets, extract_training_samples, extract_test_samples"
      ],
      "execution_count": null,
      "outputs": []
    },
    {
      "cell_type": "code",
      "metadata": {
        "id": "9w6qPaD56HaU"
      },
      "source": [
        "# load emnist dataset 'by class'\n",
        "\n",
        "images, labels = extract_training_samples('byclass')\n",
        "images_test, labels_test = extract_test_samples('byclass')"
      ],
      "execution_count": null,
      "outputs": []
    },
    {
      "cell_type": "code",
      "metadata": {
        "id": "CgkMrn-N6WJP"
      },
      "source": [
        "# find index of uppercase letters\n",
        "\n",
        "tr_index_UPP = [i for i in range(len(labels)) if labels[i]>=10 and labels[i] <= 35] \n",
        "ts_index_UPP = [i for i in range(len(labels_test)) if labels_test[i]>=10 and labels_test[i] <= 35]"
      ],
      "execution_count": null,
      "outputs": []
    },
    {
      "cell_type": "code",
      "metadata": {
        "id": "pjpAgQBL6hxs"
      },
      "source": [
        "# save images and labels in uppercase\n",
        "\n",
        "im_train_UPP = images[tr_index_UPP]\n",
        "im_test_UPP = images_test[ts_index_UPP]\n",
        "lab_train_UPP = labels[tr_index_UPP]\n",
        "lab_test_UPP = labels_test[ts_index_UPP]"
      ],
      "execution_count": null,
      "outputs": []
    },
    {
      "cell_type": "code",
      "metadata": {
        "id": "8_99A-YR6uY3"
      },
      "source": [
        "# reformulate labels for application of built-in function 'to_categorical'\n",
        "\n",
        "alf_UPP = {\n",
        "       10: 0,\n",
        "       11: 1,\n",
        "       12: 2,\n",
        "       13: 3,\n",
        "       14: 4,\n",
        "       15: 5,\n",
        "       16: 6,\n",
        "       17: 7,\n",
        "       18: 8,\n",
        "       19: 9,\n",
        "       20: 10,\n",
        "       21: 11,\n",
        "       22: 12,\n",
        "       23: 13,\n",
        "       24: 14,\n",
        "       25: 15,\n",
        "       26: 16,\n",
        "       27: 17,\n",
        "       28: 18,\n",
        "       29: 19,\n",
        "       30: 20,\n",
        "       31: 21,\n",
        "       32: 22,\n",
        "       33: 23,\n",
        "       34: 24,\n",
        "       35: 25,\n",
        "       }\n",
        "\n",
        "lab_train_UPP = [alf_UPP[label] for label in lab_train_UPP]\n",
        "lab_test_UPP = [alf_UPP[label] for label in lab_test_UPP]"
      ],
      "execution_count": null,
      "outputs": []
    },
    {
      "cell_type": "code",
      "metadata": {
        "id": "gXvoJ4X1_595",
        "outputId": "db3a99fb-93d4-44db-f15b-1573cd9b464b",
        "colab": {
          "base_uri": "https://localhost:8080/",
          "height": 35
        }
      },
      "source": [
        "# check labels\n",
        "\n",
        "lab_train_UPP[0]"
      ],
      "execution_count": null,
      "outputs": [
        {
          "output_type": "execute_result",
          "data": {
            "text/plain": [
              "25"
            ]
          },
          "metadata": {
            "tags": []
          },
          "execution_count": 7
        }
      ]
    },
    {
      "cell_type": "code",
      "metadata": {
        "id": "kj8i4Tyw_72J"
      },
      "source": [
        "# define image width and height and batch size\n",
        "\n",
        "# Batch size for training and validation\n",
        "batch_size = 32\n",
        "\n",
        "# Desired image dimensions\n",
        "img_width = 28\n",
        "img_height = 28"
      ],
      "execution_count": null,
      "outputs": []
    },
    {
      "cell_type": "code",
      "metadata": {
        "id": "txkyxT3JDili"
      },
      "source": [
        "# split training set in traininig and validation set\n",
        "\n",
        "def split_data(images, labels, train_size=0.9, shuffle=True):\n",
        "    # 1. Get the total size of the dataset\n",
        "    size = len(images)\n",
        "    # 2. Make an indices array and shuffle it, if required\n",
        "    indices = np.arange(size)\n",
        "    if shuffle:\n",
        "        np.random.shuffle(indices)\n",
        "    # 3. Get the size of training samples\n",
        "    train_samples = int(size * train_size)\n",
        "    # 4. Split data into training and validation sets\n",
        "    x_train, y_train = images[indices[:train_samples]], labels[indices[:train_samples]]\n",
        "    x_valid, y_valid = images[indices[train_samples:]], labels[indices[train_samples:]]\n",
        "    return x_train, x_valid, y_train, y_valid"
      ],
      "execution_count": null,
      "outputs": []
    },
    {
      "cell_type": "code",
      "metadata": {
        "id": "1Vp7uXl8Hamn"
      },
      "source": [
        "# Splitting data into training and validation sets\n",
        "x_train_UPP, x_valid_UPP, y_train_UPP, y_valid_UPP = split_data(np.array(im_train_UPP), np.array(lab_train_UPP))"
      ],
      "execution_count": null,
      "outputs": []
    },
    {
      "cell_type": "code",
      "metadata": {
        "id": "DlmupJ5eIGDF"
      },
      "source": [
        "# to categorical \n",
        "\n",
        "y_train_UPP = tf.keras.utils.to_categorical(y_train_UPP, 26)\n",
        "y_valid_UPP = tf.keras.utils.to_categorical(y_valid_UPP, 26)"
      ],
      "execution_count": null,
      "outputs": []
    },
    {
      "cell_type": "code",
      "metadata": {
        "id": "ZvQPt1RXI-OV"
      },
      "source": [
        "# normalize training, validation and test data\n",
        "\n",
        "x_train_UPP = tf.keras.utils.normalize(x_train_UPP, axis=1)\n",
        "x_valid_UPP = tf.keras.utils.normalize(x_valid_UPP, axis=1)\n",
        "im_test_UPP = tf.keras.utils.normalize(im_test_UPP, axis=1)"
      ],
      "execution_count": null,
      "outputs": []
    },
    {
      "cell_type": "code",
      "metadata": {
        "id": "bZrNm_RsMvg4"
      },
      "source": [
        "# using data augmentation\n",
        "\n",
        "train_datagen = tf.keras.preprocessing.image.ImageDataGenerator(featurewise_center=True,\n",
        "                                                          featurewise_std_normalization=True,\n",
        "                                                          rotation_range=20,\n",
        "                                                          width_shift_range=0.2,\n",
        "                                                          height_shift_range=0.2,\n",
        "                                                          horizontal_flip=True)\n",
        "valid_datagen = tf.keras.preprocessing.image.ImageDataGenerator(featurewise_center=True,\n",
        "                                                          featurewise_std_normalization=True,\n",
        "                                                          rotation_range=20,\n",
        "                                                          width_shift_range=0.2,\n",
        "                                                          height_shift_range=0.2,\n",
        "                                                          horizontal_flip=True)\n",
        "\n",
        "x_train_UPP = np.reshape(x_train_UPP, (len(x_train_UPP),img_width, img_width, 1))\n",
        "x_valid_UPP = np.reshape(x_valid_UPP, (len(x_valid_UPP),img_width, img_width, 1))\n",
        "im_test_UPP = np.reshape(im_test_UPP, (len(im_test_UPP), img_width, img_height, 1))\n",
        "\n",
        "train_datagen.fit(x_train_UPP)\n",
        "valid_datagen.fit(x_valid_UPP)"
      ],
      "execution_count": null,
      "outputs": []
    },
    {
      "cell_type": "code",
      "metadata": {
        "id": "xoml2gmkNnLr"
      },
      "source": [
        "# build model\n",
        "\n",
        "def build_model():\n",
        "    # Inputs to the model\n",
        "    input_img = layers.Input(\n",
        "        shape=(img_width, img_height, 1), name=\"image\", dtype=\"float32\"\n",
        "    )\n",
        "    # First conv block\n",
        "    x = layers.Conv2D(\n",
        "        64,\n",
        "        (3, 3),\n",
        "        activation=\"relu\",\n",
        "        kernel_initializer=\"he_normal\",\n",
        "        padding=\"same\",\n",
        "        name=\"Conv1\",\n",
        "    )(input_img)\n",
        "    x = layers.MaxPooling2D((2, 2),padding='same',name=\"pool1\")(x)\n",
        "\n",
        "    # Second conv block\n",
        "    x = layers.Conv2D(\n",
        "        128,\n",
        "        (3, 3),\n",
        "        activation=\"relu\",\n",
        "        kernel_initializer=\"he_normal\",\n",
        "        padding=\"same\",\n",
        "        name=\"Conv2\",\n",
        "    )(x)\n",
        "    x = layers.MaxPooling2D((2, 2), padding='same',name=\"pool2\")(x)\n",
        "    x = layers.Flatten()(x)\n",
        "    \n",
        "    # Output layer\n",
        "    x = layers.Dense(units=128, activation='sigmoid', name='dense_1')(x)\n",
        "    output = layers.Dense(units=26, activation=\"softmax\", name=\"dense2\")(x)\n",
        "\n",
        "    # Define the model\n",
        "    model = keras.models.Model(\n",
        "        inputs=input_img, outputs=output, name=\"ocr_model_v1\"\n",
        "    )\n",
        "    # Optimizer\n",
        "    opt = keras.optimizers.Adam()\n",
        "    # Compile the model and return\n",
        "    model.compile(loss='categorical_crossentropy',optimizer=opt, metrics=['accuracy'])\n",
        "\n",
        "    return model"
      ],
      "execution_count": null,
      "outputs": []
    },
    {
      "cell_type": "code",
      "metadata": {
        "id": "bCVkysqePH29",
        "outputId": "a50bc7ea-a330-4683-c2a1-f0133e29421e",
        "colab": {
          "base_uri": "https://localhost:8080/",
          "height": 444
        }
      },
      "source": [
        "model = build_model()\n",
        "model.summary()"
      ],
      "execution_count": null,
      "outputs": [
        {
          "output_type": "stream",
          "text": [
            "Model: \"ocr_model_v1\"\n",
            "_________________________________________________________________\n",
            "Layer (type)                 Output Shape              Param #   \n",
            "=================================================================\n",
            "image (InputLayer)           [(None, 28, 28, 1)]       0         \n",
            "_________________________________________________________________\n",
            "Conv1 (Conv2D)               (None, 28, 28, 64)        640       \n",
            "_________________________________________________________________\n",
            "pool1 (MaxPooling2D)         (None, 14, 14, 64)        0         \n",
            "_________________________________________________________________\n",
            "Conv2 (Conv2D)               (None, 14, 14, 128)       73856     \n",
            "_________________________________________________________________\n",
            "pool2 (MaxPooling2D)         (None, 7, 7, 128)         0         \n",
            "_________________________________________________________________\n",
            "flatten (Flatten)            (None, 6272)              0         \n",
            "_________________________________________________________________\n",
            "dense_1 (Dense)              (None, 128)               802944    \n",
            "_________________________________________________________________\n",
            "dense2 (Dense)               (None, 26)                3354      \n",
            "=================================================================\n",
            "Total params: 880,794\n",
            "Trainable params: 880,794\n",
            "Non-trainable params: 0\n",
            "_________________________________________________________________\n"
          ],
          "name": "stdout"
        }
      ]
    },
    {
      "cell_type": "code",
      "metadata": {
        "id": "v8YiuOWiPKKM",
        "outputId": "5f20611d-02d8-4d70-d70a-90bd1185d45f",
        "colab": {
          "base_uri": "https://localhost:8080/",
          "height": 758
        }
      },
      "source": [
        "from keras.utils import plot_model\n",
        "plot_model(model, to_file='/content/drive/My Drive/TESI/Models/Immagini/model2_byclass_upper.png')"
      ],
      "execution_count": null,
      "outputs": [
        {
          "output_type": "execute_result",
          "data": {
            "image/png": "[encoded data removed]",
            "text/plain": [
              "<IPython.core.display.Image object>"
            ]
          },
          "metadata": {
            "tags": []
          },
          "execution_count": 16
        }
      ]
    },
    {
      "cell_type": "code",
      "metadata": {
        "id": "Bupp_Vi9PtBO"
      },
      "source": [
        "epochs = 100\n",
        "early_stopping_patience = 10\n",
        "# Add early stopping\n",
        "early_stopping = keras.callbacks.EarlyStopping(\n",
        "    monitor=\"val_accuracy\", patience=early_stopping_patience, restore_best_weights=True, verbose=1\n",
        ")\n",
        "\n",
        "# Model CheckPoint\n",
        "cp = keras.callbacks.ModelCheckpoint('/content/drive/My Drive/TESI/Models/model2_UPP_byclass.h5',\n",
        "                                     verbose=1,\n",
        "                                     monitor='val_accuracy',\n",
        "                                     save_best_only=True,\n",
        "                                     mode='max')"
      ],
      "execution_count": null,
      "outputs": []
    },
    {
      "cell_type": "code",
      "metadata": {
        "id": "wU2qe4yJQVK5",
        "outputId": "bbd04486-9681-402e-d36e-db8b3f2563fd",
        "colab": {
          "base_uri": "https://localhost:8080/",
          "height": 1000
        }
      },
      "source": [
        "# fit model\n",
        "history1_UPP = model.fit(train_datagen.flow(x_train_UPP,y_train_UPP, batch_size=batch_size),\n",
        "                    validation_data=valid_datagen.flow(x_valid_UPP,y_valid_UPP, batch_size=batch_size),\n",
        "                    steps_per_epoch=len(x_train_UPP)//batch_size,\n",
        "                    validation_steps=len(x_valid_UPP)//batch_size,\n",
        "                    epochs=epochs,\n",
        "                    verbose=1,\n",
        "                    callbacks=[cp, early_stopping])"
      ],
      "execution_count": null,
      "outputs": [
        {
          "output_type": "stream",
          "text": [
            "Epoch 1/100\n",
            "5313/5314 [============================>.] - ETA: 0s - loss: 0.7239 - accuracy: 0.7949\n",
            "Epoch 00001: val_accuracy improved from -inf to 0.88861, saving model to /content/drive/My Drive/TESI/Models/model2_UPP_byclass.h5\n",
            "5314/5314 [==============================] - 65s 12ms/step - loss: 0.7239 - accuracy: 0.7949 - val_loss: 0.3867 - val_accuracy: 0.8886\n",
            "Epoch 2/100\n",
            "5310/5314 [============================>.] - ETA: 0s - loss: 0.3527 - accuracy: 0.8973\n",
            "Epoch 00002: val_accuracy improved from 0.88861 to 0.90980, saving model to /content/drive/My Drive/TESI/Models/model2_UPP_byclass.h5\n",
            "5314/5314 [==============================] - 66s 12ms/step - loss: 0.3526 - accuracy: 0.8974 - val_loss: 0.3041 - val_accuracy: 0.9098\n",
            "Epoch 3/100\n",
            "5314/5314 [==============================] - ETA: 0s - loss: 0.2985 - accuracy: 0.9123\n",
            "Epoch 00003: val_accuracy improved from 0.90980 to 0.91557, saving model to /content/drive/My Drive/TESI/Models/model2_UPP_byclass.h5\n",
            "5314/5314 [==============================] - 66s 12ms/step - loss: 0.2985 - accuracy: 0.9123 - val_loss: 0.2906 - val_accuracy: 0.9156\n",
            "Epoch 4/100\n",
            "5310/5314 [============================>.] - ETA: 0s - loss: 0.2709 - accuracy: 0.9208\n",
            "Epoch 00004: val_accuracy improved from 0.91557 to 0.91960, saving model to /content/drive/My Drive/TESI/Models/model2_UPP_byclass.h5\n",
            "5314/5314 [==============================] - 64s 12ms/step - loss: 0.2709 - accuracy: 0.9208 - val_loss: 0.2747 - val_accuracy: 0.9196\n",
            "Epoch 5/100\n",
            "5312/5314 [============================>.] - ETA: 0s - loss: 0.2540 - accuracy: 0.9258\n",
            "Epoch 00005: val_accuracy improved from 0.91960 to 0.92537, saving model to /content/drive/My Drive/TESI/Models/model2_UPP_byclass.h5\n",
            "5314/5314 [==============================] - 64s 12ms/step - loss: 0.2540 - accuracy: 0.9258 - val_loss: 0.2520 - val_accuracy: 0.9254\n",
            "Epoch 6/100\n",
            "5313/5314 [============================>.] - ETA: 0s - loss: 0.2423 - accuracy: 0.9290\n",
            "Epoch 00006: val_accuracy improved from 0.92537 to 0.93019, saving model to /content/drive/My Drive/TESI/Models/model2_UPP_byclass.h5\n",
            "5314/5314 [==============================] - 64s 12ms/step - loss: 0.2423 - accuracy: 0.9290 - val_loss: 0.2448 - val_accuracy: 0.9302\n",
            "Epoch 7/100\n",
            "5310/5314 [============================>.] - ETA: 0s - loss: 0.2337 - accuracy: 0.9324\n",
            "Epoch 00007: val_accuracy improved from 0.93019 to 0.93257, saving model to /content/drive/My Drive/TESI/Models/model2_UPP_byclass.h5\n",
            "5314/5314 [==============================] - 63s 12ms/step - loss: 0.2337 - accuracy: 0.9324 - val_loss: 0.2343 - val_accuracy: 0.9326\n",
            "Epoch 8/100\n",
            "5314/5314 [==============================] - ETA: 0s - loss: 0.2244 - accuracy: 0.9346\n",
            "Epoch 00008: val_accuracy did not improve from 0.93257\n",
            "5314/5314 [==============================] - 62s 12ms/step - loss: 0.2244 - accuracy: 0.9346 - val_loss: 0.2426 - val_accuracy: 0.9281\n",
            "Epoch 9/100\n",
            "5314/5314 [==============================] - ETA: 0s - loss: 0.2201 - accuracy: 0.9365\n",
            "Epoch 00009: val_accuracy improved from 0.93257 to 0.93803, saving model to /content/drive/My Drive/TESI/Models/model2_UPP_byclass.h5\n",
            "5314/5314 [==============================] - 63s 12ms/step - loss: 0.2201 - accuracy: 0.9365 - val_loss: 0.2153 - val_accuracy: 0.9380\n",
            "Epoch 10/100\n",
            "5313/5314 [============================>.] - ETA: 0s - loss: 0.2156 - accuracy: 0.9376\n",
            "Epoch 00010: val_accuracy improved from 0.93803 to 0.93877, saving model to /content/drive/My Drive/TESI/Models/model2_UPP_byclass.h5\n",
            "5314/5314 [==============================] - 62s 12ms/step - loss: 0.2156 - accuracy: 0.9376 - val_loss: 0.2146 - val_accuracy: 0.9388\n",
            "Epoch 11/100\n",
            "5314/5314 [==============================] - ETA: 0s - loss: 0.2114 - accuracy: 0.9389\n",
            "Epoch 00011: val_accuracy did not improve from 0.93877\n",
            "5314/5314 [==============================] - 61s 11ms/step - loss: 0.2114 - accuracy: 0.9389 - val_loss: 0.2132 - val_accuracy: 0.9368\n",
            "Epoch 12/100\n",
            "5314/5314 [==============================] - ETA: 0s - loss: 0.2068 - accuracy: 0.9407\n",
            "Epoch 00012: val_accuracy improved from 0.93877 to 0.93925, saving model to /content/drive/My Drive/TESI/Models/model2_UPP_byclass.h5\n",
            "5314/5314 [==============================] - 62s 12ms/step - loss: 0.2068 - accuracy: 0.9407 - val_loss: 0.2105 - val_accuracy: 0.9392\n",
            "Epoch 13/100\n",
            "5314/5314 [==============================] - ETA: 0s - loss: 0.2027 - accuracy: 0.9414\n",
            "Epoch 00013: val_accuracy did not improve from 0.93925\n",
            "5314/5314 [==============================] - 61s 12ms/step - loss: 0.2027 - accuracy: 0.9414 - val_loss: 0.2100 - val_accuracy: 0.9386\n",
            "Epoch 14/100\n",
            "5310/5314 [============================>.] - ETA: 0s - loss: 0.2029 - accuracy: 0.9416\n",
            "Epoch 00014: val_accuracy improved from 0.93925 to 0.93930, saving model to /content/drive/My Drive/TESI/Models/model2_UPP_byclass.h5\n",
            "5314/5314 [==============================] - 63s 12ms/step - loss: 0.2029 - accuracy: 0.9417 - val_loss: 0.2050 - val_accuracy: 0.9393\n",
            "Epoch 15/100\n",
            "5313/5314 [============================>.] - ETA: 0s - loss: 0.1993 - accuracy: 0.9427\n",
            "Epoch 00015: val_accuracy improved from 0.93930 to 0.94184, saving model to /content/drive/My Drive/TESI/Models/model2_UPP_byclass.h5\n",
            "5314/5314 [==============================] - 63s 12ms/step - loss: 0.1992 - accuracy: 0.9427 - val_loss: 0.1995 - val_accuracy: 0.9418\n",
            "Epoch 16/100\n",
            "5310/5314 [============================>.] - ETA: 0s - loss: 0.1985 - accuracy: 0.9428\n",
            "Epoch 00016: val_accuracy did not improve from 0.94184\n",
            "5314/5314 [==============================] - 61s 11ms/step - loss: 0.1985 - accuracy: 0.9428 - val_loss: 0.1988 - val_accuracy: 0.9414\n",
            "Epoch 17/100\n",
            "5310/5314 [============================>.] - ETA: 0s - loss: 0.1982 - accuracy: 0.9427\n",
            "Epoch 00017: val_accuracy did not improve from 0.94184\n",
            "5314/5314 [==============================] - 60s 11ms/step - loss: 0.1982 - accuracy: 0.9427 - val_loss: 0.2052 - val_accuracy: 0.9397\n",
            "Epoch 18/100\n",
            "5310/5314 [============================>.] - ETA: 0s - loss: 0.1944 - accuracy: 0.9438\n",
            "Epoch 00018: val_accuracy improved from 0.94184 to 0.94349, saving model to /content/drive/My Drive/TESI/Models/model2_UPP_byclass.h5\n",
            "5314/5314 [==============================] - 62s 12ms/step - loss: 0.1944 - accuracy: 0.9437 - val_loss: 0.1985 - val_accuracy: 0.9435\n",
            "Epoch 19/100\n",
            "5310/5314 [============================>.] - ETA: 0s - loss: 0.1950 - accuracy: 0.9441\n",
            "Epoch 00019: val_accuracy did not improve from 0.94349\n",
            "5314/5314 [==============================] - 60s 11ms/step - loss: 0.1950 - accuracy: 0.9441 - val_loss: 0.2034 - val_accuracy: 0.9414\n",
            "Epoch 20/100\n",
            "5310/5314 [============================>.] - ETA: 0s - loss: 0.1933 - accuracy: 0.9449\n",
            "Epoch 00020: val_accuracy did not improve from 0.94349\n",
            "5314/5314 [==============================] - 60s 11ms/step - loss: 0.1932 - accuracy: 0.9449 - val_loss: 0.2019 - val_accuracy: 0.9428\n",
            "Epoch 21/100\n",
            "5310/5314 [============================>.] - ETA: 0s - loss: 0.1930 - accuracy: 0.9439\n",
            "Epoch 00021: val_accuracy did not improve from 0.94349\n",
            "5314/5314 [==============================] - 60s 11ms/step - loss: 0.1930 - accuracy: 0.9439 - val_loss: 0.1927 - val_accuracy: 0.9425\n",
            "Epoch 22/100\n",
            "5310/5314 [============================>.] - ETA: 0s - loss: 0.1948 - accuracy: 0.9442\n",
            "Epoch 00022: val_accuracy did not improve from 0.94349\n",
            "5314/5314 [==============================] - 60s 11ms/step - loss: 0.1947 - accuracy: 0.9442 - val_loss: 0.2004 - val_accuracy: 0.9415\n",
            "Epoch 23/100\n",
            "5313/5314 [============================>.] - ETA: 0s - loss: 0.1944 - accuracy: 0.9440\n",
            "Epoch 00023: val_accuracy did not improve from 0.94349\n",
            "5314/5314 [==============================] - 61s 11ms/step - loss: 0.1944 - accuracy: 0.9440 - val_loss: 0.1967 - val_accuracy: 0.9427\n",
            "Epoch 24/100\n",
            "5314/5314 [==============================] - ETA: 0s - loss: 0.1930 - accuracy: 0.9444\n",
            "Epoch 00024: val_accuracy did not improve from 0.94349\n",
            "5314/5314 [==============================] - 60s 11ms/step - loss: 0.1930 - accuracy: 0.9444 - val_loss: 0.1968 - val_accuracy: 0.9430\n",
            "Epoch 25/100\n",
            "5311/5314 [============================>.] - ETA: 0s - loss: 0.1913 - accuracy: 0.9450\n",
            "Epoch 00025: val_accuracy did not improve from 0.94349\n",
            "5314/5314 [==============================] - 60s 11ms/step - loss: 0.1913 - accuracy: 0.9451 - val_loss: 0.2136 - val_accuracy: 0.9359\n",
            "Epoch 26/100\n",
            "5311/5314 [============================>.] - ETA: 0s - loss: 0.1911 - accuracy: 0.9443\n",
            "Epoch 00026: val_accuracy did not improve from 0.94349\n",
            "5314/5314 [==============================] - 60s 11ms/step - loss: 0.1911 - accuracy: 0.9444 - val_loss: 0.2014 - val_accuracy: 0.9434\n",
            "Epoch 27/100\n",
            "5313/5314 [============================>.] - ETA: 0s - loss: 0.1921 - accuracy: 0.9451\n",
            "Epoch 00027: val_accuracy improved from 0.94349 to 0.94396, saving model to /content/drive/My Drive/TESI/Models/model2_UPP_byclass.h5\n",
            "5314/5314 [==============================] - 61s 11ms/step - loss: 0.1921 - accuracy: 0.9451 - val_loss: 0.1936 - val_accuracy: 0.9440\n",
            "Epoch 28/100\n",
            "5311/5314 [============================>.] - ETA: 0s - loss: 0.1921 - accuracy: 0.9445\n",
            "Epoch 00028: val_accuracy did not improve from 0.94396\n",
            "5314/5314 [==============================] - 61s 11ms/step - loss: 0.1920 - accuracy: 0.9445 - val_loss: 0.2150 - val_accuracy: 0.9358\n",
            "Epoch 29/100\n",
            "5310/5314 [============================>.] - ETA: 0s - loss: 0.1932 - accuracy: 0.9442\n",
            "Epoch 00029: val_accuracy did not improve from 0.94396\n",
            "5314/5314 [==============================] - 60s 11ms/step - loss: 0.1932 - accuracy: 0.9442 - val_loss: 0.2027 - val_accuracy: 0.9395\n",
            "Epoch 30/100\n",
            "5311/5314 [============================>.] - ETA: 0s - loss: 0.1927 - accuracy: 0.9443\n",
            "Epoch 00030: val_accuracy did not improve from 0.94396\n",
            "5314/5314 [==============================] - 60s 11ms/step - loss: 0.1927 - accuracy: 0.9443 - val_loss: 0.1975 - val_accuracy: 0.9421\n",
            "Epoch 31/100\n",
            "5313/5314 [============================>.] - ETA: 0s - loss: 0.1910 - accuracy: 0.9450\n",
            "Epoch 00031: val_accuracy did not improve from 0.94396\n",
            "5314/5314 [==============================] - 60s 11ms/step - loss: 0.1911 - accuracy: 0.9450 - val_loss: 0.2049 - val_accuracy: 0.9399\n",
            "Epoch 32/100\n",
            "5314/5314 [==============================] - ETA: 0s - loss: 0.1915 - accuracy: 0.9455\n",
            "Epoch 00032: val_accuracy did not improve from 0.94396\n",
            "5314/5314 [==============================] - 60s 11ms/step - loss: 0.1915 - accuracy: 0.9455 - val_loss: 0.1953 - val_accuracy: 0.9436\n",
            "Epoch 33/100\n",
            "5312/5314 [============================>.] - ETA: 0s - loss: 0.1933 - accuracy: 0.9442\n",
            "Epoch 00033: val_accuracy did not improve from 0.94396\n",
            "5314/5314 [==============================] - 60s 11ms/step - loss: 0.1933 - accuracy: 0.9442 - val_loss: 0.1947 - val_accuracy: 0.9419\n",
            "Epoch 34/100\n",
            "5313/5314 [============================>.] - ETA: 0s - loss: 0.1922 - accuracy: 0.9449\n",
            "Epoch 00034: val_accuracy did not improve from 0.94396\n",
            "5314/5314 [==============================] - 60s 11ms/step - loss: 0.1922 - accuracy: 0.9449 - val_loss: 0.2079 - val_accuracy: 0.9398\n",
            "Epoch 35/100\n",
            "5314/5314 [==============================] - ETA: 0s - loss: 0.1923 - accuracy: 0.9441\n",
            "Epoch 00035: val_accuracy did not improve from 0.94396\n",
            "5314/5314 [==============================] - 59s 11ms/step - loss: 0.1923 - accuracy: 0.9441 - val_loss: 0.1924 - val_accuracy: 0.9426\n",
            "Epoch 36/100\n",
            "5311/5314 [============================>.] - ETA: 0s - loss: 0.1926 - accuracy: 0.9447\n",
            "Epoch 00036: val_accuracy did not improve from 0.94396\n",
            "5314/5314 [==============================] - 60s 11ms/step - loss: 0.1926 - accuracy: 0.9447 - val_loss: 0.2044 - val_accuracy: 0.9410\n",
            "Epoch 37/100\n",
            "5313/5314 [============================>.] - ETA: 0s - loss: 0.1937 - accuracy: 0.9438\n",
            "Epoch 00037: val_accuracy improved from 0.94396 to 0.94513, saving model to /content/drive/My Drive/TESI/Models/model2_UPP_byclass.h5\n",
            "5314/5314 [==============================] - 61s 12ms/step - loss: 0.1937 - accuracy: 0.9438 - val_loss: 0.1906 - val_accuracy: 0.9451\n",
            "Epoch 38/100\n",
            "5312/5314 [============================>.] - ETA: 0s - loss: 0.1947 - accuracy: 0.9441\n",
            "Epoch 00038: val_accuracy did not improve from 0.94513\n",
            "5314/5314 [==============================] - 60s 11ms/step - loss: 0.1947 - accuracy: 0.9441 - val_loss: 0.1949 - val_accuracy: 0.9445\n",
            "Epoch 39/100\n",
            "5312/5314 [============================>.] - ETA: 0s - loss: 0.1938 - accuracy: 0.9436\n",
            "Epoch 00039: val_accuracy improved from 0.94513 to 0.94576, saving model to /content/drive/My Drive/TESI/Models/model2_UPP_byclass.h5\n",
            "5314/5314 [==============================] - 61s 11ms/step - loss: 0.1938 - accuracy: 0.9436 - val_loss: 0.1937 - val_accuracy: 0.9458\n",
            "Epoch 40/100\n",
            "5314/5314 [==============================] - ETA: 0s - loss: 0.1931 - accuracy: 0.9445\n",
            "Epoch 00040: val_accuracy did not improve from 0.94576\n",
            "5314/5314 [==============================] - 60s 11ms/step - loss: 0.1931 - accuracy: 0.9445 - val_loss: 0.2109 - val_accuracy: 0.9406\n",
            "Epoch 41/100\n",
            "5310/5314 [============================>.] - ETA: 0s - loss: 0.1969 - accuracy: 0.9436\n",
            "Epoch 00041: val_accuracy did not improve from 0.94576\n",
            "5314/5314 [==============================] - 60s 11ms/step - loss: 0.1969 - accuracy: 0.9436 - val_loss: 0.1923 - val_accuracy: 0.9425\n",
            "Epoch 42/100\n",
            "5311/5314 [============================>.] - ETA: 0s - loss: 0.1968 - accuracy: 0.9435\n",
            "Epoch 00042: val_accuracy did not improve from 0.94576\n",
            "5314/5314 [==============================] - 60s 11ms/step - loss: 0.1968 - accuracy: 0.9435 - val_loss: 0.2045 - val_accuracy: 0.9412\n",
            "Epoch 43/100\n",
            "5312/5314 [============================>.] - ETA: 0s - loss: 0.1983 - accuracy: 0.9434\n",
            "Epoch 00043: val_accuracy did not improve from 0.94576\n",
            "5314/5314 [==============================] - 60s 11ms/step - loss: 0.1982 - accuracy: 0.9435 - val_loss: 0.1977 - val_accuracy: 0.9438\n",
            "Epoch 44/100\n",
            "5311/5314 [============================>.] - ETA: 0s - loss: 0.1978 - accuracy: 0.9430\n",
            "Epoch 00044: val_accuracy did not improve from 0.94576\n",
            "5314/5314 [==============================] - 60s 11ms/step - loss: 0.1979 - accuracy: 0.9430 - val_loss: 0.2067 - val_accuracy: 0.9389\n",
            "Epoch 45/100\n",
            "5312/5314 [============================>.] - ETA: 0s - loss: 0.1985 - accuracy: 0.9430\n",
            "Epoch 00045: val_accuracy did not improve from 0.94576\n",
            "5314/5314 [==============================] - 59s 11ms/step - loss: 0.1985 - accuracy: 0.9430 - val_loss: 0.2104 - val_accuracy: 0.9400\n",
            "Epoch 46/100\n",
            "5314/5314 [==============================] - ETA: 0s - loss: 0.1986 - accuracy: 0.9435\n",
            "Epoch 00046: val_accuracy did not improve from 0.94576\n",
            "5314/5314 [==============================] - 59s 11ms/step - loss: 0.1986 - accuracy: 0.9435 - val_loss: 0.2012 - val_accuracy: 0.9425\n",
            "Epoch 47/100\n",
            "5312/5314 [============================>.] - ETA: 0s - loss: 0.1977 - accuracy: 0.9435\n",
            "Epoch 00047: val_accuracy did not improve from 0.94576\n",
            "5314/5314 [==============================] - 58s 11ms/step - loss: 0.1977 - accuracy: 0.9435 - val_loss: 0.2094 - val_accuracy: 0.9394\n",
            "Epoch 48/100\n",
            "5311/5314 [============================>.] - ETA: 0s - loss: 0.1994 - accuracy: 0.9424\n",
            "Epoch 00048: val_accuracy did not improve from 0.94576\n",
            "5314/5314 [==============================] - 63s 12ms/step - loss: 0.1993 - accuracy: 0.9424 - val_loss: 0.2073 - val_accuracy: 0.9403\n",
            "Epoch 49/100\n",
            "5310/5314 [============================>.] - ETA: 0s - loss: 0.1984 - accuracy: 0.9432\n",
            "Epoch 00049: val_accuracy did not improve from 0.94576\n",
            "Restoring model weights from the end of the best epoch.\n",
            "5314/5314 [==============================] - 60s 11ms/step - loss: 0.1983 - accuracy: 0.9432 - val_loss: 0.1948 - val_accuracy: 0.9436\n",
            "Epoch 00049: early stopping\n"
          ],
          "name": "stdout"
        }
      ]
    },
    {
      "cell_type": "code",
      "metadata": {
        "id": "XXHdIbq7Qv_I",
        "outputId": "a07d5313-3877-43df-aa97-d6713934cb44",
        "colab": {
          "base_uri": "https://localhost:8080/"
        }
      },
      "source": [
        "plt.figure(figsize=(16,9))\n",
        "# summarize history for accuracy\n",
        "plt.plot(history1_UPP.history['accuracy'])\n",
        "plt.plot(history1_UPP.history['val_accuracy'])\n",
        "plt.title('Model 2 uppercase letters accuracy (with Data Augmentation)')\n",
        "plt.ylabel('accuracy')\n",
        "plt.xlabel('epoch')\n",
        "plt.legend(['train', 'validation'], loc='lower right')\n",
        "plt.show()\n",
        "plt.figure(figsize=(16,9))\n",
        "\n",
        "# summarize history for loss\n",
        "plt.plot(history1_UPP.history['loss'])\n",
        "plt.plot(history1_UPP.history['val_loss'])\n",
        "plt.title('Model 2 uppercase letters loss  (with Data Augmentation)')\n",
        "plt.ylabel('loss')\n",
        "plt.xlabel('epoch')\n",
        "plt.legend(['train', 'validation'], loc='upper right')\n",
        "plt.show()"
      ],
      "execution_count": null,
      "outputs": [
        {
          "output_type": "display_data",
          "data": {
            "image/png": "[encoded data removed]",
            "text/plain": [
              "<Figure size 1152x648 with 1 Axes>"
            ]
          },
          "metadata": {
            "tags": [],
            "needs_background": "light"
          }
        },
        {
          "output_type": "display_data",
          "data": {
            "image/png": "[encoded data removed]",
            "text/plain": [
              "<Figure size 1152x648 with 1 Axes>"
            ]
          },
          "metadata": {
            "tags": [],
            "needs_background": "light"
          }
        }
      ]
    },
    {
      "cell_type": "code",
      "metadata": {
        "id": "xMRCeTWLyimv"
      },
      "source": [
        "lab_test_UPP = tf.keras.utils.to_categorical(lab_test_UPP)"
      ],
      "execution_count": null,
      "outputs": []
    },
    {
      "cell_type": "code",
      "metadata": {
        "id": "9fI6RgfqG9tj",
        "outputId": "88efa844-a86e-48a5-d987-9e3b6d9cb80d",
        "colab": {
          "base_uri": "https://localhost:8080/"
        }
      },
      "source": [
        "evaluation = model.evaluate(valid_datagen.flow(im_test_UPP, lab_test_UPP))"
      ],
      "execution_count": null,
      "outputs": [
        {
          "output_type": "stream",
          "text": [
            "980/980 [==============================] - 9s 9ms/step - loss: 0.1875 - accuracy: 0.9454\n"
          ],
          "name": "stdout"
        }
      ]
    },
    {
      "cell_type": "code",
      "metadata": {
        "id": "UpoZQdupKEC7"
      },
      "source": [
        ""
      ],
      "execution_count": null,
      "outputs": []
    },
    {
      "cell_type": "code",
      "metadata": {
        "id": "vNJwhbJiwJqk",
        "outputId": "96f07255-0a0a-4179-9c22-0092ff801fd9",
        "colab": {
          "base_uri": "https://localhost:8080/"
        }
      },
      "source": [
        "from google.colab import drive\n",
        "drive.mount('/content/drive')"
      ],
      "execution_count": null,
      "outputs": [
        {
          "output_type": "stream",
          "text": [
            "Drive already mounted at /content/drive; to attempt to forcibly remount, call drive.mount(\"/content/drive\", force_remount=True).\n"
          ],
          "name": "stdout"
        }
      ]
    }
  ]
}