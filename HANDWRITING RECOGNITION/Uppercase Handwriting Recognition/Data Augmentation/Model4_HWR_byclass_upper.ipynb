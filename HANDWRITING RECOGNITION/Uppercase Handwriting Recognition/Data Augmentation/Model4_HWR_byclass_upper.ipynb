{
  "nbformat": 4,
  "nbformat_minor": 0,
  "metadata": {
    "colab": {
      "name": "Model4-HWR-byclass-upper.ipynb",
      "provenance": []
    },
    "kernelspec": {
      "name": "python3",
      "display_name": "Python 3"
    },
    "accelerator": "GPU"
  },
  "cells": [
    {
      "cell_type": "code",
      "metadata": {
        "id": "WaamsQlM5zPi",
        "outputId": "5f876cb3-f785-41c8-bdaa-cac3c672014b",
        "colab": {
          "base_uri": "https://localhost:8080/",
          "height": 212
        }
      },
      "source": [
        "pip install emnist"
      ],
      "execution_count": null,
      "outputs": [
        {
          "output_type": "stream",
          "text": [
            "Collecting emnist\n",
            "  Downloading https://files.pythonhosted.org/packages/d1/f4/78b24acbef9e8fe976dda700f16a3606f3b8363b015bc555f8050fbbd8ac/emnist-0.0-py3-none-any.whl\n",
            "Requirement already satisfied: numpy in /usr/local/lib/python3.6/dist-packages (from emnist) (1.18.5)\n",
            "Requirement already satisfied: requests in /usr/local/lib/python3.6/dist-packages (from emnist) (2.23.0)\n",
            "Requirement already satisfied: tqdm in /usr/local/lib/python3.6/dist-packages (from emnist) (4.41.1)\n",
            "Requirement already satisfied: urllib3!=1.25.0,!=1.25.1,<1.26,>=1.21.1 in /usr/local/lib/python3.6/dist-packages (from requests->emnist) (1.24.3)\n",
            "Requirement already satisfied: certifi>=2017.4.17 in /usr/local/lib/python3.6/dist-packages (from requests->emnist) (2020.6.20)\n",
            "Requirement already satisfied: chardet<4,>=3.0.2 in /usr/local/lib/python3.6/dist-packages (from requests->emnist) (3.0.4)\n",
            "Requirement already satisfied: idna<3,>=2.5 in /usr/local/lib/python3.6/dist-packages (from requests->emnist) (2.10)\n",
            "Installing collected packages: emnist\n",
            "Successfully installed emnist-0.0\n"
          ],
          "name": "stdout"
        }
      ]
    },
    {
      "cell_type": "code",
      "metadata": {
        "id": "yzz5cngH59he"
      },
      "source": [
        "import os\n",
        "import numpy as np\n",
        "import matplotlib.pyplot as plt\n",
        "\n",
        "from pathlib import Path\n",
        "from collections import Counter\n",
        "\n",
        "import tensorflow as tf\n",
        "from tensorflow import keras\n",
        "from tensorflow.keras import layers\n",
        "\n",
        "from emnist import list_datasets, extract_training_samples, extract_test_samples"
      ],
      "execution_count": null,
      "outputs": []
    },
    {
      "cell_type": "code",
      "metadata": {
        "id": "9w6qPaD56HaU",
        "outputId": "ee72f9b6-0a89-49b3-db02-ba67c2f2cc19",
        "colab": {
          "base_uri": "https://localhost:8080/",
          "height": 35
        }
      },
      "source": [
        "# load emnist dataset 'by class'\n",
        "\n",
        "images, labels = extract_training_samples('byclass')\n",
        "images_test, labels_test = extract_test_samples('byclass')"
      ],
      "execution_count": null,
      "outputs": [
        {
          "output_type": "stream",
          "text": [
            "Downloading emnist.zip: 536MB [00:05, 96.9MB/s]\n"
          ],
          "name": "stderr"
        }
      ]
    },
    {
      "cell_type": "code",
      "metadata": {
        "id": "CgkMrn-N6WJP"
      },
      "source": [
        "# find index of uppercase letters\n",
        "\n",
        "tr_index_UPP = [i for i in range(len(labels)) if labels[i]>=10 and labels[i] <= 35] \n",
        "ts_index_UPP = [i for i in range(len(labels_test)) if labels_test[i]>=10 and labels_test[i] <= 35]"
      ],
      "execution_count": null,
      "outputs": []
    },
    {
      "cell_type": "code",
      "metadata": {
        "id": "pjpAgQBL6hxs"
      },
      "source": [
        "# save images and labels in uppercase\n",
        "\n",
        "im_train_UPP = images[tr_index_UPP]\n",
        "im_test_UPP = images_test[ts_index_UPP]\n",
        "lab_train_UPP = labels[tr_index_UPP]\n",
        "lab_test_UPP = labels_test[ts_index_UPP]"
      ],
      "execution_count": null,
      "outputs": []
    },
    {
      "cell_type": "code",
      "metadata": {
        "id": "8_99A-YR6uY3"
      },
      "source": [
        "# reformulate labels for application of built-in function 'to_categorical'\n",
        "\n",
        "alf_UPP = {\n",
        "       10: 0,\n",
        "       11: 1,\n",
        "       12: 2,\n",
        "       13: 3,\n",
        "       14: 4,\n",
        "       15: 5,\n",
        "       16: 6,\n",
        "       17: 7,\n",
        "       18: 8,\n",
        "       19: 9,\n",
        "       20: 10,\n",
        "       21: 11,\n",
        "       22: 12,\n",
        "       23: 13,\n",
        "       24: 14,\n",
        "       25: 15,\n",
        "       26: 16,\n",
        "       27: 17,\n",
        "       28: 18,\n",
        "       29: 19,\n",
        "       30: 20,\n",
        "       31: 21,\n",
        "       32: 22,\n",
        "       33: 23,\n",
        "       34: 24,\n",
        "       35: 25,\n",
        "       }\n",
        "\n",
        "lab_train_UPP = [alf_UPP[label] for label in lab_train_UPP]\n",
        "lab_test_UPP = [alf_UPP[label] for label in lab_test_UPP]"
      ],
      "execution_count": null,
      "outputs": []
    },
    {
      "cell_type": "code",
      "metadata": {
        "id": "gXvoJ4X1_595",
        "outputId": "cbf660a7-dda1-4a12-89c5-f91738f3ba39",
        "colab": {
          "base_uri": "https://localhost:8080/",
          "height": 35
        }
      },
      "source": [
        "# check labels\n",
        "\n",
        "lab_train_UPP[0]"
      ],
      "execution_count": null,
      "outputs": [
        {
          "output_type": "execute_result",
          "data": {
            "text/plain": [
              "25"
            ]
          },
          "metadata": {
            "tags": []
          },
          "execution_count": 7
        }
      ]
    },
    {
      "cell_type": "code",
      "metadata": {
        "id": "kj8i4Tyw_72J"
      },
      "source": [
        "# define image width and height and batch size\n",
        "\n",
        "# Batch size for training and validation\n",
        "batch_size = 32\n",
        "\n",
        "# Desired image dimensions\n",
        "img_width = 28\n",
        "img_height = 28"
      ],
      "execution_count": null,
      "outputs": []
    },
    {
      "cell_type": "code",
      "metadata": {
        "id": "txkyxT3JDili"
      },
      "source": [
        "# split training set in traininig and validation set\n",
        "\n",
        "def split_data(images, labels, train_size=0.9, shuffle=True):\n",
        "    # 1. Get the total size of the dataset\n",
        "    size = len(images)\n",
        "    # 2. Make an indices array and shuffle it, if required\n",
        "    indices = np.arange(size)\n",
        "    if shuffle:\n",
        "        np.random.shuffle(indices)\n",
        "    # 3. Get the size of training samples\n",
        "    train_samples = int(size * train_size)\n",
        "    # 4. Split data into training and validation sets\n",
        "    x_train, y_train = images[indices[:train_samples]], labels[indices[:train_samples]]\n",
        "    x_valid, y_valid = images[indices[train_samples:]], labels[indices[train_samples:]]\n",
        "    return x_train, x_valid, y_train, y_valid"
      ],
      "execution_count": null,
      "outputs": []
    },
    {
      "cell_type": "code",
      "metadata": {
        "id": "1Vp7uXl8Hamn"
      },
      "source": [
        "# Splitting data into training and validation sets\n",
        "x_train_UPP, x_valid_UPP, y_train_UPP, y_valid_UPP = split_data(np.array(im_train_UPP), np.array(lab_train_UPP))"
      ],
      "execution_count": null,
      "outputs": []
    },
    {
      "cell_type": "code",
      "metadata": {
        "id": "DlmupJ5eIGDF"
      },
      "source": [
        "# to categorical \n",
        "\n",
        "y_train_UPP = tf.keras.utils.to_categorical(y_train_UPP, 26)\n",
        "y_valid_UPP = tf.keras.utils.to_categorical(y_valid_UPP, 26)"
      ],
      "execution_count": null,
      "outputs": []
    },
    {
      "cell_type": "code",
      "metadata": {
        "id": "ZvQPt1RXI-OV"
      },
      "source": [
        "# normalize training, validation and test data\n",
        "\n",
        "x_train_UPP = tf.keras.utils.normalize(x_train_UPP, axis=1)\n",
        "x_valid_UPP = tf.keras.utils.normalize(x_valid_UPP, axis=1)\n",
        "im_test_UPP = tf.keras.utils.normalize(im_test_UPP, axis=1)"
      ],
      "execution_count": null,
      "outputs": []
    },
    {
      "cell_type": "code",
      "metadata": {
        "id": "bZrNm_RsMvg4"
      },
      "source": [
        "# using data augmentation\n",
        "\n",
        "train_datagen = tf.keras.preprocessing.image.ImageDataGenerator(featurewise_center=True,\n",
        "                                                          featurewise_std_normalization=True,\n",
        "                                                          rotation_range=20,\n",
        "                                                          width_shift_range=0.2,\n",
        "                                                          height_shift_range=0.2,\n",
        "                                                          horizontal_flip=True)\n",
        "valid_datagen = tf.keras.preprocessing.image.ImageDataGenerator(featurewise_center=True,\n",
        "                                                          featurewise_std_normalization=True,\n",
        "                                                          rotation_range=20,\n",
        "                                                          width_shift_range=0.2,\n",
        "                                                          height_shift_range=0.2,\n",
        "                                                          horizontal_flip=True)\n",
        "\n",
        "x_train_UPP = np.reshape(x_train_UPP, (len(x_train_UPP),img_width, img_width, 1))\n",
        "x_valid_UPP = np.reshape(x_valid_UPP, (len(x_valid_UPP),img_width, img_width, 1))\n",
        "im_test_UPP = np.reshape(im_test_UPP, (len(im_test_UPP), img_width, img_height, 1))\n",
        "\n",
        "train_datagen.fit(x_train_UPP)\n",
        "valid_datagen.fit(x_valid_UPP)"
      ],
      "execution_count": null,
      "outputs": []
    },
    {
      "cell_type": "code",
      "metadata": {
        "id": "xoml2gmkNnLr"
      },
      "source": [
        "# build model\n",
        "\n",
        "def build_model():\n",
        "    # Inputs to the model\n",
        "    input_img = layers.Input(\n",
        "        shape=(img_width, img_height, 1), name=\"image\", dtype=\"float32\"\n",
        "    )\n",
        "    x = layers.Reshape((img_width, img_height))(input_img)\n",
        "    # RNNs\n",
        "    x = layers.Bidirectional(layers.LSTM(64, return_sequences=True, dropout=0.25, name='bilstm1'))(x)\n",
        "    #x = layers.Flatten()(x)\n",
        "    x = layers.Bidirectional(layers.LSTM(32, return_sequences=True, dropout=0.25, name='bilstm2'))(x)\n",
        "    x = layers.Flatten()(x)\n",
        "    # Output layer\n",
        "    x = layers.Dense(units=128, activation='sigmoid', name='dense_1')(x)\n",
        "    output = layers.Dense(units=26, activation=\"softmax\", name=\"dense2\")(x)\n",
        "\n",
        "    # Define the model\n",
        "    model = keras.models.Model(\n",
        "        inputs=input_img, outputs=output, name=\"ocr_model_v1\"\n",
        "    )\n",
        "    # Optimizer\n",
        "    opt = keras.optimizers.Adam()\n",
        "    # Compile the model and return\n",
        "    model.compile(loss='categorical_crossentropy',optimizer=opt, metrics=['accuracy'])\n",
        "\n",
        "    return model"
      ],
      "execution_count": null,
      "outputs": []
    },
    {
      "cell_type": "code",
      "metadata": {
        "id": "bCVkysqePH29",
        "outputId": "cccd834c-5694-4651-ca79-3e4d867ab423",
        "colab": {
          "base_uri": "https://localhost:8080/",
          "height": 408
        }
      },
      "source": [
        "model = build_model()\n",
        "model.summary()"
      ],
      "execution_count": null,
      "outputs": [
        {
          "output_type": "stream",
          "text": [
            "Model: \"ocr_model_v1\"\n",
            "_________________________________________________________________\n",
            "Layer (type)                 Output Shape              Param #   \n",
            "=================================================================\n",
            "image (InputLayer)           [(None, 28, 28, 1)]       0         \n",
            "_________________________________________________________________\n",
            "reshape (Reshape)            (None, 28, 28)            0         \n",
            "_________________________________________________________________\n",
            "bidirectional (Bidirectional (None, 28, 128)           47616     \n",
            "_________________________________________________________________\n",
            "bidirectional_1 (Bidirection (None, 28, 64)            41216     \n",
            "_________________________________________________________________\n",
            "flatten (Flatten)            (None, 1792)              0         \n",
            "_________________________________________________________________\n",
            "dense_1 (Dense)              (None, 128)               229504    \n",
            "_________________________________________________________________\n",
            "dense2 (Dense)               (None, 26)                3354      \n",
            "=================================================================\n",
            "Total params: 321,690\n",
            "Trainable params: 321,690\n",
            "Non-trainable params: 0\n",
            "_________________________________________________________________\n"
          ],
          "name": "stdout"
        }
      ]
    },
    {
      "cell_type": "code",
      "metadata": {
        "id": "v8YiuOWiPKKM",
        "outputId": "44dbca35-cc40-41ef-e409-da3817f42f44",
        "colab": {
          "base_uri": "https://localhost:8080/",
          "height": 661
        }
      },
      "source": [
        "from keras.utils import plot_model\n",
        "plot_model(model, to_file='/content/drive/My Drive/TESI/Models/Immagini/model4_byclass_upper.png')"
      ],
      "execution_count": null,
      "outputs": [
        {
          "output_type": "execute_result",
          "data": {
            "image/png": "[encoded data removed]",
            "text/plain": [
              "<IPython.core.display.Image object>"
            ]
          },
          "metadata": {
            "tags": []
          },
          "execution_count": 16
        }
      ]
    },
    {
      "cell_type": "code",
      "metadata": {
        "id": "Bupp_Vi9PtBO"
      },
      "source": [
        "epochs = 100\n",
        "early_stopping_patience = 10\n",
        "# Add early stopping\n",
        "early_stopping = keras.callbacks.EarlyStopping(\n",
        "    monitor=\"val_accuracy\", patience=early_stopping_patience, restore_best_weights=True, verbose=1\n",
        ")\n",
        "\n",
        "# Model CheckPoint\n",
        "cp = keras.callbacks.ModelCheckpoint('/content/drive/My Drive/TESI/Models/model4_UPP_byclass.h5',\n",
        "                                     verbose=1,\n",
        "                                     monitor='val_accuracy',\n",
        "                                     save_best_only=True,\n",
        "                                     mode='max')"
      ],
      "execution_count": null,
      "outputs": []
    },
    {
      "cell_type": "code",
      "metadata": {
        "id": "wU2qe4yJQVK5",
        "outputId": "34db85eb-b3aa-4778-8fe9-4dd1e37d9860",
        "colab": {
          "base_uri": "https://localhost:8080/",
          "height": 1000
        }
      },
      "source": [
        "# fit model\n",
        "history1_UPP = model.fit(train_datagen.flow(x_train_UPP,y_train_UPP, batch_size=batch_size),\n",
        "                    validation_data=valid_datagen.flow(x_valid_UPP,y_valid_UPP, batch_size=batch_size),\n",
        "                    steps_per_epoch=len(x_train_UPP)//batch_size,\n",
        "                    validation_steps=len(x_valid_UPP)//batch_size,\n",
        "                    epochs=epochs,\n",
        "                    verbose=1,\n",
        "                    callbacks=[cp, early_stopping])"
      ],
      "execution_count": null,
      "outputs": [
        {
          "output_type": "stream",
          "text": [
            "Epoch 1/100\n",
            "5313/5314 [============================>.] - ETA: 0s - loss: 0.7615 - accuracy: 0.7674\n",
            "Epoch 00001: val_accuracy improved from -inf to 0.87087, saving model to /content/drive/My Drive/TESI/Models/model4_UPP_byclass.h5\n",
            "5314/5314 [==============================] - 163s 31ms/step - loss: 0.7614 - accuracy: 0.7674 - val_loss: 0.4294 - val_accuracy: 0.8709\n",
            "Epoch 2/100\n",
            "5314/5314 [==============================] - ETA: 0s - loss: 0.4151 - accuracy: 0.8727\n",
            "Epoch 00002: val_accuracy improved from 0.87087 to 0.89539, saving model to /content/drive/My Drive/TESI/Models/model4_UPP_byclass.h5\n",
            "5314/5314 [==============================] - 162s 30ms/step - loss: 0.4151 - accuracy: 0.8727 - val_loss: 0.3448 - val_accuracy: 0.8954\n",
            "Epoch 3/100\n",
            "5313/5314 [============================>.] - ETA: 0s - loss: 0.3500 - accuracy: 0.8939\n",
            "Epoch 00003: val_accuracy improved from 0.89539 to 0.90360, saving model to /content/drive/My Drive/TESI/Models/model4_UPP_byclass.h5\n",
            "5314/5314 [==============================] - 164s 31ms/step - loss: 0.3500 - accuracy: 0.8939 - val_loss: 0.3185 - val_accuracy: 0.9036\n",
            "Epoch 4/100\n",
            "5313/5314 [============================>.] - ETA: 0s - loss: 0.3145 - accuracy: 0.9046\n",
            "Epoch 00004: val_accuracy improved from 0.90360 to 0.91070, saving model to /content/drive/My Drive/TESI/Models/model4_UPP_byclass.h5\n",
            "5314/5314 [==============================] - 163s 31ms/step - loss: 0.3145 - accuracy: 0.9046 - val_loss: 0.2905 - val_accuracy: 0.9107\n",
            "Epoch 5/100\n",
            "5313/5314 [============================>.] - ETA: 0s - loss: 0.2908 - accuracy: 0.9114\n",
            "Epoch 00005: val_accuracy improved from 0.91070 to 0.92076, saving model to /content/drive/My Drive/TESI/Models/model4_UPP_byclass.h5\n",
            "5314/5314 [==============================] - 163s 31ms/step - loss: 0.2909 - accuracy: 0.9114 - val_loss: 0.2700 - val_accuracy: 0.9208\n",
            "Epoch 6/100\n",
            "5314/5314 [==============================] - ETA: 0s - loss: 0.2800 - accuracy: 0.9157\n",
            "Epoch 00006: val_accuracy improved from 0.92076 to 0.92442, saving model to /content/drive/My Drive/TESI/Models/model4_UPP_byclass.h5\n",
            "5314/5314 [==============================] - 163s 31ms/step - loss: 0.2800 - accuracy: 0.9157 - val_loss: 0.2445 - val_accuracy: 0.9244\n",
            "Epoch 7/100\n",
            "5314/5314 [==============================] - ETA: 0s - loss: 0.2684 - accuracy: 0.9192\n",
            "Epoch 00007: val_accuracy did not improve from 0.92442\n",
            "5314/5314 [==============================] - 163s 31ms/step - loss: 0.2684 - accuracy: 0.9192 - val_loss: 0.2642 - val_accuracy: 0.9236\n",
            "Epoch 8/100\n",
            "5314/5314 [==============================] - ETA: 0s - loss: 0.2587 - accuracy: 0.9218\n",
            "Epoch 00008: val_accuracy did not improve from 0.92442\n",
            "5314/5314 [==============================] - 162s 30ms/step - loss: 0.2587 - accuracy: 0.9218 - val_loss: 0.2488 - val_accuracy: 0.9242\n",
            "Epoch 9/100\n",
            "5313/5314 [============================>.] - ETA: 0s - loss: 0.2515 - accuracy: 0.9237\n",
            "Epoch 00009: val_accuracy improved from 0.92442 to 0.93151, saving model to /content/drive/My Drive/TESI/Models/model4_UPP_byclass.h5\n",
            "5314/5314 [==============================] - 163s 31ms/step - loss: 0.2515 - accuracy: 0.9236 - val_loss: 0.2279 - val_accuracy: 0.9315\n",
            "Epoch 10/100\n",
            "5313/5314 [============================>.] - ETA: 0s - loss: 0.2451 - accuracy: 0.9262\n",
            "Epoch 00010: val_accuracy did not improve from 0.93151\n",
            "5314/5314 [==============================] - 162s 31ms/step - loss: 0.2451 - accuracy: 0.9262 - val_loss: 0.2299 - val_accuracy: 0.9310\n",
            "Epoch 11/100\n",
            "5313/5314 [============================>.] - ETA: 0s - loss: 0.2448 - accuracy: 0.9264\n",
            "Epoch 00011: val_accuracy improved from 0.93151 to 0.93167, saving model to /content/drive/My Drive/TESI/Models/model4_UPP_byclass.h5\n",
            "5314/5314 [==============================] - 164s 31ms/step - loss: 0.2448 - accuracy: 0.9264 - val_loss: 0.2235 - val_accuracy: 0.9317\n",
            "Epoch 12/100\n",
            "5313/5314 [============================>.] - ETA: 0s - loss: 0.2393 - accuracy: 0.9278\n",
            "Epoch 00012: val_accuracy improved from 0.93167 to 0.93279, saving model to /content/drive/My Drive/TESI/Models/model4_UPP_byclass.h5\n",
            "5314/5314 [==============================] - 164s 31ms/step - loss: 0.2393 - accuracy: 0.9278 - val_loss: 0.2222 - val_accuracy: 0.9328\n",
            "Epoch 13/100\n",
            "5313/5314 [============================>.] - ETA: 0s - loss: 0.2354 - accuracy: 0.9290\n",
            "Epoch 00013: val_accuracy improved from 0.93279 to 0.93803, saving model to /content/drive/My Drive/TESI/Models/model4_UPP_byclass.h5\n",
            "5314/5314 [==============================] - 165s 31ms/step - loss: 0.2354 - accuracy: 0.9291 - val_loss: 0.2075 - val_accuracy: 0.9380\n",
            "Epoch 14/100\n",
            "5314/5314 [==============================] - ETA: 0s - loss: 0.2322 - accuracy: 0.9300\n",
            "Epoch 00014: val_accuracy did not improve from 0.93803\n",
            "5314/5314 [==============================] - 164s 31ms/step - loss: 0.2322 - accuracy: 0.9300 - val_loss: 0.2121 - val_accuracy: 0.9369\n",
            "Epoch 15/100\n",
            "5313/5314 [============================>.] - ETA: 0s - loss: 0.2305 - accuracy: 0.9306\n",
            "Epoch 00015: val_accuracy improved from 0.93803 to 0.93861, saving model to /content/drive/My Drive/TESI/Models/model4_UPP_byclass.h5\n",
            "5314/5314 [==============================] - 165s 31ms/step - loss: 0.2306 - accuracy: 0.9306 - val_loss: 0.2072 - val_accuracy: 0.9386\n",
            "Epoch 16/100\n",
            "5314/5314 [==============================] - ETA: 0s - loss: 0.2282 - accuracy: 0.9314\n",
            "Epoch 00016: val_accuracy improved from 0.93861 to 0.93999, saving model to /content/drive/My Drive/TESI/Models/model4_UPP_byclass.h5\n",
            "5314/5314 [==============================] - 164s 31ms/step - loss: 0.2282 - accuracy: 0.9314 - val_loss: 0.2018 - val_accuracy: 0.9400\n",
            "Epoch 17/100\n",
            "5314/5314 [==============================] - ETA: 0s - loss: 0.2247 - accuracy: 0.9322\n",
            "Epoch 00017: val_accuracy did not improve from 0.93999\n",
            "5314/5314 [==============================] - 163s 31ms/step - loss: 0.2247 - accuracy: 0.9322 - val_loss: 0.2025 - val_accuracy: 0.9390\n",
            "Epoch 18/100\n",
            "5313/5314 [============================>.] - ETA: 0s - loss: 0.2237 - accuracy: 0.9333\n",
            "Epoch 00018: val_accuracy did not improve from 0.93999\n",
            "5314/5314 [==============================] - 163s 31ms/step - loss: 0.2237 - accuracy: 0.9333 - val_loss: 0.2052 - val_accuracy: 0.9394\n",
            "Epoch 19/100\n",
            "5314/5314 [==============================] - ETA: 0s - loss: 0.2219 - accuracy: 0.9336\n",
            "Epoch 00019: val_accuracy improved from 0.93999 to 0.94121, saving model to /content/drive/My Drive/TESI/Models/model4_UPP_byclass.h5\n",
            "5314/5314 [==============================] - 164s 31ms/step - loss: 0.2219 - accuracy: 0.9336 - val_loss: 0.1949 - val_accuracy: 0.9412\n",
            "Epoch 20/100\n",
            "5313/5314 [============================>.] - ETA: 0s - loss: 0.2202 - accuracy: 0.9341\n",
            "Epoch 00020: val_accuracy did not improve from 0.94121\n",
            "5314/5314 [==============================] - 163s 31ms/step - loss: 0.2202 - accuracy: 0.9341 - val_loss: 0.2013 - val_accuracy: 0.9389\n",
            "Epoch 21/100\n",
            "5313/5314 [============================>.] - ETA: 0s - loss: 0.2192 - accuracy: 0.9349\n",
            "Epoch 00021: val_accuracy did not improve from 0.94121\n",
            "5314/5314 [==============================] - 162s 31ms/step - loss: 0.2192 - accuracy: 0.9349 - val_loss: 0.1968 - val_accuracy: 0.9410\n",
            "Epoch 22/100\n",
            "5313/5314 [============================>.] - ETA: 0s - loss: 0.2180 - accuracy: 0.9351\n",
            "Epoch 00022: val_accuracy improved from 0.94121 to 0.94216, saving model to /content/drive/My Drive/TESI/Models/model4_UPP_byclass.h5\n",
            "5314/5314 [==============================] - 163s 31ms/step - loss: 0.2180 - accuracy: 0.9351 - val_loss: 0.1973 - val_accuracy: 0.9422\n",
            "Epoch 23/100\n",
            "5314/5314 [==============================] - ETA: 0s - loss: 0.2166 - accuracy: 0.9352\n",
            "Epoch 00023: val_accuracy did not improve from 0.94216\n",
            "5314/5314 [==============================] - 159s 30ms/step - loss: 0.2166 - accuracy: 0.9352 - val_loss: 0.1995 - val_accuracy: 0.9388\n",
            "Epoch 24/100\n",
            "5314/5314 [==============================] - ETA: 0s - loss: 0.2140 - accuracy: 0.9362\n",
            "Epoch 00024: val_accuracy did not improve from 0.94216\n",
            "5314/5314 [==============================] - 160s 30ms/step - loss: 0.2140 - accuracy: 0.9362 - val_loss: 0.1991 - val_accuracy: 0.9402\n",
            "Epoch 25/100\n",
            "5313/5314 [============================>.] - ETA: 0s - loss: 0.2126 - accuracy: 0.9360\n",
            "Epoch 00025: val_accuracy improved from 0.94216 to 0.94221, saving model to /content/drive/My Drive/TESI/Models/model4_UPP_byclass.h5\n",
            "5314/5314 [==============================] - 162s 30ms/step - loss: 0.2126 - accuracy: 0.9360 - val_loss: 0.1951 - val_accuracy: 0.9422\n",
            "Epoch 26/100\n",
            "5313/5314 [============================>.] - ETA: 0s - loss: 0.2114 - accuracy: 0.9369\n",
            "Epoch 00026: val_accuracy did not improve from 0.94221\n",
            "5314/5314 [==============================] - 160s 30ms/step - loss: 0.2114 - accuracy: 0.9369 - val_loss: 0.2014 - val_accuracy: 0.9390\n",
            "Epoch 27/100\n",
            "5314/5314 [==============================] - ETA: 0s - loss: 0.2101 - accuracy: 0.9368\n",
            "Epoch 00027: val_accuracy improved from 0.94221 to 0.94232, saving model to /content/drive/My Drive/TESI/Models/model4_UPP_byclass.h5\n",
            "5314/5314 [==============================] - 162s 31ms/step - loss: 0.2101 - accuracy: 0.9368 - val_loss: 0.1928 - val_accuracy: 0.9423\n",
            "Epoch 28/100\n",
            "5314/5314 [==============================] - ETA: 0s - loss: 0.2108 - accuracy: 0.9367\n",
            "Epoch 00028: val_accuracy did not improve from 0.94232\n",
            "5314/5314 [==============================] - 163s 31ms/step - loss: 0.2108 - accuracy: 0.9367 - val_loss: 0.2003 - val_accuracy: 0.9404\n",
            "Epoch 29/100\n",
            "5313/5314 [============================>.] - ETA: 0s - loss: 0.2106 - accuracy: 0.9370\n",
            "Epoch 00029: val_accuracy improved from 0.94232 to 0.94253, saving model to /content/drive/My Drive/TESI/Models/model4_UPP_byclass.h5\n",
            "5314/5314 [==============================] - 164s 31ms/step - loss: 0.2106 - accuracy: 0.9371 - val_loss: 0.1957 - val_accuracy: 0.9425\n",
            "Epoch 30/100\n",
            "5314/5314 [==============================] - ETA: 0s - loss: 0.2095 - accuracy: 0.9368\n",
            "Epoch 00030: val_accuracy improved from 0.94253 to 0.94333, saving model to /content/drive/My Drive/TESI/Models/model4_UPP_byclass.h5\n",
            "5314/5314 [==============================] - 163s 31ms/step - loss: 0.2095 - accuracy: 0.9368 - val_loss: 0.1925 - val_accuracy: 0.9433\n",
            "Epoch 31/100\n",
            "5314/5314 [==============================] - ETA: 0s - loss: 0.2069 - accuracy: 0.9374\n",
            "Epoch 00031: val_accuracy improved from 0.94333 to 0.94343, saving model to /content/drive/My Drive/TESI/Models/model4_UPP_byclass.h5\n",
            "5314/5314 [==============================] - 164s 31ms/step - loss: 0.2069 - accuracy: 0.9374 - val_loss: 0.1918 - val_accuracy: 0.9434\n",
            "Epoch 32/100\n",
            "5314/5314 [==============================] - ETA: 0s - loss: 0.2057 - accuracy: 0.9377\n",
            "Epoch 00032: val_accuracy did not improve from 0.94343\n",
            "5314/5314 [==============================] - 162s 31ms/step - loss: 0.2057 - accuracy: 0.9377 - val_loss: 0.1961 - val_accuracy: 0.9422\n",
            "Epoch 33/100\n",
            "5313/5314 [============================>.] - ETA: 0s - loss: 0.2076 - accuracy: 0.9375\n",
            "Epoch 00033: val_accuracy improved from 0.94343 to 0.94592, saving model to /content/drive/My Drive/TESI/Models/model4_UPP_byclass.h5\n",
            "5314/5314 [==============================] - 165s 31ms/step - loss: 0.2076 - accuracy: 0.9375 - val_loss: 0.1843 - val_accuracy: 0.9459\n",
            "Epoch 34/100\n",
            "5313/5314 [============================>.] - ETA: 0s - loss: 0.2090 - accuracy: 0.9374\n",
            "Epoch 00034: val_accuracy did not improve from 0.94592\n",
            "5314/5314 [==============================] - 162s 30ms/step - loss: 0.2090 - accuracy: 0.9374 - val_loss: 0.1947 - val_accuracy: 0.9414\n",
            "Epoch 35/100\n",
            "5313/5314 [============================>.] - ETA: 0s - loss: 0.2080 - accuracy: 0.9377\n",
            "Epoch 00035: val_accuracy did not improve from 0.94592\n",
            "5314/5314 [==============================] - 162s 30ms/step - loss: 0.2080 - accuracy: 0.9377 - val_loss: 0.1977 - val_accuracy: 0.9414\n",
            "Epoch 36/100\n",
            "5313/5314 [============================>.] - ETA: 0s - loss: 0.2039 - accuracy: 0.9391\n",
            "Epoch 00036: val_accuracy did not improve from 0.94592\n",
            "5314/5314 [==============================] - 161s 30ms/step - loss: 0.2039 - accuracy: 0.9391 - val_loss: 0.1891 - val_accuracy: 0.9428\n",
            "Epoch 37/100\n",
            "5314/5314 [==============================] - ETA: 0s - loss: 0.2062 - accuracy: 0.9375\n",
            "Epoch 00037: val_accuracy did not improve from 0.94592\n",
            "5314/5314 [==============================] - 161s 30ms/step - loss: 0.2062 - accuracy: 0.9375 - val_loss: 0.1884 - val_accuracy: 0.9442\n",
            "Epoch 38/100\n",
            "5313/5314 [============================>.] - ETA: 0s - loss: 0.2023 - accuracy: 0.9395\n",
            "Epoch 00038: val_accuracy improved from 0.94592 to 0.94640, saving model to /content/drive/My Drive/TESI/Models/model4_UPP_byclass.h5\n",
            "5314/5314 [==============================] - 163s 31ms/step - loss: 0.2023 - accuracy: 0.9395 - val_loss: 0.1846 - val_accuracy: 0.9464\n",
            "Epoch 39/100\n",
            "5314/5314 [==============================] - ETA: 0s - loss: 0.2055 - accuracy: 0.9381\n",
            "Epoch 00039: val_accuracy did not improve from 0.94640\n",
            "5314/5314 [==============================] - 162s 30ms/step - loss: 0.2055 - accuracy: 0.9381 - val_loss: 0.1893 - val_accuracy: 0.9442\n",
            "Epoch 40/100\n",
            "5313/5314 [============================>.] - ETA: 0s - loss: 0.2036 - accuracy: 0.9390\n",
            "Epoch 00040: val_accuracy did not improve from 0.94640\n",
            "5314/5314 [==============================] - 162s 30ms/step - loss: 0.2037 - accuracy: 0.9389 - val_loss: 0.1834 - val_accuracy: 0.9444\n",
            "Epoch 41/100\n",
            "5313/5314 [============================>.] - ETA: 0s - loss: 0.2027 - accuracy: 0.9397\n",
            "Epoch 00041: val_accuracy did not improve from 0.94640\n",
            "5314/5314 [==============================] - 162s 31ms/step - loss: 0.2027 - accuracy: 0.9397 - val_loss: 0.1888 - val_accuracy: 0.9446\n",
            "Epoch 42/100\n",
            "5314/5314 [==============================] - ETA: 0s - loss: 0.1999 - accuracy: 0.9401\n",
            "Epoch 00042: val_accuracy did not improve from 0.94640\n",
            "5314/5314 [==============================] - 163s 31ms/step - loss: 0.1999 - accuracy: 0.9401 - val_loss: 0.1870 - val_accuracy: 0.9446\n",
            "Epoch 43/100\n",
            "5314/5314 [==============================] - ETA: 0s - loss: 0.2020 - accuracy: 0.9396\n",
            "Epoch 00043: val_accuracy did not improve from 0.94640\n",
            "5314/5314 [==============================] - 163s 31ms/step - loss: 0.2020 - accuracy: 0.9396 - val_loss: 0.1847 - val_accuracy: 0.9443\n",
            "Epoch 44/100\n",
            "5314/5314 [==============================] - ETA: 0s - loss: 0.2015 - accuracy: 0.9394\n",
            "Epoch 00044: val_accuracy did not improve from 0.94640\n",
            "5314/5314 [==============================] - 162s 30ms/step - loss: 0.2015 - accuracy: 0.9394 - val_loss: 0.1826 - val_accuracy: 0.9458\n",
            "Epoch 45/100\n",
            "5314/5314 [==============================] - ETA: 0s - loss: 0.1998 - accuracy: 0.9402\n",
            "Epoch 00045: val_accuracy did not improve from 0.94640\n",
            "5314/5314 [==============================] - 161s 30ms/step - loss: 0.1998 - accuracy: 0.9402 - val_loss: 0.1948 - val_accuracy: 0.9425\n",
            "Epoch 46/100\n",
            "5313/5314 [============================>.] - ETA: 0s - loss: 0.2017 - accuracy: 0.9396\n",
            "Epoch 00046: val_accuracy improved from 0.94640 to 0.94661, saving model to /content/drive/My Drive/TESI/Models/model4_UPP_byclass.h5\n",
            "5314/5314 [==============================] - 163s 31ms/step - loss: 0.2017 - accuracy: 0.9396 - val_loss: 0.1809 - val_accuracy: 0.9466\n",
            "Epoch 47/100\n",
            "5313/5314 [============================>.] - ETA: 0s - loss: 0.2012 - accuracy: 0.9393\n",
            "Epoch 00047: val_accuracy did not improve from 0.94661\n",
            "5314/5314 [==============================] - 162s 30ms/step - loss: 0.2012 - accuracy: 0.9394 - val_loss: 0.1824 - val_accuracy: 0.9465\n",
            "Epoch 48/100\n",
            "5314/5314 [==============================] - ETA: 0s - loss: 0.2022 - accuracy: 0.9392\n",
            "Epoch 00048: val_accuracy did not improve from 0.94661\n",
            "5314/5314 [==============================] - 161s 30ms/step - loss: 0.2022 - accuracy: 0.9392 - val_loss: 0.1876 - val_accuracy: 0.9446\n",
            "Epoch 49/100\n",
            "5313/5314 [============================>.] - ETA: 0s - loss: 0.1987 - accuracy: 0.9404\n",
            "Epoch 00049: val_accuracy did not improve from 0.94661\n",
            "5314/5314 [==============================] - 161s 30ms/step - loss: 0.1987 - accuracy: 0.9404 - val_loss: 0.1803 - val_accuracy: 0.9458\n",
            "Epoch 50/100\n",
            "5314/5314 [==============================] - ETA: 0s - loss: 0.1983 - accuracy: 0.9408\n",
            "Epoch 00050: val_accuracy did not improve from 0.94661\n",
            "5314/5314 [==============================] - 161s 30ms/step - loss: 0.1983 - accuracy: 0.9408 - val_loss: 0.1934 - val_accuracy: 0.9447\n",
            "Epoch 51/100\n",
            "5313/5314 [============================>.] - ETA: 0s - loss: 0.2006 - accuracy: 0.9397\n",
            "Epoch 00051: val_accuracy did not improve from 0.94661\n",
            "5314/5314 [==============================] - 161s 30ms/step - loss: 0.2006 - accuracy: 0.9397 - val_loss: 0.1875 - val_accuracy: 0.9434\n",
            "Epoch 52/100\n",
            "5314/5314 [==============================] - ETA: 0s - loss: 0.1993 - accuracy: 0.9397\n",
            "Epoch 00052: val_accuracy did not improve from 0.94661\n",
            "5314/5314 [==============================] - 161s 30ms/step - loss: 0.1993 - accuracy: 0.9397 - val_loss: 0.1899 - val_accuracy: 0.9431\n",
            "Epoch 53/100\n",
            "5313/5314 [============================>.] - ETA: 0s - loss: 0.2013 - accuracy: 0.9404\n",
            "Epoch 00053: val_accuracy improved from 0.94661 to 0.94825, saving model to /content/drive/My Drive/TESI/Models/model4_UPP_byclass.h5\n",
            "5314/5314 [==============================] - 164s 31ms/step - loss: 0.2013 - accuracy: 0.9404 - val_loss: 0.1769 - val_accuracy: 0.9483\n",
            "Epoch 54/100\n",
            "5314/5314 [==============================] - ETA: 0s - loss: 0.2011 - accuracy: 0.9400\n",
            "Epoch 00054: val_accuracy did not improve from 0.94825\n",
            "5314/5314 [==============================] - 162s 30ms/step - loss: 0.2011 - accuracy: 0.9400 - val_loss: 0.1782 - val_accuracy: 0.9466\n",
            "Epoch 55/100\n",
            "5314/5314 [==============================] - ETA: 0s - loss: 0.1974 - accuracy: 0.9407\n",
            "Epoch 00055: val_accuracy did not improve from 0.94825\n",
            "5314/5314 [==============================] - 162s 30ms/step - loss: 0.1974 - accuracy: 0.9407 - val_loss: 0.1804 - val_accuracy: 0.9475\n",
            "Epoch 56/100\n",
            "5313/5314 [============================>.] - ETA: 0s - loss: 0.2000 - accuracy: 0.9400\n",
            "Epoch 00056: val_accuracy did not improve from 0.94825\n",
            "5314/5314 [==============================] - 161s 30ms/step - loss: 0.2000 - accuracy: 0.9400 - val_loss: 0.1808 - val_accuracy: 0.9474\n",
            "Epoch 57/100\n",
            "5313/5314 [============================>.] - ETA: 0s - loss: 0.1979 - accuracy: 0.9415\n",
            "Epoch 00057: val_accuracy did not improve from 0.94825\n",
            "5314/5314 [==============================] - 162s 30ms/step - loss: 0.1979 - accuracy: 0.9415 - val_loss: 0.1811 - val_accuracy: 0.9469\n",
            "Epoch 58/100\n",
            "5314/5314 [==============================] - ETA: 0s - loss: 0.1994 - accuracy: 0.9397\n",
            "Epoch 00058: val_accuracy did not improve from 0.94825\n",
            "5314/5314 [==============================] - 162s 30ms/step - loss: 0.1994 - accuracy: 0.9397 - val_loss: 0.1824 - val_accuracy: 0.9465\n",
            "Epoch 59/100\n",
            "5313/5314 [============================>.] - ETA: 0s - loss: 0.1973 - accuracy: 0.9410\n",
            "Epoch 00059: val_accuracy did not improve from 0.94825\n",
            "5314/5314 [==============================] - 162s 31ms/step - loss: 0.1973 - accuracy: 0.9410 - val_loss: 0.1899 - val_accuracy: 0.9447\n",
            "Epoch 60/100\n",
            "5314/5314 [==============================] - ETA: 0s - loss: 0.1967 - accuracy: 0.9407\n",
            "Epoch 00060: val_accuracy did not improve from 0.94825\n",
            "5314/5314 [==============================] - 161s 30ms/step - loss: 0.1967 - accuracy: 0.9407 - val_loss: 0.1813 - val_accuracy: 0.9456\n",
            "Epoch 61/100\n",
            "5313/5314 [============================>.] - ETA: 0s - loss: 0.1977 - accuracy: 0.9402\n",
            "Epoch 00061: val_accuracy did not improve from 0.94825\n",
            "5314/5314 [==============================] - 162s 30ms/step - loss: 0.1978 - accuracy: 0.9402 - val_loss: 0.1913 - val_accuracy: 0.9442\n",
            "Epoch 62/100\n",
            "5314/5314 [==============================] - ETA: 0s - loss: 0.1972 - accuracy: 0.9412\n",
            "Epoch 00062: val_accuracy did not improve from 0.94825\n",
            "5314/5314 [==============================] - 162s 30ms/step - loss: 0.1972 - accuracy: 0.9412 - val_loss: 0.1786 - val_accuracy: 0.9476\n",
            "Epoch 63/100\n",
            "5313/5314 [============================>.] - ETA: 0s - loss: 0.1984 - accuracy: 0.9412\n",
            "Epoch 00063: val_accuracy did not improve from 0.94825\n",
            "Restoring model weights from the end of the best epoch.\n",
            "5314/5314 [==============================] - 161s 30ms/step - loss: 0.1985 - accuracy: 0.9411 - val_loss: 0.1817 - val_accuracy: 0.9467\n",
            "Epoch 00063: early stopping\n"
          ],
          "name": "stdout"
        }
      ]
    },
    {
      "cell_type": "code",
      "metadata": {
        "id": "XXHdIbq7Qv_I",
        "outputId": "6c1770c2-b358-46a0-fc02-e9c8274e414b",
        "colab": {
          "base_uri": "https://localhost:8080/",
          "height": 1000
        }
      },
      "source": [
        "plt.figure(figsize=(16,9))\n",
        "# summarize history for accuracy\n",
        "plt.plot(history1_UPP.history['accuracy'])\n",
        "plt.plot(history1_UPP.history['val_accuracy'])\n",
        "plt.title('Model 4 uppercase letters accuracy (with Data Augmentation)')\n",
        "plt.ylabel('accuracy')\n",
        "plt.xlabel('epoch')\n",
        "plt.legend(['train', 'validation'], loc='lower right')\n",
        "plt.show()\n",
        "plt.figure(figsize=(16,9))\n",
        "\n",
        "# summarize history for loss\n",
        "plt.plot(history1_UPP.history['loss'])\n",
        "plt.plot(history1_UPP.history['val_loss'])\n",
        "plt.title('Model 4 uppercase letters loss  (with Data Augmentation)')\n",
        "plt.ylabel('loss')\n",
        "plt.xlabel('epoch')\n",
        "plt.legend(['train', 'validation'], loc='upper right')\n",
        "plt.show()"
      ],
      "execution_count": null,
      "outputs": [
        {
          "output_type": "display_data",
          "data": {
            "image/png": "[encoded data removed]",
            "text/plain": [
              "<Figure size 1152x648 with 1 Axes>"
            ]
          },
          "metadata": {
            "tags": [],
            "needs_background": "light"
          }
        },
        {
          "output_type": "display_data",
          "data": {
            "image/png": "[encoded data removed]",
            "text/plain": [
              "<Figure size 1152x648 with 1 Axes>"
            ]
          },
          "metadata": {
            "tags": [],
            "needs_background": "light"
          }
        }
      ]
    },
    {
      "cell_type": "code",
      "metadata": {
        "id": "xMRCeTWLyimv"
      },
      "source": [
        "lab_test_UPP = tf.keras.utils.to_categorical(lab_test_UPP)"
      ],
      "execution_count": null,
      "outputs": []
    },
    {
      "cell_type": "code",
      "metadata": {
        "id": "9fI6RgfqG9tj",
        "outputId": "383a35aa-3585-4de7-c7b9-e320c4595696",
        "colab": {
          "base_uri": "https://localhost:8080/",
          "height": 35
        }
      },
      "source": [
        "evaluation = model.evaluate(valid_datagen.flow(im_test_UPP, lab_test_UPP))"
      ],
      "execution_count": null,
      "outputs": [
        {
          "output_type": "stream",
          "text": [
            "980/980 [==============================] - 17s 17ms/step - loss: 0.1786 - accuracy: 0.9491\n"
          ],
          "name": "stdout"
        }
      ]
    },
    {
      "cell_type": "code",
      "metadata": {
        "id": "kiUyKoTe9QQB"
      },
      "source": [
        ""
      ],
      "execution_count": null,
      "outputs": []
    }
  ]
}