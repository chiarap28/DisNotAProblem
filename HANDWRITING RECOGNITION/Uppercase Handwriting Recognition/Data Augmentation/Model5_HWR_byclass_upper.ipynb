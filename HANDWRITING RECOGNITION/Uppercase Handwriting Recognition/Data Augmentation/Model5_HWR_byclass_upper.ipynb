{
  "nbformat": 4,
  "nbformat_minor": 0,
  "metadata": {
    "colab": {
      "name": "Model5-HWR-byclass-upper.ipynb",
      "provenance": []
    },
    "kernelspec": {
      "name": "python3",
      "display_name": "Python 3"
    },
    "accelerator": "GPU"
  },
  "cells": [
    {
      "cell_type": "code",
      "metadata": {
        "id": "WaamsQlM5zPi",
        "outputId": "1fc44b34-564f-4fe2-d052-81ae79b9ef0b",
        "colab": {
          "base_uri": "https://localhost:8080/",
          "height": 212
        }
      },
      "source": [
        "pip install emnist"
      ],
      "execution_count": null,
      "outputs": [
        {
          "output_type": "stream",
          "text": [
            "Collecting emnist\n",
            "  Downloading https://files.pythonhosted.org/packages/d1/f4/78b24acbef9e8fe976dda700f16a3606f3b8363b015bc555f8050fbbd8ac/emnist-0.0-py3-none-any.whl\n",
            "Requirement already satisfied: numpy in /usr/local/lib/python3.6/dist-packages (from emnist) (1.18.5)\n",
            "Requirement already satisfied: requests in /usr/local/lib/python3.6/dist-packages (from emnist) (2.23.0)\n",
            "Requirement already satisfied: tqdm in /usr/local/lib/python3.6/dist-packages (from emnist) (4.41.1)\n",
            "Requirement already satisfied: urllib3!=1.25.0,!=1.25.1,<1.26,>=1.21.1 in /usr/local/lib/python3.6/dist-packages (from requests->emnist) (1.24.3)\n",
            "Requirement already satisfied: idna<3,>=2.5 in /usr/local/lib/python3.6/dist-packages (from requests->emnist) (2.10)\n",
            "Requirement already satisfied: chardet<4,>=3.0.2 in /usr/local/lib/python3.6/dist-packages (from requests->emnist) (3.0.4)\n",
            "Requirement already satisfied: certifi>=2017.4.17 in /usr/local/lib/python3.6/dist-packages (from requests->emnist) (2020.6.20)\n",
            "Installing collected packages: emnist\n",
            "Successfully installed emnist-0.0\n"
          ],
          "name": "stdout"
        }
      ]
    },
    {
      "cell_type": "code",
      "metadata": {
        "id": "yzz5cngH59he"
      },
      "source": [
        "import os\n",
        "import numpy as np\n",
        "import matplotlib.pyplot as plt\n",
        "\n",
        "from pathlib import Path\n",
        "from collections import Counter\n",
        "\n",
        "import tensorflow as tf\n",
        "from tensorflow import keras\n",
        "from tensorflow.keras import layers\n",
        "\n",
        "from emnist import list_datasets, extract_training_samples, extract_test_samples"
      ],
      "execution_count": null,
      "outputs": []
    },
    {
      "cell_type": "code",
      "metadata": {
        "id": "9w6qPaD56HaU",
        "outputId": "6efc48d3-b521-4ef1-c50f-26e5545a0e44",
        "colab": {
          "base_uri": "https://localhost:8080/",
          "height": 35
        }
      },
      "source": [
        "# load emnist dataset 'by class'\n",
        "\n",
        "images, labels = extract_training_samples('byclass')\n",
        "images_test, labels_test = extract_test_samples('byclass')"
      ],
      "execution_count": null,
      "outputs": [
        {
          "output_type": "stream",
          "text": [
            "Downloading emnist.zip: 536MB [00:03, 164MB/s]\n"
          ],
          "name": "stderr"
        }
      ]
    },
    {
      "cell_type": "code",
      "metadata": {
        "id": "CgkMrn-N6WJP"
      },
      "source": [
        "# find index of uppercase letters\n",
        "\n",
        "tr_index_UPP = [i for i in range(len(labels)) if labels[i]>=10 and labels[i] <= 35] \n",
        "ts_index_UPP = [i for i in range(len(labels_test)) if labels_test[i]>=10 and labels_test[i] <= 35]"
      ],
      "execution_count": null,
      "outputs": []
    },
    {
      "cell_type": "code",
      "metadata": {
        "id": "pjpAgQBL6hxs"
      },
      "source": [
        "# save images and labels in uppercase\n",
        "\n",
        "im_train_UPP = images[tr_index_UPP]\n",
        "im_test_UPP = images_test[ts_index_UPP]\n",
        "lab_train_UPP = labels[tr_index_UPP]\n",
        "lab_test_UPP = labels_test[ts_index_UPP]"
      ],
      "execution_count": null,
      "outputs": []
    },
    {
      "cell_type": "code",
      "metadata": {
        "id": "8_99A-YR6uY3"
      },
      "source": [
        "# reformulate labels for application of built-in function 'to_categorical'\n",
        "\n",
        "alf_UPP = {\n",
        "       10: 0,\n",
        "       11: 1,\n",
        "       12: 2,\n",
        "       13: 3,\n",
        "       14: 4,\n",
        "       15: 5,\n",
        "       16: 6,\n",
        "       17: 7,\n",
        "       18: 8,\n",
        "       19: 9,\n",
        "       20: 10,\n",
        "       21: 11,\n",
        "       22: 12,\n",
        "       23: 13,\n",
        "       24: 14,\n",
        "       25: 15,\n",
        "       26: 16,\n",
        "       27: 17,\n",
        "       28: 18,\n",
        "       29: 19,\n",
        "       30: 20,\n",
        "       31: 21,\n",
        "       32: 22,\n",
        "       33: 23,\n",
        "       34: 24,\n",
        "       35: 25,\n",
        "       }\n",
        "\n",
        "lab_train_UPP = [alf_UPP[label] for label in lab_train_UPP]\n",
        "lab_test_UPP = [alf_UPP[label] for label in lab_test_UPP]"
      ],
      "execution_count": null,
      "outputs": []
    },
    {
      "cell_type": "code",
      "metadata": {
        "id": "gXvoJ4X1_595",
        "outputId": "2139c136-5b8d-44f4-982f-405ecabc7dac",
        "colab": {
          "base_uri": "https://localhost:8080/",
          "height": 35
        }
      },
      "source": [
        "# check labels\n",
        "\n",
        "lab_train_UPP[0]"
      ],
      "execution_count": null,
      "outputs": [
        {
          "output_type": "execute_result",
          "data": {
            "text/plain": [
              "25"
            ]
          },
          "metadata": {
            "tags": []
          },
          "execution_count": 7
        }
      ]
    },
    {
      "cell_type": "code",
      "metadata": {
        "id": "kj8i4Tyw_72J"
      },
      "source": [
        "# define image width and height and batch size\n",
        "\n",
        "# Batch size for training and validation\n",
        "batch_size = 32\n",
        "\n",
        "# Desired image dimensions\n",
        "img_width = 28\n",
        "img_height = 28"
      ],
      "execution_count": null,
      "outputs": []
    },
    {
      "cell_type": "code",
      "metadata": {
        "id": "txkyxT3JDili"
      },
      "source": [
        "# split training set in traininig and validation set\n",
        "\n",
        "def split_data(images, labels, train_size=0.9, shuffle=True):\n",
        "    # 1. Get the total size of the dataset\n",
        "    size = len(images)\n",
        "    # 2. Make an indices array and shuffle it, if required\n",
        "    indices = np.arange(size)\n",
        "    if shuffle:\n",
        "        np.random.shuffle(indices)\n",
        "    # 3. Get the size of training samples\n",
        "    train_samples = int(size * train_size)\n",
        "    # 4. Split data into training and validation sets\n",
        "    x_train, y_train = images[indices[:train_samples]], labels[indices[:train_samples]]\n",
        "    x_valid, y_valid = images[indices[train_samples:]], labels[indices[train_samples:]]\n",
        "    return x_train, x_valid, y_train, y_valid"
      ],
      "execution_count": null,
      "outputs": []
    },
    {
      "cell_type": "code",
      "metadata": {
        "id": "1Vp7uXl8Hamn"
      },
      "source": [
        "# Splitting data into training and validation sets\n",
        "x_train_UPP, x_valid_UPP, y_train_UPP, y_valid_UPP = split_data(np.array(im_train_UPP), np.array(lab_train_UPP))"
      ],
      "execution_count": null,
      "outputs": []
    },
    {
      "cell_type": "code",
      "metadata": {
        "id": "DlmupJ5eIGDF"
      },
      "source": [
        "# to categorical \n",
        "\n",
        "y_train_UPP = tf.keras.utils.to_categorical(y_train_UPP, 26)\n",
        "y_valid_UPP = tf.keras.utils.to_categorical(y_valid_UPP, 26)"
      ],
      "execution_count": null,
      "outputs": []
    },
    {
      "cell_type": "code",
      "metadata": {
        "id": "ZvQPt1RXI-OV"
      },
      "source": [
        "# normalize training, validation and test data\n",
        "\n",
        "x_train_UPP = tf.keras.utils.normalize(x_train_UPP, axis=1)\n",
        "x_valid_UPP = tf.keras.utils.normalize(x_valid_UPP, axis=1)\n",
        "im_test_UPP = tf.keras.utils.normalize(im_test_UPP, axis=1)"
      ],
      "execution_count": null,
      "outputs": []
    },
    {
      "cell_type": "code",
      "metadata": {
        "id": "bZrNm_RsMvg4"
      },
      "source": [
        "# using data augmentation\n",
        "\n",
        "train_datagen = tf.keras.preprocessing.image.ImageDataGenerator(featurewise_center=True,\n",
        "                                                          featurewise_std_normalization=True,\n",
        "                                                          rotation_range=20,\n",
        "                                                          width_shift_range=0.2,\n",
        "                                                          height_shift_range=0.2,\n",
        "                                                          horizontal_flip=True)\n",
        "valid_datagen = tf.keras.preprocessing.image.ImageDataGenerator(featurewise_center=True,\n",
        "                                                          featurewise_std_normalization=True,\n",
        "                                                          rotation_range=20,\n",
        "                                                          width_shift_range=0.2,\n",
        "                                                          height_shift_range=0.2,\n",
        "                                                          horizontal_flip=True)\n",
        "\n",
        "x_train_UPP = np.reshape(x_train_UPP, (len(x_train_UPP),img_width, img_width, 1))\n",
        "x_valid_UPP = np.reshape(x_valid_UPP, (len(x_valid_UPP),img_width, img_width, 1))\n",
        "im_test_UPP = np.reshape(im_test_UPP, (len(im_test_UPP), img_width, img_height, 1))\n",
        "\n",
        "train_datagen.fit(x_train_UPP)\n",
        "valid_datagen.fit(x_valid_UPP)"
      ],
      "execution_count": null,
      "outputs": []
    },
    {
      "cell_type": "code",
      "metadata": {
        "id": "xoml2gmkNnLr"
      },
      "source": [
        "# build model\n",
        "\n",
        "def build_model():\n",
        "    # Inputs to the model\n",
        "    input_img = layers.Input(\n",
        "        shape=(img_width, img_height, 1), name=\"image\", dtype=\"float32\"\n",
        "    )\n",
        "\n",
        "    # Output layer\n",
        "    x = layers.Dense(units=256, activation='sigmoid', name='dense_1')(input_img)\n",
        "    x = layers.Dense(units=128, activation=\"sigmoid\", name=\"dense2\")(x)\n",
        "    x = layers.Dense(units=64, activation=\"sigmoid\", name=\"dense3\")(x)\n",
        "    x = layers.Flatten()(x)\n",
        "    output = layers.Dense(units=26, activation=\"softmax\", name=\"dense4\")(x)\n",
        "\n",
        "    # Define the model\n",
        "    model = keras.models.Model(\n",
        "        inputs=input_img, outputs=output, name=\"ocr_model_v1\"\n",
        "    )\n",
        "    # Optimizer\n",
        "    opt = keras.optimizers.Adam()\n",
        "    # Compile the model and return\n",
        "    model.compile(loss='categorical_crossentropy',optimizer=opt, metrics=['accuracy'])\n",
        "\n",
        "    return model"
      ],
      "execution_count": null,
      "outputs": []
    },
    {
      "cell_type": "code",
      "metadata": {
        "id": "bCVkysqePH29",
        "outputId": "9dc7a724-cc57-4b56-f499-6e1ee095198c",
        "colab": {
          "base_uri": "https://localhost:8080/",
          "height": 372
        }
      },
      "source": [
        "model = build_model()\n",
        "model.summary()"
      ],
      "execution_count": null,
      "outputs": [
        {
          "output_type": "stream",
          "text": [
            "Model: \"ocr_model_v1\"\n",
            "_________________________________________________________________\n",
            "Layer (type)                 Output Shape              Param #   \n",
            "=================================================================\n",
            "image (InputLayer)           [(None, 28, 28, 1)]       0         \n",
            "_________________________________________________________________\n",
            "dense_1 (Dense)              (None, 28, 28, 256)       512       \n",
            "_________________________________________________________________\n",
            "dense2 (Dense)               (None, 28, 28, 128)       32896     \n",
            "_________________________________________________________________\n",
            "dense3 (Dense)               (None, 28, 28, 64)        8256      \n",
            "_________________________________________________________________\n",
            "flatten_1 (Flatten)          (None, 50176)             0         \n",
            "_________________________________________________________________\n",
            "dense4 (Dense)               (None, 26)                1304602   \n",
            "=================================================================\n",
            "Total params: 1,346,266\n",
            "Trainable params: 1,346,266\n",
            "Non-trainable params: 0\n",
            "_________________________________________________________________\n"
          ],
          "name": "stdout"
        }
      ]
    },
    {
      "cell_type": "code",
      "metadata": {
        "id": "v8YiuOWiPKKM",
        "outputId": "4e8c2019-b440-47f5-e0d5-ad3353f1270c",
        "colab": {
          "base_uri": "https://localhost:8080/",
          "height": 564
        }
      },
      "source": [
        "from keras.utils import plot_model\n",
        "plot_model(model, to_file='/content/drive/My Drive/TESI/Models/Immagini/model5_byclass_upper.png')"
      ],
      "execution_count": null,
      "outputs": [
        {
          "output_type": "execute_result",
          "data": {
            "image/png": "[encoded data removed]",
            "text/plain": [
              "<IPython.core.display.Image object>"
            ]
          },
          "metadata": {
            "tags": []
          },
          "execution_count": 28
        }
      ]
    },
    {
      "cell_type": "code",
      "metadata": {
        "id": "Bupp_Vi9PtBO"
      },
      "source": [
        "epochs = 100\n",
        "early_stopping_patience = 10\n",
        "# Add early stopping\n",
        "early_stopping = keras.callbacks.EarlyStopping(\n",
        "    monitor=\"val_accuracy\", patience=early_stopping_patience, restore_best_weights=True, verbose=1\n",
        ")\n",
        "\n",
        "# Model CheckPoint\n",
        "cp = keras.callbacks.ModelCheckpoint('/content/drive/My Drive/TESI/Models/model5_UPP_byclass.h5',\n",
        "                                     verbose=1,\n",
        "                                     monitor='val_accuracy',\n",
        "                                     save_best_only=True,\n",
        "                                     mode='max')"
      ],
      "execution_count": null,
      "outputs": []
    },
    {
      "cell_type": "code",
      "metadata": {
        "id": "wU2qe4yJQVK5",
        "outputId": "42447c2c-090f-4c35-df59-7804f53f6610",
        "colab": {
          "base_uri": "https://localhost:8080/",
          "height": 1000
        }
      },
      "source": [
        "# fit model\n",
        "history1_UPP = model.fit(train_datagen.flow(x_train_UPP,y_train_UPP, batch_size=batch_size),\n",
        "                    validation_data=valid_datagen.flow(x_valid_UPP,y_valid_UPP, batch_size=batch_size),\n",
        "                    steps_per_epoch=len(x_train_UPP)//batch_size,\n",
        "                    validation_steps=len(x_valid_UPP)//batch_size,\n",
        "                    epochs=epochs,\n",
        "                    verbose=1,\n",
        "                    callbacks=[cp, early_stopping])"
      ],
      "execution_count": null,
      "outputs": [
        {
          "output_type": "stream",
          "text": [
            "Epoch 1/100\n",
            "5311/5314 [============================>.] - ETA: 0s - loss: 2.7414 - accuracy: 0.2612\n",
            "Epoch 00001: val_accuracy improved from -inf to 0.39121, saving model to /content/drive/My Drive/TESI/Models/model5_UPP_byclass.h5\n",
            "5314/5314 [==============================] - 70s 13ms/step - loss: 2.7411 - accuracy: 0.2612 - val_loss: 2.1349 - val_accuracy: 0.3912\n",
            "Epoch 2/100\n",
            "5313/5314 [============================>.] - ETA: 0s - loss: 2.0416 - accuracy: 0.4156\n",
            "Epoch 00002: val_accuracy improved from 0.39121 to 0.43146, saving model to /content/drive/My Drive/TESI/Models/model5_UPP_byclass.h5\n",
            "5314/5314 [==============================] - 71s 13ms/step - loss: 2.0417 - accuracy: 0.4156 - val_loss: 1.9775 - val_accuracy: 0.4315\n",
            "Epoch 3/100\n",
            "5310/5314 [============================>.] - ETA: 0s - loss: 1.9782 - accuracy: 0.4316\n",
            "Epoch 00003: val_accuracy improved from 0.43146 to 0.43618, saving model to /content/drive/My Drive/TESI/Models/model5_UPP_byclass.h5\n",
            "5314/5314 [==============================] - 70s 13ms/step - loss: 1.9782 - accuracy: 0.4316 - val_loss: 1.9394 - val_accuracy: 0.4362\n",
            "Epoch 4/100\n",
            "5314/5314 [==============================] - ETA: 0s - loss: 1.9429 - accuracy: 0.4391\n",
            "Epoch 00004: val_accuracy improved from 0.43618 to 0.44608, saving model to /content/drive/My Drive/TESI/Models/model5_UPP_byclass.h5\n",
            "5314/5314 [==============================] - 70s 13ms/step - loss: 1.9429 - accuracy: 0.4391 - val_loss: 1.9265 - val_accuracy: 0.4461\n",
            "Epoch 5/100\n",
            "5313/5314 [============================>.] - ETA: 0s - loss: 1.9099 - accuracy: 0.4476\n",
            "Epoch 00005: val_accuracy improved from 0.44608 to 0.45212, saving model to /content/drive/My Drive/TESI/Models/model5_UPP_byclass.h5\n",
            "5314/5314 [==============================] - 70s 13ms/step - loss: 1.9099 - accuracy: 0.4476 - val_loss: 1.8904 - val_accuracy: 0.4521\n",
            "Epoch 6/100\n",
            "5311/5314 [============================>.] - ETA: 0s - loss: 1.8876 - accuracy: 0.4536\n",
            "Epoch 00006: val_accuracy improved from 0.45212 to 0.46351, saving model to /content/drive/My Drive/TESI/Models/model5_UPP_byclass.h5\n",
            "5314/5314 [==============================] - 71s 13ms/step - loss: 1.8876 - accuracy: 0.4536 - val_loss: 1.8517 - val_accuracy: 0.4635\n",
            "Epoch 7/100\n",
            "5312/5314 [============================>.] - ETA: 0s - loss: 1.8718 - accuracy: 0.4569\n",
            "Epoch 00007: val_accuracy improved from 0.46351 to 0.46483, saving model to /content/drive/My Drive/TESI/Models/model5_UPP_byclass.h5\n",
            "5314/5314 [==============================] - 70s 13ms/step - loss: 1.8718 - accuracy: 0.4569 - val_loss: 1.8573 - val_accuracy: 0.4648\n",
            "Epoch 8/100\n",
            "5314/5314 [==============================] - ETA: 0s - loss: 1.8539 - accuracy: 0.4634\n",
            "Epoch 00008: val_accuracy did not improve from 0.46483\n",
            "5314/5314 [==============================] - 69s 13ms/step - loss: 1.8539 - accuracy: 0.4634 - val_loss: 1.8548 - val_accuracy: 0.4616\n",
            "Epoch 9/100\n",
            "5312/5314 [============================>.] - ETA: 0s - loss: 1.8407 - accuracy: 0.4683\n",
            "Epoch 00009: val_accuracy did not improve from 0.46483\n",
            "5314/5314 [==============================] - 68s 13ms/step - loss: 1.8408 - accuracy: 0.4683 - val_loss: 1.8498 - val_accuracy: 0.4599\n",
            "Epoch 10/100\n",
            "5313/5314 [============================>.] - ETA: 0s - loss: 1.8270 - accuracy: 0.4724\n",
            "Epoch 00010: val_accuracy improved from 0.46483 to 0.48204, saving model to /content/drive/My Drive/TESI/Models/model5_UPP_byclass.h5\n",
            "5314/5314 [==============================] - 70s 13ms/step - loss: 1.8270 - accuracy: 0.4724 - val_loss: 1.8120 - val_accuracy: 0.4820\n",
            "Epoch 11/100\n",
            "5314/5314 [==============================] - ETA: 0s - loss: 1.7991 - accuracy: 0.4806\n",
            "Epoch 00011: val_accuracy improved from 0.48204 to 0.48517, saving model to /content/drive/My Drive/TESI/Models/model5_UPP_byclass.h5\n",
            "5314/5314 [==============================] - 70s 13ms/step - loss: 1.7991 - accuracy: 0.4806 - val_loss: 1.7830 - val_accuracy: 0.4852\n",
            "Epoch 12/100\n",
            "5312/5314 [============================>.] - ETA: 0s - loss: 1.7773 - accuracy: 0.4863\n",
            "Epoch 00012: val_accuracy did not improve from 0.48517\n",
            "5314/5314 [==============================] - 69s 13ms/step - loss: 1.7774 - accuracy: 0.4863 - val_loss: 1.7714 - val_accuracy: 0.4836\n",
            "Epoch 13/100\n",
            "5311/5314 [============================>.] - ETA: 0s - loss: 1.7710 - accuracy: 0.4874\n",
            "Epoch 00013: val_accuracy improved from 0.48517 to 0.49486, saving model to /content/drive/My Drive/TESI/Models/model5_UPP_byclass.h5\n",
            "5314/5314 [==============================] - 70s 13ms/step - loss: 1.7710 - accuracy: 0.4874 - val_loss: 1.7648 - val_accuracy: 0.4949\n",
            "Epoch 14/100\n",
            "5314/5314 [==============================] - ETA: 0s - loss: 1.7546 - accuracy: 0.4927\n",
            "Epoch 00014: val_accuracy improved from 0.49486 to 0.50085, saving model to /content/drive/My Drive/TESI/Models/model5_UPP_byclass.h5\n",
            "5314/5314 [==============================] - 70s 13ms/step - loss: 1.7546 - accuracy: 0.4927 - val_loss: 1.7470 - val_accuracy: 0.5008\n",
            "Epoch 15/100\n",
            "5311/5314 [============================>.] - ETA: 0s - loss: 1.7499 - accuracy: 0.4942\n",
            "Epoch 00015: val_accuracy did not improve from 0.50085\n",
            "5314/5314 [==============================] - 69s 13ms/step - loss: 1.7499 - accuracy: 0.4941 - val_loss: 1.7269 - val_accuracy: 0.4992\n",
            "Epoch 16/100\n",
            "5310/5314 [============================>.] - ETA: 0s - loss: 1.7458 - accuracy: 0.4956\n",
            "Epoch 00016: val_accuracy did not improve from 0.50085\n",
            "5314/5314 [==============================] - 69s 13ms/step - loss: 1.7458 - accuracy: 0.4956 - val_loss: 1.7278 - val_accuracy: 0.5006\n",
            "Epoch 17/100\n",
            "5312/5314 [============================>.] - ETA: 0s - loss: 1.7394 - accuracy: 0.4971\n",
            "Epoch 00017: val_accuracy did not improve from 0.50085\n",
            "5314/5314 [==============================] - 69s 13ms/step - loss: 1.7394 - accuracy: 0.4971 - val_loss: 1.7752 - val_accuracy: 0.4908\n",
            "Epoch 18/100\n",
            "5314/5314 [==============================] - ETA: 0s - loss: 1.7368 - accuracy: 0.4976\n",
            "Epoch 00018: val_accuracy improved from 0.50085 to 0.50307, saving model to /content/drive/My Drive/TESI/Models/model5_UPP_byclass.h5\n",
            "5314/5314 [==============================] - 70s 13ms/step - loss: 1.7368 - accuracy: 0.4976 - val_loss: 1.7218 - val_accuracy: 0.5031\n",
            "Epoch 19/100\n",
            "5311/5314 [============================>.] - ETA: 0s - loss: 1.7294 - accuracy: 0.5000\n",
            "Epoch 00019: val_accuracy did not improve from 0.50307\n",
            "5314/5314 [==============================] - 69s 13ms/step - loss: 1.7295 - accuracy: 0.4999 - val_loss: 1.7266 - val_accuracy: 0.4950\n",
            "Epoch 20/100\n",
            "5310/5314 [============================>.] - ETA: 0s - loss: 1.7267 - accuracy: 0.4996\n",
            "Epoch 00020: val_accuracy did not improve from 0.50307\n",
            "5314/5314 [==============================] - 69s 13ms/step - loss: 1.7269 - accuracy: 0.4996 - val_loss: 1.7417 - val_accuracy: 0.4967\n",
            "Epoch 21/100\n",
            "5313/5314 [============================>.] - ETA: 0s - loss: 1.7247 - accuracy: 0.5015\n",
            "Epoch 00021: val_accuracy did not improve from 0.50307\n",
            "5314/5314 [==============================] - 69s 13ms/step - loss: 1.7247 - accuracy: 0.5015 - val_loss: 1.7274 - val_accuracy: 0.4958\n",
            "Epoch 22/100\n",
            "5310/5314 [============================>.] - ETA: 0s - loss: 1.7219 - accuracy: 0.5003\n",
            "Epoch 00022: val_accuracy did not improve from 0.50307\n",
            "5314/5314 [==============================] - 69s 13ms/step - loss: 1.7219 - accuracy: 0.5003 - val_loss: 1.7302 - val_accuracy: 0.4950\n",
            "Epoch 23/100\n",
            "5310/5314 [============================>.] - ETA: 0s - loss: 1.7215 - accuracy: 0.5014\n",
            "Epoch 00023: val_accuracy improved from 0.50307 to 0.50360, saving model to /content/drive/My Drive/TESI/Models/model5_UPP_byclass.h5\n",
            "5314/5314 [==============================] - 70s 13ms/step - loss: 1.7215 - accuracy: 0.5014 - val_loss: 1.7194 - val_accuracy: 0.5036\n",
            "Epoch 24/100\n",
            "5311/5314 [============================>.] - ETA: 0s - loss: 1.7203 - accuracy: 0.5031\n",
            "Epoch 00024: val_accuracy improved from 0.50360 to 0.50456, saving model to /content/drive/My Drive/TESI/Models/model5_UPP_byclass.h5\n",
            "5314/5314 [==============================] - 71s 13ms/step - loss: 1.7202 - accuracy: 0.5031 - val_loss: 1.7160 - val_accuracy: 0.5046\n",
            "Epoch 25/100\n",
            "5310/5314 [============================>.] - ETA: 0s - loss: 1.7140 - accuracy: 0.5040\n",
            "Epoch 00025: val_accuracy did not improve from 0.50456\n",
            "5314/5314 [==============================] - 69s 13ms/step - loss: 1.7140 - accuracy: 0.5040 - val_loss: 1.7286 - val_accuracy: 0.5028\n",
            "Epoch 26/100\n",
            "5311/5314 [============================>.] - ETA: 0s - loss: 1.7113 - accuracy: 0.5044\n",
            "Epoch 00026: val_accuracy did not improve from 0.50456\n",
            "5314/5314 [==============================] - 69s 13ms/step - loss: 1.7112 - accuracy: 0.5044 - val_loss: 1.7384 - val_accuracy: 0.4952\n",
            "Epoch 27/100\n",
            "5310/5314 [============================>.] - ETA: 0s - loss: 1.7119 - accuracy: 0.5059\n",
            "Epoch 00027: val_accuracy did not improve from 0.50456\n",
            "5314/5314 [==============================] - 69s 13ms/step - loss: 1.7118 - accuracy: 0.5059 - val_loss: 1.7258 - val_accuracy: 0.4953\n",
            "Epoch 28/100\n",
            "5314/5314 [==============================] - ETA: 0s - loss: 1.7088 - accuracy: 0.5053\n",
            "Epoch 00028: val_accuracy improved from 0.50456 to 0.50996, saving model to /content/drive/My Drive/TESI/Models/model5_UPP_byclass.h5\n",
            "5314/5314 [==============================] - 72s 13ms/step - loss: 1.7088 - accuracy: 0.5053 - val_loss: 1.7055 - val_accuracy: 0.5100\n",
            "Epoch 29/100\n",
            "5312/5314 [============================>.] - ETA: 0s - loss: 1.7098 - accuracy: 0.5043\n",
            "Epoch 00029: val_accuracy did not improve from 0.50996\n",
            "5314/5314 [==============================] - 69s 13ms/step - loss: 1.7098 - accuracy: 0.5044 - val_loss: 1.7003 - val_accuracy: 0.5077\n",
            "Epoch 30/100\n",
            "5313/5314 [============================>.] - ETA: 0s - loss: 1.7052 - accuracy: 0.5069\n",
            "Epoch 00030: val_accuracy did not improve from 0.50996\n",
            "5314/5314 [==============================] - 71s 13ms/step - loss: 1.7051 - accuracy: 0.5069 - val_loss: 1.7105 - val_accuracy: 0.5071\n",
            "Epoch 31/100\n",
            "5311/5314 [============================>.] - ETA: 0s - loss: 1.7048 - accuracy: 0.5062\n",
            "Epoch 00031: val_accuracy did not improve from 0.50996\n",
            "5314/5314 [==============================] - 70s 13ms/step - loss: 1.7047 - accuracy: 0.5063 - val_loss: 1.7127 - val_accuracy: 0.5081\n",
            "Epoch 32/100\n",
            "5311/5314 [============================>.] - ETA: 0s - loss: 1.7007 - accuracy: 0.5086\n",
            "Epoch 00032: val_accuracy improved from 0.50996 to 0.51033, saving model to /content/drive/My Drive/TESI/Models/model5_UPP_byclass.h5\n",
            "5314/5314 [==============================] - 72s 13ms/step - loss: 1.7006 - accuracy: 0.5086 - val_loss: 1.6965 - val_accuracy: 0.5103\n",
            "Epoch 33/100\n",
            "5312/5314 [============================>.] - ETA: 0s - loss: 1.7022 - accuracy: 0.5076\n",
            "Epoch 00033: val_accuracy did not improve from 0.51033\n",
            "5314/5314 [==============================] - 71s 13ms/step - loss: 1.7021 - accuracy: 0.5076 - val_loss: 1.6961 - val_accuracy: 0.5098\n",
            "Epoch 34/100\n",
            "5314/5314 [==============================] - ETA: 0s - loss: 1.7010 - accuracy: 0.5081\n",
            "Epoch 00034: val_accuracy improved from 0.51033 to 0.51324, saving model to /content/drive/My Drive/TESI/Models/model5_UPP_byclass.h5\n",
            "5314/5314 [==============================] - 72s 13ms/step - loss: 1.7010 - accuracy: 0.5081 - val_loss: 1.6884 - val_accuracy: 0.5132\n",
            "Epoch 35/100\n",
            "5314/5314 [==============================] - ETA: 0s - loss: 1.6999 - accuracy: 0.5071\n",
            "Epoch 00035: val_accuracy did not improve from 0.51324\n",
            "5314/5314 [==============================] - 70s 13ms/step - loss: 1.6999 - accuracy: 0.5071 - val_loss: 1.6831 - val_accuracy: 0.5098\n",
            "Epoch 36/100\n",
            "5312/5314 [============================>.] - ETA: 0s - loss: 1.7014 - accuracy: 0.5088\n",
            "Epoch 00036: val_accuracy improved from 0.51324 to 0.51377, saving model to /content/drive/My Drive/TESI/Models/model5_UPP_byclass.h5\n",
            "5314/5314 [==============================] - 71s 13ms/step - loss: 1.7013 - accuracy: 0.5088 - val_loss: 1.6883 - val_accuracy: 0.5138\n",
            "Epoch 37/100\n",
            "5311/5314 [============================>.] - ETA: 0s - loss: 1.6938 - accuracy: 0.5072\n",
            "Epoch 00037: val_accuracy did not improve from 0.51377\n",
            "5314/5314 [==============================] - 70s 13ms/step - loss: 1.6936 - accuracy: 0.5072 - val_loss: 1.6845 - val_accuracy: 0.5120\n",
            "Epoch 38/100\n",
            "5313/5314 [============================>.] - ETA: 0s - loss: 1.6988 - accuracy: 0.5088\n",
            "Epoch 00038: val_accuracy did not improve from 0.51377\n",
            "5314/5314 [==============================] - 70s 13ms/step - loss: 1.6988 - accuracy: 0.5088 - val_loss: 1.7070 - val_accuracy: 0.5087\n",
            "Epoch 39/100\n",
            "5311/5314 [============================>.] - ETA: 0s - loss: 1.6943 - accuracy: 0.5104\n",
            "Epoch 00039: val_accuracy did not improve from 0.51377\n",
            "5314/5314 [==============================] - 70s 13ms/step - loss: 1.6943 - accuracy: 0.5103 - val_loss: 1.7147 - val_accuracy: 0.5020\n",
            "Epoch 40/100\n",
            "5311/5314 [============================>.] - ETA: 0s - loss: 1.6920 - accuracy: 0.5088\n",
            "Epoch 00040: val_accuracy improved from 0.51377 to 0.51515, saving model to /content/drive/My Drive/TESI/Models/model5_UPP_byclass.h5\n",
            "5314/5314 [==============================] - 71s 13ms/step - loss: 1.6921 - accuracy: 0.5088 - val_loss: 1.6746 - val_accuracy: 0.5151\n",
            "Epoch 41/100\n",
            "5314/5314 [==============================] - ETA: 0s - loss: 1.6928 - accuracy: 0.5092\n",
            "Epoch 00041: val_accuracy did not improve from 0.51515\n",
            "5314/5314 [==============================] - 70s 13ms/step - loss: 1.6928 - accuracy: 0.5092 - val_loss: 1.6955 - val_accuracy: 0.5105\n",
            "Epoch 42/100\n",
            "5313/5314 [============================>.] - ETA: 0s - loss: 1.6946 - accuracy: 0.5105\n",
            "Epoch 00042: val_accuracy improved from 0.51515 to 0.51859, saving model to /content/drive/My Drive/TESI/Models/model5_UPP_byclass.h5\n",
            "5314/5314 [==============================] - 71s 13ms/step - loss: 1.6947 - accuracy: 0.5104 - val_loss: 1.6773 - val_accuracy: 0.5186\n",
            "Epoch 43/100\n",
            "5312/5314 [============================>.] - ETA: 0s - loss: 1.6907 - accuracy: 0.5103\n",
            "Epoch 00043: val_accuracy did not improve from 0.51859\n",
            "5314/5314 [==============================] - 69s 13ms/step - loss: 1.6907 - accuracy: 0.5103 - val_loss: 1.7025 - val_accuracy: 0.5121\n",
            "Epoch 44/100\n",
            "5311/5314 [============================>.] - ETA: 0s - loss: 1.6921 - accuracy: 0.5100\n",
            "Epoch 00044: val_accuracy did not improve from 0.51859\n",
            "5314/5314 [==============================] - 69s 13ms/step - loss: 1.6921 - accuracy: 0.5099 - val_loss: 1.7247 - val_accuracy: 0.4997\n",
            "Epoch 45/100\n",
            "5312/5314 [============================>.] - ETA: 0s - loss: 1.6903 - accuracy: 0.5111\n",
            "Epoch 00045: val_accuracy did not improve from 0.51859\n",
            "5314/5314 [==============================] - 69s 13ms/step - loss: 1.6902 - accuracy: 0.5111 - val_loss: 1.7088 - val_accuracy: 0.5038\n",
            "Epoch 46/100\n",
            "5312/5314 [============================>.] - ETA: 0s - loss: 1.6894 - accuracy: 0.5102\n",
            "Epoch 00046: val_accuracy did not improve from 0.51859\n",
            "5314/5314 [==============================] - 70s 13ms/step - loss: 1.6894 - accuracy: 0.5102 - val_loss: 1.6887 - val_accuracy: 0.5072\n",
            "Epoch 47/100\n",
            "5312/5314 [============================>.] - ETA: 0s - loss: 1.6900 - accuracy: 0.5107\n",
            "Epoch 00047: val_accuracy did not improve from 0.51859\n",
            "5314/5314 [==============================] - 70s 13ms/step - loss: 1.6899 - accuracy: 0.5107 - val_loss: 1.6773 - val_accuracy: 0.5122\n",
            "Epoch 48/100\n",
            "5311/5314 [============================>.] - ETA: 0s - loss: 1.6877 - accuracy: 0.5117\n",
            "Epoch 00048: val_accuracy did not improve from 0.51859\n",
            "5314/5314 [==============================] - 70s 13ms/step - loss: 1.6875 - accuracy: 0.5118 - val_loss: 1.6764 - val_accuracy: 0.5108\n",
            "Epoch 49/100\n",
            "5310/5314 [============================>.] - ETA: 0s - loss: 1.6845 - accuracy: 0.5123\n",
            "Epoch 00049: val_accuracy did not improve from 0.51859\n",
            "5314/5314 [==============================] - 70s 13ms/step - loss: 1.6847 - accuracy: 0.5123 - val_loss: 1.6982 - val_accuracy: 0.5114\n",
            "Epoch 50/100\n",
            "5313/5314 [============================>.] - ETA: 0s - loss: 1.6865 - accuracy: 0.5127\n",
            "Epoch 00050: val_accuracy did not improve from 0.51859\n",
            "5314/5314 [==============================] - 70s 13ms/step - loss: 1.6864 - accuracy: 0.5127 - val_loss: 1.6780 - val_accuracy: 0.5112\n",
            "Epoch 51/100\n",
            "5312/5314 [============================>.] - ETA: 0s - loss: 1.6799 - accuracy: 0.5139\n",
            "Epoch 00051: val_accuracy did not improve from 0.51859\n",
            "5314/5314 [==============================] - 70s 13ms/step - loss: 1.6799 - accuracy: 0.5139 - val_loss: 1.6897 - val_accuracy: 0.5100\n",
            "Epoch 52/100\n",
            "5311/5314 [============================>.] - ETA: 0s - loss: 1.6834 - accuracy: 0.5132\n",
            "Epoch 00052: val_accuracy did not improve from 0.51859\n",
            "Restoring model weights from the end of the best epoch.\n",
            "5314/5314 [==============================] - 70s 13ms/step - loss: 1.6834 - accuracy: 0.5132 - val_loss: 1.6842 - val_accuracy: 0.5128\n",
            "Epoch 00052: early stopping\n"
          ],
          "name": "stdout"
        }
      ]
    },
    {
      "cell_type": "code",
      "metadata": {
        "id": "XXHdIbq7Qv_I",
        "outputId": "b2ffe29d-8c9d-4268-b6ed-3dde052a2ecf",
        "colab": {
          "base_uri": "https://localhost:8080/",
          "height": 868
        }
      },
      "source": [
        "plt.figure(figsize=(16,9))\n",
        "# summarize history for accuracy\n",
        "plt.plot(history1_UPP.history['accuracy'])\n",
        "plt.plot(history1_UPP.history['val_accuracy'])\n",
        "plt.title('Model 5 uppercase letters accuracy (with Data Augmentation)')\n",
        "plt.ylabel('accuracy')\n",
        "plt.xlabel('epoch')\n",
        "plt.legend(['train', 'validation'], loc='lower right')\n",
        "plt.show()\n",
        "plt.figure(figsize=(16,9))\n",
        "\n",
        "# summarize history for loss\n",
        "plt.plot(history1_UPP.history['loss'])\n",
        "plt.plot(history1_UPP.history['val_loss'])\n",
        "plt.title('Model 5 uppercase letters loss  (with Data Augmentation)')\n",
        "plt.ylabel('loss')\n",
        "plt.xlabel('epoch')\n",
        "plt.legend(['train', 'validation'], loc='upper right')\n",
        "plt.show()"
      ],
      "execution_count": null,
      "outputs": [
        {
          "output_type": "display_data",
          "data": {
            "image/png": "[encoded data removed]",
            "text/plain": [
              "<Figure size 1152x648 with 1 Axes>"
            ]
          },
          "metadata": {
            "tags": [],
            "needs_background": "light"
          }
        },
        {
          "output_type": "display_data",
          "data": {
            "image/png": "[encoded data removed]",
            "text/plain": [
              "<Figure size 1152x648 with 1 Axes>"
            ]
          },
          "metadata": {
            "tags": [],
            "needs_background": "light"
          }
        }
      ]
    },
    {
      "cell_type": "code",
      "metadata": {
        "id": "xMRCeTWLyimv"
      },
      "source": [
        "lab_test_UPP = tf.keras.utils.to_categorical(lab_test_UPP)"
      ],
      "execution_count": null,
      "outputs": []
    },
    {
      "cell_type": "code",
      "metadata": {
        "id": "9fI6RgfqG9tj",
        "outputId": "483ce797-98fe-4b23-e4b6-ec688ed967c5",
        "colab": {
          "base_uri": "https://localhost:8080/",
          "height": 35
        }
      },
      "source": [
        "evaluation = model.evaluate(valid_datagen.flow(im_test_UPP, lab_test_UPP))"
      ],
      "execution_count": null,
      "outputs": [
        {
          "output_type": "stream",
          "text": [
            "980/980 [==============================] - 10s 10ms/step - loss: 1.6772 - accuracy: 0.5156\n"
          ],
          "name": "stdout"
        }
      ]
    },
    {
      "cell_type": "code",
      "metadata": {
        "id": "kiUyKoTe9QQB"
      },
      "source": [
        ""
      ],
      "execution_count": null,
      "outputs": []
    }
  ]
}