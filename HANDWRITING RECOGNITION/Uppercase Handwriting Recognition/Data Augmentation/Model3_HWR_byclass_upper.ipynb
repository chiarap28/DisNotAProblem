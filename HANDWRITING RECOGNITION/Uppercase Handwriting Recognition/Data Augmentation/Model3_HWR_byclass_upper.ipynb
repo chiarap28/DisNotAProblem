{
  "nbformat": 4,
  "nbformat_minor": 0,
  "metadata": {
    "colab": {
      "name": "Model3-HWR-byclass-upper.ipynb",
      "provenance": []
    },
    "kernelspec": {
      "name": "python3",
      "display_name": "Python 3"
    },
    "accelerator": "GPU"
  },
  "cells": [
    {
      "cell_type": "code",
      "metadata": {
        "id": "WaamsQlM5zPi",
        "outputId": "d5afdc60-88e5-4c4a-9313-794a43427ed7",
        "colab": {
          "base_uri": "https://localhost:8080/",
          "height": 212
        }
      },
      "source": [
        "pip install emnist"
      ],
      "execution_count": null,
      "outputs": [
        {
          "output_type": "stream",
          "text": [
            "Collecting emnist\n",
            "  Downloading https://files.pythonhosted.org/packages/d1/f4/78b24acbef9e8fe976dda700f16a3606f3b8363b015bc555f8050fbbd8ac/emnist-0.0-py3-none-any.whl\n",
            "Requirement already satisfied: requests in /usr/local/lib/python3.6/dist-packages (from emnist) (2.23.0)\n",
            "Requirement already satisfied: tqdm in /usr/local/lib/python3.6/dist-packages (from emnist) (4.41.1)\n",
            "Requirement already satisfied: numpy in /usr/local/lib/python3.6/dist-packages (from emnist) (1.18.5)\n",
            "Requirement already satisfied: idna<3,>=2.5 in /usr/local/lib/python3.6/dist-packages (from requests->emnist) (2.10)\n",
            "Requirement already satisfied: certifi>=2017.4.17 in /usr/local/lib/python3.6/dist-packages (from requests->emnist) (2020.6.20)\n",
            "Requirement already satisfied: chardet<4,>=3.0.2 in /usr/local/lib/python3.6/dist-packages (from requests->emnist) (3.0.4)\n",
            "Requirement already satisfied: urllib3!=1.25.0,!=1.25.1,<1.26,>=1.21.1 in /usr/local/lib/python3.6/dist-packages (from requests->emnist) (1.24.3)\n",
            "Installing collected packages: emnist\n",
            "Successfully installed emnist-0.0\n"
          ],
          "name": "stdout"
        }
      ]
    },
    {
      "cell_type": "code",
      "metadata": {
        "id": "yzz5cngH59he"
      },
      "source": [
        "import os\n",
        "import numpy as np\n",
        "import matplotlib.pyplot as plt\n",
        "\n",
        "from pathlib import Path\n",
        "from collections import Counter\n",
        "\n",
        "import tensorflow as tf\n",
        "from tensorflow import keras\n",
        "from tensorflow.keras import layers\n",
        "\n",
        "from emnist import list_datasets, extract_training_samples, extract_test_samples"
      ],
      "execution_count": null,
      "outputs": []
    },
    {
      "cell_type": "code",
      "metadata": {
        "id": "9w6qPaD56HaU",
        "outputId": "fb625d43-efb3-4a84-96b7-9e84f830d02a",
        "colab": {
          "base_uri": "https://localhost:8080/",
          "height": 35
        }
      },
      "source": [
        "# load emnist dataset 'by class'\n",
        "\n",
        "images, labels = extract_training_samples('byclass')\n",
        "images_test, labels_test = extract_test_samples('byclass')"
      ],
      "execution_count": null,
      "outputs": [
        {
          "output_type": "stream",
          "text": [
            "Downloading emnist.zip: 536MB [00:03, 154MB/s]\n"
          ],
          "name": "stderr"
        }
      ]
    },
    {
      "cell_type": "code",
      "metadata": {
        "id": "CgkMrn-N6WJP"
      },
      "source": [
        "# find index of uppercase letters\n",
        "\n",
        "tr_index_UPP = [i for i in range(len(labels)) if labels[i]>=10 and labels[i] <= 35] \n",
        "ts_index_UPP = [i for i in range(len(labels_test)) if labels_test[i]>=10 and labels_test[i] <= 35]"
      ],
      "execution_count": null,
      "outputs": []
    },
    {
      "cell_type": "code",
      "metadata": {
        "id": "pjpAgQBL6hxs"
      },
      "source": [
        "# save images and labels in uppercase\n",
        "\n",
        "im_train_UPP = images[tr_index_UPP]\n",
        "im_test_UPP = images_test[ts_index_UPP]\n",
        "lab_train_UPP = labels[tr_index_UPP]\n",
        "lab_test_UPP = labels_test[ts_index_UPP]"
      ],
      "execution_count": null,
      "outputs": []
    },
    {
      "cell_type": "code",
      "metadata": {
        "id": "8_99A-YR6uY3"
      },
      "source": [
        "# reformulate labels for application of built-in function 'to_categorical'\n",
        "\n",
        "alf_UPP = {\n",
        "       10: 0,\n",
        "       11: 1,\n",
        "       12: 2,\n",
        "       13: 3,\n",
        "       14: 4,\n",
        "       15: 5,\n",
        "       16: 6,\n",
        "       17: 7,\n",
        "       18: 8,\n",
        "       19: 9,\n",
        "       20: 10,\n",
        "       21: 11,\n",
        "       22: 12,\n",
        "       23: 13,\n",
        "       24: 14,\n",
        "       25: 15,\n",
        "       26: 16,\n",
        "       27: 17,\n",
        "       28: 18,\n",
        "       29: 19,\n",
        "       30: 20,\n",
        "       31: 21,\n",
        "       32: 22,\n",
        "       33: 23,\n",
        "       34: 24,\n",
        "       35: 25,\n",
        "       }\n",
        "\n",
        "lab_train_UPP = [alf_UPP[label] for label in lab_train_UPP]\n",
        "lab_test_UPP = [alf_UPP[label] for label in lab_test_UPP]"
      ],
      "execution_count": null,
      "outputs": []
    },
    {
      "cell_type": "code",
      "metadata": {
        "id": "gXvoJ4X1_595",
        "outputId": "1bdb27d1-2858-4dd3-d491-1ccea22330c0",
        "colab": {
          "base_uri": "https://localhost:8080/",
          "height": 35
        }
      },
      "source": [
        "# check labels\n",
        "\n",
        "lab_train_UPP[0]"
      ],
      "execution_count": null,
      "outputs": [
        {
          "output_type": "execute_result",
          "data": {
            "text/plain": [
              "25"
            ]
          },
          "metadata": {
            "tags": []
          },
          "execution_count": 7
        }
      ]
    },
    {
      "cell_type": "code",
      "metadata": {
        "id": "kj8i4Tyw_72J"
      },
      "source": [
        "# define image width and height and batch size\n",
        "\n",
        "# Batch size for training and validation\n",
        "batch_size = 32\n",
        "\n",
        "# Desired image dimensions\n",
        "img_width = 28\n",
        "img_height = 28"
      ],
      "execution_count": null,
      "outputs": []
    },
    {
      "cell_type": "code",
      "metadata": {
        "id": "txkyxT3JDili"
      },
      "source": [
        "# split training set in traininig and validation set\n",
        "\n",
        "def split_data(images, labels, train_size=0.9, shuffle=True):\n",
        "    # 1. Get the total size of the dataset\n",
        "    size = len(images)\n",
        "    # 2. Make an indices array and shuffle it, if required\n",
        "    indices = np.arange(size)\n",
        "    if shuffle:\n",
        "        np.random.shuffle(indices)\n",
        "    # 3. Get the size of training samples\n",
        "    train_samples = int(size * train_size)\n",
        "    # 4. Split data into training and validation sets\n",
        "    x_train, y_train = images[indices[:train_samples]], labels[indices[:train_samples]]\n",
        "    x_valid, y_valid = images[indices[train_samples:]], labels[indices[train_samples:]]\n",
        "    return x_train, x_valid, y_train, y_valid"
      ],
      "execution_count": null,
      "outputs": []
    },
    {
      "cell_type": "code",
      "metadata": {
        "id": "1Vp7uXl8Hamn"
      },
      "source": [
        "# Splitting data into training and validation sets\n",
        "x_train_UPP, x_valid_UPP, y_train_UPP, y_valid_UPP = split_data(np.array(im_train_UPP), np.array(lab_train_UPP))"
      ],
      "execution_count": null,
      "outputs": []
    },
    {
      "cell_type": "code",
      "metadata": {
        "id": "DlmupJ5eIGDF"
      },
      "source": [
        "# to categorical \n",
        "\n",
        "y_train_UPP = tf.keras.utils.to_categorical(y_train_UPP, 26)\n",
        "y_valid_UPP = tf.keras.utils.to_categorical(y_valid_UPP, 26)"
      ],
      "execution_count": null,
      "outputs": []
    },
    {
      "cell_type": "code",
      "metadata": {
        "id": "ZvQPt1RXI-OV"
      },
      "source": [
        "# normalize training, validation and test data\n",
        "\n",
        "x_train_UPP = tf.keras.utils.normalize(x_train_UPP, axis=1)\n",
        "x_valid_UPP = tf.keras.utils.normalize(x_valid_UPP, axis=1)\n",
        "im_test_UPP = tf.keras.utils.normalize(im_test_UPP, axis=1)"
      ],
      "execution_count": null,
      "outputs": []
    },
    {
      "cell_type": "code",
      "metadata": {
        "id": "bZrNm_RsMvg4"
      },
      "source": [
        "# using data augmentation\n",
        "\n",
        "train_datagen = tf.keras.preprocessing.image.ImageDataGenerator(featurewise_center=True,\n",
        "                                                          featurewise_std_normalization=True,\n",
        "                                                          rotation_range=20,\n",
        "                                                          width_shift_range=0.2,\n",
        "                                                          height_shift_range=0.2,\n",
        "                                                          horizontal_flip=True)\n",
        "valid_datagen = tf.keras.preprocessing.image.ImageDataGenerator(featurewise_center=True,\n",
        "                                                          featurewise_std_normalization=True,\n",
        "                                                          rotation_range=20,\n",
        "                                                          width_shift_range=0.2,\n",
        "                                                          height_shift_range=0.2,\n",
        "                                                          horizontal_flip=True)\n",
        "\n",
        "x_train_UPP = np.reshape(x_train_UPP, (len(x_train_UPP),img_width, img_width, 1))\n",
        "x_valid_UPP = np.reshape(x_valid_UPP, (len(x_valid_UPP),img_width, img_width, 1))\n",
        "im_test_UPP = np.reshape(im_test_UPP, (len(im_test_UPP), img_width, img_height, 1))\n",
        "\n",
        "train_datagen.fit(x_train_UPP)\n",
        "valid_datagen.fit(x_valid_UPP)"
      ],
      "execution_count": null,
      "outputs": []
    },
    {
      "cell_type": "code",
      "metadata": {
        "id": "xoml2gmkNnLr"
      },
      "source": [
        "# build model\n",
        "\n",
        "def build_model():\n",
        "    # Inputs to the model\n",
        "    input_img = layers.Input(\n",
        "        shape=(img_width, img_height, 1), name=\"image\", dtype=\"float32\"\n",
        "    )\n",
        "    # First conv block\n",
        "    x = layers.Conv2D(\n",
        "        256,\n",
        "        (3, 3),\n",
        "        activation=\"relu\",\n",
        "        kernel_initializer=\"he_normal\",\n",
        "        padding=\"same\",\n",
        "        name=\"Conv1\",\n",
        "    )(input_img)\n",
        "    x = layers.MaxPooling2D((2, 2),padding='same',name=\"pool1\")(x)\n",
        "\n",
        "    # Second conv block\n",
        "    x = layers.Conv2D(\n",
        "        128,\n",
        "        (3, 3),\n",
        "        activation=\"relu\",\n",
        "        kernel_initializer=\"he_normal\",\n",
        "        padding=\"same\",\n",
        "        name=\"Conv2\",\n",
        "    )(x)\n",
        "    x = layers.MaxPooling2D((2, 2), padding='same',name=\"pool2\")(x)\n",
        "\n",
        "    # Third conv block\n",
        "    x = layers.Conv2D(\n",
        "        64,\n",
        "        (3, 3),\n",
        "        activation=\"relu\",\n",
        "        kernel_initializer=\"he_normal\",\n",
        "        padding=\"same\",\n",
        "        name=\"Conv3\",\n",
        "    )(x)\n",
        "    x = layers.MaxPooling2D((2, 2), padding='same',name=\"pool3\")(x)\n",
        "    x = layers.Flatten()(x)\n",
        "    \n",
        "    # MLP + Output layer\n",
        "    x = layers.Dense(units=128, activation='sigmoid', name='dense_1')(x)\n",
        "    output = layers.Dense(units=26, activation=\"softmax\", name=\"dense2\")(x)\n",
        "\n",
        "    # Define the model\n",
        "    model = keras.models.Model(\n",
        "        inputs=input_img, outputs=output, name=\"ocr_model_v1\"\n",
        "    )\n",
        "    # Optimizer\n",
        "    opt = keras.optimizers.Adam()\n",
        "    # Compile the model and return\n",
        "    model.compile(loss='categorical_crossentropy',optimizer=opt, metrics=['accuracy'])\n",
        "\n",
        "    return model"
      ],
      "execution_count": null,
      "outputs": []
    },
    {
      "cell_type": "code",
      "metadata": {
        "id": "bCVkysqePH29",
        "outputId": "da171a23-62c7-4d6e-c8cf-d8c5bd652677",
        "colab": {
          "base_uri": "https://localhost:8080/",
          "height": 515
        }
      },
      "source": [
        "model = build_model()\n",
        "model.summary()"
      ],
      "execution_count": null,
      "outputs": [
        {
          "output_type": "stream",
          "text": [
            "Model: \"ocr_model_v1\"\n",
            "_________________________________________________________________\n",
            "Layer (type)                 Output Shape              Param #   \n",
            "=================================================================\n",
            "image (InputLayer)           [(None, 28, 28, 1)]       0         \n",
            "_________________________________________________________________\n",
            "Conv1 (Conv2D)               (None, 28, 28, 256)       2560      \n",
            "_________________________________________________________________\n",
            "pool1 (MaxPooling2D)         (None, 14, 14, 256)       0         \n",
            "_________________________________________________________________\n",
            "Conv2 (Conv2D)               (None, 14, 14, 128)       295040    \n",
            "_________________________________________________________________\n",
            "pool2 (MaxPooling2D)         (None, 7, 7, 128)         0         \n",
            "_________________________________________________________________\n",
            "Conv3 (Conv2D)               (None, 7, 7, 64)          73792     \n",
            "_________________________________________________________________\n",
            "pool3 (MaxPooling2D)         (None, 4, 4, 64)          0         \n",
            "_________________________________________________________________\n",
            "flatten (Flatten)            (None, 1024)              0         \n",
            "_________________________________________________________________\n",
            "dense_1 (Dense)              (None, 128)               131200    \n",
            "_________________________________________________________________\n",
            "dense2 (Dense)               (None, 26)                3354      \n",
            "=================================================================\n",
            "Total params: 505,946\n",
            "Trainable params: 505,946\n",
            "Non-trainable params: 0\n",
            "_________________________________________________________________\n"
          ],
          "name": "stdout"
        }
      ]
    },
    {
      "cell_type": "code",
      "metadata": {
        "id": "v8YiuOWiPKKM",
        "outputId": "bc92868b-a37d-46a4-981f-5f17ff3a37a7",
        "colab": {
          "base_uri": "https://localhost:8080/",
          "height": 953
        }
      },
      "source": [
        "from keras.utils import plot_model\n",
        "plot_model(model, to_file='/content/drive/My Drive/TESI/Models/Immagini/model3_byclass_upper.png')"
      ],
      "execution_count": null,
      "outputs": [
        {
          "output_type": "execute_result",
          "data": {
            "image/png": "[encoded data removed]",
            "text/plain": [
              "<IPython.core.display.Image object>"
            ]
          },
          "metadata": {
            "tags": []
          },
          "execution_count": 17
        }
      ]
    },
    {
      "cell_type": "code",
      "metadata": {
        "id": "Bupp_Vi9PtBO"
      },
      "source": [
        "epochs = 100\n",
        "early_stopping_patience = 10\n",
        "# Add early stopping\n",
        "early_stopping = keras.callbacks.EarlyStopping(\n",
        "    monitor=\"val_accuracy\", patience=early_stopping_patience, restore_best_weights=True, verbose=1\n",
        ")\n",
        "\n",
        "# Model CheckPoint\n",
        "cp = keras.callbacks.ModelCheckpoint('/content/drive/My Drive/TESI/Models/model3_UPP_byclass.h5',\n",
        "                                     verbose=1,\n",
        "                                     monitor='val_accuracy',\n",
        "                                     save_best_only=True,\n",
        "                                     mode='max')"
      ],
      "execution_count": null,
      "outputs": []
    },
    {
      "cell_type": "code",
      "metadata": {
        "id": "wU2qe4yJQVK5",
        "outputId": "186822ad-edaa-4bd2-e92a-95bd0df3355f",
        "colab": {
          "base_uri": "https://localhost:8080/",
          "height": 1000
        }
      },
      "source": [
        "# fit model\n",
        "history1_UPP = model.fit(train_datagen.flow(x_train_UPP,y_train_UPP, batch_size=batch_size),\n",
        "                    validation_data=valid_datagen.flow(x_valid_UPP,y_valid_UPP, batch_size=batch_size),\n",
        "                    steps_per_epoch=len(x_train_UPP)//batch_size,\n",
        "                    validation_steps=len(x_valid_UPP)//batch_size,\n",
        "                    epochs=epochs,\n",
        "                    verbose=1,\n",
        "                    callbacks=[cp, early_stopping])"
      ],
      "execution_count": null,
      "outputs": [
        {
          "output_type": "stream",
          "text": [
            "Epoch 1/100\n",
            "5312/5314 [============================>.] - ETA: 0s - loss: 0.7272 - accuracy: 0.7926\n",
            "Epoch 00001: val_accuracy improved from -inf to 0.88602, saving model to /content/drive/My Drive/TESI/Models/model3_UPP_byclass.h5\n",
            "5314/5314 [==============================] - 62s 12ms/step - loss: 0.7271 - accuracy: 0.7926 - val_loss: 0.3898 - val_accuracy: 0.8860\n",
            "Epoch 2/100\n",
            "5314/5314 [==============================] - ETA: 0s - loss: 0.3303 - accuracy: 0.9035\n",
            "Epoch 00002: val_accuracy improved from 0.88602 to 0.91197, saving model to /content/drive/My Drive/TESI/Models/model3_UPP_byclass.h5\n",
            "5314/5314 [==============================] - 64s 12ms/step - loss: 0.3303 - accuracy: 0.9035 - val_loss: 0.2956 - val_accuracy: 0.9120\n",
            "Epoch 3/100\n",
            "5311/5314 [============================>.] - ETA: 0s - loss: 0.3003 - accuracy: 0.9124\n",
            "Epoch 00003: val_accuracy improved from 0.91197 to 0.91239, saving model to /content/drive/My Drive/TESI/Models/model3_UPP_byclass.h5\n",
            "5314/5314 [==============================] - 64s 12ms/step - loss: 0.3003 - accuracy: 0.9124 - val_loss: 0.2983 - val_accuracy: 0.9124\n",
            "Epoch 4/100\n",
            "5310/5314 [============================>.] - ETA: 0s - loss: 0.2914 - accuracy: 0.9153\n",
            "Epoch 00004: val_accuracy improved from 0.91239 to 0.92172, saving model to /content/drive/My Drive/TESI/Models/model3_UPP_byclass.h5\n",
            "5314/5314 [==============================] - 63s 12ms/step - loss: 0.2913 - accuracy: 0.9153 - val_loss: 0.2675 - val_accuracy: 0.9217\n",
            "Epoch 5/100\n",
            "5312/5314 [============================>.] - ETA: 0s - loss: 0.2877 - accuracy: 0.9155\n",
            "Epoch 00005: val_accuracy improved from 0.92172 to 0.92256, saving model to /content/drive/My Drive/TESI/Models/model3_UPP_byclass.h5\n",
            "5314/5314 [==============================] - 64s 12ms/step - loss: 0.2877 - accuracy: 0.9155 - val_loss: 0.2716 - val_accuracy: 0.9226\n",
            "Epoch 6/100\n",
            "5312/5314 [============================>.] - ETA: 0s - loss: 0.2883 - accuracy: 0.9154\n",
            "Epoch 00006: val_accuracy did not improve from 0.92256\n",
            "5314/5314 [==============================] - 63s 12ms/step - loss: 0.2883 - accuracy: 0.9155 - val_loss: 0.2868 - val_accuracy: 0.9186\n",
            "Epoch 7/100\n",
            "5311/5314 [============================>.] - ETA: 0s - loss: 0.2869 - accuracy: 0.9166\n",
            "Epoch 00007: val_accuracy did not improve from 0.92256\n",
            "5314/5314 [==============================] - 65s 12ms/step - loss: 0.2869 - accuracy: 0.9166 - val_loss: 0.2759 - val_accuracy: 0.9204\n",
            "Epoch 8/100\n",
            "5312/5314 [============================>.] - ETA: 0s - loss: 0.2917 - accuracy: 0.9153\n",
            "Epoch 00008: val_accuracy did not improve from 0.92256\n",
            "5314/5314 [==============================] - 63s 12ms/step - loss: 0.2917 - accuracy: 0.9153 - val_loss: 0.3151 - val_accuracy: 0.9050\n",
            "Epoch 9/100\n",
            "5314/5314 [==============================] - ETA: 0s - loss: 0.2928 - accuracy: 0.9143\n",
            "Epoch 00009: val_accuracy did not improve from 0.92256\n",
            "5314/5314 [==============================] - 63s 12ms/step - loss: 0.2928 - accuracy: 0.9143 - val_loss: 0.3016 - val_accuracy: 0.9122\n",
            "Epoch 10/100\n",
            "5311/5314 [============================>.] - ETA: 0s - loss: 0.2964 - accuracy: 0.9127\n",
            "Epoch 00010: val_accuracy did not improve from 0.92256\n",
            "5314/5314 [==============================] - 63s 12ms/step - loss: 0.2963 - accuracy: 0.9128 - val_loss: 0.2948 - val_accuracy: 0.9130\n",
            "Epoch 11/100\n",
            "5312/5314 [============================>.] - ETA: 0s - loss: 0.2993 - accuracy: 0.9125\n",
            "Epoch 00011: val_accuracy did not improve from 0.92256\n",
            "5314/5314 [==============================] - 65s 12ms/step - loss: 0.2993 - accuracy: 0.9125 - val_loss: 0.3052 - val_accuracy: 0.9106\n",
            "Epoch 12/100\n",
            "5310/5314 [============================>.] - ETA: 0s - loss: 0.3027 - accuracy: 0.9117\n",
            "Epoch 00012: val_accuracy did not improve from 0.92256\n",
            "5314/5314 [==============================] - 63s 12ms/step - loss: 0.3027 - accuracy: 0.9117 - val_loss: 0.2951 - val_accuracy: 0.9128\n",
            "Epoch 13/100\n",
            "5314/5314 [==============================] - ETA: 0s - loss: 0.3097 - accuracy: 0.9086\n",
            "Epoch 00013: val_accuracy did not improve from 0.92256\n",
            "5314/5314 [==============================] - 63s 12ms/step - loss: 0.3097 - accuracy: 0.9086 - val_loss: 0.3112 - val_accuracy: 0.9100\n",
            "Epoch 14/100\n",
            "5312/5314 [============================>.] - ETA: 0s - loss: 0.3099 - accuracy: 0.9089\n",
            "Epoch 00014: val_accuracy did not improve from 0.92256\n",
            "5314/5314 [==============================] - 64s 12ms/step - loss: 0.3099 - accuracy: 0.9088 - val_loss: 0.2972 - val_accuracy: 0.9130\n",
            "Epoch 15/100\n",
            "5314/5314 [==============================] - ETA: 0s - loss: 0.3097 - accuracy: 0.9094\n",
            "Epoch 00015: val_accuracy did not improve from 0.92256\n",
            "Restoring model weights from the end of the best epoch.\n",
            "5314/5314 [==============================] - 66s 12ms/step - loss: 0.3097 - accuracy: 0.9094 - val_loss: 0.3031 - val_accuracy: 0.9118\n",
            "Epoch 00015: early stopping\n"
          ],
          "name": "stdout"
        }
      ]
    },
    {
      "cell_type": "code",
      "metadata": {
        "id": "XXHdIbq7Qv_I",
        "outputId": "54c9b587-87a0-4d76-f90f-bc63fafa80d2",
        "colab": {
          "base_uri": "https://localhost:8080/",
          "height": 1000
        }
      },
      "source": [
        "plt.figure(figsize=(16,9))\n",
        "# summarize history for accuracy\n",
        "plt.plot(history1_UPP.history['accuracy'])\n",
        "plt.plot(history1_UPP.history['val_accuracy'])\n",
        "plt.title('Model 3 uppercase letters accuracy (with Data Augmentation)')\n",
        "plt.ylabel('accuracy')\n",
        "plt.xlabel('epoch')\n",
        "plt.legend(['train', 'validation'], loc='lower right')\n",
        "plt.show()\n",
        "plt.figure(figsize=(16,9))\n",
        "\n",
        "# summarize history for loss\n",
        "plt.plot(history1_UPP.history['loss'])\n",
        "plt.plot(history1_UPP.history['val_loss'])\n",
        "plt.title('Model 3 uppercase letters loss  (with Data Augmentation)')\n",
        "plt.ylabel('loss')\n",
        "plt.xlabel('epoch')\n",
        "plt.legend(['train', 'validation'], loc='upper right')\n",
        "plt.show()"
      ],
      "execution_count": null,
      "outputs": [
        {
          "output_type": "display_data",
          "data": {
            "image/png": "[encoded data removed]",
            "text/plain": [
              "<Figure size 1152x648 with 1 Axes>"
            ]
          },
          "metadata": {
            "tags": [],
            "needs_background": "light"
          }
        },
        {
          "output_type": "display_data",
          "data": {
            "image/png": "[encoded data removed]",
            "text/plain": [
              "<Figure size 1152x648 with 1 Axes>"
            ]
          },
          "metadata": {
            "tags": [],
            "needs_background": "light"
          }
        }
      ]
    },
    {
      "cell_type": "code",
      "metadata": {
        "id": "xMRCeTWLyimv"
      },
      "source": [
        "lab_test_UPP = tf.keras.utils.to_categorical(lab_test_UPP)"
      ],
      "execution_count": null,
      "outputs": []
    },
    {
      "cell_type": "code",
      "metadata": {
        "id": "9fI6RgfqG9tj",
        "outputId": "5e62a5db-e035-4a26-d672-32b2a2223c6d",
        "colab": {
          "base_uri": "https://localhost:8080/",
          "height": 35
        }
      },
      "source": [
        "evaluation = model.evaluate(valid_datagen.flow(im_test_UPP, lab_test_UPP))"
      ],
      "execution_count": null,
      "outputs": [
        {
          "output_type": "stream",
          "text": [
            "980/980 [==============================] - 10s 10ms/step - loss: 0.2713 - accuracy: 0.9202\n"
          ],
          "name": "stdout"
        }
      ]
    }
  ]
}