{
  "nbformat": 4,
  "nbformat_minor": 0,
  "metadata": {
    "colab": {
      "name": "Model4-HWR-byclass-upper-noDA.ipynb",
      "provenance": []
    },
    "kernelspec": {
      "name": "python3",
      "display_name": "Python 3"
    },
    "accelerator": "GPU"
  },
  "cells": [
    {
      "cell_type": "code",
      "metadata": {
        "id": "WaamsQlM5zPi",
        "outputId": "6e813ae3-0ca1-4754-d251-d1839144d99e",
        "colab": {
          "base_uri": "https://localhost:8080/",
          "height": 212
        }
      },
      "source": [
        "pip install emnist"
      ],
      "execution_count": null,
      "outputs": [
        {
          "output_type": "stream",
          "text": [
            "Collecting emnist\n",
            "  Downloading https://files.pythonhosted.org/packages/d1/f4/78b24acbef9e8fe976dda700f16a3606f3b8363b015bc555f8050fbbd8ac/emnist-0.0-py3-none-any.whl\n",
            "Requirement already satisfied: numpy in /usr/local/lib/python3.6/dist-packages (from emnist) (1.18.5)\n",
            "Requirement already satisfied: tqdm in /usr/local/lib/python3.6/dist-packages (from emnist) (4.41.1)\n",
            "Requirement already satisfied: requests in /usr/local/lib/python3.6/dist-packages (from emnist) (2.23.0)\n",
            "Requirement already satisfied: chardet<4,>=3.0.2 in /usr/local/lib/python3.6/dist-packages (from requests->emnist) (3.0.4)\n",
            "Requirement already satisfied: idna<3,>=2.5 in /usr/local/lib/python3.6/dist-packages (from requests->emnist) (2.10)\n",
            "Requirement already satisfied: urllib3!=1.25.0,!=1.25.1,<1.26,>=1.21.1 in /usr/local/lib/python3.6/dist-packages (from requests->emnist) (1.24.3)\n",
            "Requirement already satisfied: certifi>=2017.4.17 in /usr/local/lib/python3.6/dist-packages (from requests->emnist) (2020.6.20)\n",
            "Installing collected packages: emnist\n",
            "Successfully installed emnist-0.0\n"
          ],
          "name": "stdout"
        }
      ]
    },
    {
      "cell_type": "code",
      "metadata": {
        "id": "yzz5cngH59he"
      },
      "source": [
        "import os\n",
        "import numpy as np\n",
        "import matplotlib.pyplot as plt\n",
        "\n",
        "from pathlib import Path\n",
        "from collections import Counter\n",
        "\n",
        "import tensorflow as tf\n",
        "from tensorflow import keras\n",
        "from tensorflow.keras import layers\n",
        "\n",
        "from emnist import list_datasets, extract_training_samples, extract_test_samples"
      ],
      "execution_count": null,
      "outputs": []
    },
    {
      "cell_type": "code",
      "metadata": {
        "id": "9w6qPaD56HaU",
        "outputId": "fee04093-acca-45b9-8592-ac1fa1d2082e",
        "colab": {
          "base_uri": "https://localhost:8080/",
          "height": 35
        }
      },
      "source": [
        "# load emnist dataset 'by class'\n",
        "\n",
        "images, labels = extract_training_samples('byclass')\n",
        "images_test, labels_test = extract_test_samples('byclass')"
      ],
      "execution_count": null,
      "outputs": [
        {
          "output_type": "stream",
          "text": [
            "Downloading emnist.zip: 536MB [00:04, 136MB/s]\n"
          ],
          "name": "stderr"
        }
      ]
    },
    {
      "cell_type": "code",
      "metadata": {
        "id": "CgkMrn-N6WJP"
      },
      "source": [
        "# find index of uppercase letters\n",
        "\n",
        "tr_index_UPP = [i for i in range(len(labels)) if labels[i]>=10 and labels[i] <= 35] \n",
        "ts_index_UPP = [i for i in range(len(labels_test)) if labels_test[i]>=10 and labels_test[i] <= 35]"
      ],
      "execution_count": null,
      "outputs": []
    },
    {
      "cell_type": "code",
      "metadata": {
        "id": "pjpAgQBL6hxs"
      },
      "source": [
        "# save images and labels in uppercase\n",
        "\n",
        "im_train_UPP = images[tr_index_UPP]\n",
        "im_test_UPP = images_test[ts_index_UPP]\n",
        "lab_train_UPP = labels[tr_index_UPP]\n",
        "lab_test_UPP = labels_test[ts_index_UPP]"
      ],
      "execution_count": null,
      "outputs": []
    },
    {
      "cell_type": "code",
      "metadata": {
        "id": "8_99A-YR6uY3"
      },
      "source": [
        "# reformulate labels for application of built-in function 'to_categorical'\n",
        "\n",
        "alf_UPP = {\n",
        "       10: 0,\n",
        "       11: 1,\n",
        "       12: 2,\n",
        "       13: 3,\n",
        "       14: 4,\n",
        "       15: 5,\n",
        "       16: 6,\n",
        "       17: 7,\n",
        "       18: 8,\n",
        "       19: 9,\n",
        "       20: 10,\n",
        "       21: 11,\n",
        "       22: 12,\n",
        "       23: 13,\n",
        "       24: 14,\n",
        "       25: 15,\n",
        "       26: 16,\n",
        "       27: 17,\n",
        "       28: 18,\n",
        "       29: 19,\n",
        "       30: 20,\n",
        "       31: 21,\n",
        "       32: 22,\n",
        "       33: 23,\n",
        "       34: 24,\n",
        "       35: 25,\n",
        "       }\n",
        "\n",
        "lab_train_UPP = [alf_UPP[label] for label in lab_train_UPP]\n",
        "lab_test_UPP = [alf_UPP[label] for label in lab_test_UPP]"
      ],
      "execution_count": null,
      "outputs": []
    },
    {
      "cell_type": "code",
      "metadata": {
        "id": "gXvoJ4X1_595",
        "outputId": "b9c4027c-6d1b-46c1-c3aa-aa336362b0d5",
        "colab": {
          "base_uri": "https://localhost:8080/",
          "height": 35
        }
      },
      "source": [
        "# check labels\n",
        "\n",
        "lab_train_UPP[0]"
      ],
      "execution_count": null,
      "outputs": [
        {
          "output_type": "execute_result",
          "data": {
            "text/plain": [
              "25"
            ]
          },
          "metadata": {
            "tags": []
          },
          "execution_count": 7
        }
      ]
    },
    {
      "cell_type": "code",
      "metadata": {
        "id": "kj8i4Tyw_72J"
      },
      "source": [
        "# define image width and height and batch size\n",
        "\n",
        "# Batch size for training and validation\n",
        "batch_size = 32\n",
        "\n",
        "# Desired image dimensions\n",
        "img_width = 28\n",
        "img_height = 28"
      ],
      "execution_count": null,
      "outputs": []
    },
    {
      "cell_type": "code",
      "metadata": {
        "id": "txkyxT3JDili"
      },
      "source": [
        "# split training set in traininig and validation set\n",
        "\n",
        "def split_data(images, labels, train_size=0.9, shuffle=True):\n",
        "    # 1. Get the total size of the dataset\n",
        "    size = len(images)\n",
        "    # 2. Make an indices array and shuffle it, if required\n",
        "    indices = np.arange(size)\n",
        "    if shuffle:\n",
        "        np.random.shuffle(indices)\n",
        "    # 3. Get the size of training samples\n",
        "    train_samples = int(size * train_size)\n",
        "    # 4. Split data into training and validation sets\n",
        "    x_train, y_train = images[indices[:train_samples]], labels[indices[:train_samples]]\n",
        "    x_valid, y_valid = images[indices[train_samples:]], labels[indices[train_samples:]]\n",
        "    return x_train, x_valid, y_train, y_valid"
      ],
      "execution_count": null,
      "outputs": []
    },
    {
      "cell_type": "code",
      "metadata": {
        "id": "1Vp7uXl8Hamn"
      },
      "source": [
        "# Splitting data into training and validation sets\n",
        "x_train_UPP, x_valid_UPP, y_train_UPP, y_valid_UPP = split_data(np.array(im_train_UPP), np.array(lab_train_UPP))"
      ],
      "execution_count": null,
      "outputs": []
    },
    {
      "cell_type": "code",
      "metadata": {
        "id": "DlmupJ5eIGDF"
      },
      "source": [
        "# to categorical \n",
        "\n",
        "y_train_UPP = tf.keras.utils.to_categorical(y_train_UPP, 26)\n",
        "y_valid_UPP = tf.keras.utils.to_categorical(y_valid_UPP, 26)\n",
        "lab_test_UPP = tf.keras.utils.to_categorical(lab_test_UPP, 26)"
      ],
      "execution_count": null,
      "outputs": []
    },
    {
      "cell_type": "code",
      "metadata": {
        "id": "ZvQPt1RXI-OV"
      },
      "source": [
        "# normalize training, validation and test data\n",
        "\n",
        "x_train_UPP = tf.keras.utils.normalize(x_train_UPP, axis=1)\n",
        "x_valid_UPP = tf.keras.utils.normalize(x_valid_UPP, axis=1)\n",
        "im_test_UPP = tf.keras.utils.normalize(im_test_UPP, axis=1)"
      ],
      "execution_count": null,
      "outputs": []
    },
    {
      "cell_type": "code",
      "metadata": {
        "id": "xoml2gmkNnLr"
      },
      "source": [
        "# build model\n",
        "\n",
        "def build_model():\n",
        "    # Inputs to the model\n",
        "    input_img = layers.Input(\n",
        "        shape=(img_width, img_height, 1), name=\"image\", dtype=\"float32\"\n",
        "    )\n",
        "    x = layers.Reshape((img_width, img_height))(input_img)\n",
        "    # RNNs\n",
        "    x = layers.Bidirectional(layers.LSTM(64, return_sequences=True, dropout=0.25, name='bilstm1'))(x)\n",
        "    #x = layers.Flatten()(x)\n",
        "    x = layers.Bidirectional(layers.LSTM(32, return_sequences=True, dropout=0.25, name='bilstm2'))(x)\n",
        "    x = layers.Flatten()(x)\n",
        "    # Output layer\n",
        "    x = layers.Dense(units=128, activation='sigmoid', name='dense_1')(x)\n",
        "    output = layers.Dense(units=26, activation=\"softmax\", name=\"dense2\")(x)\n",
        "\n",
        "    # Define the model\n",
        "    model = keras.models.Model(\n",
        "        inputs=input_img, outputs=output, name=\"ocr_model_v1\"\n",
        "    )\n",
        "    # Optimizer\n",
        "    opt = keras.optimizers.Adam()\n",
        "    # Compile the model and return\n",
        "    model.compile(loss='categorical_crossentropy',optimizer=opt, metrics=['accuracy'])\n",
        "\n",
        "    return model"
      ],
      "execution_count": null,
      "outputs": []
    },
    {
      "cell_type": "code",
      "metadata": {
        "id": "bCVkysqePH29",
        "outputId": "2ac1c411-4c82-42c2-a58a-cdbe4dcc8c1f",
        "colab": {
          "base_uri": "https://localhost:8080/",
          "height": 408
        }
      },
      "source": [
        "model = build_model()\n",
        "model.summary()"
      ],
      "execution_count": null,
      "outputs": [
        {
          "output_type": "stream",
          "text": [
            "Model: \"ocr_model_v1\"\n",
            "_________________________________________________________________\n",
            "Layer (type)                 Output Shape              Param #   \n",
            "=================================================================\n",
            "image (InputLayer)           [(None, 28, 28, 1)]       0         \n",
            "_________________________________________________________________\n",
            "reshape (Reshape)            (None, 28, 28)            0         \n",
            "_________________________________________________________________\n",
            "bidirectional_6 (Bidirection (None, 28, 128)           47616     \n",
            "_________________________________________________________________\n",
            "bidirectional_7 (Bidirection (None, 28, 64)            41216     \n",
            "_________________________________________________________________\n",
            "flatten_2 (Flatten)          (None, 1792)              0         \n",
            "_________________________________________________________________\n",
            "dense_1 (Dense)              (None, 128)               229504    \n",
            "_________________________________________________________________\n",
            "dense2 (Dense)               (None, 26)                3354      \n",
            "=================================================================\n",
            "Total params: 321,690\n",
            "Trainable params: 321,690\n",
            "Non-trainable params: 0\n",
            "_________________________________________________________________\n"
          ],
          "name": "stdout"
        }
      ]
    },
    {
      "cell_type": "code",
      "metadata": {
        "id": "v8YiuOWiPKKM",
        "outputId": "42c3bcee-098f-44eb-a9bc-d4fc0c011d13",
        "colab": {
          "base_uri": "https://localhost:8080/",
          "height": 661
        }
      },
      "source": [
        "from keras.utils import plot_model\n",
        "plot_model(model, to_file='/content/drive/My Drive/TESI/Models/Immagini/model4_byclass_upper_noDA.png')"
      ],
      "execution_count": null,
      "outputs": [
        {
          "output_type": "execute_result",
          "data": {
            "image/png": "[encoded data removed]",
            "text/plain": [
              "<IPython.core.display.Image object>"
            ]
          },
          "metadata": {
            "tags": []
          },
          "execution_count": 30
        }
      ]
    },
    {
      "cell_type": "code",
      "metadata": {
        "id": "Bupp_Vi9PtBO"
      },
      "source": [
        "epochs = 100\n",
        "early_stopping_patience = 10\n",
        "# Add early stopping\n",
        "early_stopping = keras.callbacks.EarlyStopping(\n",
        "    monitor=\"val_accuracy\", patience=early_stopping_patience, restore_best_weights=True, verbose=1\n",
        ")\n",
        "\n",
        "# Model CheckPoint\n",
        "cp = keras.callbacks.ModelCheckpoint('/content/drive/My Drive/TESI/Models/model4_UPP_byclass_noDA.h5',\n",
        "                                     verbose=1,\n",
        "                                     monitor='val_accuracy',\n",
        "                                     save_best_only=True)"
      ],
      "execution_count": null,
      "outputs": []
    },
    {
      "cell_type": "code",
      "metadata": {
        "id": "wU2qe4yJQVK5",
        "outputId": "59b3d384-adbb-417a-bdff-9ca4066a7778",
        "colab": {
          "base_uri": "https://localhost:8080/",
          "height": 1000
        }
      },
      "source": [
        "# fit model\n",
        "history1_UPP = model.fit(x_train_UPP,y_train_UPP,\n",
        "                    validation_data=(x_valid_UPP,y_valid_UPP),\n",
        "                    batch_size=batch_size,\n",
        "                    epochs=epochs,\n",
        "                    verbose=1,\n",
        "                    callbacks=[cp, early_stopping])"
      ],
      "execution_count": null,
      "outputs": [
        {
          "output_type": "stream",
          "text": [
            "Epoch 1/100\n",
            "5314/5315 [============================>.] - ETA: 0s - loss: 0.3187 - accuracy: 0.9107\n",
            "Epoch 00001: val_accuracy improved from -inf to 0.96079, saving model to /content/drive/My Drive/TESI/Models/model4_UPP_byclass_noDA.h5\n",
            "5315/5315 [==============================] - 76s 14ms/step - loss: 0.3187 - accuracy: 0.9107 - val_loss: 0.1382 - val_accuracy: 0.9608\n",
            "Epoch 2/100\n",
            "5313/5315 [============================>.] - ETA: 0s - loss: 0.1337 - accuracy: 0.9616\n",
            "Epoch 00002: val_accuracy improved from 0.96079 to 0.96634, saving model to /content/drive/My Drive/TESI/Models/model4_UPP_byclass_noDA.h5\n",
            "5315/5315 [==============================] - 74s 14ms/step - loss: 0.1337 - accuracy: 0.9615 - val_loss: 0.1153 - val_accuracy: 0.9663\n",
            "Epoch 3/100\n",
            "5315/5315 [==============================] - ETA: 0s - loss: 0.1101 - accuracy: 0.9685\n",
            "Epoch 00003: val_accuracy improved from 0.96634 to 0.96952, saving model to /content/drive/My Drive/TESI/Models/model4_UPP_byclass_noDA.h5\n",
            "5315/5315 [==============================] - 74s 14ms/step - loss: 0.1101 - accuracy: 0.9685 - val_loss: 0.1064 - val_accuracy: 0.9695\n",
            "Epoch 4/100\n",
            "5315/5315 [==============================] - ETA: 0s - loss: 0.0969 - accuracy: 0.9717\n",
            "Epoch 00004: val_accuracy improved from 0.96952 to 0.97238, saving model to /content/drive/My Drive/TESI/Models/model4_UPP_byclass_noDA.h5\n",
            "5315/5315 [==============================] - 74s 14ms/step - loss: 0.0969 - accuracy: 0.9717 - val_loss: 0.0971 - val_accuracy: 0.9724\n",
            "Epoch 5/100\n",
            "5314/5315 [============================>.] - ETA: 0s - loss: 0.0878 - accuracy: 0.9745\n",
            "Epoch 00005: val_accuracy improved from 0.97238 to 0.97513, saving model to /content/drive/My Drive/TESI/Models/model4_UPP_byclass_noDA.h5\n",
            "5315/5315 [==============================] - 75s 14ms/step - loss: 0.0879 - accuracy: 0.9745 - val_loss: 0.0897 - val_accuracy: 0.9751\n",
            "Epoch 6/100\n",
            "5313/5315 [============================>.] - ETA: 0s - loss: 0.0803 - accuracy: 0.9762\n",
            "Epoch 00006: val_accuracy improved from 0.97513 to 0.97693, saving model to /content/drive/My Drive/TESI/Models/model4_UPP_byclass_noDA.h5\n",
            "5315/5315 [==============================] - 75s 14ms/step - loss: 0.0803 - accuracy: 0.9762 - val_loss: 0.0858 - val_accuracy: 0.9769\n",
            "Epoch 7/100\n",
            "5313/5315 [============================>.] - ETA: 0s - loss: 0.0751 - accuracy: 0.9774\n",
            "Epoch 00007: val_accuracy did not improve from 0.97693\n",
            "5315/5315 [==============================] - 73s 14ms/step - loss: 0.0752 - accuracy: 0.9774 - val_loss: 0.0851 - val_accuracy: 0.9767\n",
            "Epoch 8/100\n",
            "5315/5315 [==============================] - ETA: 0s - loss: 0.0716 - accuracy: 0.9785\n",
            "Epoch 00008: val_accuracy did not improve from 0.97693\n",
            "5315/5315 [==============================] - 73s 14ms/step - loss: 0.0716 - accuracy: 0.9785 - val_loss: 0.0833 - val_accuracy: 0.9764\n",
            "Epoch 9/100\n",
            "5313/5315 [============================>.] - ETA: 0s - loss: 0.0662 - accuracy: 0.9800\n",
            "Epoch 00009: val_accuracy did not improve from 0.97693\n",
            "5315/5315 [==============================] - 75s 14ms/step - loss: 0.0662 - accuracy: 0.9800 - val_loss: 0.0852 - val_accuracy: 0.9762\n",
            "Epoch 10/100\n",
            "5315/5315 [==============================] - ETA: 0s - loss: 0.0628 - accuracy: 0.9810\n",
            "Epoch 00010: val_accuracy improved from 0.97693 to 0.97851, saving model to /content/drive/My Drive/TESI/Models/model4_UPP_byclass_noDA.h5\n",
            "5315/5315 [==============================] - 75s 14ms/step - loss: 0.0628 - accuracy: 0.9810 - val_loss: 0.0822 - val_accuracy: 0.9785\n",
            "Epoch 11/100\n",
            "5314/5315 [============================>.] - ETA: 0s - loss: 0.0614 - accuracy: 0.9814\n",
            "Epoch 00011: val_accuracy did not improve from 0.97851\n",
            "5315/5315 [==============================] - 74s 14ms/step - loss: 0.0614 - accuracy: 0.9814 - val_loss: 0.0901 - val_accuracy: 0.9748\n",
            "Epoch 12/100\n",
            "5313/5315 [============================>.] - ETA: 0s - loss: 0.0578 - accuracy: 0.9828\n",
            "Epoch 00012: val_accuracy did not improve from 0.97851\n",
            "5315/5315 [==============================] - 74s 14ms/step - loss: 0.0578 - accuracy: 0.9828 - val_loss: 0.0796 - val_accuracy: 0.9781\n",
            "Epoch 13/100\n",
            "5313/5315 [============================>.] - ETA: 0s - loss: 0.0548 - accuracy: 0.9831\n",
            "Epoch 00013: val_accuracy did not improve from 0.97851\n",
            "5315/5315 [==============================] - 75s 14ms/step - loss: 0.0548 - accuracy: 0.9831 - val_loss: 0.0904 - val_accuracy: 0.9762\n",
            "Epoch 14/100\n",
            "5314/5315 [============================>.] - ETA: 0s - loss: 0.0533 - accuracy: 0.9837\n",
            "Epoch 00014: val_accuracy did not improve from 0.97851\n",
            "5315/5315 [==============================] - 74s 14ms/step - loss: 0.0533 - accuracy: 0.9837 - val_loss: 0.0846 - val_accuracy: 0.9772\n",
            "Epoch 15/100\n",
            "5312/5315 [============================>.] - ETA: 0s - loss: 0.0515 - accuracy: 0.9845\n",
            "Epoch 00015: val_accuracy did not improve from 0.97851\n",
            "5315/5315 [==============================] - 74s 14ms/step - loss: 0.0515 - accuracy: 0.9845 - val_loss: 0.0812 - val_accuracy: 0.9780\n",
            "Epoch 16/100\n",
            "5312/5315 [============================>.] - ETA: 0s - loss: 0.0508 - accuracy: 0.9840\n",
            "Epoch 00016: val_accuracy improved from 0.97851 to 0.97936, saving model to /content/drive/My Drive/TESI/Models/model4_UPP_byclass_noDA.h5\n",
            "5315/5315 [==============================] - 75s 14ms/step - loss: 0.0508 - accuracy: 0.9840 - val_loss: 0.0795 - val_accuracy: 0.9794\n",
            "Epoch 17/100\n",
            "5312/5315 [============================>.] - ETA: 0s - loss: 0.0487 - accuracy: 0.9849\n",
            "Epoch 00017: val_accuracy did not improve from 0.97936\n",
            "5315/5315 [==============================] - 75s 14ms/step - loss: 0.0487 - accuracy: 0.9849 - val_loss: 0.0828 - val_accuracy: 0.9790\n",
            "Epoch 18/100\n",
            "5315/5315 [==============================] - ETA: 0s - loss: 0.0471 - accuracy: 0.9851\n",
            "Epoch 00018: val_accuracy did not improve from 0.97936\n",
            "5315/5315 [==============================] - 75s 14ms/step - loss: 0.0471 - accuracy: 0.9851 - val_loss: 0.0848 - val_accuracy: 0.9783\n",
            "Epoch 19/100\n",
            "5314/5315 [============================>.] - ETA: 0s - loss: 0.0458 - accuracy: 0.9858\n",
            "Epoch 00019: val_accuracy did not improve from 0.97936\n",
            "5315/5315 [==============================] - 74s 14ms/step - loss: 0.0458 - accuracy: 0.9858 - val_loss: 0.0864 - val_accuracy: 0.9785\n",
            "Epoch 20/100\n",
            "5315/5315 [==============================] - ETA: 0s - loss: 0.0453 - accuracy: 0.9856\n",
            "Epoch 00020: val_accuracy did not improve from 0.97936\n",
            "5315/5315 [==============================] - 74s 14ms/step - loss: 0.0453 - accuracy: 0.9856 - val_loss: 0.0860 - val_accuracy: 0.9778\n",
            "Epoch 21/100\n",
            "5314/5315 [============================>.] - ETA: 0s - loss: 0.0421 - accuracy: 0.9866\n",
            "Epoch 00021: val_accuracy did not improve from 0.97936\n",
            "5315/5315 [==============================] - 75s 14ms/step - loss: 0.0421 - accuracy: 0.9866 - val_loss: 0.0871 - val_accuracy: 0.9768\n",
            "Epoch 22/100\n",
            "5315/5315 [==============================] - ETA: 0s - loss: 0.0419 - accuracy: 0.9863\n",
            "Epoch 00022: val_accuracy did not improve from 0.97936\n",
            "5315/5315 [==============================] - 72s 14ms/step - loss: 0.0419 - accuracy: 0.9863 - val_loss: 0.0835 - val_accuracy: 0.9787\n",
            "Epoch 23/100\n",
            "5312/5315 [============================>.] - ETA: 0s - loss: 0.0416 - accuracy: 0.9868\n",
            "Epoch 00023: val_accuracy did not improve from 0.97936\n",
            "5315/5315 [==============================] - 73s 14ms/step - loss: 0.0416 - accuracy: 0.9868 - val_loss: 0.0887 - val_accuracy: 0.9775\n",
            "Epoch 24/100\n",
            "5314/5315 [============================>.] - ETA: 0s - loss: 0.0399 - accuracy: 0.9872\n",
            "Epoch 00024: val_accuracy did not improve from 0.97936\n",
            "5315/5315 [==============================] - 73s 14ms/step - loss: 0.0399 - accuracy: 0.9872 - val_loss: 0.0850 - val_accuracy: 0.9785\n",
            "Epoch 25/100\n",
            "5315/5315 [==============================] - ETA: 0s - loss: 0.0402 - accuracy: 0.9872\n",
            "Epoch 00025: val_accuracy did not improve from 0.97936\n",
            "5315/5315 [==============================] - 73s 14ms/step - loss: 0.0402 - accuracy: 0.9872 - val_loss: 0.0840 - val_accuracy: 0.9786\n",
            "Epoch 26/100\n",
            "5312/5315 [============================>.] - ETA: 0s - loss: 0.0384 - accuracy: 0.9875\n",
            "Epoch 00026: val_accuracy did not improve from 0.97936\n",
            "Restoring model weights from the end of the best epoch.\n",
            "5315/5315 [==============================] - 73s 14ms/step - loss: 0.0384 - accuracy: 0.9875 - val_loss: 0.0881 - val_accuracy: 0.9780\n",
            "Epoch 00026: early stopping\n"
          ],
          "name": "stdout"
        }
      ]
    },
    {
      "cell_type": "code",
      "metadata": {
        "id": "XXHdIbq7Qv_I",
        "outputId": "fbcbaa82-1d4f-41e7-a04c-810a3842abbc",
        "colab": {
          "base_uri": "https://localhost:8080/",
          "height": 1000
        }
      },
      "source": [
        "plt.figure(figsize=(16,9))\n",
        "# summarize history for accuracy\n",
        "plt.plot(history1_UPP.history['accuracy'])\n",
        "plt.plot(history1_UPP.history['val_accuracy'])\n",
        "plt.title('Model 4 uppercase letters accuracy (without Data Augmentation)')\n",
        "plt.ylabel('accuracy')\n",
        "plt.xlabel('epoch')\n",
        "plt.legend(['train', 'validation'], loc='lower right')\n",
        "plt.show()\n",
        "plt.figure(figsize=(16,9))\n",
        "\n",
        "# summarize history for loss\n",
        "plt.plot(history1_UPP.history['loss'])\n",
        "plt.plot(history1_UPP.history['val_loss'])\n",
        "plt.title('Model 4 uppercase letters loss (without Data Augmentation)')\n",
        "plt.ylabel('loss')\n",
        "plt.xlabel('epoch')\n",
        "plt.legend(['train', 'validation'], loc='upper right')\n",
        "plt.show()"
      ],
      "execution_count": null,
      "outputs": [
        {
          "output_type": "display_data",
          "data": {
            "image/png": "[encoded data removed]",
            "text/plain": [
              "<Figure size 1152x648 with 1 Axes>"
            ]
          },
          "metadata": {
            "tags": [],
            "needs_background": "light"
          }
        },
        {
          "output_type": "display_data",
          "data": {
            "image/png": "[encoded data removed]",
            "text/plain": [
              "<Figure size 1152x648 with 1 Axes>"
            ]
          },
          "metadata": {
            "tags": [],
            "needs_background": "light"
          }
        }
      ]
    },
    {
      "cell_type": "code",
      "metadata": {
        "id": "jOltsguOxFJp",
        "outputId": "d99f234d-9709-4bbb-9c43-65cda05700b0",
        "colab": {
          "base_uri": "https://localhost:8080/",
          "height": 35
        }
      },
      "source": [
        "evaluation = model.evaluate(im_test_UPP, lab_test_UPP)"
      ],
      "execution_count": null,
      "outputs": [
        {
          "output_type": "stream",
          "text": [
            "980/980 [==============================] - 6s 7ms/step - loss: 0.0721 - accuracy: 0.9811\n"
          ],
          "name": "stdout"
        }
      ]
    },
    {
      "cell_type": "code",
      "metadata": {
        "id": "xMRCeTWLyimv",
        "outputId": "99b93eb9-7189-4731-fa3b-93430f919892",
        "colab": {
          "base_uri": "https://localhost:8080/",
          "height": 35
        }
      },
      "source": [
        "evaluation"
      ],
      "execution_count": null,
      "outputs": [
        {
          "output_type": "execute_result",
          "data": {
            "text/plain": [
              "[0.07205114513635635, 0.9811140298843384]"
            ]
          },
          "metadata": {
            "tags": []
          },
          "execution_count": 35
        }
      ]
    },
    {
      "cell_type": "code",
      "metadata": {
        "id": "2b6yNk-c-oqX"
      },
      "source": [
        ""
      ],
      "execution_count": null,
      "outputs": []
    }
  ]
}