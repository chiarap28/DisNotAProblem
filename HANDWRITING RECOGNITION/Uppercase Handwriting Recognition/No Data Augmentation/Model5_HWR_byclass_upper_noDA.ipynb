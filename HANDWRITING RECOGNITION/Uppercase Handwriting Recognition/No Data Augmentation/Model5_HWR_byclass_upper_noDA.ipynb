{
  "nbformat": 4,
  "nbformat_minor": 0,
  "metadata": {
    "colab": {
      "name": "Model5-HWR-byclass-upper-noDA.ipynb",
      "provenance": []
    },
    "kernelspec": {
      "name": "python3",
      "display_name": "Python 3"
    },
    "accelerator": "GPU"
  },
  "cells": [
    {
      "cell_type": "code",
      "metadata": {
        "id": "WaamsQlM5zPi",
        "outputId": "83724ebe-ef32-4ee9-8599-725186b91d62",
        "colab": {
          "base_uri": "https://localhost:8080/",
          "height": 212
        }
      },
      "source": [
        "pip install emnist"
      ],
      "execution_count": null,
      "outputs": [
        {
          "output_type": "stream",
          "text": [
            "Collecting emnist\n",
            "  Downloading https://files.pythonhosted.org/packages/d1/f4/78b24acbef9e8fe976dda700f16a3606f3b8363b015bc555f8050fbbd8ac/emnist-0.0-py3-none-any.whl\n",
            "Requirement already satisfied: numpy in /usr/local/lib/python3.6/dist-packages (from emnist) (1.18.5)\n",
            "Requirement already satisfied: requests in /usr/local/lib/python3.6/dist-packages (from emnist) (2.23.0)\n",
            "Requirement already satisfied: tqdm in /usr/local/lib/python3.6/dist-packages (from emnist) (4.41.1)\n",
            "Requirement already satisfied: urllib3!=1.25.0,!=1.25.1,<1.26,>=1.21.1 in /usr/local/lib/python3.6/dist-packages (from requests->emnist) (1.24.3)\n",
            "Requirement already satisfied: certifi>=2017.4.17 in /usr/local/lib/python3.6/dist-packages (from requests->emnist) (2020.6.20)\n",
            "Requirement already satisfied: chardet<4,>=3.0.2 in /usr/local/lib/python3.6/dist-packages (from requests->emnist) (3.0.4)\n",
            "Requirement already satisfied: idna<3,>=2.5 in /usr/local/lib/python3.6/dist-packages (from requests->emnist) (2.10)\n",
            "Installing collected packages: emnist\n",
            "Successfully installed emnist-0.0\n"
          ],
          "name": "stdout"
        }
      ]
    },
    {
      "cell_type": "code",
      "metadata": {
        "id": "yzz5cngH59he"
      },
      "source": [
        "import os\n",
        "import numpy as np\n",
        "import matplotlib.pyplot as plt\n",
        "\n",
        "from pathlib import Path\n",
        "from collections import Counter\n",
        "\n",
        "import tensorflow as tf\n",
        "from tensorflow import keras\n",
        "from tensorflow.keras import layers\n",
        "\n",
        "from emnist import list_datasets, extract_training_samples, extract_test_samples"
      ],
      "execution_count": null,
      "outputs": []
    },
    {
      "cell_type": "code",
      "metadata": {
        "id": "9w6qPaD56HaU",
        "outputId": "c7069d90-c054-499d-b0dc-7a4170a47b5c",
        "colab": {
          "base_uri": "https://localhost:8080/",
          "height": 35
        }
      },
      "source": [
        "# load emnist dataset 'by class'\n",
        "\n",
        "images, labels = extract_training_samples('byclass')\n",
        "images_test, labels_test = extract_test_samples('byclass')"
      ],
      "execution_count": null,
      "outputs": [
        {
          "output_type": "stream",
          "text": [
            "Downloading emnist.zip: 536MB [00:04, 136MB/s]\n"
          ],
          "name": "stderr"
        }
      ]
    },
    {
      "cell_type": "code",
      "metadata": {
        "id": "CgkMrn-N6WJP"
      },
      "source": [
        "# find index of uppercase letters\n",
        "\n",
        "tr_index_UPP = [i for i in range(len(labels)) if labels[i]>=10 and labels[i] <= 35] \n",
        "ts_index_UPP = [i for i in range(len(labels_test)) if labels_test[i]>=10 and labels_test[i] <= 35]"
      ],
      "execution_count": null,
      "outputs": []
    },
    {
      "cell_type": "code",
      "metadata": {
        "id": "pjpAgQBL6hxs"
      },
      "source": [
        "# save images and labels in uppercase\n",
        "\n",
        "im_train_UPP = images[tr_index_UPP]\n",
        "im_test_UPP = images_test[ts_index_UPP]\n",
        "lab_train_UPP = labels[tr_index_UPP]\n",
        "lab_test_UPP = labels_test[ts_index_UPP]"
      ],
      "execution_count": null,
      "outputs": []
    },
    {
      "cell_type": "code",
      "metadata": {
        "id": "8_99A-YR6uY3"
      },
      "source": [
        "# reformulate labels for application of built-in function 'to_categorical'\n",
        "\n",
        "alf_UPP = {\n",
        "       10: 0,\n",
        "       11: 1,\n",
        "       12: 2,\n",
        "       13: 3,\n",
        "       14: 4,\n",
        "       15: 5,\n",
        "       16: 6,\n",
        "       17: 7,\n",
        "       18: 8,\n",
        "       19: 9,\n",
        "       20: 10,\n",
        "       21: 11,\n",
        "       22: 12,\n",
        "       23: 13,\n",
        "       24: 14,\n",
        "       25: 15,\n",
        "       26: 16,\n",
        "       27: 17,\n",
        "       28: 18,\n",
        "       29: 19,\n",
        "       30: 20,\n",
        "       31: 21,\n",
        "       32: 22,\n",
        "       33: 23,\n",
        "       34: 24,\n",
        "       35: 25,\n",
        "       }\n",
        "\n",
        "lab_train_UPP = [alf_UPP[label] for label in lab_train_UPP]\n",
        "lab_test_UPP = [alf_UPP[label] for label in lab_test_UPP]"
      ],
      "execution_count": null,
      "outputs": []
    },
    {
      "cell_type": "code",
      "metadata": {
        "id": "gXvoJ4X1_595",
        "outputId": "330781d4-7ab2-4e2b-fd85-8efa1ebe6856",
        "colab": {
          "base_uri": "https://localhost:8080/",
          "height": 35
        }
      },
      "source": [
        "# check labels\n",
        "\n",
        "lab_train_UPP[0]"
      ],
      "execution_count": null,
      "outputs": [
        {
          "output_type": "execute_result",
          "data": {
            "text/plain": [
              "25"
            ]
          },
          "metadata": {
            "tags": []
          },
          "execution_count": 7
        }
      ]
    },
    {
      "cell_type": "code",
      "metadata": {
        "id": "kj8i4Tyw_72J"
      },
      "source": [
        "# define image width and height and batch size\n",
        "\n",
        "# Batch size for training and validation\n",
        "batch_size = 32\n",
        "\n",
        "# Desired image dimensions\n",
        "img_width = 28\n",
        "img_height = 28"
      ],
      "execution_count": null,
      "outputs": []
    },
    {
      "cell_type": "code",
      "metadata": {
        "id": "txkyxT3JDili"
      },
      "source": [
        "# split training set in traininig and validation set\n",
        "\n",
        "def split_data(images, labels, train_size=0.9, shuffle=True):\n",
        "    # 1. Get the total size of the dataset\n",
        "    size = len(images)\n",
        "    # 2. Make an indices array and shuffle it, if required\n",
        "    indices = np.arange(size)\n",
        "    if shuffle:\n",
        "        np.random.shuffle(indices)\n",
        "    # 3. Get the size of training samples\n",
        "    train_samples = int(size * train_size)\n",
        "    # 4. Split data into training and validation sets\n",
        "    x_train, y_train = images[indices[:train_samples]], labels[indices[:train_samples]]\n",
        "    x_valid, y_valid = images[indices[train_samples:]], labels[indices[train_samples:]]\n",
        "    return x_train, x_valid, y_train, y_valid"
      ],
      "execution_count": null,
      "outputs": []
    },
    {
      "cell_type": "code",
      "metadata": {
        "id": "1Vp7uXl8Hamn"
      },
      "source": [
        "# Splitting data into training and validation sets\n",
        "x_train_UPP, x_valid_UPP, y_train_UPP, y_valid_UPP = split_data(np.array(im_train_UPP), np.array(lab_train_UPP))"
      ],
      "execution_count": null,
      "outputs": []
    },
    {
      "cell_type": "code",
      "metadata": {
        "id": "DlmupJ5eIGDF"
      },
      "source": [
        "# to categorical \n",
        "\n",
        "y_train_UPP = tf.keras.utils.to_categorical(y_train_UPP, 26)\n",
        "y_valid_UPP = tf.keras.utils.to_categorical(y_valid_UPP, 26)\n",
        "lab_test_UPP = tf.keras.utils.to_categorical(lab_test_UPP, 26)"
      ],
      "execution_count": null,
      "outputs": []
    },
    {
      "cell_type": "code",
      "metadata": {
        "id": "ZvQPt1RXI-OV"
      },
      "source": [
        "# normalize training, validation and test data\n",
        "\n",
        "x_train_UPP = tf.keras.utils.normalize(x_train_UPP, axis=1)\n",
        "x_valid_UPP = tf.keras.utils.normalize(x_valid_UPP, axis=1)\n",
        "im_test_UPP = tf.keras.utils.normalize(im_test_UPP, axis=1)"
      ],
      "execution_count": null,
      "outputs": []
    },
    {
      "cell_type": "code",
      "metadata": {
        "id": "xoml2gmkNnLr"
      },
      "source": [
        "# build model\n",
        "\n",
        "def build_model():\n",
        "    # Inputs to the model\n",
        "    input_img = layers.Input(\n",
        "        shape=(img_width, img_height, 1), name=\"image\", dtype=\"float32\"\n",
        "    )\n",
        "\n",
        "    # Output layer\n",
        "    x = layers.Dense(units=256, activation='sigmoid', name='dense_1')(input_img)\n",
        "    x = layers.Dense(units=128, activation=\"sigmoid\", name=\"dense2\")(x)\n",
        "    x = layers.Dense(units=64, activation=\"sigmoid\", name=\"dense3\")(x)\n",
        "    x = layers.Flatten()(x)\n",
        "    output = layers.Dense(units=26, activation=\"softmax\", name=\"dense4\")(x)\n",
        "\n",
        "    # Define the model\n",
        "    model = keras.models.Model(\n",
        "        inputs=input_img, outputs=output, name=\"ocr_model_v1\"\n",
        "    )\n",
        "    # Optimizer\n",
        "    opt = keras.optimizers.Adam()\n",
        "    # Compile the model and return\n",
        "    model.compile(loss='categorical_crossentropy',optimizer=opt, metrics=['accuracy'])\n",
        "\n",
        "    return model"
      ],
      "execution_count": null,
      "outputs": []
    },
    {
      "cell_type": "code",
      "metadata": {
        "id": "bCVkysqePH29",
        "outputId": "1c53e695-5d3f-459c-8667-b97ea0a07f3c",
        "colab": {
          "base_uri": "https://localhost:8080/",
          "height": 372
        }
      },
      "source": [
        "model = build_model()\n",
        "model.summary()"
      ],
      "execution_count": null,
      "outputs": [
        {
          "output_type": "stream",
          "text": [
            "Model: \"ocr_model_v1\"\n",
            "_________________________________________________________________\n",
            "Layer (type)                 Output Shape              Param #   \n",
            "=================================================================\n",
            "image (InputLayer)           [(None, 28, 28, 1)]       0         \n",
            "_________________________________________________________________\n",
            "dense_1 (Dense)              (None, 28, 28, 256)       512       \n",
            "_________________________________________________________________\n",
            "dense2 (Dense)               (None, 28, 28, 128)       32896     \n",
            "_________________________________________________________________\n",
            "dense3 (Dense)               (None, 28, 28, 64)        8256      \n",
            "_________________________________________________________________\n",
            "flatten (Flatten)            (None, 50176)             0         \n",
            "_________________________________________________________________\n",
            "dense4 (Dense)               (None, 26)                1304602   \n",
            "=================================================================\n",
            "Total params: 1,346,266\n",
            "Trainable params: 1,346,266\n",
            "Non-trainable params: 0\n",
            "_________________________________________________________________\n"
          ],
          "name": "stdout"
        }
      ]
    },
    {
      "cell_type": "code",
      "metadata": {
        "id": "v8YiuOWiPKKM",
        "outputId": "d36a1243-582c-4882-828f-6d88a517e960",
        "colab": {
          "base_uri": "https://localhost:8080/",
          "height": 564
        }
      },
      "source": [
        "from keras.utils import plot_model\n",
        "plot_model(model, to_file='/content/drive/My Drive/TESI/Models/Immagini/model5_byclass_upper_noDA.png')"
      ],
      "execution_count": null,
      "outputs": [
        {
          "output_type": "execute_result",
          "data": {
            "image/png": "[encoded data removed]",
            "text/plain": [
              "<IPython.core.display.Image object>"
            ]
          },
          "metadata": {
            "tags": []
          },
          "execution_count": 15
        }
      ]
    },
    {
      "cell_type": "code",
      "metadata": {
        "id": "Bupp_Vi9PtBO"
      },
      "source": [
        "epochs = 100\n",
        "early_stopping_patience = 10\n",
        "# Add early stopping\n",
        "early_stopping = keras.callbacks.EarlyStopping(\n",
        "    monitor=\"val_accuracy\", patience=early_stopping_patience, restore_best_weights=True, verbose=1\n",
        ")\n",
        "\n",
        "# Model CheckPoint\n",
        "cp = keras.callbacks.ModelCheckpoint('/content/drive/My Drive/TESI/Models/model5_UPP_byclass_noDA.h5',\n",
        "                                     verbose=1,\n",
        "                                     monitor='val_accuracy',\n",
        "                                     save_best_only=True,\n",
        "                                     mode='max')"
      ],
      "execution_count": null,
      "outputs": []
    },
    {
      "cell_type": "code",
      "metadata": {
        "id": "wU2qe4yJQVK5",
        "outputId": "7bd39ca2-f508-4ef4-e8db-41f5147d222c",
        "colab": {
          "base_uri": "https://localhost:8080/",
          "height": 1000
        }
      },
      "source": [
        "# fit model\n",
        "history1_UPP = model.fit(x_train_UPP,y_train_UPP,\n",
        "                    validation_data=(x_valid_UPP,y_valid_UPP),\n",
        "                    batch_size=batch_size,\n",
        "                    epochs=epochs,\n",
        "                    verbose=1,\n",
        "                    callbacks=[cp, early_stopping])"
      ],
      "execution_count": null,
      "outputs": [
        {
          "output_type": "stream",
          "text": [
            "Epoch 1/100\n",
            "5312/5315 [============================>.] - ETA: 0s - loss: 3.1258 - accuracy: 0.1303\n",
            "Epoch 00001: val_accuracy improved from -inf to 0.13696, saving model to /content/drive/My Drive/TESI/Models/model5_UPP_byclass_noDA.h5\n",
            "5315/5315 [==============================] - 92s 17ms/step - loss: 3.1258 - accuracy: 0.1303 - val_loss: 3.0230 - val_accuracy: 0.1370\n",
            "Epoch 2/100\n",
            "5315/5315 [==============================] - ETA: 0s - loss: 1.2955 - accuracy: 0.6354\n",
            "Epoch 00002: val_accuracy improved from 0.13696 to 0.87315, saving model to /content/drive/My Drive/TESI/Models/model5_UPP_byclass_noDA.h5\n",
            "5315/5315 [==============================] - 93s 18ms/step - loss: 1.2955 - accuracy: 0.6354 - val_loss: 0.4739 - val_accuracy: 0.8731\n",
            "Epoch 3/100\n",
            "5312/5315 [============================>.] - ETA: 0s - loss: 0.4097 - accuracy: 0.8892\n",
            "Epoch 00003: val_accuracy improved from 0.87315 to 0.88765, saving model to /content/drive/My Drive/TESI/Models/model5_UPP_byclass_noDA.h5\n",
            "5315/5315 [==============================] - 92s 17ms/step - loss: 0.4097 - accuracy: 0.8892 - val_loss: 0.4179 - val_accuracy: 0.8876\n",
            "Epoch 4/100\n",
            "5314/5315 [============================>.] - ETA: 0s - loss: 0.3615 - accuracy: 0.9013\n",
            "Epoch 00004: val_accuracy improved from 0.88765 to 0.89373, saving model to /content/drive/My Drive/TESI/Models/model5_UPP_byclass_noDA.h5\n",
            "5315/5315 [==============================] - 92s 17ms/step - loss: 0.3615 - accuracy: 0.9013 - val_loss: 0.4054 - val_accuracy: 0.8937\n",
            "Epoch 5/100\n",
            "5313/5315 [============================>.] - ETA: 0s - loss: 0.3321 - accuracy: 0.9087\n",
            "Epoch 00005: val_accuracy did not improve from 0.89373\n",
            "5315/5315 [==============================] - 92s 17ms/step - loss: 0.3321 - accuracy: 0.9087 - val_loss: 0.4093 - val_accuracy: 0.8930\n",
            "Epoch 6/100\n",
            "5314/5315 [============================>.] - ETA: 0s - loss: 0.3106 - accuracy: 0.9146\n",
            "Epoch 00006: val_accuracy did not improve from 0.89373\n",
            "5315/5315 [==============================] - 91s 17ms/step - loss: 0.3106 - accuracy: 0.9146 - val_loss: 0.4290 - val_accuracy: 0.8926\n",
            "Epoch 7/100\n",
            "5314/5315 [============================>.] - ETA: 0s - loss: 0.2936 - accuracy: 0.9177\n",
            "Epoch 00007: val_accuracy did not improve from 0.89373\n",
            "5315/5315 [==============================] - 91s 17ms/step - loss: 0.2936 - accuracy: 0.9178 - val_loss: 0.4307 - val_accuracy: 0.8915\n",
            "Epoch 8/100\n",
            "5314/5315 [============================>.] - ETA: 0s - loss: 0.2779 - accuracy: 0.9219\n",
            "Epoch 00008: val_accuracy did not improve from 0.89373\n",
            "5315/5315 [==============================] - 91s 17ms/step - loss: 0.2779 - accuracy: 0.9219 - val_loss: 0.4457 - val_accuracy: 0.8894\n",
            "Epoch 9/100\n",
            "5314/5315 [============================>.] - ETA: 0s - loss: 0.2648 - accuracy: 0.9259\n",
            "Epoch 00009: val_accuracy did not improve from 0.89373\n",
            "5315/5315 [==============================] - 92s 17ms/step - loss: 0.2648 - accuracy: 0.9259 - val_loss: 0.4484 - val_accuracy: 0.8899\n",
            "Epoch 10/100\n",
            "5314/5315 [============================>.] - ETA: 0s - loss: 0.2528 - accuracy: 0.9286\n",
            "Epoch 00010: val_accuracy did not improve from 0.89373\n",
            "5315/5315 [==============================] - 91s 17ms/step - loss: 0.2528 - accuracy: 0.9286 - val_loss: 0.4602 - val_accuracy: 0.8866\n",
            "Epoch 11/100\n",
            "5313/5315 [============================>.] - ETA: 0s - loss: 0.2424 - accuracy: 0.9317\n",
            "Epoch 00011: val_accuracy did not improve from 0.89373\n",
            "5315/5315 [==============================] - 91s 17ms/step - loss: 0.2425 - accuracy: 0.9316 - val_loss: 0.4821 - val_accuracy: 0.8817\n",
            "Epoch 12/100\n",
            "5312/5315 [============================>.] - ETA: 0s - loss: 0.2310 - accuracy: 0.9344\n",
            "Epoch 00012: val_accuracy did not improve from 0.89373\n",
            "5315/5315 [==============================] - 92s 17ms/step - loss: 0.2311 - accuracy: 0.9344 - val_loss: 0.5167 - val_accuracy: 0.8825\n",
            "Epoch 13/100\n",
            "5312/5315 [============================>.] - ETA: 0s - loss: 0.2226 - accuracy: 0.9365\n",
            "Epoch 00013: val_accuracy did not improve from 0.89373\n",
            "5315/5315 [==============================] - 91s 17ms/step - loss: 0.2226 - accuracy: 0.9365 - val_loss: 0.5267 - val_accuracy: 0.8806\n",
            "Epoch 14/100\n",
            "5314/5315 [============================>.] - ETA: 0s - loss: 0.2147 - accuracy: 0.9386\n",
            "Epoch 00014: val_accuracy did not improve from 0.89373\n",
            "Restoring model weights from the end of the best epoch.\n",
            "5315/5315 [==============================] - 91s 17ms/step - loss: 0.2147 - accuracy: 0.9386 - val_loss: 0.5097 - val_accuracy: 0.8833\n",
            "Epoch 00014: early stopping\n"
          ],
          "name": "stdout"
        }
      ]
    },
    {
      "cell_type": "code",
      "metadata": {
        "id": "XXHdIbq7Qv_I",
        "outputId": "cc88dfbf-3d77-46ed-a95a-83bef07f04df",
        "colab": {
          "base_uri": "https://localhost:8080/",
          "height": 1000
        }
      },
      "source": [
        "plt.figure(figsize=(16,9))\n",
        "# summarize history for accuracy\n",
        "plt.plot(history1_UPP.history['accuracy'])\n",
        "plt.plot(history1_UPP.history['val_accuracy'])\n",
        "plt.title('Model 5 uppercase letters accuracy (without Data Augmentation)')\n",
        "plt.ylabel('accuracy')\n",
        "plt.xlabel('epoch')\n",
        "plt.legend(['train', 'validation'], loc='lower right')\n",
        "plt.show()\n",
        "plt.figure(figsize=(16,9))\n",
        "\n",
        "# summarize history for loss\n",
        "plt.plot(history1_UPP.history['loss'])\n",
        "plt.plot(history1_UPP.history['val_loss'])\n",
        "plt.title('Model 5 uppercase letters loss (without Data Augmentation)')\n",
        "plt.ylabel('loss')\n",
        "plt.xlabel('epoch')\n",
        "plt.legend(['train', 'validation'], loc='upper right')\n",
        "plt.show()"
      ],
      "execution_count": null,
      "outputs": [
        {
          "output_type": "display_data",
          "data": {
            "image/png": "[encoded data removed]",
            "text/plain": [
              "<Figure size 1152x648 with 1 Axes>"
            ]
          },
          "metadata": {
            "tags": [],
            "needs_background": "light"
          }
        },
        {
          "output_type": "display_data",
          "data": {
            "image/png": "[encoded data removed]",
            "text/plain": [
              "<Figure size 1152x648 with 1 Axes>"
            ]
          },
          "metadata": {
            "tags": [],
            "needs_background": "light"
          }
        }
      ]
    },
    {
      "cell_type": "code",
      "metadata": {
        "id": "jOltsguOxFJp",
        "outputId": "14c7687b-afa8-41a1-cc49-a5b242219a6f",
        "colab": {
          "base_uri": "https://localhost:8080/",
          "height": 35
        }
      },
      "source": [
        "evaluation = model.evaluate(im_test_UPP, lab_test_UPP)"
      ],
      "execution_count": null,
      "outputs": [
        {
          "output_type": "stream",
          "text": [
            "980/980 [==============================] - 8s 8ms/step - loss: 0.3976 - accuracy: 0.8945\n"
          ],
          "name": "stdout"
        }
      ]
    },
    {
      "cell_type": "code",
      "metadata": {
        "id": "xMRCeTWLyimv",
        "outputId": "4cdc0c1b-d8fc-48e9-c6c2-2dc1011b7d21",
        "colab": {
          "base_uri": "https://localhost:8080/",
          "height": 35
        }
      },
      "source": [
        "evaluation"
      ],
      "execution_count": null,
      "outputs": [
        {
          "output_type": "execute_result",
          "data": {
            "text/plain": [
              "[0.3975522518157959, 0.8944681882858276]"
            ]
          },
          "metadata": {
            "tags": []
          },
          "execution_count": 20
        }
      ]
    },
    {
      "cell_type": "code",
      "metadata": {
        "id": "2b6yNk-c-oqX"
      },
      "source": [
        ""
      ],
      "execution_count": null,
      "outputs": []
    }
  ]
}