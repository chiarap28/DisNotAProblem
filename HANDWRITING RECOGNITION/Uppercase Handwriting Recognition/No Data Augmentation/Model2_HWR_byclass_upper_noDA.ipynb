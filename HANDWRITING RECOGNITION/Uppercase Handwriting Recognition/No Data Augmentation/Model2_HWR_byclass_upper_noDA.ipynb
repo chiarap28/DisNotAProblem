{
  "nbformat": 4,
  "nbformat_minor": 0,
  "metadata": {
    "colab": {
      "name": "Model2-HWR-byclass-upper-noDA.ipynb",
      "provenance": []
    },
    "kernelspec": {
      "name": "python3",
      "display_name": "Python 3"
    },
    "accelerator": "GPU"
  },
  "cells": [
    {
      "cell_type": "code",
      "metadata": {
        "id": "WaamsQlM5zPi",
        "outputId": "61112430-a729-4fd0-f475-e929741f04b2",
        "colab": {
          "base_uri": "https://localhost:8080/",
          "height": 212
        }
      },
      "source": [
        "pip install emnist"
      ],
      "execution_count": null,
      "outputs": [
        {
          "output_type": "stream",
          "text": [
            "Collecting emnist\n",
            "  Downloading https://files.pythonhosted.org/packages/d1/f4/78b24acbef9e8fe976dda700f16a3606f3b8363b015bc555f8050fbbd8ac/emnist-0.0-py3-none-any.whl\n",
            "Requirement already satisfied: requests in /usr/local/lib/python3.6/dist-packages (from emnist) (2.23.0)\n",
            "Requirement already satisfied: tqdm in /usr/local/lib/python3.6/dist-packages (from emnist) (4.41.1)\n",
            "Requirement already satisfied: numpy in /usr/local/lib/python3.6/dist-packages (from emnist) (1.18.5)\n",
            "Requirement already satisfied: certifi>=2017.4.17 in /usr/local/lib/python3.6/dist-packages (from requests->emnist) (2020.6.20)\n",
            "Requirement already satisfied: urllib3!=1.25.0,!=1.25.1,<1.26,>=1.21.1 in /usr/local/lib/python3.6/dist-packages (from requests->emnist) (1.24.3)\n",
            "Requirement already satisfied: chardet<4,>=3.0.2 in /usr/local/lib/python3.6/dist-packages (from requests->emnist) (3.0.4)\n",
            "Requirement already satisfied: idna<3,>=2.5 in /usr/local/lib/python3.6/dist-packages (from requests->emnist) (2.10)\n",
            "Installing collected packages: emnist\n",
            "Successfully installed emnist-0.0\n"
          ],
          "name": "stdout"
        }
      ]
    },
    {
      "cell_type": "code",
      "metadata": {
        "id": "yzz5cngH59he"
      },
      "source": [
        "import os\n",
        "import numpy as np\n",
        "import matplotlib.pyplot as plt\n",
        "\n",
        "from pathlib import Path\n",
        "from collections import Counter\n",
        "\n",
        "import tensorflow as tf\n",
        "from tensorflow import keras\n",
        "from tensorflow.keras import layers\n",
        "\n",
        "from emnist import list_datasets, extract_training_samples, extract_test_samples"
      ],
      "execution_count": null,
      "outputs": []
    },
    {
      "cell_type": "code",
      "metadata": {
        "id": "9w6qPaD56HaU",
        "outputId": "fcd4626a-272d-415e-9160-b9d17419ee3f",
        "colab": {
          "base_uri": "https://localhost:8080/",
          "height": 35
        }
      },
      "source": [
        "# load emnist dataset 'by class'\n",
        "\n",
        "images, labels = extract_training_samples('byclass')\n",
        "images_test, labels_test = extract_test_samples('byclass')"
      ],
      "execution_count": null,
      "outputs": [
        {
          "output_type": "stream",
          "text": [
            "Downloading emnist.zip: 536MB [00:03, 155MB/s]\n"
          ],
          "name": "stderr"
        }
      ]
    },
    {
      "cell_type": "code",
      "metadata": {
        "id": "CgkMrn-N6WJP"
      },
      "source": [
        "# find index of uppercase letters\n",
        "\n",
        "tr_index_UPP = [i for i in range(len(labels)) if labels[i]>=10 and labels[i] <= 35] \n",
        "ts_index_UPP = [i for i in range(len(labels_test)) if labels_test[i]>=10 and labels_test[i] <= 35]"
      ],
      "execution_count": null,
      "outputs": []
    },
    {
      "cell_type": "code",
      "metadata": {
        "id": "pjpAgQBL6hxs"
      },
      "source": [
        "# save images and labels in uppercase\n",
        "\n",
        "im_train_UPP = images[tr_index_UPP]\n",
        "im_test_UPP = images_test[ts_index_UPP]\n",
        "lab_train_UPP = labels[tr_index_UPP]\n",
        "lab_test_UPP = labels_test[ts_index_UPP]"
      ],
      "execution_count": null,
      "outputs": []
    },
    {
      "cell_type": "code",
      "metadata": {
        "id": "8_99A-YR6uY3"
      },
      "source": [
        "# reformulate labels for application of built-in function 'to_categorical'\n",
        "\n",
        "alf_UPP = {\n",
        "       10: 0,\n",
        "       11: 1,\n",
        "       12: 2,\n",
        "       13: 3,\n",
        "       14: 4,\n",
        "       15: 5,\n",
        "       16: 6,\n",
        "       17: 7,\n",
        "       18: 8,\n",
        "       19: 9,\n",
        "       20: 10,\n",
        "       21: 11,\n",
        "       22: 12,\n",
        "       23: 13,\n",
        "       24: 14,\n",
        "       25: 15,\n",
        "       26: 16,\n",
        "       27: 17,\n",
        "       28: 18,\n",
        "       29: 19,\n",
        "       30: 20,\n",
        "       31: 21,\n",
        "       32: 22,\n",
        "       33: 23,\n",
        "       34: 24,\n",
        "       35: 25,\n",
        "       }\n",
        "\n",
        "lab_train_UPP = [alf_UPP[label] for label in lab_train_UPP]\n",
        "lab_test_UPP = [alf_UPP[label] for label in lab_test_UPP]"
      ],
      "execution_count": null,
      "outputs": []
    },
    {
      "cell_type": "code",
      "metadata": {
        "id": "gXvoJ4X1_595",
        "outputId": "598567a2-11c7-433f-a69f-163cdcc17ffb",
        "colab": {
          "base_uri": "https://localhost:8080/",
          "height": 35
        }
      },
      "source": [
        "# check labels\n",
        "\n",
        "lab_train_UPP[0]"
      ],
      "execution_count": null,
      "outputs": [
        {
          "output_type": "execute_result",
          "data": {
            "text/plain": [
              "25"
            ]
          },
          "metadata": {
            "tags": []
          },
          "execution_count": 7
        }
      ]
    },
    {
      "cell_type": "code",
      "metadata": {
        "id": "kj8i4Tyw_72J"
      },
      "source": [
        "# define image width and height and batch size\n",
        "\n",
        "# Batch size for training and validation\n",
        "batch_size = 32\n",
        "\n",
        "# Desired image dimensions\n",
        "img_width = 28\n",
        "img_height = 28"
      ],
      "execution_count": null,
      "outputs": []
    },
    {
      "cell_type": "code",
      "metadata": {
        "id": "txkyxT3JDili"
      },
      "source": [
        "# split training set in traininig and validation set\n",
        "\n",
        "def split_data(images, labels, train_size=0.9, shuffle=True):\n",
        "    # 1. Get the total size of the dataset\n",
        "    size = len(images)\n",
        "    # 2. Make an indices array and shuffle it, if required\n",
        "    indices = np.arange(size)\n",
        "    if shuffle:\n",
        "        np.random.shuffle(indices)\n",
        "    # 3. Get the size of training samples\n",
        "    train_samples = int(size * train_size)\n",
        "    # 4. Split data into training and validation sets\n",
        "    x_train, y_train = images[indices[:train_samples]], labels[indices[:train_samples]]\n",
        "    x_valid, y_valid = images[indices[train_samples:]], labels[indices[train_samples:]]\n",
        "    return x_train, x_valid, y_train, y_valid"
      ],
      "execution_count": null,
      "outputs": []
    },
    {
      "cell_type": "code",
      "metadata": {
        "id": "1Vp7uXl8Hamn"
      },
      "source": [
        "# Splitting data into training and validation sets\n",
        "x_train_UPP, x_valid_UPP, y_train_UPP, y_valid_UPP = split_data(np.array(im_train_UPP), np.array(lab_train_UPP))"
      ],
      "execution_count": null,
      "outputs": []
    },
    {
      "cell_type": "code",
      "metadata": {
        "id": "DlmupJ5eIGDF"
      },
      "source": [
        "# to categorical \n",
        "\n",
        "y_train_UPP = tf.keras.utils.to_categorical(y_train_UPP, 26)\n",
        "y_valid_UPP = tf.keras.utils.to_categorical(y_valid_UPP, 26)\n",
        "lab_test_UPP = tf.keras.utils.to_categorical(lab_test_UPP, 26)"
      ],
      "execution_count": null,
      "outputs": []
    },
    {
      "cell_type": "code",
      "metadata": {
        "id": "ZvQPt1RXI-OV"
      },
      "source": [
        "# normalize training, validation and test data\n",
        "\n",
        "x_train_UPP = tf.keras.utils.normalize(x_train_UPP, axis=1)\n",
        "x_valid_UPP = tf.keras.utils.normalize(x_valid_UPP, axis=1)\n",
        "im_test_UPP = tf.keras.utils.normalize(im_test_UPP, axis=1)"
      ],
      "execution_count": null,
      "outputs": []
    },
    {
      "cell_type": "code",
      "metadata": {
        "id": "xoml2gmkNnLr"
      },
      "source": [
        "# build model\n",
        "\n",
        "def build_model():\n",
        "    # Inputs to the model\n",
        "    input_img = layers.Input(\n",
        "        shape=(img_width, img_height, 1), name=\"image\", dtype=\"float32\"\n",
        "    )\n",
        "    # First conv block\n",
        "    x = layers.Conv2D(\n",
        "        64,\n",
        "        (3, 3),\n",
        "        activation=\"relu\",\n",
        "        kernel_initializer=\"he_normal\",\n",
        "        padding=\"same\",\n",
        "        name=\"Conv1\",\n",
        "    )(input_img)\n",
        "    x = layers.MaxPooling2D((2, 2),padding='same',name=\"pool1\")(x)\n",
        "\n",
        "    # Second conv block\n",
        "    x = layers.Conv2D(\n",
        "        128,\n",
        "        (3, 3),\n",
        "        activation=\"relu\",\n",
        "        kernel_initializer=\"he_normal\",\n",
        "        padding=\"same\",\n",
        "        name=\"Conv2\",\n",
        "    )(x)\n",
        "    x = layers.MaxPooling2D((2, 2), padding='same',name=\"pool2\")(x)\n",
        "    x = layers.Flatten()(x)\n",
        "    \n",
        "    # MLP + Output layer\n",
        "    x = layers.Dense(units=128, activation='sigmoid', name='dense_1')(x)\n",
        "    output = layers.Dense(units=26, activation=\"softmax\", name=\"dense2\")(x)\n",
        "\n",
        "    # Define the model\n",
        "    model = keras.models.Model(\n",
        "        inputs=input_img, outputs=output, name=\"ocr_model_v1\"\n",
        "    )\n",
        "    # Optimizer\n",
        "    opt = keras.optimizers.Adam()\n",
        "    # Compile the model and return\n",
        "    model.compile(loss='categorical_crossentropy',optimizer=opt, metrics=['accuracy'])\n",
        "\n",
        "    return model"
      ],
      "execution_count": null,
      "outputs": []
    },
    {
      "cell_type": "code",
      "metadata": {
        "id": "bCVkysqePH29",
        "outputId": "f469ba1c-9366-4427-fe30-fb58392ec64b",
        "colab": {
          "base_uri": "https://localhost:8080/",
          "height": 444
        }
      },
      "source": [
        "model = build_model()\n",
        "model.summary()"
      ],
      "execution_count": null,
      "outputs": [
        {
          "output_type": "stream",
          "text": [
            "Model: \"ocr_model_v1\"\n",
            "_________________________________________________________________\n",
            "Layer (type)                 Output Shape              Param #   \n",
            "=================================================================\n",
            "image (InputLayer)           [(None, 28, 28, 1)]       0         \n",
            "_________________________________________________________________\n",
            "Conv1 (Conv2D)               (None, 28, 28, 64)        640       \n",
            "_________________________________________________________________\n",
            "pool1 (MaxPooling2D)         (None, 14, 14, 64)        0         \n",
            "_________________________________________________________________\n",
            "Conv2 (Conv2D)               (None, 14, 14, 128)       73856     \n",
            "_________________________________________________________________\n",
            "pool2 (MaxPooling2D)         (None, 7, 7, 128)         0         \n",
            "_________________________________________________________________\n",
            "flatten (Flatten)            (None, 6272)              0         \n",
            "_________________________________________________________________\n",
            "dense_1 (Dense)              (None, 128)               802944    \n",
            "_________________________________________________________________\n",
            "dense2 (Dense)               (None, 26)                3354      \n",
            "=================================================================\n",
            "Total params: 880,794\n",
            "Trainable params: 880,794\n",
            "Non-trainable params: 0\n",
            "_________________________________________________________________\n"
          ],
          "name": "stdout"
        }
      ]
    },
    {
      "cell_type": "code",
      "metadata": {
        "id": "v8YiuOWiPKKM",
        "outputId": "86a38e8b-fd1f-4fd6-a05c-0e044cfea200",
        "colab": {
          "base_uri": "https://localhost:8080/",
          "height": 758
        }
      },
      "source": [
        "from keras.utils import plot_model\n",
        "plot_model(model, to_file='/content/drive/My Drive/TESI/Models/Immagini/model2_byclass_upper_noDA.png')"
      ],
      "execution_count": null,
      "outputs": [
        {
          "output_type": "execute_result",
          "data": {
            "image/png": "[encoded data removed]",
            "text/plain": [
              "<IPython.core.display.Image object>"
            ]
          },
          "metadata": {
            "tags": []
          },
          "execution_count": 15
        }
      ]
    },
    {
      "cell_type": "code",
      "metadata": {
        "id": "Bupp_Vi9PtBO"
      },
      "source": [
        "epochs = 100\n",
        "early_stopping_patience = 10\n",
        "# Add early stopping\n",
        "early_stopping = keras.callbacks.EarlyStopping(\n",
        "    monitor=\"val_accuracy\", patience=early_stopping_patience, restore_best_weights=True, verbose=1\n",
        ")\n",
        "\n",
        "# Model CheckPoint\n",
        "cp = keras.callbacks.ModelCheckpoint('/content/drive/My Drive/TESI/Models/model2_UPP_byclass_noDA.h5',\n",
        "                                     verbose=1,\n",
        "                                     monitor='val_accuracy',\n",
        "                                     save_best_only=True,\n",
        "                                     mode='max')"
      ],
      "execution_count": null,
      "outputs": []
    },
    {
      "cell_type": "code",
      "metadata": {
        "id": "wU2qe4yJQVK5",
        "outputId": "c0412561-9ba9-458d-80be-22c95de14967",
        "colab": {
          "base_uri": "https://localhost:8080/",
          "height": 1000
        }
      },
      "source": [
        "# fit model\n",
        "history1_UPP = model.fit(x_train_UPP,y_train_UPP,\n",
        "                    validation_data=(x_valid_UPP,y_valid_UPP),\n",
        "                    batch_size=batch_size,\n",
        "                    epochs=epochs,\n",
        "                    verbose=1,\n",
        "                    callbacks=[cp, early_stopping])"
      ],
      "execution_count": null,
      "outputs": [
        {
          "output_type": "stream",
          "text": [
            "Epoch 1/100\n",
            "5315/5315 [==============================] - ETA: 0s - loss: 0.2090 - accuracy: 0.9464\n",
            "Epoch 00001: val_accuracy improved from -inf to 0.97227, saving model to /content/drive/My Drive/TESI/Models/model2_UPP_byclass_noDA.h5\n",
            "5315/5315 [==============================] - 38s 7ms/step - loss: 0.2090 - accuracy: 0.9464 - val_loss: 0.1113 - val_accuracy: 0.9723\n",
            "Epoch 2/100\n",
            "5311/5315 [============================>.] - ETA: 0s - loss: 0.0840 - accuracy: 0.9768\n",
            "Epoch 00002: val_accuracy improved from 0.97227 to 0.97619, saving model to /content/drive/My Drive/TESI/Models/model2_UPP_byclass_noDA.h5\n",
            "5315/5315 [==============================] - 37s 7ms/step - loss: 0.0840 - accuracy: 0.9768 - val_loss: 0.0894 - val_accuracy: 0.9762\n",
            "Epoch 3/100\n",
            "5315/5315 [==============================] - ETA: 0s - loss: 0.0600 - accuracy: 0.9832\n",
            "Epoch 00003: val_accuracy did not improve from 0.97619\n",
            "5315/5315 [==============================] - 36s 7ms/step - loss: 0.0600 - accuracy: 0.9832 - val_loss: 0.0929 - val_accuracy: 0.9754\n",
            "Epoch 4/100\n",
            "5315/5315 [==============================] - ETA: 0s - loss: 0.0455 - accuracy: 0.9873\n",
            "Epoch 00004: val_accuracy improved from 0.97619 to 0.97883, saving model to /content/drive/My Drive/TESI/Models/model2_UPP_byclass_noDA.h5\n",
            "5315/5315 [==============================] - 37s 7ms/step - loss: 0.0455 - accuracy: 0.9873 - val_loss: 0.0860 - val_accuracy: 0.9788\n",
            "Epoch 5/100\n",
            "5308/5315 [============================>.] - ETA: 0s - loss: 0.0346 - accuracy: 0.9905\n",
            "Epoch 00005: val_accuracy did not improve from 0.97883\n",
            "5315/5315 [==============================] - 36s 7ms/step - loss: 0.0346 - accuracy: 0.9905 - val_loss: 0.0907 - val_accuracy: 0.9773\n",
            "Epoch 6/100\n",
            "5309/5315 [============================>.] - ETA: 0s - loss: 0.0268 - accuracy: 0.9927\n",
            "Epoch 00006: val_accuracy did not improve from 0.97883\n",
            "5315/5315 [==============================] - 36s 7ms/step - loss: 0.0268 - accuracy: 0.9927 - val_loss: 0.0900 - val_accuracy: 0.9784\n",
            "Epoch 7/100\n",
            "5311/5315 [============================>.] - ETA: 0s - loss: 0.0214 - accuracy: 0.9938\n",
            "Epoch 00007: val_accuracy improved from 0.97883 to 0.97910, saving model to /content/drive/My Drive/TESI/Models/model2_UPP_byclass_noDA.h5\n",
            "5315/5315 [==============================] - 38s 7ms/step - loss: 0.0214 - accuracy: 0.9938 - val_loss: 0.0897 - val_accuracy: 0.9791\n",
            "Epoch 8/100\n",
            "5314/5315 [============================>.] - ETA: 0s - loss: 0.0179 - accuracy: 0.9949\n",
            "Epoch 00008: val_accuracy did not improve from 0.97910\n",
            "5315/5315 [==============================] - 36s 7ms/step - loss: 0.0179 - accuracy: 0.9949 - val_loss: 0.0949 - val_accuracy: 0.9779\n",
            "Epoch 9/100\n",
            "5313/5315 [============================>.] - ETA: 0s - loss: 0.0146 - accuracy: 0.9960\n",
            "Epoch 00009: val_accuracy did not improve from 0.97910\n",
            "5315/5315 [==============================] - 36s 7ms/step - loss: 0.0146 - accuracy: 0.9960 - val_loss: 0.0974 - val_accuracy: 0.9775\n",
            "Epoch 10/100\n",
            "5315/5315 [==============================] - ETA: 0s - loss: 0.0123 - accuracy: 0.9965\n",
            "Epoch 00010: val_accuracy did not improve from 0.97910\n",
            "5315/5315 [==============================] - 36s 7ms/step - loss: 0.0123 - accuracy: 0.9965 - val_loss: 0.1032 - val_accuracy: 0.9775\n",
            "Epoch 11/100\n",
            "5309/5315 [============================>.] - ETA: 0s - loss: 0.0105 - accuracy: 0.9970\n",
            "Epoch 00011: val_accuracy did not improve from 0.97910\n",
            "5315/5315 [==============================] - 36s 7ms/step - loss: 0.0105 - accuracy: 0.9970 - val_loss: 0.1087 - val_accuracy: 0.9765\n",
            "Epoch 12/100\n",
            "5314/5315 [============================>.] - ETA: 0s - loss: 0.0091 - accuracy: 0.9973\n",
            "Epoch 00012: val_accuracy did not improve from 0.97910\n",
            "5315/5315 [==============================] - 35s 7ms/step - loss: 0.0091 - accuracy: 0.9973 - val_loss: 0.1048 - val_accuracy: 0.9772\n",
            "Epoch 13/100\n",
            "5309/5315 [============================>.] - ETA: 0s - loss: 0.0080 - accuracy: 0.9977\n",
            "Epoch 00013: val_accuracy did not improve from 0.97910\n",
            "5315/5315 [==============================] - 36s 7ms/step - loss: 0.0081 - accuracy: 0.9977 - val_loss: 0.1136 - val_accuracy: 0.9769\n",
            "Epoch 14/100\n",
            "5313/5315 [============================>.] - ETA: 0s - loss: 0.0070 - accuracy: 0.9979\n",
            "Epoch 00014: val_accuracy did not improve from 0.97910\n",
            "5315/5315 [==============================] - 36s 7ms/step - loss: 0.0070 - accuracy: 0.9979 - val_loss: 0.1245 - val_accuracy: 0.9754\n",
            "Epoch 15/100\n",
            "5312/5315 [============================>.] - ETA: 0s - loss: 0.0064 - accuracy: 0.9980\n",
            "Epoch 00015: val_accuracy did not improve from 0.97910\n",
            "5315/5315 [==============================] - 36s 7ms/step - loss: 0.0064 - accuracy: 0.9980 - val_loss: 0.1233 - val_accuracy: 0.9751\n",
            "Epoch 16/100\n",
            "5311/5315 [============================>.] - ETA: 0s - loss: 0.0055 - accuracy: 0.9984\n",
            "Epoch 00016: val_accuracy did not improve from 0.97910\n",
            "5315/5315 [==============================] - 36s 7ms/step - loss: 0.0055 - accuracy: 0.9984 - val_loss: 0.1239 - val_accuracy: 0.9762\n",
            "Epoch 17/100\n",
            "5309/5315 [============================>.] - ETA: 0s - loss: 0.0049 - accuracy: 0.9985\n",
            "Epoch 00017: val_accuracy did not improve from 0.97910\n",
            "Restoring model weights from the end of the best epoch.\n",
            "5315/5315 [==============================] - 35s 7ms/step - loss: 0.0049 - accuracy: 0.9985 - val_loss: 0.1215 - val_accuracy: 0.9771\n",
            "Epoch 00017: early stopping\n"
          ],
          "name": "stdout"
        }
      ]
    },
    {
      "cell_type": "code",
      "metadata": {
        "id": "XXHdIbq7Qv_I",
        "outputId": "3ce76541-7860-4696-bc55-3e99c86900a2",
        "colab": {
          "base_uri": "https://localhost:8080/",
          "height": 1000
        }
      },
      "source": [
        "plt.figure(figsize=(16,9))\n",
        "# summarize history for accuracy\n",
        "plt.plot(history1_UPP.history['accuracy'])\n",
        "plt.plot(history1_UPP.history['val_accuracy'])\n",
        "plt.title('Model 2 uppercase letters accuracy (without Data Augmentation)')\n",
        "plt.ylabel('accuracy')\n",
        "plt.xlabel('epoch')\n",
        "plt.legend(['train', 'validation'], loc='lower right')\n",
        "plt.show()\n",
        "plt.figure(figsize=(16,9))\n",
        "\n",
        "# summarize history for loss\n",
        "plt.plot(history1_UPP.history['loss'])\n",
        "plt.plot(history1_UPP.history['val_loss'])\n",
        "plt.title('Model 2 uppercase letters loss (without Data Augmentation)')\n",
        "plt.ylabel('loss')\n",
        "plt.xlabel('epoch')\n",
        "plt.legend(['train', 'validation'], loc='upper right')\n",
        "plt.show()"
      ],
      "execution_count": null,
      "outputs": [
        {
          "output_type": "display_data",
          "data": {
            "image/png": "[encoded data removed]",
            "text/plain": [
              "<Figure size 1152x648 with 1 Axes>"
            ]
          },
          "metadata": {
            "tags": [],
            "needs_background": "light"
          }
        },
        {
          "output_type": "display_data",
          "data": {
            "image/png": "[encoded data removed]",
            "text/plain": [
              "<Figure size 1152x648 with 1 Axes>"
            ]
          },
          "metadata": {
            "tags": [],
            "needs_background": "light"
          }
        }
      ]
    },
    {
      "cell_type": "code",
      "metadata": {
        "id": "jOltsguOxFJp",
        "outputId": "9bb2e8b5-4aa2-436b-bdc7-f5cfdb80d34b",
        "colab": {
          "base_uri": "https://localhost:8080/",
          "height": 35
        }
      },
      "source": [
        "evaluation = model.evaluate(im_test_UPP, lab_test_UPP)"
      ],
      "execution_count": null,
      "outputs": [
        {
          "output_type": "stream",
          "text": [
            "980/980 [==============================] - 4s 4ms/step - loss: 0.0816 - accuracy: 0.9793\n"
          ],
          "name": "stdout"
        }
      ]
    },
    {
      "cell_type": "code",
      "metadata": {
        "id": "xMRCeTWLyimv",
        "outputId": "12bd5481-73df-41d1-8828-a8d6a4204512",
        "colab": {
          "base_uri": "https://localhost:8080/",
          "height": 35
        }
      },
      "source": [
        "evaluation"
      ],
      "execution_count": null,
      "outputs": [
        {
          "output_type": "execute_result",
          "data": {
            "text/plain": [
              "[0.08157197386026382, 0.9792637228965759]"
            ]
          },
          "metadata": {
            "tags": []
          },
          "execution_count": 20
        }
      ]
    },
    {
      "cell_type": "code",
      "metadata": {
        "id": "2b6yNk-c-oqX"
      },
      "source": [
        ""
      ],
      "execution_count": null,
      "outputs": []
    }
  ]
}