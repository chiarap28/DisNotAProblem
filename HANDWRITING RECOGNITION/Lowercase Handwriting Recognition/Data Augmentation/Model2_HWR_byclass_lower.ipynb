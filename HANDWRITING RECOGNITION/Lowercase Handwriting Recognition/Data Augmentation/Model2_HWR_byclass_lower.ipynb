{
  "nbformat": 4,
  "nbformat_minor": 0,
  "metadata": {
    "colab": {
      "name": "Model2-HWR-byclass-lower.ipynb",
      "provenance": [],
      "collapsed_sections": []
    },
    "kernelspec": {
      "name": "python3",
      "display_name": "Python 3"
    },
    "accelerator": "GPU"
  },
  "cells": [
    {
      "cell_type": "code",
      "metadata": {
        "id": "WaamsQlM5zPi",
        "outputId": "02a51653-4751-41a2-8c81-b4ee5f50f22c",
        "colab": {
          "base_uri": "https://localhost:8080/",
          "height": 212
        }
      },
      "source": [
        "pip install emnist"
      ],
      "execution_count": null,
      "outputs": [
        {
          "output_type": "stream",
          "text": [
            "Collecting emnist\n",
            "  Downloading https://files.pythonhosted.org/packages/d1/f4/78b24acbef9e8fe976dda700f16a3606f3b8363b015bc555f8050fbbd8ac/emnist-0.0-py3-none-any.whl\n",
            "Requirement already satisfied: tqdm in /usr/local/lib/python3.6/dist-packages (from emnist) (4.41.1)\n",
            "Requirement already satisfied: requests in /usr/local/lib/python3.6/dist-packages (from emnist) (2.23.0)\n",
            "Requirement already satisfied: numpy in /usr/local/lib/python3.6/dist-packages (from emnist) (1.18.5)\n",
            "Requirement already satisfied: urllib3!=1.25.0,!=1.25.1,<1.26,>=1.21.1 in /usr/local/lib/python3.6/dist-packages (from requests->emnist) (1.24.3)\n",
            "Requirement already satisfied: idna<3,>=2.5 in /usr/local/lib/python3.6/dist-packages (from requests->emnist) (2.10)\n",
            "Requirement already satisfied: certifi>=2017.4.17 in /usr/local/lib/python3.6/dist-packages (from requests->emnist) (2020.6.20)\n",
            "Requirement already satisfied: chardet<4,>=3.0.2 in /usr/local/lib/python3.6/dist-packages (from requests->emnist) (3.0.4)\n",
            "Installing collected packages: emnist\n",
            "Successfully installed emnist-0.0\n"
          ],
          "name": "stdout"
        }
      ]
    },
    {
      "cell_type": "code",
      "metadata": {
        "id": "yzz5cngH59he"
      },
      "source": [
        "import os\n",
        "import numpy as np\n",
        "import matplotlib.pyplot as plt\n",
        "\n",
        "from pathlib import Path\n",
        "from collections import Counter\n",
        "\n",
        "import tensorflow as tf\n",
        "from tensorflow import keras\n",
        "from tensorflow.keras import layers\n",
        "\n",
        "from emnist import list_datasets, extract_training_samples, extract_test_samples"
      ],
      "execution_count": null,
      "outputs": []
    },
    {
      "cell_type": "code",
      "metadata": {
        "id": "9w6qPaD56HaU",
        "outputId": "afea3c96-e667-40cb-ec49-3aeb3c9b7fc8",
        "colab": {
          "base_uri": "https://localhost:8080/",
          "height": 35
        }
      },
      "source": [
        "# load emnist dataset 'by class'\n",
        "\n",
        "images, labels = extract_training_samples('byclass')\n",
        "images_test, labels_test = extract_test_samples('byclass')"
      ],
      "execution_count": null,
      "outputs": [
        {
          "output_type": "stream",
          "text": [
            "Downloading emnist.zip: 536MB [00:07, 77.8MB/s]\n"
          ],
          "name": "stderr"
        }
      ]
    },
    {
      "cell_type": "code",
      "metadata": {
        "id": "CgkMrn-N6WJP"
      },
      "source": [
        "# find index of uppercase letters\n",
        "\n",
        "tr_index_UPP = [i for i in range(len(labels)) if labels[i]>=36 and labels[i] <= 61] \n",
        "ts_index_UPP = [i for i in range(len(labels_test)) if labels_test[i]>=36 and labels_test[i] <= 61]"
      ],
      "execution_count": null,
      "outputs": []
    },
    {
      "cell_type": "code",
      "metadata": {
        "id": "pjpAgQBL6hxs"
      },
      "source": [
        "# save images and labels in uppercase\n",
        "\n",
        "im_train_UPP = images[tr_index_UPP]\n",
        "im_test_UPP = images_test[ts_index_UPP]\n",
        "lab_train_UPP = labels[tr_index_UPP]\n",
        "lab_test_UPP = labels_test[ts_index_UPP]"
      ],
      "execution_count": null,
      "outputs": []
    },
    {
      "cell_type": "code",
      "metadata": {
        "id": "8_99A-YR6uY3"
      },
      "source": [
        "# reformulate labels for application of built-in function 'to_categorical'\n",
        "\n",
        "alf_UPP = {\n",
        "       36: 0,\n",
        "       37: 1,\n",
        "       38: 2,\n",
        "       39: 3,\n",
        "       40: 4,\n",
        "       41: 5,\n",
        "       42: 6,\n",
        "       43: 7,\n",
        "       44: 8,\n",
        "       45: 9,\n",
        "       46: 10,\n",
        "       47: 11,\n",
        "       48: 12,\n",
        "       49: 13,\n",
        "       50: 14,\n",
        "       51: 15,\n",
        "       52: 16,\n",
        "       53: 17,\n",
        "       54: 18,\n",
        "       55: 19,\n",
        "       56: 20,\n",
        "       57: 21,\n",
        "       58: 22,\n",
        "       59: 23,\n",
        "       60: 24,\n",
        "       61: 25,\n",
        "       }\n",
        "\n",
        "\n",
        "lab_train_UPP = [alf_UPP[label] for label in lab_train_UPP]\n",
        "lab_test_UPP = [alf_UPP[label] for label in lab_test_UPP]"
      ],
      "execution_count": null,
      "outputs": []
    },
    {
      "cell_type": "code",
      "metadata": {
        "id": "gXvoJ4X1_595",
        "outputId": "623dd0a7-2e07-4a25-e549-d4832815c559",
        "colab": {
          "base_uri": "https://localhost:8080/",
          "height": 35
        }
      },
      "source": [
        "# check labels\n",
        "\n",
        "lab_train_UPP[0]"
      ],
      "execution_count": null,
      "outputs": [
        {
          "output_type": "execute_result",
          "data": {
            "text/plain": [
              "0"
            ]
          },
          "metadata": {
            "tags": []
          },
          "execution_count": 7
        }
      ]
    },
    {
      "cell_type": "code",
      "metadata": {
        "id": "kj8i4Tyw_72J"
      },
      "source": [
        "# define image width and height and batch size\n",
        "\n",
        "# Batch size for training and validation\n",
        "batch_size = 32\n",
        "\n",
        "# Desired image dimensions\n",
        "img_width = 28\n",
        "img_height = 28"
      ],
      "execution_count": null,
      "outputs": []
    },
    {
      "cell_type": "code",
      "metadata": {
        "id": "txkyxT3JDili"
      },
      "source": [
        "# split training set in traininig and validation set\n",
        "\n",
        "def split_data(images, labels, train_size=0.9, shuffle=True):\n",
        "    # 1. Get the total size of the dataset\n",
        "    size = len(images)\n",
        "    # 2. Make an indices array and shuffle it, if required\n",
        "    indices = np.arange(size)\n",
        "    if shuffle:\n",
        "        np.random.shuffle(indices)\n",
        "    # 3. Get the size of training samples\n",
        "    train_samples = int(size * train_size)\n",
        "    # 4. Split data into training and validation sets\n",
        "    x_train, y_train = images[indices[:train_samples]], labels[indices[:train_samples]]\n",
        "    x_valid, y_valid = images[indices[train_samples:]], labels[indices[train_samples:]]\n",
        "    return x_train, x_valid, y_train, y_valid"
      ],
      "execution_count": null,
      "outputs": []
    },
    {
      "cell_type": "code",
      "metadata": {
        "id": "1Vp7uXl8Hamn"
      },
      "source": [
        "# Splitting data into training and validation sets\n",
        "x_train_UPP, x_valid_UPP, y_train_UPP, y_valid_UPP = split_data(np.array(im_train_UPP), np.array(lab_train_UPP))"
      ],
      "execution_count": null,
      "outputs": []
    },
    {
      "cell_type": "code",
      "metadata": {
        "id": "DlmupJ5eIGDF"
      },
      "source": [
        "# to categorical \n",
        "\n",
        "y_train_UPP = tf.keras.utils.to_categorical(y_train_UPP, 26)\n",
        "y_valid_UPP = tf.keras.utils.to_categorical(y_valid_UPP, 26)"
      ],
      "execution_count": null,
      "outputs": []
    },
    {
      "cell_type": "code",
      "metadata": {
        "id": "ZvQPt1RXI-OV"
      },
      "source": [
        "# normalize training, validation and test data\n",
        "\n",
        "x_train_UPP = tf.keras.utils.normalize(x_train_UPP, axis=1)\n",
        "x_valid_UPP = tf.keras.utils.normalize(x_valid_UPP, axis=1)\n",
        "im_test_UPP = tf.keras.utils.normalize(im_test_UPP, axis=1)"
      ],
      "execution_count": null,
      "outputs": []
    },
    {
      "cell_type": "code",
      "metadata": {
        "id": "bZrNm_RsMvg4"
      },
      "source": [
        "# using data augmentation\n",
        "\n",
        "train_datagen = tf.keras.preprocessing.image.ImageDataGenerator(featurewise_center=True,\n",
        "                                                          featurewise_std_normalization=True,\n",
        "                                                          rotation_range=20,\n",
        "                                                          width_shift_range=0.2,\n",
        "                                                          height_shift_range=0.2,\n",
        "                                                          horizontal_flip=True)\n",
        "valid_datagen = tf.keras.preprocessing.image.ImageDataGenerator(featurewise_center=True,\n",
        "                                                          featurewise_std_normalization=True,\n",
        "                                                          rotation_range=20,\n",
        "                                                          width_shift_range=0.2,\n",
        "                                                          height_shift_range=0.2,\n",
        "                                                          horizontal_flip=True)\n",
        "\n",
        "x_train_UPP = np.reshape(x_train_UPP, (len(x_train_UPP),img_width, img_width, 1))\n",
        "x_valid_UPP = np.reshape(x_valid_UPP, (len(x_valid_UPP),img_width, img_width, 1))\n",
        "im_test_UPP = np.reshape(im_test_UPP, (len(im_test_UPP), img_width, img_height, 1))\n",
        "\n",
        "train_datagen.fit(x_train_UPP)\n",
        "valid_datagen.fit(x_valid_UPP)"
      ],
      "execution_count": null,
      "outputs": []
    },
    {
      "cell_type": "code",
      "metadata": {
        "id": "xoml2gmkNnLr"
      },
      "source": [
        "# build model\n",
        "\n",
        "def build_model():\n",
        "    # Inputs to the model\n",
        "    input_img = layers.Input(\n",
        "        shape=(img_width, img_height, 1), name=\"image\", dtype=\"float32\"\n",
        "    )\n",
        "    # First conv block\n",
        "    x = layers.Conv2D(\n",
        "        64,\n",
        "        (3, 3),\n",
        "        activation=\"relu\",\n",
        "        kernel_initializer=\"he_normal\",\n",
        "        padding=\"same\",\n",
        "        name=\"Conv1\",\n",
        "    )(input_img)\n",
        "    x = layers.MaxPooling2D((2, 2),padding='same',name=\"pool1\")(x)\n",
        "\n",
        "    # Second conv block\n",
        "    x = layers.Conv2D(\n",
        "        128,\n",
        "        (3, 3),\n",
        "        activation=\"relu\",\n",
        "        kernel_initializer=\"he_normal\",\n",
        "        padding=\"same\",\n",
        "        name=\"Conv2\",\n",
        "    )(x)\n",
        "    x = layers.MaxPooling2D((2, 2), padding='same',name=\"pool2\")(x)\n",
        "    x = layers.Flatten()(x)\n",
        "    \n",
        "    # Output layer\n",
        "    x = layers.Dense(units=128, activation='sigmoid', name='dense_1')(x)\n",
        "    output = layers.Dense(units=26, activation=\"softmax\", name=\"dense2\")(x)\n",
        "\n",
        "    # Define the model\n",
        "    model = keras.models.Model(\n",
        "        inputs=input_img, outputs=output, name=\"ocr_model_v1\"\n",
        "    )\n",
        "    # Optimizer\n",
        "    opt = keras.optimizers.Adam()\n",
        "    # Compile the model and return\n",
        "    model.compile(loss='categorical_crossentropy',optimizer=opt, metrics=['accuracy'])\n",
        "\n",
        "    return model"
      ],
      "execution_count": null,
      "outputs": []
    },
    {
      "cell_type": "code",
      "metadata": {
        "id": "bCVkysqePH29",
        "outputId": "8741a78f-3926-43d5-b8ad-0cfea52d416e",
        "colab": {
          "base_uri": "https://localhost:8080/",
          "height": 444
        }
      },
      "source": [
        "model = build_model()\n",
        "model.summary()"
      ],
      "execution_count": null,
      "outputs": [
        {
          "output_type": "stream",
          "text": [
            "Model: \"ocr_model_v1\"\n",
            "_________________________________________________________________\n",
            "Layer (type)                 Output Shape              Param #   \n",
            "=================================================================\n",
            "image (InputLayer)           [(None, 28, 28, 1)]       0         \n",
            "_________________________________________________________________\n",
            "Conv1 (Conv2D)               (None, 28, 28, 64)        640       \n",
            "_________________________________________________________________\n",
            "pool1 (MaxPooling2D)         (None, 14, 14, 64)        0         \n",
            "_________________________________________________________________\n",
            "Conv2 (Conv2D)               (None, 14, 14, 128)       73856     \n",
            "_________________________________________________________________\n",
            "pool2 (MaxPooling2D)         (None, 7, 7, 128)         0         \n",
            "_________________________________________________________________\n",
            "flatten (Flatten)            (None, 6272)              0         \n",
            "_________________________________________________________________\n",
            "dense_1 (Dense)              (None, 128)               802944    \n",
            "_________________________________________________________________\n",
            "dense2 (Dense)               (None, 26)                3354      \n",
            "=================================================================\n",
            "Total params: 880,794\n",
            "Trainable params: 880,794\n",
            "Non-trainable params: 0\n",
            "_________________________________________________________________\n"
          ],
          "name": "stdout"
        }
      ]
    },
    {
      "cell_type": "code",
      "metadata": {
        "id": "v8YiuOWiPKKM",
        "outputId": "c0d642e8-4998-4488-ebb6-8907a9a2a645",
        "colab": {
          "base_uri": "https://localhost:8080/",
          "height": 758
        }
      },
      "source": [
        "from keras.utils import plot_model\n",
        "plot_model(model, to_file='/content/drive/My Drive/TESI/Models/Immagini/model2_byclass_lower.png')"
      ],
      "execution_count": null,
      "outputs": [
        {
          "output_type": "execute_result",
          "data": {
            "image/png": "[encoded data removed]",
            "text/plain": [
              "<IPython.core.display.Image object>"
            ]
          },
          "metadata": {
            "tags": []
          },
          "execution_count": 16
        }
      ]
    },
    {
      "cell_type": "code",
      "metadata": {
        "id": "Bupp_Vi9PtBO"
      },
      "source": [
        "epochs = 100\n",
        "early_stopping_patience = 10\n",
        "# Add early stopping\n",
        "early_stopping = keras.callbacks.EarlyStopping(\n",
        "    monitor=\"val_accuracy\", patience=early_stopping_patience, restore_best_weights=True, verbose=1\n",
        ")\n",
        "\n",
        "# Model CheckPoint\n",
        "cp = keras.callbacks.ModelCheckpoint('/content/drive/My Drive/TESI/Models/model2_LOW_byclass.h5',\n",
        "                                     verbose=1,\n",
        "                                     monitor='val_accuracy',\n",
        "                                     save_best_only=True,\n",
        "                                     mode='max')"
      ],
      "execution_count": null,
      "outputs": []
    },
    {
      "cell_type": "code",
      "metadata": {
        "id": "wU2qe4yJQVK5",
        "outputId": "541f67e7-9e79-4960-a24e-ed6f9786ebe0",
        "colab": {
          "base_uri": "https://localhost:8080/",
          "height": 1000
        }
      },
      "source": [
        "# fit model\n",
        "history1_UPP = model.fit(train_datagen.flow(x_train_UPP,y_train_UPP, batch_size=batch_size),\n",
        "                    validation_data=valid_datagen.flow(x_valid_UPP,y_valid_UPP, batch_size=batch_size),\n",
        "                    steps_per_epoch=len(x_train_UPP)//batch_size,\n",
        "                    validation_steps=len(x_valid_UPP)//batch_size,\n",
        "                    epochs=epochs,\n",
        "                    verbose=1,\n",
        "                    callbacks=[cp, early_stopping])"
      ],
      "execution_count": null,
      "outputs": [
        {
          "output_type": "stream",
          "text": [
            "Epoch 1/100\n",
            "4609/4610 [============================>.] - ETA: 0s - loss: 0.8978 - accuracy: 0.7357\n",
            "Epoch 00001: val_accuracy improved from -inf to 0.83282, saving model to /content/drive/My Drive/TESI/Models/model2_LOW_byclass.h5\n",
            "4610/4610 [==============================] - 80s 17ms/step - loss: 0.8977 - accuracy: 0.7357 - val_loss: 0.5399 - val_accuracy: 0.8328\n",
            "Epoch 2/100\n",
            "4608/4610 [============================>.] - ETA: 0s - loss: 0.5093 - accuracy: 0.8408\n",
            "Epoch 00002: val_accuracy improved from 0.83282 to 0.84808, saving model to /content/drive/My Drive/TESI/Models/model2_LOW_byclass.h5\n",
            "4610/4610 [==============================] - 81s 18ms/step - loss: 0.5093 - accuracy: 0.8408 - val_loss: 0.4879 - val_accuracy: 0.8481\n",
            "Epoch 3/100\n",
            "4608/4610 [============================>.] - ETA: 0s - loss: 0.4525 - accuracy: 0.8569\n",
            "Epoch 00003: val_accuracy improved from 0.84808 to 0.86536, saving model to /content/drive/My Drive/TESI/Models/model2_LOW_byclass.h5\n",
            "4610/4610 [==============================] - 81s 18ms/step - loss: 0.4524 - accuracy: 0.8569 - val_loss: 0.4230 - val_accuracy: 0.8654\n",
            "Epoch 4/100\n",
            "4609/4610 [============================>.] - ETA: 0s - loss: 0.4229 - accuracy: 0.8665\n",
            "Epoch 00004: val_accuracy improved from 0.86536 to 0.86938, saving model to /content/drive/My Drive/TESI/Models/model2_LOW_byclass.h5\n",
            "4610/4610 [==============================] - 81s 18ms/step - loss: 0.4228 - accuracy: 0.8666 - val_loss: 0.4075 - val_accuracy: 0.8694\n",
            "Epoch 5/100\n",
            "4610/4610 [==============================] - ETA: 0s - loss: 0.3963 - accuracy: 0.8733\n",
            "Epoch 00005: val_accuracy improved from 0.86938 to 0.87506, saving model to /content/drive/My Drive/TESI/Models/model2_LOW_byclass.h5\n",
            "4610/4610 [==============================] - 81s 17ms/step - loss: 0.3963 - accuracy: 0.8733 - val_loss: 0.3783 - val_accuracy: 0.8751\n",
            "Epoch 6/100\n",
            "4607/4610 [============================>.] - ETA: 0s - loss: 0.3863 - accuracy: 0.8779\n",
            "Epoch 00006: val_accuracy improved from 0.87506 to 0.88257, saving model to /content/drive/My Drive/TESI/Models/model2_LOW_byclass.h5\n",
            "4610/4610 [==============================] - 83s 18ms/step - loss: 0.3863 - accuracy: 0.8779 - val_loss: 0.3714 - val_accuracy: 0.8826\n",
            "Epoch 7/100\n",
            "4610/4610 [==============================] - ETA: 0s - loss: 0.3716 - accuracy: 0.8814\n",
            "Epoch 00007: val_accuracy improved from 0.88257 to 0.88434, saving model to /content/drive/My Drive/TESI/Models/model2_LOW_byclass.h5\n",
            "4610/4610 [==============================] - 82s 18ms/step - loss: 0.3716 - accuracy: 0.8814 - val_loss: 0.3638 - val_accuracy: 0.8843\n",
            "Epoch 8/100\n",
            "4609/4610 [============================>.] - ETA: 0s - loss: 0.3645 - accuracy: 0.8840\n",
            "Epoch 00008: val_accuracy did not improve from 0.88434\n",
            "4610/4610 [==============================] - 80s 17ms/step - loss: 0.3644 - accuracy: 0.8840 - val_loss: 0.3702 - val_accuracy: 0.8835\n",
            "Epoch 9/100\n",
            "4609/4610 [============================>.] - ETA: 0s - loss: 0.3542 - accuracy: 0.8863\n",
            "Epoch 00009: val_accuracy improved from 0.88434 to 0.88757, saving model to /content/drive/My Drive/TESI/Models/model2_LOW_byclass.h5\n",
            "4610/4610 [==============================] - 81s 17ms/step - loss: 0.3542 - accuracy: 0.8863 - val_loss: 0.3529 - val_accuracy: 0.8876\n",
            "Epoch 10/100\n",
            "4608/4610 [============================>.] - ETA: 0s - loss: 0.3484 - accuracy: 0.8889\n",
            "Epoch 00010: val_accuracy improved from 0.88757 to 0.89508, saving model to /content/drive/My Drive/TESI/Models/model2_LOW_byclass.h5\n",
            "4610/4610 [==============================] - 79s 17ms/step - loss: 0.3483 - accuracy: 0.8889 - val_loss: 0.3279 - val_accuracy: 0.8951\n",
            "Epoch 11/100\n",
            "4608/4610 [============================>.] - ETA: 0s - loss: 0.3387 - accuracy: 0.8918\n",
            "Epoch 00011: val_accuracy did not improve from 0.89508\n",
            "4610/4610 [==============================] - 80s 17ms/step - loss: 0.3387 - accuracy: 0.8918 - val_loss: 0.3416 - val_accuracy: 0.8901\n",
            "Epoch 12/100\n",
            "4610/4610 [==============================] - ETA: 0s - loss: 0.3328 - accuracy: 0.8942\n",
            "Epoch 00012: val_accuracy did not improve from 0.89508\n",
            "4610/4610 [==============================] - 79s 17ms/step - loss: 0.3328 - accuracy: 0.8942 - val_loss: 0.3425 - val_accuracy: 0.8898\n",
            "Epoch 13/100\n",
            "4608/4610 [============================>.] - ETA: 0s - loss: 0.3287 - accuracy: 0.8947\n",
            "Epoch 00013: val_accuracy improved from 0.89508 to 0.89807, saving model to /content/drive/My Drive/TESI/Models/model2_LOW_byclass.h5\n",
            "4610/4610 [==============================] - 81s 18ms/step - loss: 0.3287 - accuracy: 0.8947 - val_loss: 0.3241 - val_accuracy: 0.8981\n",
            "Epoch 14/100\n",
            "4610/4610 [==============================] - ETA: 0s - loss: 0.3277 - accuracy: 0.8958\n",
            "Epoch 00014: val_accuracy improved from 0.89807 to 0.89856, saving model to /content/drive/My Drive/TESI/Models/model2_LOW_byclass.h5\n",
            "4610/4610 [==============================] - 82s 18ms/step - loss: 0.3277 - accuracy: 0.8958 - val_loss: 0.3233 - val_accuracy: 0.8986\n",
            "Epoch 15/100\n",
            "4609/4610 [============================>.] - ETA: 0s - loss: 0.3248 - accuracy: 0.8962\n",
            "Epoch 00015: val_accuracy did not improve from 0.89856\n",
            "4610/4610 [==============================] - 79s 17ms/step - loss: 0.3247 - accuracy: 0.8962 - val_loss: 0.3263 - val_accuracy: 0.8937\n",
            "Epoch 16/100\n",
            "4610/4610 [==============================] - ETA: 0s - loss: 0.3180 - accuracy: 0.8984\n",
            "Epoch 00016: val_accuracy did not improve from 0.89856\n",
            "4610/4610 [==============================] - 79s 17ms/step - loss: 0.3180 - accuracy: 0.8984 - val_loss: 0.3292 - val_accuracy: 0.8959\n",
            "Epoch 17/100\n",
            "4608/4610 [============================>.] - ETA: 0s - loss: 0.3162 - accuracy: 0.8988\n",
            "Epoch 00017: val_accuracy improved from 0.89856 to 0.89966, saving model to /content/drive/My Drive/TESI/Models/model2_LOW_byclass.h5\n",
            "4610/4610 [==============================] - 80s 17ms/step - loss: 0.3163 - accuracy: 0.8987 - val_loss: 0.3147 - val_accuracy: 0.8997\n",
            "Epoch 18/100\n",
            "4607/4610 [============================>.] - ETA: 0s - loss: 0.3121 - accuracy: 0.8999\n",
            "Epoch 00018: val_accuracy did not improve from 0.89966\n",
            "4610/4610 [==============================] - 78s 17ms/step - loss: 0.3120 - accuracy: 0.8999 - val_loss: 0.3158 - val_accuracy: 0.8979\n",
            "Epoch 19/100\n",
            "4608/4610 [============================>.] - ETA: 0s - loss: 0.3135 - accuracy: 0.8988\n",
            "Epoch 00019: val_accuracy improved from 0.89966 to 0.90265, saving model to /content/drive/My Drive/TESI/Models/model2_LOW_byclass.h5\n",
            "4610/4610 [==============================] - 81s 18ms/step - loss: 0.3137 - accuracy: 0.8987 - val_loss: 0.3041 - val_accuracy: 0.9026\n",
            "Epoch 20/100\n",
            "4609/4610 [============================>.] - ETA: 0s - loss: 0.3094 - accuracy: 0.9015\n",
            "Epoch 00020: val_accuracy did not improve from 0.90265\n",
            "4610/4610 [==============================] - 78s 17ms/step - loss: 0.3094 - accuracy: 0.9015 - val_loss: 0.3095 - val_accuracy: 0.9017\n",
            "Epoch 21/100\n",
            "4607/4610 [============================>.] - ETA: 0s - loss: 0.3088 - accuracy: 0.9015\n",
            "Epoch 00021: val_accuracy did not improve from 0.90265\n",
            "4610/4610 [==============================] - 77s 17ms/step - loss: 0.3087 - accuracy: 0.9016 - val_loss: 0.3047 - val_accuracy: 0.9026\n",
            "Epoch 22/100\n",
            "4609/4610 [============================>.] - ETA: 0s - loss: 0.3074 - accuracy: 0.9017\n",
            "Epoch 00022: val_accuracy improved from 0.90265 to 0.90308, saving model to /content/drive/My Drive/TESI/Models/model2_LOW_byclass.h5\n",
            "4610/4610 [==============================] - 79s 17ms/step - loss: 0.3074 - accuracy: 0.9017 - val_loss: 0.3069 - val_accuracy: 0.9031\n",
            "Epoch 23/100\n",
            "4608/4610 [============================>.] - ETA: 0s - loss: 0.3054 - accuracy: 0.9023\n",
            "Epoch 00023: val_accuracy improved from 0.90308 to 0.90356, saving model to /content/drive/My Drive/TESI/Models/model2_LOW_byclass.h5\n",
            "4610/4610 [==============================] - 80s 17ms/step - loss: 0.3054 - accuracy: 0.9022 - val_loss: 0.3006 - val_accuracy: 0.9036\n",
            "Epoch 24/100\n",
            "4610/4610 [==============================] - ETA: 0s - loss: 0.3059 - accuracy: 0.9027\n",
            "Epoch 00024: val_accuracy improved from 0.90356 to 0.90393, saving model to /content/drive/My Drive/TESI/Models/model2_LOW_byclass.h5\n",
            "4610/4610 [==============================] - 79s 17ms/step - loss: 0.3059 - accuracy: 0.9027 - val_loss: 0.2994 - val_accuracy: 0.9039\n",
            "Epoch 25/100\n",
            "4608/4610 [============================>.] - ETA: 0s - loss: 0.3009 - accuracy: 0.9037\n",
            "Epoch 00025: val_accuracy improved from 0.90393 to 0.90808, saving model to /content/drive/My Drive/TESI/Models/model2_LOW_byclass.h5\n",
            "4610/4610 [==============================] - 80s 17ms/step - loss: 0.3010 - accuracy: 0.9036 - val_loss: 0.2899 - val_accuracy: 0.9081\n",
            "Epoch 26/100\n",
            "4608/4610 [============================>.] - ETA: 0s - loss: 0.3033 - accuracy: 0.9033\n",
            "Epoch 00026: val_accuracy did not improve from 0.90808\n",
            "4610/4610 [==============================] - 79s 17ms/step - loss: 0.3033 - accuracy: 0.9034 - val_loss: 0.2974 - val_accuracy: 0.9053\n",
            "Epoch 27/100\n",
            "4608/4610 [============================>.] - ETA: 0s - loss: 0.3019 - accuracy: 0.9038\n",
            "Epoch 00027: val_accuracy did not improve from 0.90808\n",
            "4610/4610 [==============================] - 78s 17ms/step - loss: 0.3018 - accuracy: 0.9038 - val_loss: 0.3082 - val_accuracy: 0.9016\n",
            "Epoch 28/100\n",
            "4610/4610 [==============================] - ETA: 0s - loss: 0.3022 - accuracy: 0.9033\n",
            "Epoch 00028: val_accuracy did not improve from 0.90808\n",
            "4610/4610 [==============================] - 78s 17ms/step - loss: 0.3022 - accuracy: 0.9033 - val_loss: 0.3046 - val_accuracy: 0.9014\n",
            "Epoch 29/100\n",
            "4608/4610 [============================>.] - ETA: 0s - loss: 0.3002 - accuracy: 0.9039\n",
            "Epoch 00029: val_accuracy did not improve from 0.90808\n",
            "4610/4610 [==============================] - 79s 17ms/step - loss: 0.3001 - accuracy: 0.9039 - val_loss: 0.2944 - val_accuracy: 0.9075\n",
            "Epoch 30/100\n",
            "4610/4610 [==============================] - ETA: 0s - loss: 0.2999 - accuracy: 0.9040\n",
            "Epoch 00030: val_accuracy did not improve from 0.90808\n",
            "4610/4610 [==============================] - 79s 17ms/step - loss: 0.2999 - accuracy: 0.9040 - val_loss: 0.3048 - val_accuracy: 0.9037\n",
            "Epoch 31/100\n",
            "4607/4610 [============================>.] - ETA: 0s - loss: 0.2987 - accuracy: 0.9045\n",
            "Epoch 00031: val_accuracy did not improve from 0.90808\n",
            "4610/4610 [==============================] - 79s 17ms/step - loss: 0.2987 - accuracy: 0.9045 - val_loss: 0.3018 - val_accuracy: 0.9007\n",
            "Epoch 32/100\n",
            "4609/4610 [============================>.] - ETA: 0s - loss: 0.2987 - accuracy: 0.9039\n",
            "Epoch 00032: val_accuracy did not improve from 0.90808\n",
            "4610/4610 [==============================] - 79s 17ms/step - loss: 0.2987 - accuracy: 0.9039 - val_loss: 0.2937 - val_accuracy: 0.9069\n",
            "Epoch 33/100\n",
            "4610/4610 [==============================] - ETA: 0s - loss: 0.2976 - accuracy: 0.9044\n",
            "Epoch 00033: val_accuracy did not improve from 0.90808\n",
            "4610/4610 [==============================] - 79s 17ms/step - loss: 0.2976 - accuracy: 0.9044 - val_loss: 0.2979 - val_accuracy: 0.9080\n",
            "Epoch 34/100\n",
            "4610/4610 [==============================] - ETA: 0s - loss: 0.2992 - accuracy: 0.9043\n",
            "Epoch 00034: val_accuracy did not improve from 0.90808\n",
            "4610/4610 [==============================] - 79s 17ms/step - loss: 0.2992 - accuracy: 0.9043 - val_loss: 0.2952 - val_accuracy: 0.9064\n",
            "Epoch 35/100\n",
            "4607/4610 [============================>.] - ETA: 0s - loss: 0.2955 - accuracy: 0.9046\n",
            "Epoch 00035: val_accuracy did not improve from 0.90808\n",
            "Restoring model weights from the end of the best epoch.\n",
            "4610/4610 [==============================] - 79s 17ms/step - loss: 0.2955 - accuracy: 0.9045 - val_loss: 0.2976 - val_accuracy: 0.9032\n",
            "Epoch 00035: early stopping\n"
          ],
          "name": "stdout"
        }
      ]
    },
    {
      "cell_type": "code",
      "metadata": {
        "id": "XXHdIbq7Qv_I",
        "outputId": "347171b5-727e-42a3-8f80-a99bdc0f12a3",
        "colab": {
          "base_uri": "https://localhost:8080/",
          "height": 1000
        }
      },
      "source": [
        "plt.figure(figsize=(16,9))\n",
        "# summarize history for accuracy\n",
        "plt.plot(history1_UPP.history['accuracy'])\n",
        "plt.plot(history1_UPP.history['val_accuracy'])\n",
        "plt.title('Model 2 lowercase letters accuracy (with Data Augmentation)')\n",
        "plt.ylabel('accuracy')\n",
        "plt.xlabel('epoch')\n",
        "plt.legend(['train', 'validation'], loc='lower right')\n",
        "plt.show()\n",
        "plt.figure(figsize=(16,9))\n",
        "\n",
        "# summarize history for loss\n",
        "plt.plot(history1_UPP.history['loss'])\n",
        "plt.plot(history1_UPP.history['val_loss'])\n",
        "plt.title('Model 2 lowercase letters loss  (with Data Augmentation)')\n",
        "plt.ylabel('loss')\n",
        "plt.xlabel('epoch')\n",
        "plt.legend(['train', 'validation'], loc='upper right')\n",
        "plt.show()"
      ],
      "execution_count": null,
      "outputs": [
        {
          "output_type": "display_data",
          "data": {
            "image/png": "[encoded data removed]",
            "text/plain": [
              "<Figure size 1152x648 with 1 Axes>"
            ]
          },
          "metadata": {
            "tags": [],
            "needs_background": "light"
          }
        },
        {
          "output_type": "display_data",
          "data": {
            "image/png": "[encoded data removed]",
            "text/plain": [
              "<Figure size 1152x648 with 1 Axes>"
            ]
          },
          "metadata": {
            "tags": [],
            "needs_background": "light"
          }
        }
      ]
    },
    {
      "cell_type": "code",
      "metadata": {
        "id": "xMRCeTWLyimv"
      },
      "source": [
        "lab_test_UPP = tf.keras.utils.to_categorical(lab_test_UPP)"
      ],
      "execution_count": null,
      "outputs": []
    },
    {
      "cell_type": "code",
      "metadata": {
        "id": "9fI6RgfqG9tj",
        "outputId": "35abe2f8-95f9-4bd9-c3fd-e42e8908af49",
        "colab": {
          "base_uri": "https://localhost:8080/",
          "height": 35
        }
      },
      "source": [
        "evaluation = model.evaluate(valid_datagen.flow(im_test_UPP, lab_test_UPP))"
      ],
      "execution_count": null,
      "outputs": [
        {
          "output_type": "stream",
          "text": [
            "846/846 [==============================] - 11s 13ms/step - loss: 0.3041 - accuracy: 0.9043\n"
          ],
          "name": "stdout"
        }
      ]
    },
    {
      "cell_type": "code",
      "metadata": {
        "id": "n0pNqKbBE8bd"
      },
      "source": [
        ""
      ],
      "execution_count": null,
      "outputs": []
    }
  ]
}