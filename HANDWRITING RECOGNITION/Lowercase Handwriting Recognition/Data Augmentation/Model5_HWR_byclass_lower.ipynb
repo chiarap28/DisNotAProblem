{
  "nbformat": 4,
  "nbformat_minor": 0,
  "metadata": {
    "colab": {
      "name": "Model5-HWR-byclass-lower.ipynb",
      "provenance": []
    },
    "kernelspec": {
      "name": "python3",
      "display_name": "Python 3"
    },
    "accelerator": "GPU"
  },
  "cells": [
    {
      "cell_type": "code",
      "metadata": {
        "id": "WaamsQlM5zPi",
        "outputId": "93c515a4-ad78-4436-fbbf-9ccdadb07e51",
        "colab": {
          "base_uri": "https://localhost:8080/",
          "height": 212
        }
      },
      "source": [
        "pip install emnist"
      ],
      "execution_count": null,
      "outputs": [
        {
          "output_type": "stream",
          "text": [
            "Collecting emnist\n",
            "  Downloading https://files.pythonhosted.org/packages/d1/f4/78b24acbef9e8fe976dda700f16a3606f3b8363b015bc555f8050fbbd8ac/emnist-0.0-py3-none-any.whl\n",
            "Requirement already satisfied: numpy in /usr/local/lib/python3.6/dist-packages (from emnist) (1.18.5)\n",
            "Requirement already satisfied: tqdm in /usr/local/lib/python3.6/dist-packages (from emnist) (4.41.1)\n",
            "Requirement already satisfied: requests in /usr/local/lib/python3.6/dist-packages (from emnist) (2.23.0)\n",
            "Requirement already satisfied: chardet<4,>=3.0.2 in /usr/local/lib/python3.6/dist-packages (from requests->emnist) (3.0.4)\n",
            "Requirement already satisfied: urllib3!=1.25.0,!=1.25.1,<1.26,>=1.21.1 in /usr/local/lib/python3.6/dist-packages (from requests->emnist) (1.24.3)\n",
            "Requirement already satisfied: idna<3,>=2.5 in /usr/local/lib/python3.6/dist-packages (from requests->emnist) (2.10)\n",
            "Requirement already satisfied: certifi>=2017.4.17 in /usr/local/lib/python3.6/dist-packages (from requests->emnist) (2020.6.20)\n",
            "Installing collected packages: emnist\n",
            "Successfully installed emnist-0.0\n"
          ],
          "name": "stdout"
        }
      ]
    },
    {
      "cell_type": "code",
      "metadata": {
        "id": "yzz5cngH59he"
      },
      "source": [
        "import os\n",
        "import numpy as np\n",
        "import matplotlib.pyplot as plt\n",
        "\n",
        "from pathlib import Path\n",
        "from collections import Counter\n",
        "\n",
        "import tensorflow as tf\n",
        "from tensorflow import keras\n",
        "from tensorflow.keras import layers\n",
        "\n",
        "from emnist import list_datasets, extract_training_samples, extract_test_samples"
      ],
      "execution_count": null,
      "outputs": []
    },
    {
      "cell_type": "code",
      "metadata": {
        "id": "9w6qPaD56HaU",
        "outputId": "351f2164-8b90-4a3a-fdf7-60272351b77e",
        "colab": {
          "base_uri": "https://localhost:8080/",
          "height": 35
        }
      },
      "source": [
        "# load emnist dataset 'by class'\n",
        "\n",
        "images, labels = extract_training_samples('byclass')\n",
        "images_test, labels_test = extract_test_samples('byclass')"
      ],
      "execution_count": null,
      "outputs": [
        {
          "output_type": "stream",
          "text": [
            "Downloading emnist.zip: 536MB [00:04, 121MB/s]\n"
          ],
          "name": "stderr"
        }
      ]
    },
    {
      "cell_type": "code",
      "metadata": {
        "id": "CgkMrn-N6WJP"
      },
      "source": [
        "# find index of uppercase letters\n",
        "\n",
        "tr_index_UPP = [i for i in range(len(labels)) if labels[i]>=36 and labels[i] <= 61] \n",
        "ts_index_UPP = [i for i in range(len(labels_test)) if labels_test[i]>=36 and labels_test[i] <= 61]"
      ],
      "execution_count": null,
      "outputs": []
    },
    {
      "cell_type": "code",
      "metadata": {
        "id": "pjpAgQBL6hxs"
      },
      "source": [
        "# save images and labels in uppercase\n",
        "\n",
        "im_train_UPP = images[tr_index_UPP]\n",
        "im_test_UPP = images_test[ts_index_UPP]\n",
        "lab_train_UPP = labels[tr_index_UPP]\n",
        "lab_test_UPP = labels_test[ts_index_UPP]"
      ],
      "execution_count": null,
      "outputs": []
    },
    {
      "cell_type": "code",
      "metadata": {
        "id": "8_99A-YR6uY3"
      },
      "source": [
        "# reformulate labels for application of built-in function 'to_categorical'\n",
        "\n",
        "alf_UPP = {\n",
        "       36: 0,\n",
        "       37: 1,\n",
        "       38: 2,\n",
        "       39: 3,\n",
        "       40: 4,\n",
        "       41: 5,\n",
        "       42: 6,\n",
        "       43: 7,\n",
        "       44: 8,\n",
        "       45: 9,\n",
        "       46: 10,\n",
        "       47: 11,\n",
        "       48: 12,\n",
        "       49: 13,\n",
        "       50: 14,\n",
        "       51: 15,\n",
        "       52: 16,\n",
        "       53: 17,\n",
        "       54: 18,\n",
        "       55: 19,\n",
        "       56: 20,\n",
        "       57: 21,\n",
        "       58: 22,\n",
        "       59: 23,\n",
        "       60: 24,\n",
        "       61: 25,\n",
        "       }\n",
        "       \n",
        "lab_train_UPP = [alf_UPP[label] for label in lab_train_UPP]\n",
        "lab_test_UPP = [alf_UPP[label] for label in lab_test_UPP]"
      ],
      "execution_count": null,
      "outputs": []
    },
    {
      "cell_type": "code",
      "metadata": {
        "id": "gXvoJ4X1_595",
        "outputId": "8075a109-df35-4e39-9e3f-d74687c056c7",
        "colab": {
          "base_uri": "https://localhost:8080/",
          "height": 35
        }
      },
      "source": [
        "# check labels\n",
        "\n",
        "lab_train_UPP[0]"
      ],
      "execution_count": null,
      "outputs": [
        {
          "output_type": "execute_result",
          "data": {
            "text/plain": [
              "0"
            ]
          },
          "metadata": {
            "tags": []
          },
          "execution_count": 7
        }
      ]
    },
    {
      "cell_type": "code",
      "metadata": {
        "id": "kj8i4Tyw_72J"
      },
      "source": [
        "# define image width and height and batch size\n",
        "\n",
        "# Batch size for training and validation\n",
        "batch_size = 32\n",
        "\n",
        "# Desired image dimensions\n",
        "img_width = 28\n",
        "img_height = 28"
      ],
      "execution_count": null,
      "outputs": []
    },
    {
      "cell_type": "code",
      "metadata": {
        "id": "txkyxT3JDili"
      },
      "source": [
        "# split training set in traininig and validation set\n",
        "\n",
        "def split_data(images, labels, train_size=0.9, shuffle=True):\n",
        "    # 1. Get the total size of the dataset\n",
        "    size = len(images)\n",
        "    # 2. Make an indices array and shuffle it, if required\n",
        "    indices = np.arange(size)\n",
        "    if shuffle:\n",
        "        np.random.shuffle(indices)\n",
        "    # 3. Get the size of training samples\n",
        "    train_samples = int(size * train_size)\n",
        "    # 4. Split data into training and validation sets\n",
        "    x_train, y_train = images[indices[:train_samples]], labels[indices[:train_samples]]\n",
        "    x_valid, y_valid = images[indices[train_samples:]], labels[indices[train_samples:]]\n",
        "    return x_train, x_valid, y_train, y_valid"
      ],
      "execution_count": null,
      "outputs": []
    },
    {
      "cell_type": "code",
      "metadata": {
        "id": "1Vp7uXl8Hamn"
      },
      "source": [
        "# Splitting data into training and validation sets\n",
        "x_train_UPP, x_valid_UPP, y_train_UPP, y_valid_UPP = split_data(np.array(im_train_UPP), np.array(lab_train_UPP))"
      ],
      "execution_count": null,
      "outputs": []
    },
    {
      "cell_type": "code",
      "metadata": {
        "id": "DlmupJ5eIGDF"
      },
      "source": [
        "# to categorical \n",
        "\n",
        "y_train_UPP = tf.keras.utils.to_categorical(y_train_UPP, 26)\n",
        "y_valid_UPP = tf.keras.utils.to_categorical(y_valid_UPP, 26)"
      ],
      "execution_count": null,
      "outputs": []
    },
    {
      "cell_type": "code",
      "metadata": {
        "id": "ZvQPt1RXI-OV"
      },
      "source": [
        "# normalize training, validation and test data\n",
        "\n",
        "x_train_UPP = tf.keras.utils.normalize(x_train_UPP, axis=1)\n",
        "x_valid_UPP = tf.keras.utils.normalize(x_valid_UPP, axis=1)\n",
        "im_test_UPP = tf.keras.utils.normalize(im_test_UPP, axis=1)"
      ],
      "execution_count": null,
      "outputs": []
    },
    {
      "cell_type": "code",
      "metadata": {
        "id": "bZrNm_RsMvg4"
      },
      "source": [
        "# using data augmentation\n",
        "\n",
        "train_datagen = tf.keras.preprocessing.image.ImageDataGenerator(featurewise_center=True,\n",
        "                                                          featurewise_std_normalization=True,\n",
        "                                                          rotation_range=20,\n",
        "                                                          width_shift_range=0.2,\n",
        "                                                          height_shift_range=0.2,\n",
        "                                                          horizontal_flip=True)\n",
        "valid_datagen = tf.keras.preprocessing.image.ImageDataGenerator(featurewise_center=True,\n",
        "                                                          featurewise_std_normalization=True,\n",
        "                                                          rotation_range=20,\n",
        "                                                          width_shift_range=0.2,\n",
        "                                                          height_shift_range=0.2,\n",
        "                                                          horizontal_flip=True)\n",
        "\n",
        "x_train_UPP = np.reshape(x_train_UPP, (len(x_train_UPP),img_width, img_width, 1))\n",
        "x_valid_UPP = np.reshape(x_valid_UPP, (len(x_valid_UPP),img_width, img_width, 1))\n",
        "im_test_UPP = np.reshape(im_test_UPP, (len(im_test_UPP), img_width, img_height, 1))\n",
        "\n",
        "train_datagen.fit(x_train_UPP)\n",
        "valid_datagen.fit(x_valid_UPP)"
      ],
      "execution_count": null,
      "outputs": []
    },
    {
      "cell_type": "code",
      "metadata": {
        "id": "xoml2gmkNnLr"
      },
      "source": [
        "# build model\n",
        "\n",
        "def build_model():\n",
        "    # Inputs to the model\n",
        "    input_img = layers.Input(\n",
        "        shape=(img_width, img_height, 1), name=\"image\", dtype=\"float32\"\n",
        "    )\n",
        "\n",
        "    # Output layer\n",
        "    x = layers.Dense(units=256, activation='sigmoid', name='dense_1')(input_img)\n",
        "    x = layers.Dense(units=128, activation=\"sigmoid\", name=\"dense2\")(x)\n",
        "    x = layers.Dense(units=64, activation=\"sigmoid\", name=\"dense3\")(x)\n",
        "    x = layers.Flatten()(x)\n",
        "    output = layers.Dense(units=26, activation=\"softmax\", name=\"dense4\")(x)\n",
        "\n",
        "    # Define the model\n",
        "    model = keras.models.Model(\n",
        "        inputs=input_img, outputs=output, name=\"ocr_model_v1\"\n",
        "    )\n",
        "    # Optimizer\n",
        "    opt = keras.optimizers.Adam()\n",
        "    # Compile the model and return\n",
        "    model.compile(loss='categorical_crossentropy',optimizer=opt, metrics=['accuracy'])\n",
        "\n",
        "    return model"
      ],
      "execution_count": null,
      "outputs": []
    },
    {
      "cell_type": "code",
      "metadata": {
        "id": "bCVkysqePH29",
        "outputId": "be3ef218-3124-4d91-c00a-56572f13e708",
        "colab": {
          "base_uri": "https://localhost:8080/",
          "height": 372
        }
      },
      "source": [
        "model = build_model()\n",
        "model.summary()"
      ],
      "execution_count": null,
      "outputs": [
        {
          "output_type": "stream",
          "text": [
            "Model: \"ocr_model_v1\"\n",
            "_________________________________________________________________\n",
            "Layer (type)                 Output Shape              Param #   \n",
            "=================================================================\n",
            "image (InputLayer)           [(None, 28, 28, 1)]       0         \n",
            "_________________________________________________________________\n",
            "dense_1 (Dense)              (None, 28, 28, 256)       512       \n",
            "_________________________________________________________________\n",
            "dense2 (Dense)               (None, 28, 28, 128)       32896     \n",
            "_________________________________________________________________\n",
            "dense3 (Dense)               (None, 28, 28, 64)        8256      \n",
            "_________________________________________________________________\n",
            "flatten (Flatten)            (None, 50176)             0         \n",
            "_________________________________________________________________\n",
            "dense4 (Dense)               (None, 26)                1304602   \n",
            "=================================================================\n",
            "Total params: 1,346,266\n",
            "Trainable params: 1,346,266\n",
            "Non-trainable params: 0\n",
            "_________________________________________________________________\n"
          ],
          "name": "stdout"
        }
      ]
    },
    {
      "cell_type": "code",
      "metadata": {
        "id": "v8YiuOWiPKKM",
        "outputId": "aaf79b91-f683-4446-b3e6-aa9b2dc4f768",
        "colab": {
          "base_uri": "https://localhost:8080/",
          "height": 564
        }
      },
      "source": [
        "from keras.utils import plot_model\n",
        "plot_model(model, to_file='/content/drive/My Drive/TESI/Models/Immagini/model5_byclass_lower.png')"
      ],
      "execution_count": null,
      "outputs": [
        {
          "output_type": "execute_result",
          "data": {
            "image/png": "[encoded data removed]",
            "text/plain": [
              "<IPython.core.display.Image object>"
            ]
          },
          "metadata": {
            "tags": []
          },
          "execution_count": 16
        }
      ]
    },
    {
      "cell_type": "code",
      "metadata": {
        "id": "Bupp_Vi9PtBO"
      },
      "source": [
        "epochs = 100\n",
        "early_stopping_patience = 10\n",
        "# Add early stopping\n",
        "early_stopping = keras.callbacks.EarlyStopping(\n",
        "    monitor=\"val_accuracy\", patience=early_stopping_patience, restore_best_weights=True, verbose=1\n",
        ")\n",
        "\n",
        "# Model CheckPoint\n",
        "cp = keras.callbacks.ModelCheckpoint('/content/drive/My Drive/TESI/Models/model5_LOW_byclass.h5',\n",
        "                                     verbose=1,\n",
        "                                     monitor='val_accuracy',\n",
        "                                     save_best_only=True,\n",
        "                                     mode='max')"
      ],
      "execution_count": null,
      "outputs": []
    },
    {
      "cell_type": "code",
      "metadata": {
        "id": "wU2qe4yJQVK5",
        "outputId": "fe4eff38-f4f6-4af6-b00b-3ce7cd66b1b2",
        "colab": {
          "base_uri": "https://localhost:8080/",
          "height": 1000
        }
      },
      "source": [
        "# fit model\n",
        "history1_UPP = model.fit(train_datagen.flow(x_train_UPP,y_train_UPP, batch_size=batch_size),\n",
        "                    validation_data=valid_datagen.flow(x_valid_UPP,y_valid_UPP, batch_size=batch_size),\n",
        "                    steps_per_epoch=len(x_train_UPP)//batch_size,\n",
        "                    validation_steps=len(x_valid_UPP)//batch_size,\n",
        "                    epochs=epochs,\n",
        "                    verbose=1,\n",
        "                    callbacks=[cp, early_stopping])"
      ],
      "execution_count": null,
      "outputs": [
        {
          "output_type": "stream",
          "text": [
            "Epoch 1/100\n",
            "4608/4610 [============================>.] - ETA: 0s - loss: 2.7505 - accuracy: 0.2438\n",
            "Epoch 00001: val_accuracy improved from -inf to 0.41791, saving model to /content/drive/My Drive/TESI/Models/model5_LOW_byclass.h5\n",
            "4610/4610 [==============================] - 103s 22ms/step - loss: 2.7501 - accuracy: 0.2439 - val_loss: 2.0149 - val_accuracy: 0.4179\n",
            "Epoch 2/100\n",
            "4608/4610 [============================>.] - ETA: 0s - loss: 1.9121 - accuracy: 0.4453\n",
            "Epoch 00002: val_accuracy improved from 0.41791 to 0.45026, saving model to /content/drive/My Drive/TESI/Models/model5_LOW_byclass.h5\n",
            "4610/4610 [==============================] - 105s 23ms/step - loss: 1.9119 - accuracy: 0.4453 - val_loss: 1.8680 - val_accuracy: 0.4503\n",
            "Epoch 3/100\n",
            "4608/4610 [============================>.] - ETA: 0s - loss: 1.8331 - accuracy: 0.4662\n",
            "Epoch 00003: val_accuracy improved from 0.45026 to 0.47198, saving model to /content/drive/My Drive/TESI/Models/model5_LOW_byclass.h5\n",
            "4610/4610 [==============================] - 103s 22ms/step - loss: 1.8329 - accuracy: 0.4662 - val_loss: 1.7972 - val_accuracy: 0.4720\n",
            "Epoch 4/100\n",
            "4609/4610 [============================>.] - ETA: 0s - loss: 1.7954 - accuracy: 0.4753\n",
            "Epoch 00004: val_accuracy improved from 0.47198 to 0.48499, saving model to /content/drive/My Drive/TESI/Models/model5_LOW_byclass.h5\n",
            "4610/4610 [==============================] - 102s 22ms/step - loss: 1.7953 - accuracy: 0.4753 - val_loss: 1.7485 - val_accuracy: 0.4850\n",
            "Epoch 5/100\n",
            "4609/4610 [============================>.] - ETA: 0s - loss: 1.7641 - accuracy: 0.4829\n",
            "Epoch 00005: val_accuracy improved from 0.48499 to 0.48645, saving model to /content/drive/My Drive/TESI/Models/model5_LOW_byclass.h5\n",
            "4610/4610 [==============================] - 102s 22ms/step - loss: 1.7641 - accuracy: 0.4829 - val_loss: 1.7484 - val_accuracy: 0.4865\n",
            "Epoch 6/100\n",
            "4610/4610 [==============================] - ETA: 0s - loss: 1.7484 - accuracy: 0.4864\n",
            "Epoch 00006: val_accuracy did not improve from 0.48645\n",
            "4610/4610 [==============================] - 100s 22ms/step - loss: 1.7484 - accuracy: 0.4864 - val_loss: 1.7430 - val_accuracy: 0.4856\n",
            "Epoch 7/100\n",
            "4608/4610 [============================>.] - ETA: 0s - loss: 1.7310 - accuracy: 0.4907\n",
            "Epoch 00007: val_accuracy improved from 0.48645 to 0.49707, saving model to /content/drive/My Drive/TESI/Models/model5_LOW_byclass.h5\n",
            "4610/4610 [==============================] - 103s 22ms/step - loss: 1.7309 - accuracy: 0.4907 - val_loss: 1.7039 - val_accuracy: 0.4971\n",
            "Epoch 8/100\n",
            "4608/4610 [============================>.] - ETA: 0s - loss: 1.7207 - accuracy: 0.4924\n",
            "Epoch 00008: val_accuracy did not improve from 0.49707\n",
            "4610/4610 [==============================] - 100s 22ms/step - loss: 1.7207 - accuracy: 0.4924 - val_loss: 1.7268 - val_accuracy: 0.4816\n",
            "Epoch 9/100\n",
            "4608/4610 [============================>.] - ETA: 0s - loss: 1.7103 - accuracy: 0.4970\n",
            "Epoch 00009: val_accuracy did not improve from 0.49707\n",
            "4610/4610 [==============================] - 100s 22ms/step - loss: 1.7103 - accuracy: 0.4971 - val_loss: 1.7130 - val_accuracy: 0.4940\n",
            "Epoch 10/100\n",
            "4608/4610 [============================>.] - ETA: 0s - loss: 1.7071 - accuracy: 0.4978\n",
            "Epoch 00010: val_accuracy improved from 0.49707 to 0.50122, saving model to /content/drive/My Drive/TESI/Models/model5_LOW_byclass.h5\n",
            "4610/4610 [==============================] - 101s 22ms/step - loss: 1.7072 - accuracy: 0.4978 - val_loss: 1.6924 - val_accuracy: 0.5012\n",
            "Epoch 11/100\n",
            "4609/4610 [============================>.] - ETA: 0s - loss: 1.6994 - accuracy: 0.4989\n",
            "Epoch 00011: val_accuracy improved from 0.50122 to 0.50415, saving model to /content/drive/My Drive/TESI/Models/model5_LOW_byclass.h5\n",
            "4610/4610 [==============================] - 102s 22ms/step - loss: 1.6994 - accuracy: 0.4989 - val_loss: 1.6753 - val_accuracy: 0.5042\n",
            "Epoch 12/100\n",
            "4608/4610 [============================>.] - ETA: 0s - loss: 1.6959 - accuracy: 0.4994\n",
            "Epoch 00012: val_accuracy did not improve from 0.50415\n",
            "4610/4610 [==============================] - 99s 21ms/step - loss: 1.6961 - accuracy: 0.4993 - val_loss: 1.7430 - val_accuracy: 0.4908\n",
            "Epoch 13/100\n",
            "4610/4610 [==============================] - ETA: 0s - loss: 1.6813 - accuracy: 0.5043\n",
            "Epoch 00013: val_accuracy improved from 0.50415 to 0.50769, saving model to /content/drive/My Drive/TESI/Models/model5_LOW_byclass.h5\n",
            "4610/4610 [==============================] - 103s 22ms/step - loss: 1.6813 - accuracy: 0.5043 - val_loss: 1.6715 - val_accuracy: 0.5077\n",
            "Epoch 14/100\n",
            "4609/4610 [============================>.] - ETA: 0s - loss: 1.6597 - accuracy: 0.5111\n",
            "Epoch 00014: val_accuracy improved from 0.50769 to 0.51617, saving model to /content/drive/My Drive/TESI/Models/model5_LOW_byclass.h5\n",
            "4610/4610 [==============================] - 102s 22ms/step - loss: 1.6596 - accuracy: 0.5111 - val_loss: 1.6427 - val_accuracy: 0.5162\n",
            "Epoch 15/100\n",
            "4608/4610 [============================>.] - ETA: 0s - loss: 1.6510 - accuracy: 0.5120\n",
            "Epoch 00015: val_accuracy did not improve from 0.51617\n",
            "4610/4610 [==============================] - 100s 22ms/step - loss: 1.6508 - accuracy: 0.5120 - val_loss: 1.6351 - val_accuracy: 0.5111\n",
            "Epoch 16/100\n",
            "4609/4610 [============================>.] - ETA: 0s - loss: 1.6410 - accuracy: 0.5157\n",
            "Epoch 00016: val_accuracy improved from 0.51617 to 0.51990, saving model to /content/drive/My Drive/TESI/Models/model5_LOW_byclass.h5\n",
            "4610/4610 [==============================] - 101s 22ms/step - loss: 1.6410 - accuracy: 0.5158 - val_loss: 1.6125 - val_accuracy: 0.5199\n",
            "Epoch 17/100\n",
            "4608/4610 [============================>.] - ETA: 0s - loss: 1.6332 - accuracy: 0.5190\n",
            "Epoch 00017: val_accuracy did not improve from 0.51990\n",
            "4610/4610 [==============================] - 100s 22ms/step - loss: 1.6331 - accuracy: 0.5190 - val_loss: 1.6262 - val_accuracy: 0.5175\n",
            "Epoch 18/100\n",
            "4610/4610 [==============================] - ETA: 0s - loss: 1.6275 - accuracy: 0.5198\n",
            "Epoch 00018: val_accuracy did not improve from 0.51990\n",
            "4610/4610 [==============================] - 100s 22ms/step - loss: 1.6275 - accuracy: 0.5198 - val_loss: 1.6212 - val_accuracy: 0.5192\n",
            "Epoch 19/100\n",
            "4610/4610 [==============================] - ETA: 0s - loss: 1.6291 - accuracy: 0.5186\n",
            "Epoch 00019: val_accuracy did not improve from 0.51990\n",
            "4610/4610 [==============================] - 103s 22ms/step - loss: 1.6291 - accuracy: 0.5186 - val_loss: 1.6199 - val_accuracy: 0.5198\n",
            "Epoch 20/100\n",
            "4609/4610 [============================>.] - ETA: 0s - loss: 1.6249 - accuracy: 0.5210\n",
            "Epoch 00020: val_accuracy improved from 0.51990 to 0.52222, saving model to /content/drive/My Drive/TESI/Models/model5_LOW_byclass.h5\n",
            "4610/4610 [==============================] - 105s 23ms/step - loss: 1.6250 - accuracy: 0.5209 - val_loss: 1.6182 - val_accuracy: 0.5222\n",
            "Epoch 21/100\n",
            "4608/4610 [============================>.] - ETA: 0s - loss: 1.6220 - accuracy: 0.5223\n",
            "Epoch 00021: val_accuracy improved from 0.52222 to 0.52747, saving model to /content/drive/My Drive/TESI/Models/model5_LOW_byclass.h5\n",
            "4610/4610 [==============================] - 105s 23ms/step - loss: 1.6220 - accuracy: 0.5223 - val_loss: 1.5952 - val_accuracy: 0.5275\n",
            "Epoch 22/100\n",
            "4610/4610 [==============================] - ETA: 0s - loss: 1.6181 - accuracy: 0.5214\n",
            "Epoch 00022: val_accuracy did not improve from 0.52747\n",
            "4610/4610 [==============================] - 104s 23ms/step - loss: 1.6181 - accuracy: 0.5214 - val_loss: 1.6402 - val_accuracy: 0.5164\n",
            "Epoch 23/100\n",
            "4608/4610 [============================>.] - ETA: 0s - loss: 1.6140 - accuracy: 0.5224\n",
            "Epoch 00023: val_accuracy improved from 0.52747 to 0.52954, saving model to /content/drive/My Drive/TESI/Models/model5_LOW_byclass.h5\n",
            "4610/4610 [==============================] - 106s 23ms/step - loss: 1.6142 - accuracy: 0.5224 - val_loss: 1.5938 - val_accuracy: 0.5295\n",
            "Epoch 24/100\n",
            "4610/4610 [==============================] - ETA: 0s - loss: 1.6140 - accuracy: 0.5237\n",
            "Epoch 00024: val_accuracy did not improve from 0.52954\n",
            "4610/4610 [==============================] - 104s 22ms/step - loss: 1.6140 - accuracy: 0.5237 - val_loss: 1.5940 - val_accuracy: 0.5239\n",
            "Epoch 25/100\n",
            "4609/4610 [============================>.] - ETA: 0s - loss: 1.6109 - accuracy: 0.5247\n",
            "Epoch 00025: val_accuracy improved from 0.52954 to 0.53094, saving model to /content/drive/My Drive/TESI/Models/model5_LOW_byclass.h5\n",
            "4610/4610 [==============================] - 106s 23ms/step - loss: 1.6109 - accuracy: 0.5247 - val_loss: 1.5912 - val_accuracy: 0.5309\n",
            "Epoch 26/100\n",
            "4610/4610 [==============================] - ETA: 0s - loss: 1.6061 - accuracy: 0.5261\n",
            "Epoch 00026: val_accuracy did not improve from 0.53094\n",
            "4610/4610 [==============================] - 105s 23ms/step - loss: 1.6061 - accuracy: 0.5261 - val_loss: 1.6092 - val_accuracy: 0.5254\n",
            "Epoch 27/100\n",
            "4609/4610 [============================>.] - ETA: 0s - loss: 1.6062 - accuracy: 0.5271\n",
            "Epoch 00027: val_accuracy improved from 0.53094 to 0.53204, saving model to /content/drive/My Drive/TESI/Models/model5_LOW_byclass.h5\n",
            "4610/4610 [==============================] - 107s 23ms/step - loss: 1.6061 - accuracy: 0.5271 - val_loss: 1.5935 - val_accuracy: 0.5320\n",
            "Epoch 28/100\n",
            "4609/4610 [============================>.] - ETA: 0s - loss: 1.6036 - accuracy: 0.5271\n",
            "Epoch 00028: val_accuracy did not improve from 0.53204\n",
            "4610/4610 [==============================] - 106s 23ms/step - loss: 1.6036 - accuracy: 0.5272 - val_loss: 1.6235 - val_accuracy: 0.5178\n",
            "Epoch 29/100\n",
            "4609/4610 [============================>.] - ETA: 0s - loss: 1.5978 - accuracy: 0.5288\n",
            "Epoch 00029: val_accuracy did not improve from 0.53204\n",
            "4610/4610 [==============================] - 103s 22ms/step - loss: 1.5979 - accuracy: 0.5288 - val_loss: 1.5886 - val_accuracy: 0.5314\n",
            "Epoch 30/100\n",
            "4608/4610 [============================>.] - ETA: 0s - loss: 1.5953 - accuracy: 0.5290\n",
            "Epoch 00030: val_accuracy did not improve from 0.53204\n",
            "4610/4610 [==============================] - 103s 22ms/step - loss: 1.5953 - accuracy: 0.5290 - val_loss: 1.5883 - val_accuracy: 0.5222\n",
            "Epoch 31/100\n",
            "4608/4610 [============================>.] - ETA: 0s - loss: 1.5947 - accuracy: 0.5282\n",
            "Epoch 00031: val_accuracy did not improve from 0.53204\n",
            "4610/4610 [==============================] - 102s 22ms/step - loss: 1.5948 - accuracy: 0.5282 - val_loss: 1.5999 - val_accuracy: 0.5275\n",
            "Epoch 32/100\n",
            "4609/4610 [============================>.] - ETA: 0s - loss: 1.5933 - accuracy: 0.5299\n",
            "Epoch 00032: val_accuracy did not improve from 0.53204\n",
            "4610/4610 [==============================] - 101s 22ms/step - loss: 1.5933 - accuracy: 0.5299 - val_loss: 1.5888 - val_accuracy: 0.5312\n",
            "Epoch 33/100\n",
            "4609/4610 [============================>.] - ETA: 0s - loss: 1.5962 - accuracy: 0.5283\n",
            "Epoch 00033: val_accuracy improved from 0.53204 to 0.53223, saving model to /content/drive/My Drive/TESI/Models/model5_LOW_byclass.h5\n",
            "4610/4610 [==============================] - 104s 22ms/step - loss: 1.5961 - accuracy: 0.5283 - val_loss: 1.5780 - val_accuracy: 0.5322\n",
            "Epoch 34/100\n",
            "4609/4610 [============================>.] - ETA: 0s - loss: 1.5913 - accuracy: 0.5313\n",
            "Epoch 00034: val_accuracy did not improve from 0.53223\n",
            "4610/4610 [==============================] - 100s 22ms/step - loss: 1.5914 - accuracy: 0.5313 - val_loss: 1.6003 - val_accuracy: 0.5300\n",
            "Epoch 35/100\n",
            "4610/4610 [==============================] - ETA: 0s - loss: 1.5939 - accuracy: 0.5306\n",
            "Epoch 00035: val_accuracy did not improve from 0.53223\n",
            "4610/4610 [==============================] - 100s 22ms/step - loss: 1.5939 - accuracy: 0.5306 - val_loss: 1.5733 - val_accuracy: 0.5308\n",
            "Epoch 36/100\n",
            "4610/4610 [==============================] - ETA: 0s - loss: 1.5843 - accuracy: 0.5320\n",
            "Epoch 00036: val_accuracy improved from 0.53223 to 0.53540, saving model to /content/drive/My Drive/TESI/Models/model5_LOW_byclass.h5\n",
            "4610/4610 [==============================] - 104s 23ms/step - loss: 1.5843 - accuracy: 0.5320 - val_loss: 1.5758 - val_accuracy: 0.5354\n",
            "Epoch 37/100\n",
            "4608/4610 [============================>.] - ETA: 0s - loss: 1.5920 - accuracy: 0.5304\n",
            "Epoch 00037: val_accuracy did not improve from 0.53540\n",
            "4610/4610 [==============================] - 103s 22ms/step - loss: 1.5919 - accuracy: 0.5304 - val_loss: 1.5955 - val_accuracy: 0.5240\n",
            "Epoch 38/100\n",
            "4608/4610 [============================>.] - ETA: 0s - loss: 1.5879 - accuracy: 0.5326\n",
            "Epoch 00038: val_accuracy did not improve from 0.53540\n",
            "4610/4610 [==============================] - 103s 22ms/step - loss: 1.5880 - accuracy: 0.5326 - val_loss: 1.5896 - val_accuracy: 0.5309\n",
            "Epoch 39/100\n",
            "4608/4610 [============================>.] - ETA: 0s - loss: 1.5791 - accuracy: 0.5343\n",
            "Epoch 00039: val_accuracy did not improve from 0.53540\n",
            "4610/4610 [==============================] - 104s 22ms/step - loss: 1.5789 - accuracy: 0.5343 - val_loss: 1.5911 - val_accuracy: 0.5322\n",
            "Epoch 40/100\n",
            "4608/4610 [============================>.] - ETA: 0s - loss: 1.5821 - accuracy: 0.5322\n",
            "Epoch 00040: val_accuracy did not improve from 0.53540\n",
            "4610/4610 [==============================] - 102s 22ms/step - loss: 1.5821 - accuracy: 0.5322 - val_loss: 1.5812 - val_accuracy: 0.5305\n",
            "Epoch 41/100\n",
            "4610/4610 [==============================] - ETA: 0s - loss: 1.5816 - accuracy: 0.5329\n",
            "Epoch 00041: val_accuracy did not improve from 0.53540\n",
            "4610/4610 [==============================] - 102s 22ms/step - loss: 1.5816 - accuracy: 0.5329 - val_loss: 1.5664 - val_accuracy: 0.5325\n",
            "Epoch 42/100\n",
            "4610/4610 [==============================] - ETA: 0s - loss: 1.5793 - accuracy: 0.5351\n",
            "Epoch 00042: val_accuracy improved from 0.53540 to 0.54028, saving model to /content/drive/My Drive/TESI/Models/model5_LOW_byclass.h5\n",
            "4610/4610 [==============================] - 105s 23ms/step - loss: 1.5793 - accuracy: 0.5351 - val_loss: 1.5608 - val_accuracy: 0.5403\n",
            "Epoch 43/100\n",
            "4609/4610 [============================>.] - ETA: 0s - loss: 1.5835 - accuracy: 0.5341\n",
            "Epoch 00043: val_accuracy did not improve from 0.54028\n",
            "4610/4610 [==============================] - 103s 22ms/step - loss: 1.5835 - accuracy: 0.5341 - val_loss: 1.5794 - val_accuracy: 0.5305\n",
            "Epoch 44/100\n",
            "4609/4610 [============================>.] - ETA: 0s - loss: 1.5761 - accuracy: 0.5349\n",
            "Epoch 00044: val_accuracy did not improve from 0.54028\n",
            "4610/4610 [==============================] - 103s 22ms/step - loss: 1.5760 - accuracy: 0.5349 - val_loss: 1.5837 - val_accuracy: 0.5364\n",
            "Epoch 45/100\n",
            "4609/4610 [============================>.] - ETA: 0s - loss: 1.5783 - accuracy: 0.5334\n",
            "Epoch 00045: val_accuracy did not improve from 0.54028\n",
            "4610/4610 [==============================] - 103s 22ms/step - loss: 1.5784 - accuracy: 0.5334 - val_loss: 1.5685 - val_accuracy: 0.5380\n",
            "Epoch 46/100\n",
            "4608/4610 [============================>.] - ETA: 0s - loss: 1.5764 - accuracy: 0.5350\n",
            "Epoch 00046: val_accuracy did not improve from 0.54028\n",
            "4610/4610 [==============================] - 103s 22ms/step - loss: 1.5764 - accuracy: 0.5350 - val_loss: 1.7922 - val_accuracy: 0.4766\n",
            "Epoch 47/100\n",
            "4608/4610 [============================>.] - ETA: 0s - loss: 1.5755 - accuracy: 0.5358\n",
            "Epoch 00047: val_accuracy did not improve from 0.54028\n",
            "4610/4610 [==============================] - 101s 22ms/step - loss: 1.5755 - accuracy: 0.5358 - val_loss: 1.6026 - val_accuracy: 0.5256\n",
            "Epoch 48/100\n",
            "4609/4610 [============================>.] - ETA: 0s - loss: 1.5729 - accuracy: 0.5368\n",
            "Epoch 00048: val_accuracy did not improve from 0.54028\n",
            "4610/4610 [==============================] - 102s 22ms/step - loss: 1.5728 - accuracy: 0.5368 - val_loss: 1.5549 - val_accuracy: 0.5386\n",
            "Epoch 49/100\n",
            "4610/4610 [==============================] - ETA: 0s - loss: 1.5735 - accuracy: 0.5369\n",
            "Epoch 00049: val_accuracy improved from 0.54028 to 0.54425, saving model to /content/drive/My Drive/TESI/Models/model5_LOW_byclass.h5\n",
            "4610/4610 [==============================] - 104s 23ms/step - loss: 1.5735 - accuracy: 0.5369 - val_loss: 1.5406 - val_accuracy: 0.5443\n",
            "Epoch 50/100\n",
            "4609/4610 [============================>.] - ETA: 0s - loss: 1.5716 - accuracy: 0.5365\n",
            "Epoch 00050: val_accuracy did not improve from 0.54425\n",
            "4610/4610 [==============================] - 102s 22ms/step - loss: 1.5716 - accuracy: 0.5365 - val_loss: 1.5843 - val_accuracy: 0.5273\n",
            "Epoch 51/100\n",
            "4608/4610 [============================>.] - ETA: 0s - loss: 1.5689 - accuracy: 0.5368\n",
            "Epoch 00051: val_accuracy did not improve from 0.54425\n",
            "4610/4610 [==============================] - 100s 22ms/step - loss: 1.5689 - accuracy: 0.5368 - val_loss: 1.5541 - val_accuracy: 0.5429\n",
            "Epoch 52/100\n",
            "4608/4610 [============================>.] - ETA: 0s - loss: 1.5722 - accuracy: 0.5364\n",
            "Epoch 00052: val_accuracy did not improve from 0.54425\n",
            "4610/4610 [==============================] - 99s 22ms/step - loss: 1.5722 - accuracy: 0.5364 - val_loss: 1.5993 - val_accuracy: 0.5242\n",
            "Epoch 53/100\n",
            "4610/4610 [==============================] - ETA: 0s - loss: 1.5667 - accuracy: 0.5382\n",
            "Epoch 00053: val_accuracy did not improve from 0.54425\n",
            "4610/4610 [==============================] - 98s 21ms/step - loss: 1.5667 - accuracy: 0.5382 - val_loss: 1.5668 - val_accuracy: 0.5363\n",
            "Epoch 54/100\n",
            "4609/4610 [============================>.] - ETA: 0s - loss: 1.5624 - accuracy: 0.5399\n",
            "Epoch 00054: val_accuracy did not improve from 0.54425\n",
            "4610/4610 [==============================] - 102s 22ms/step - loss: 1.5625 - accuracy: 0.5399 - val_loss: 1.5302 - val_accuracy: 0.5436\n",
            "Epoch 55/100\n",
            "4609/4610 [============================>.] - ETA: 0s - loss: 1.5688 - accuracy: 0.5378\n",
            "Epoch 00055: val_accuracy did not improve from 0.54425\n",
            "4610/4610 [==============================] - 102s 22ms/step - loss: 1.5687 - accuracy: 0.5378 - val_loss: 1.5381 - val_accuracy: 0.5441\n",
            "Epoch 56/100\n",
            "4610/4610 [==============================] - ETA: 0s - loss: 1.5652 - accuracy: 0.5389\n",
            "Epoch 00056: val_accuracy improved from 0.54425 to 0.54468, saving model to /content/drive/My Drive/TESI/Models/model5_LOW_byclass.h5\n",
            "4610/4610 [==============================] - 102s 22ms/step - loss: 1.5652 - accuracy: 0.5389 - val_loss: 1.5347 - val_accuracy: 0.5447\n",
            "Epoch 57/100\n",
            "4608/4610 [============================>.] - ETA: 0s - loss: 1.5629 - accuracy: 0.5373\n",
            "Epoch 00057: val_accuracy did not improve from 0.54468\n",
            "4610/4610 [==============================] - 102s 22ms/step - loss: 1.5628 - accuracy: 0.5373 - val_loss: 1.5472 - val_accuracy: 0.5437\n",
            "Epoch 58/100\n",
            "4610/4610 [==============================] - ETA: 0s - loss: 1.5651 - accuracy: 0.5398\n",
            "Epoch 00058: val_accuracy did not improve from 0.54468\n",
            "4610/4610 [==============================] - 104s 22ms/step - loss: 1.5651 - accuracy: 0.5398 - val_loss: 1.5531 - val_accuracy: 0.5389\n",
            "Epoch 59/100\n",
            "4608/4610 [============================>.] - ETA: 0s - loss: 1.5684 - accuracy: 0.5376\n",
            "Epoch 00059: val_accuracy did not improve from 0.54468\n",
            "4610/4610 [==============================] - 102s 22ms/step - loss: 1.5685 - accuracy: 0.5376 - val_loss: 1.5729 - val_accuracy: 0.5370\n",
            "Epoch 60/100\n",
            "4610/4610 [==============================] - ETA: 0s - loss: 1.5634 - accuracy: 0.5379\n",
            "Epoch 00060: val_accuracy did not improve from 0.54468\n",
            "4610/4610 [==============================] - 104s 22ms/step - loss: 1.5634 - accuracy: 0.5379 - val_loss: 1.5874 - val_accuracy: 0.5269\n",
            "Epoch 61/100\n",
            "4610/4610 [==============================] - ETA: 0s - loss: 1.5591 - accuracy: 0.5395\n",
            "Epoch 00061: val_accuracy improved from 0.54468 to 0.54712, saving model to /content/drive/My Drive/TESI/Models/model5_LOW_byclass.h5\n",
            "4610/4610 [==============================] - 104s 23ms/step - loss: 1.5591 - accuracy: 0.5395 - val_loss: 1.5377 - val_accuracy: 0.5471\n",
            "Epoch 62/100\n",
            "4608/4610 [============================>.] - ETA: 0s - loss: 1.5604 - accuracy: 0.5390\n",
            "Epoch 00062: val_accuracy did not improve from 0.54712\n",
            "4610/4610 [==============================] - 103s 22ms/step - loss: 1.5604 - accuracy: 0.5391 - val_loss: 1.5893 - val_accuracy: 0.5297\n",
            "Epoch 63/100\n",
            "4610/4610 [==============================] - ETA: 0s - loss: 1.5613 - accuracy: 0.5400\n",
            "Epoch 00063: val_accuracy did not improve from 0.54712\n",
            "4610/4610 [==============================] - 102s 22ms/step - loss: 1.5613 - accuracy: 0.5400 - val_loss: 1.6072 - val_accuracy: 0.5333\n",
            "Epoch 64/100\n",
            "4610/4610 [==============================] - ETA: 0s - loss: 1.5547 - accuracy: 0.5406\n",
            "Epoch 00064: val_accuracy did not improve from 0.54712\n",
            "4610/4610 [==============================] - 100s 22ms/step - loss: 1.5547 - accuracy: 0.5406 - val_loss: 1.6217 - val_accuracy: 0.5197\n",
            "Epoch 65/100\n",
            "4609/4610 [============================>.] - ETA: 0s - loss: 1.5563 - accuracy: 0.5408\n",
            "Epoch 00065: val_accuracy did not improve from 0.54712\n",
            "4610/4610 [==============================] - 98s 21ms/step - loss: 1.5564 - accuracy: 0.5408 - val_loss: 1.5412 - val_accuracy: 0.5441\n",
            "Epoch 66/100\n",
            "4610/4610 [==============================] - ETA: 0s - loss: 1.5524 - accuracy: 0.5422\n",
            "Epoch 00066: val_accuracy improved from 0.54712 to 0.55145, saving model to /content/drive/My Drive/TESI/Models/model5_LOW_byclass.h5\n",
            "4610/4610 [==============================] - 100s 22ms/step - loss: 1.5524 - accuracy: 0.5422 - val_loss: 1.5253 - val_accuracy: 0.5515\n",
            "Epoch 67/100\n",
            "4610/4610 [==============================] - ETA: 0s - loss: 1.5548 - accuracy: 0.5406\n",
            "Epoch 00067: val_accuracy did not improve from 0.55145\n",
            "4610/4610 [==============================] - 101s 22ms/step - loss: 1.5548 - accuracy: 0.5406 - val_loss: 1.5467 - val_accuracy: 0.5419\n",
            "Epoch 68/100\n",
            "4608/4610 [============================>.] - ETA: 0s - loss: 1.5553 - accuracy: 0.5420\n",
            "Epoch 00068: val_accuracy did not improve from 0.55145\n",
            "4610/4610 [==============================] - 101s 22ms/step - loss: 1.5552 - accuracy: 0.5420 - val_loss: 1.5760 - val_accuracy: 0.5351\n",
            "Epoch 69/100\n",
            "4609/4610 [============================>.] - ETA: 0s - loss: 1.5542 - accuracy: 0.5416\n",
            "Epoch 00069: val_accuracy did not improve from 0.55145\n",
            "4610/4610 [==============================] - 101s 22ms/step - loss: 1.5541 - accuracy: 0.5416 - val_loss: 1.5467 - val_accuracy: 0.5449\n",
            "Epoch 70/100\n",
            "4608/4610 [============================>.] - ETA: 0s - loss: 1.5539 - accuracy: 0.5410\n",
            "Epoch 00070: val_accuracy did not improve from 0.55145\n",
            "4610/4610 [==============================] - 101s 22ms/step - loss: 1.5540 - accuracy: 0.5411 - val_loss: 1.5248 - val_accuracy: 0.5497\n",
            "Epoch 71/100\n",
            "4608/4610 [============================>.] - ETA: 0s - loss: 1.5495 - accuracy: 0.5432\n",
            "Epoch 00071: val_accuracy did not improve from 0.55145\n",
            "4610/4610 [==============================] - 102s 22ms/step - loss: 1.5497 - accuracy: 0.5432 - val_loss: 1.5466 - val_accuracy: 0.5418\n",
            "Epoch 72/100\n",
            "4610/4610 [==============================] - ETA: 0s - loss: 1.5522 - accuracy: 0.5417\n",
            "Epoch 00072: val_accuracy did not improve from 0.55145\n",
            "4610/4610 [==============================] - 101s 22ms/step - loss: 1.5522 - accuracy: 0.5417 - val_loss: 1.5429 - val_accuracy: 0.5444\n",
            "Epoch 73/100\n",
            "4608/4610 [============================>.] - ETA: 0s - loss: 1.5504 - accuracy: 0.5433\n",
            "Epoch 00073: val_accuracy did not improve from 0.55145\n",
            "4610/4610 [==============================] - 101s 22ms/step - loss: 1.5504 - accuracy: 0.5433 - val_loss: 1.5403 - val_accuracy: 0.5479\n",
            "Epoch 74/100\n",
            "4610/4610 [==============================] - ETA: 0s - loss: 1.5516 - accuracy: 0.5426\n",
            "Epoch 00074: val_accuracy did not improve from 0.55145\n",
            "4610/4610 [==============================] - 103s 22ms/step - loss: 1.5516 - accuracy: 0.5426 - val_loss: 1.6180 - val_accuracy: 0.5244\n",
            "Epoch 75/100\n",
            "4609/4610 [============================>.] - ETA: 0s - loss: 1.5527 - accuracy: 0.5421\n",
            "Epoch 00075: val_accuracy did not improve from 0.55145\n",
            "4610/4610 [==============================] - 102s 22ms/step - loss: 1.5528 - accuracy: 0.5421 - val_loss: 1.5812 - val_accuracy: 0.5345\n",
            "Epoch 76/100\n",
            "4609/4610 [============================>.] - ETA: 0s - loss: 1.5484 - accuracy: 0.5446\n",
            "Epoch 00076: val_accuracy did not improve from 0.55145\n",
            "Restoring model weights from the end of the best epoch.\n",
            "4610/4610 [==============================] - 103s 22ms/step - loss: 1.5484 - accuracy: 0.5446 - val_loss: 1.5431 - val_accuracy: 0.5412\n",
            "Epoch 00076: early stopping\n"
          ],
          "name": "stdout"
        }
      ]
    },
    {
      "cell_type": "code",
      "metadata": {
        "id": "XXHdIbq7Qv_I",
        "outputId": "b07fd314-7341-4b27-caa2-9a31ff87806d",
        "colab": {
          "base_uri": "https://localhost:8080/",
          "height": 1000
        }
      },
      "source": [
        "plt.figure(figsize=(16,9))\n",
        "# summarize history for accuracy\n",
        "plt.plot(history1_UPP.history['accuracy'])\n",
        "plt.plot(history1_UPP.history['val_accuracy'])\n",
        "plt.title('Model 5 lowercase letters accuracy (with Data Augmentation)')\n",
        "plt.ylabel('accuracy')\n",
        "plt.xlabel('epoch')\n",
        "plt.legend(['train', 'validation'], loc='lower right')\n",
        "plt.show()\n",
        "plt.figure(figsize=(16,9))\n",
        "\n",
        "# summarize history for loss\n",
        "plt.plot(history1_UPP.history['loss'])\n",
        "plt.plot(history1_UPP.history['val_loss'])\n",
        "plt.title('Model 5 lowercase letters loss  (with Data Augmentation)')\n",
        "plt.ylabel('loss')\n",
        "plt.xlabel('epoch')\n",
        "plt.legend(['train', 'validation'], loc='upper right')\n",
        "plt.show()"
      ],
      "execution_count": null,
      "outputs": [
        {
          "output_type": "display_data",
          "data": {
            "image/png": "[encoded data removed]",
            "text/plain": [
              "<Figure size 1152x648 with 1 Axes>"
            ]
          },
          "metadata": {
            "tags": [],
            "needs_background": "light"
          }
        },
        {
          "output_type": "display_data",
          "data": {
            "image/png": "[encoded data removed]",
            "text/plain": [
              "<Figure size 1152x648 with 1 Axes>"
            ]
          },
          "metadata": {
            "tags": [],
            "needs_background": "light"
          }
        }
      ]
    },
    {
      "cell_type": "code",
      "metadata": {
        "id": "xMRCeTWLyimv"
      },
      "source": [
        "lab_test_UPP = tf.keras.utils.to_categorical(lab_test_UPP)"
      ],
      "execution_count": null,
      "outputs": []
    },
    {
      "cell_type": "code",
      "metadata": {
        "id": "9fI6RgfqG9tj",
        "outputId": "ac70fb67-6b5f-40b9-8aa7-90802535e726",
        "colab": {
          "base_uri": "https://localhost:8080/",
          "height": 35
        }
      },
      "source": [
        "evaluation = model.evaluate(valid_datagen.flow(im_test_UPP, lab_test_UPP))"
      ],
      "execution_count": null,
      "outputs": [
        {
          "output_type": "stream",
          "text": [
            "846/846 [==============================] - 16s 18ms/step - loss: 1.5433 - accuracy: 0.5505\n"
          ],
          "name": "stdout"
        }
      ]
    },
    {
      "cell_type": "code",
      "metadata": {
        "id": "kiUyKoTe9QQB"
      },
      "source": [
        ""
      ],
      "execution_count": null,
      "outputs": []
    }
  ]
}