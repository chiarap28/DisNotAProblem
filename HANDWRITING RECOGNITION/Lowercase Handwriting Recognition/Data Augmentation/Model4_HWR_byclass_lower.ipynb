{
  "nbformat": 4,
  "nbformat_minor": 0,
  "metadata": {
    "colab": {
      "name": " Model4-HWR-byclass-lower.ipynb",
      "provenance": []
    },
    "kernelspec": {
      "name": "python3",
      "display_name": "Python 3"
    },
    "accelerator": "GPU"
  },
  "cells": [
    {
      "cell_type": "code",
      "metadata": {
        "id": "WaamsQlM5zPi",
        "outputId": "1f35fcce-8f7f-4eb7-f624-d635eb859259",
        "colab": {
          "base_uri": "https://localhost:8080/",
          "height": 212
        }
      },
      "source": [
        "pip install emnist"
      ],
      "execution_count": null,
      "outputs": [
        {
          "output_type": "stream",
          "text": [
            "Collecting emnist\n",
            "  Downloading https://files.pythonhosted.org/packages/d1/f4/78b24acbef9e8fe976dda700f16a3606f3b8363b015bc555f8050fbbd8ac/emnist-0.0-py3-none-any.whl\n",
            "Requirement already satisfied: requests in /usr/local/lib/python3.6/dist-packages (from emnist) (2.23.0)\n",
            "Requirement already satisfied: numpy in /usr/local/lib/python3.6/dist-packages (from emnist) (1.18.5)\n",
            "Requirement already satisfied: tqdm in /usr/local/lib/python3.6/dist-packages (from emnist) (4.41.1)\n",
            "Requirement already satisfied: urllib3!=1.25.0,!=1.25.1,<1.26,>=1.21.1 in /usr/local/lib/python3.6/dist-packages (from requests->emnist) (1.24.3)\n",
            "Requirement already satisfied: idna<3,>=2.5 in /usr/local/lib/python3.6/dist-packages (from requests->emnist) (2.10)\n",
            "Requirement already satisfied: chardet<4,>=3.0.2 in /usr/local/lib/python3.6/dist-packages (from requests->emnist) (3.0.4)\n",
            "Requirement already satisfied: certifi>=2017.4.17 in /usr/local/lib/python3.6/dist-packages (from requests->emnist) (2020.6.20)\n",
            "Installing collected packages: emnist\n",
            "Successfully installed emnist-0.0\n"
          ],
          "name": "stdout"
        }
      ]
    },
    {
      "cell_type": "code",
      "metadata": {
        "id": "yzz5cngH59he"
      },
      "source": [
        "import os\n",
        "import numpy as np\n",
        "import matplotlib.pyplot as plt\n",
        "\n",
        "from pathlib import Path\n",
        "from collections import Counter\n",
        "\n",
        "import tensorflow as tf\n",
        "from tensorflow import keras\n",
        "from tensorflow.keras import layers\n",
        "\n",
        "from emnist import list_datasets, extract_training_samples, extract_test_samples"
      ],
      "execution_count": null,
      "outputs": []
    },
    {
      "cell_type": "code",
      "metadata": {
        "id": "9w6qPaD56HaU",
        "outputId": "34404280-f661-4503-c971-2cd53c56abaa",
        "colab": {
          "base_uri": "https://localhost:8080/",
          "height": 35
        }
      },
      "source": [
        "# load emnist dataset 'by class'\n",
        "\n",
        "images, labels = extract_training_samples('byclass')\n",
        "images_test, labels_test = extract_test_samples('byclass')"
      ],
      "execution_count": null,
      "outputs": [
        {
          "output_type": "stream",
          "text": [
            "Downloading emnist.zip: 536MB [00:08, 67.9MB/s]\n"
          ],
          "name": "stderr"
        }
      ]
    },
    {
      "cell_type": "code",
      "metadata": {
        "id": "CgkMrn-N6WJP"
      },
      "source": [
        "# find index of uppercase letters\n",
        "\n",
        "tr_index_UPP = [i for i in range(len(labels)) if labels[i]>=36 and labels[i] <= 61] \n",
        "ts_index_UPP = [i for i in range(len(labels_test)) if labels_test[i]>=36 and labels_test[i] <= 61]"
      ],
      "execution_count": null,
      "outputs": []
    },
    {
      "cell_type": "code",
      "metadata": {
        "id": "pjpAgQBL6hxs"
      },
      "source": [
        "# save images and labels in uppercase\n",
        "\n",
        "im_train_UPP = images[tr_index_UPP]\n",
        "im_test_UPP = images_test[ts_index_UPP]\n",
        "lab_train_UPP = labels[tr_index_UPP]\n",
        "lab_test_UPP = labels_test[ts_index_UPP]"
      ],
      "execution_count": null,
      "outputs": []
    },
    {
      "cell_type": "code",
      "metadata": {
        "id": "8_99A-YR6uY3"
      },
      "source": [
        "# reformulate labels for application of built-in function 'to_categorical'\n",
        "\n",
        "alf_UPP = {\n",
        "       36: 0,\n",
        "       37: 1,\n",
        "       38: 2,\n",
        "       39: 3,\n",
        "       40: 4,\n",
        "       41: 5,\n",
        "       42: 6,\n",
        "       43: 7,\n",
        "       44: 8,\n",
        "       45: 9,\n",
        "       46: 10,\n",
        "       47: 11,\n",
        "       48: 12,\n",
        "       49: 13,\n",
        "       50: 14,\n",
        "       51: 15,\n",
        "       52: 16,\n",
        "       53: 17,\n",
        "       54: 18,\n",
        "       55: 19,\n",
        "       56: 20,\n",
        "       57: 21,\n",
        "       58: 22,\n",
        "       59: 23,\n",
        "       60: 24,\n",
        "       61: 25,\n",
        "       }\n",
        "\n",
        "lab_train_UPP = [alf_UPP[label] for label in lab_train_UPP]\n",
        "lab_test_UPP = [alf_UPP[label] for label in lab_test_UPP]"
      ],
      "execution_count": null,
      "outputs": []
    },
    {
      "cell_type": "code",
      "metadata": {
        "id": "gXvoJ4X1_595",
        "outputId": "4343c171-16cb-4c4b-a2ba-2d18e9d92f76",
        "colab": {
          "base_uri": "https://localhost:8080/",
          "height": 35
        }
      },
      "source": [
        "# check labels\n",
        "\n",
        "lab_train_UPP[0]"
      ],
      "execution_count": null,
      "outputs": [
        {
          "output_type": "execute_result",
          "data": {
            "text/plain": [
              "0"
            ]
          },
          "metadata": {
            "tags": []
          },
          "execution_count": 7
        }
      ]
    },
    {
      "cell_type": "code",
      "metadata": {
        "id": "kj8i4Tyw_72J"
      },
      "source": [
        "# define image width and height and batch size\n",
        "\n",
        "# Batch size for training and validation\n",
        "batch_size = 32\n",
        "\n",
        "# Desired image dimensions\n",
        "img_width = 28\n",
        "img_height = 28"
      ],
      "execution_count": null,
      "outputs": []
    },
    {
      "cell_type": "code",
      "metadata": {
        "id": "txkyxT3JDili"
      },
      "source": [
        "# split training set in traininig and validation set\n",
        "\n",
        "def split_data(images, labels, train_size=0.9, shuffle=True):\n",
        "    # 1. Get the total size of the dataset\n",
        "    size = len(images)\n",
        "    # 2. Make an indices array and shuffle it, if required\n",
        "    indices = np.arange(size)\n",
        "    if shuffle:\n",
        "        np.random.shuffle(indices)\n",
        "    # 3. Get the size of training samples\n",
        "    train_samples = int(size * train_size)\n",
        "    # 4. Split data into training and validation sets\n",
        "    x_train, y_train = images[indices[:train_samples]], labels[indices[:train_samples]]\n",
        "    x_valid, y_valid = images[indices[train_samples:]], labels[indices[train_samples:]]\n",
        "    return x_train, x_valid, y_train, y_valid"
      ],
      "execution_count": null,
      "outputs": []
    },
    {
      "cell_type": "code",
      "metadata": {
        "id": "1Vp7uXl8Hamn"
      },
      "source": [
        "# Splitting data into training and validation sets\n",
        "x_train_UPP, x_valid_UPP, y_train_UPP, y_valid_UPP = split_data(np.array(im_train_UPP), np.array(lab_train_UPP))"
      ],
      "execution_count": null,
      "outputs": []
    },
    {
      "cell_type": "code",
      "metadata": {
        "id": "DlmupJ5eIGDF"
      },
      "source": [
        "# to categorical \n",
        "\n",
        "y_train_UPP = tf.keras.utils.to_categorical(y_train_UPP, 26)\n",
        "y_valid_UPP = tf.keras.utils.to_categorical(y_valid_UPP, 26)"
      ],
      "execution_count": null,
      "outputs": []
    },
    {
      "cell_type": "code",
      "metadata": {
        "id": "ZvQPt1RXI-OV"
      },
      "source": [
        "# normalize training, validation and test data\n",
        "\n",
        "x_train_UPP = tf.keras.utils.normalize(x_train_UPP, axis=1)\n",
        "x_valid_UPP = tf.keras.utils.normalize(x_valid_UPP, axis=1)\n",
        "im_test_UPP = tf.keras.utils.normalize(im_test_UPP, axis=1)"
      ],
      "execution_count": null,
      "outputs": []
    },
    {
      "cell_type": "code",
      "metadata": {
        "id": "bZrNm_RsMvg4"
      },
      "source": [
        "# using data augmentation\n",
        "\n",
        "train_datagen = tf.keras.preprocessing.image.ImageDataGenerator(featurewise_center=True,\n",
        "                                                          featurewise_std_normalization=True,\n",
        "                                                          rotation_range=20,\n",
        "                                                          width_shift_range=0.2,\n",
        "                                                          height_shift_range=0.2,\n",
        "                                                          horizontal_flip=True)\n",
        "valid_datagen = tf.keras.preprocessing.image.ImageDataGenerator(featurewise_center=True,\n",
        "                                                          featurewise_std_normalization=True,\n",
        "                                                          rotation_range=20,\n",
        "                                                          width_shift_range=0.2,\n",
        "                                                          height_shift_range=0.2,\n",
        "                                                          horizontal_flip=True)\n",
        "\n",
        "x_train_UPP = np.reshape(x_train_UPP, (len(x_train_UPP),img_width, img_width, 1))\n",
        "x_valid_UPP = np.reshape(x_valid_UPP, (len(x_valid_UPP),img_width, img_width, 1))\n",
        "im_test_UPP = np.reshape(im_test_UPP, (len(im_test_UPP), img_width, img_height, 1))\n",
        "\n",
        "train_datagen.fit(x_train_UPP)\n",
        "valid_datagen.fit(x_valid_UPP)"
      ],
      "execution_count": null,
      "outputs": []
    },
    {
      "cell_type": "code",
      "metadata": {
        "id": "xoml2gmkNnLr"
      },
      "source": [
        "# build model\n",
        "\n",
        "def build_model():\n",
        "    # Inputs to the model\n",
        "    input_img = layers.Input(\n",
        "        shape=(img_width, img_height, 1), name=\"image\", dtype=\"float32\"\n",
        "    )\n",
        "    x = layers.Reshape((img_width, img_height))(input_img)\n",
        "    # RNNs\n",
        "    x = layers.Bidirectional(layers.LSTM(64, return_sequences=True, dropout=0.25, name='bilstm1'))(x)\n",
        "    #x = layers.Flatten()(x)\n",
        "    x = layers.Bidirectional(layers.LSTM(32, return_sequences=True, dropout=0.25, name='bilstm2'))(x)\n",
        "    x = layers.Flatten()(x)\n",
        "    # Output layer\n",
        "    x = layers.Dense(units=128, activation='sigmoid', name='dense_1')(x)\n",
        "    output = layers.Dense(units=26, activation=\"softmax\", name=\"dense2\")(x)\n",
        "\n",
        "    # Define the model\n",
        "    model = keras.models.Model(\n",
        "        inputs=input_img, outputs=output, name=\"ocr_model_v1\"\n",
        "    )\n",
        "    # Optimizer\n",
        "    opt = keras.optimizers.Adam()\n",
        "    # Compile the model and return\n",
        "    model.compile(loss='categorical_crossentropy',optimizer=opt, metrics=['accuracy'])\n",
        "\n",
        "    return model"
      ],
      "execution_count": null,
      "outputs": []
    },
    {
      "cell_type": "code",
      "metadata": {
        "id": "bCVkysqePH29",
        "outputId": "d7a53b80-8dcb-48fc-d9e9-8c36b7b6be14",
        "colab": {
          "base_uri": "https://localhost:8080/",
          "height": 408
        }
      },
      "source": [
        "model = build_model()\n",
        "model.summary()"
      ],
      "execution_count": null,
      "outputs": [
        {
          "output_type": "stream",
          "text": [
            "Model: \"ocr_model_v1\"\n",
            "_________________________________________________________________\n",
            "Layer (type)                 Output Shape              Param #   \n",
            "=================================================================\n",
            "image (InputLayer)           [(None, 28, 28, 1)]       0         \n",
            "_________________________________________________________________\n",
            "reshape (Reshape)            (None, 28, 28)            0         \n",
            "_________________________________________________________________\n",
            "bidirectional (Bidirectional (None, 28, 128)           47616     \n",
            "_________________________________________________________________\n",
            "bidirectional_1 (Bidirection (None, 28, 64)            41216     \n",
            "_________________________________________________________________\n",
            "flatten (Flatten)            (None, 1792)              0         \n",
            "_________________________________________________________________\n",
            "dense_1 (Dense)              (None, 128)               229504    \n",
            "_________________________________________________________________\n",
            "dense2 (Dense)               (None, 26)                3354      \n",
            "=================================================================\n",
            "Total params: 321,690\n",
            "Trainable params: 321,690\n",
            "Non-trainable params: 0\n",
            "_________________________________________________________________\n"
          ],
          "name": "stdout"
        }
      ]
    },
    {
      "cell_type": "code",
      "metadata": {
        "id": "v8YiuOWiPKKM",
        "outputId": "ed947a09-5b27-4557-a6db-a2991c8105b0",
        "colab": {
          "base_uri": "https://localhost:8080/",
          "height": 661
        }
      },
      "source": [
        "from keras.utils import plot_model\n",
        "plot_model(model, to_file='/content/drive/My Drive/TESI/Models/Immagini/model4_byclass_lower.png')"
      ],
      "execution_count": null,
      "outputs": [
        {
          "output_type": "execute_result",
          "data": {
            "image/png": "[encoded data removed]",
            "text/plain": [
              "<IPython.core.display.Image object>"
            ]
          },
          "metadata": {
            "tags": []
          },
          "execution_count": 16
        }
      ]
    },
    {
      "cell_type": "code",
      "metadata": {
        "id": "Bupp_Vi9PtBO"
      },
      "source": [
        "epochs = 100\n",
        "early_stopping_patience = 10\n",
        "# Add early stopping\n",
        "early_stopping = keras.callbacks.EarlyStopping(\n",
        "    monitor=\"val_accuracy\", patience=early_stopping_patience, restore_best_weights=True, verbose=1\n",
        ")\n",
        "\n",
        "# Model CheckPoint\n",
        "cp = keras.callbacks.ModelCheckpoint('/content/drive/My Drive/TESI/Models/model4_LOW_byclass.h5',\n",
        "                                     verbose=1,\n",
        "                                     monitor='val_accuracy',\n",
        "                                     save_best_only=True,\n",
        "                                     mode='max')"
      ],
      "execution_count": null,
      "outputs": []
    },
    {
      "cell_type": "code",
      "metadata": {
        "id": "wU2qe4yJQVK5",
        "outputId": "410c82e7-8315-48ff-86b0-af342a5f787e",
        "colab": {
          "base_uri": "https://localhost:8080/",
          "height": 1000
        }
      },
      "source": [
        "# fit model\n",
        "history1_UPP = model.fit(train_datagen.flow(x_train_UPP,y_train_UPP, batch_size=batch_size),\n",
        "                    validation_data=valid_datagen.flow(x_valid_UPP,y_valid_UPP, batch_size=batch_size),\n",
        "                    steps_per_epoch=len(x_train_UPP)//batch_size,\n",
        "                    validation_steps=len(x_valid_UPP)//batch_size,\n",
        "                    epochs=epochs,\n",
        "                    verbose=1,\n",
        "                    callbacks=[cp, early_stopping])"
      ],
      "execution_count": null,
      "outputs": [
        {
          "output_type": "stream",
          "text": [
            "Epoch 1/100\n",
            "4610/4610 [==============================] - ETA: 0s - loss: 0.8637 - accuracy: 0.7341\n",
            "Epoch 00001: val_accuracy improved from -inf to 0.81860, saving model to /content/drive/My Drive/TESI/Models/model4_LOW_byclass.h5\n",
            "4610/4610 [==============================] - 142s 31ms/step - loss: 0.8637 - accuracy: 0.7341 - val_loss: 0.5564 - val_accuracy: 0.8186\n",
            "Epoch 2/100\n",
            "4610/4610 [==============================] - ETA: 0s - loss: 0.5539 - accuracy: 0.8217\n",
            "Epoch 00002: val_accuracy improved from 0.81860 to 0.84656, saving model to /content/drive/My Drive/TESI/Models/model4_LOW_byclass.h5\n",
            "4610/4610 [==============================] - 142s 31ms/step - loss: 0.5539 - accuracy: 0.8217 - val_loss: 0.4835 - val_accuracy: 0.8466\n",
            "Epoch 3/100\n",
            "4609/4610 [============================>.] - ETA: 0s - loss: 0.4841 - accuracy: 0.8449\n",
            "Epoch 00003: val_accuracy improved from 0.84656 to 0.86456, saving model to /content/drive/My Drive/TESI/Models/model4_LOW_byclass.h5\n",
            "4610/4610 [==============================] - 143s 31ms/step - loss: 0.4840 - accuracy: 0.8449 - val_loss: 0.4284 - val_accuracy: 0.8646\n",
            "Epoch 4/100\n",
            "4610/4610 [==============================] - ETA: 0s - loss: 0.4516 - accuracy: 0.8543\n",
            "Epoch 00004: val_accuracy did not improve from 0.86456\n",
            "4610/4610 [==============================] - 140s 30ms/step - loss: 0.4516 - accuracy: 0.8543 - val_loss: 0.4230 - val_accuracy: 0.8635\n",
            "Epoch 5/100\n",
            "4609/4610 [============================>.] - ETA: 0s - loss: 0.4290 - accuracy: 0.8611\n",
            "Epoch 00005: val_accuracy improved from 0.86456 to 0.87616, saving model to /content/drive/My Drive/TESI/Models/model4_LOW_byclass.h5\n",
            "4610/4610 [==============================] - 143s 31ms/step - loss: 0.4291 - accuracy: 0.8611 - val_loss: 0.3858 - val_accuracy: 0.8762\n",
            "Epoch 6/100\n",
            "4610/4610 [==============================] - ETA: 0s - loss: 0.4145 - accuracy: 0.8666\n",
            "Epoch 00006: val_accuracy improved from 0.87616 to 0.87836, saving model to /content/drive/My Drive/TESI/Models/model4_LOW_byclass.h5\n",
            "4610/4610 [==============================] - 142s 31ms/step - loss: 0.4145 - accuracy: 0.8666 - val_loss: 0.3803 - val_accuracy: 0.8784\n",
            "Epoch 7/100\n",
            "4609/4610 [============================>.] - ETA: 0s - loss: 0.4010 - accuracy: 0.8700\n",
            "Epoch 00007: val_accuracy improved from 0.87836 to 0.88129, saving model to /content/drive/My Drive/TESI/Models/model4_LOW_byclass.h5\n",
            "4610/4610 [==============================] - 142s 31ms/step - loss: 0.4011 - accuracy: 0.8700 - val_loss: 0.3730 - val_accuracy: 0.8813\n",
            "Epoch 8/100\n",
            "4609/4610 [============================>.] - ETA: 0s - loss: 0.3930 - accuracy: 0.8729\n",
            "Epoch 00008: val_accuracy improved from 0.88129 to 0.88727, saving model to /content/drive/My Drive/TESI/Models/model4_LOW_byclass.h5\n",
            "4610/4610 [==============================] - 142s 31ms/step - loss: 0.3929 - accuracy: 0.8729 - val_loss: 0.3534 - val_accuracy: 0.8873\n",
            "Epoch 9/100\n",
            "4609/4610 [============================>.] - ETA: 0s - loss: 0.3813 - accuracy: 0.8764\n",
            "Epoch 00009: val_accuracy did not improve from 0.88727\n",
            "4610/4610 [==============================] - 140s 30ms/step - loss: 0.3813 - accuracy: 0.8764 - val_loss: 0.3565 - val_accuracy: 0.8862\n",
            "Epoch 10/100\n",
            "4610/4610 [==============================] - ETA: 0s - loss: 0.3794 - accuracy: 0.8763\n",
            "Epoch 00010: val_accuracy improved from 0.88727 to 0.88910, saving model to /content/drive/My Drive/TESI/Models/model4_LOW_byclass.h5\n",
            "4610/4610 [==============================] - 142s 31ms/step - loss: 0.3794 - accuracy: 0.8763 - val_loss: 0.3512 - val_accuracy: 0.8891\n",
            "Epoch 11/100\n",
            "4609/4610 [============================>.] - ETA: 0s - loss: 0.3714 - accuracy: 0.8802\n",
            "Epoch 00011: val_accuracy improved from 0.88910 to 0.89069, saving model to /content/drive/My Drive/TESI/Models/model4_LOW_byclass.h5\n",
            "4610/4610 [==============================] - 142s 31ms/step - loss: 0.3714 - accuracy: 0.8802 - val_loss: 0.3412 - val_accuracy: 0.8907\n",
            "Epoch 12/100\n",
            "4610/4610 [==============================] - ETA: 0s - loss: 0.3654 - accuracy: 0.8817\n",
            "Epoch 00012: val_accuracy improved from 0.89069 to 0.89075, saving model to /content/drive/My Drive/TESI/Models/model4_LOW_byclass.h5\n",
            "4610/4610 [==============================] - 142s 31ms/step - loss: 0.3654 - accuracy: 0.8817 - val_loss: 0.3467 - val_accuracy: 0.8907\n",
            "Epoch 13/100\n",
            "4610/4610 [==============================] - ETA: 0s - loss: 0.3624 - accuracy: 0.8822\n",
            "Epoch 00013: val_accuracy improved from 0.89075 to 0.89252, saving model to /content/drive/My Drive/TESI/Models/model4_LOW_byclass.h5\n",
            "4610/4610 [==============================] - 141s 31ms/step - loss: 0.3624 - accuracy: 0.8822 - val_loss: 0.3307 - val_accuracy: 0.8925\n",
            "Epoch 14/100\n",
            "4609/4610 [============================>.] - ETA: 0s - loss: 0.3611 - accuracy: 0.8828\n",
            "Epoch 00014: val_accuracy improved from 0.89252 to 0.89435, saving model to /content/drive/My Drive/TESI/Models/model4_LOW_byclass.h5\n",
            "4610/4610 [==============================] - 141s 31ms/step - loss: 0.3611 - accuracy: 0.8828 - val_loss: 0.3354 - val_accuracy: 0.8943\n",
            "Epoch 15/100\n",
            "4609/4610 [============================>.] - ETA: 0s - loss: 0.3594 - accuracy: 0.8831\n",
            "Epoch 00015: val_accuracy improved from 0.89435 to 0.89764, saving model to /content/drive/My Drive/TESI/Models/model4_LOW_byclass.h5\n",
            "4610/4610 [==============================] - 142s 31ms/step - loss: 0.3594 - accuracy: 0.8831 - val_loss: 0.3176 - val_accuracy: 0.8976\n",
            "Epoch 16/100\n",
            "4609/4610 [============================>.] - ETA: 0s - loss: 0.3552 - accuracy: 0.8841\n",
            "Epoch 00016: val_accuracy did not improve from 0.89764\n",
            "4610/4610 [==============================] - 140s 30ms/step - loss: 0.3551 - accuracy: 0.8841 - val_loss: 0.3271 - val_accuracy: 0.8944\n",
            "Epoch 17/100\n",
            "4609/4610 [============================>.] - ETA: 0s - loss: 0.3538 - accuracy: 0.8846\n",
            "Epoch 00017: val_accuracy improved from 0.89764 to 0.89972, saving model to /content/drive/My Drive/TESI/Models/model4_LOW_byclass.h5\n",
            "4610/4610 [==============================] - 141s 31ms/step - loss: 0.3538 - accuracy: 0.8845 - val_loss: 0.3113 - val_accuracy: 0.8997\n",
            "Epoch 18/100\n",
            "4609/4610 [============================>.] - ETA: 0s - loss: 0.3483 - accuracy: 0.8866\n",
            "Epoch 00018: val_accuracy did not improve from 0.89972\n",
            "4610/4610 [==============================] - 140s 30ms/step - loss: 0.3483 - accuracy: 0.8866 - val_loss: 0.3177 - val_accuracy: 0.8987\n",
            "Epoch 19/100\n",
            "4610/4610 [==============================] - ETA: 0s - loss: 0.3491 - accuracy: 0.8865\n",
            "Epoch 00019: val_accuracy did not improve from 0.89972\n",
            "4610/4610 [==============================] - 140s 30ms/step - loss: 0.3491 - accuracy: 0.8865 - val_loss: 0.3228 - val_accuracy: 0.8993\n",
            "Epoch 20/100\n",
            "4609/4610 [============================>.] - ETA: 0s - loss: 0.3468 - accuracy: 0.8871\n",
            "Epoch 00020: val_accuracy did not improve from 0.89972\n",
            "4610/4610 [==============================] - 140s 30ms/step - loss: 0.3468 - accuracy: 0.8871 - val_loss: 0.3217 - val_accuracy: 0.8994\n",
            "Epoch 21/100\n",
            "4609/4610 [============================>.] - ETA: 0s - loss: 0.3438 - accuracy: 0.8882\n",
            "Epoch 00021: val_accuracy did not improve from 0.89972\n",
            "4610/4610 [==============================] - 140s 30ms/step - loss: 0.3438 - accuracy: 0.8882 - val_loss: 0.3104 - val_accuracy: 0.8983\n",
            "Epoch 22/100\n",
            "4609/4610 [============================>.] - ETA: 0s - loss: 0.3434 - accuracy: 0.8878\n",
            "Epoch 00022: val_accuracy improved from 0.89972 to 0.90350, saving model to /content/drive/My Drive/TESI/Models/model4_LOW_byclass.h5\n",
            "4610/4610 [==============================] - 142s 31ms/step - loss: 0.3434 - accuracy: 0.8878 - val_loss: 0.3099 - val_accuracy: 0.9035\n",
            "Epoch 23/100\n",
            "4610/4610 [==============================] - ETA: 0s - loss: 0.3398 - accuracy: 0.8892\n",
            "Epoch 00023: val_accuracy did not improve from 0.90350\n",
            "4610/4610 [==============================] - 141s 31ms/step - loss: 0.3398 - accuracy: 0.8892 - val_loss: 0.3078 - val_accuracy: 0.9031\n",
            "Epoch 24/100\n",
            "4610/4610 [==============================] - ETA: 0s - loss: 0.3429 - accuracy: 0.8881\n",
            "Epoch 00024: val_accuracy did not improve from 0.90350\n",
            "4610/4610 [==============================] - 141s 31ms/step - loss: 0.3429 - accuracy: 0.8881 - val_loss: 0.3166 - val_accuracy: 0.8982\n",
            "Epoch 25/100\n",
            "4610/4610 [==============================] - ETA: 0s - loss: 0.3364 - accuracy: 0.8903\n",
            "Epoch 00025: val_accuracy did not improve from 0.90350\n",
            "4610/4610 [==============================] - 141s 31ms/step - loss: 0.3364 - accuracy: 0.8903 - val_loss: 0.3140 - val_accuracy: 0.8991\n",
            "Epoch 26/100\n",
            "4609/4610 [============================>.] - ETA: 0s - loss: 0.3356 - accuracy: 0.8907\n",
            "Epoch 00026: val_accuracy did not improve from 0.90350\n",
            "4610/4610 [==============================] - 139s 30ms/step - loss: 0.3357 - accuracy: 0.8906 - val_loss: 0.3114 - val_accuracy: 0.8966\n",
            "Epoch 27/100\n",
            "4609/4610 [============================>.] - ETA: 0s - loss: 0.3375 - accuracy: 0.8899\n",
            "Epoch 00027: val_accuracy did not improve from 0.90350\n",
            "4610/4610 [==============================] - 139s 30ms/step - loss: 0.3375 - accuracy: 0.8899 - val_loss: 0.3129 - val_accuracy: 0.8999\n",
            "Epoch 28/100\n",
            "4610/4610 [==============================] - ETA: 0s - loss: 0.3366 - accuracy: 0.8894\n",
            "Epoch 00028: val_accuracy did not improve from 0.90350\n",
            "4610/4610 [==============================] - 139s 30ms/step - loss: 0.3366 - accuracy: 0.8894 - val_loss: 0.3177 - val_accuracy: 0.8991\n",
            "Epoch 29/100\n",
            "4610/4610 [==============================] - ETA: 0s - loss: 0.3347 - accuracy: 0.8914\n",
            "Epoch 00029: val_accuracy did not improve from 0.90350\n",
            "4610/4610 [==============================] - 139s 30ms/step - loss: 0.3347 - accuracy: 0.8914 - val_loss: 0.3097 - val_accuracy: 0.9015\n",
            "Epoch 30/100\n",
            "4609/4610 [============================>.] - ETA: 0s - loss: 0.3327 - accuracy: 0.8911\n",
            "Epoch 00030: val_accuracy did not improve from 0.90350\n",
            "4610/4610 [==============================] - 139s 30ms/step - loss: 0.3327 - accuracy: 0.8911 - val_loss: 0.3055 - val_accuracy: 0.9003\n",
            "Epoch 31/100\n",
            "4609/4610 [============================>.] - ETA: 0s - loss: 0.3323 - accuracy: 0.8915\n",
            "Epoch 00031: val_accuracy did not improve from 0.90350\n",
            "4610/4610 [==============================] - 139s 30ms/step - loss: 0.3323 - accuracy: 0.8915 - val_loss: 0.3098 - val_accuracy: 0.9028\n",
            "Epoch 32/100\n",
            "4609/4610 [============================>.] - ETA: 0s - loss: 0.3278 - accuracy: 0.8928\n",
            "Epoch 00032: val_accuracy did not improve from 0.90350\n",
            "Restoring model weights from the end of the best epoch.\n",
            "4610/4610 [==============================] - 140s 30ms/step - loss: 0.3278 - accuracy: 0.8928 - val_loss: 0.3034 - val_accuracy: 0.9032\n",
            "Epoch 00032: early stopping\n"
          ],
          "name": "stdout"
        }
      ]
    },
    {
      "cell_type": "code",
      "metadata": {
        "id": "XXHdIbq7Qv_I",
        "outputId": "fbdc40f9-8f0e-48db-aa1c-454add74632f",
        "colab": {
          "base_uri": "https://localhost:8080/",
          "height": 1000
        }
      },
      "source": [
        "plt.figure(figsize=(16,9))\n",
        "# summarize history for accuracy\n",
        "plt.plot(history1_UPP.history['accuracy'])\n",
        "plt.plot(history1_UPP.history['val_accuracy'])\n",
        "plt.title('Model 4 lowercase letters accuracy (with Data Augmentation)')\n",
        "plt.ylabel('accuracy')\n",
        "plt.xlabel('epoch')\n",
        "plt.legend(['train', 'validation'], loc='lower right')\n",
        "plt.show()\n",
        "plt.figure(figsize=(16,9))\n",
        "\n",
        "# summarize history for loss\n",
        "plt.plot(history1_UPP.history['loss'])\n",
        "plt.plot(history1_UPP.history['val_loss'])\n",
        "plt.title('Model 4 lowercase letters loss  (with Data Augmentation)')\n",
        "plt.ylabel('loss')\n",
        "plt.xlabel('epoch')\n",
        "plt.legend(['train', 'validation'], loc='upper right')\n",
        "plt.show()"
      ],
      "execution_count": null,
      "outputs": [
        {
          "output_type": "display_data",
          "data": {
            "image/png": "[encoded data removed]",
            "text/plain": [
              "<Figure size 1152x648 with 1 Axes>"
            ]
          },
          "metadata": {
            "tags": [],
            "needs_background": "light"
          }
        },
        {
          "output_type": "display_data",
          "data": {
            "image/png": "[encoded data removed]",
            "text/plain": [
              "<Figure size 1152x648 with 1 Axes>"
            ]
          },
          "metadata": {
            "tags": [],
            "needs_background": "light"
          }
        }
      ]
    },
    {
      "cell_type": "code",
      "metadata": {
        "id": "xMRCeTWLyimv"
      },
      "source": [
        "lab_test_UPP = tf.keras.utils.to_categorical(lab_test_UPP)"
      ],
      "execution_count": null,
      "outputs": []
    },
    {
      "cell_type": "code",
      "metadata": {
        "id": "9fI6RgfqG9tj",
        "outputId": "0ae53207-7afe-4e4a-af02-ac3833bd6e00",
        "colab": {
          "base_uri": "https://localhost:8080/",
          "height": 35
        }
      },
      "source": [
        "evaluation = model.evaluate(valid_datagen.flow(im_test_UPP, lab_test_UPP))"
      ],
      "execution_count": null,
      "outputs": [
        {
          "output_type": "stream",
          "text": [
            "846/846 [==============================] - 15s 18ms/step - loss: 0.3198 - accuracy: 0.8989\n"
          ],
          "name": "stdout"
        }
      ]
    },
    {
      "cell_type": "code",
      "metadata": {
        "id": "kiUyKoTe9QQB"
      },
      "source": [
        ""
      ],
      "execution_count": null,
      "outputs": []
    }
  ]
}