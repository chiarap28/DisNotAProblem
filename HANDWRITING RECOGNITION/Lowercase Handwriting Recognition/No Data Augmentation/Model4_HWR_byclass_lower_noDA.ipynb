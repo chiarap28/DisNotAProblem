{
  "nbformat": 4,
  "nbformat_minor": 0,
  "metadata": {
    "colab": {
      "name": "Model4-HWR-byclass-lower-noDA.ipynb",
      "provenance": []
    },
    "kernelspec": {
      "name": "python3",
      "display_name": "Python 3"
    },
    "accelerator": "GPU"
  },
  "cells": [
    {
      "cell_type": "code",
      "metadata": {
        "id": "WaamsQlM5zPi",
        "outputId": "d2645018-3925-493b-88fe-86659f0a1fa2",
        "colab": {
          "base_uri": "https://localhost:8080/",
          "height": 212
        }
      },
      "source": [
        "pip install emnist"
      ],
      "execution_count": null,
      "outputs": [
        {
          "output_type": "stream",
          "text": [
            "Collecting emnist\n",
            "  Downloading https://files.pythonhosted.org/packages/d1/f4/78b24acbef9e8fe976dda700f16a3606f3b8363b015bc555f8050fbbd8ac/emnist-0.0-py3-none-any.whl\n",
            "Requirement already satisfied: tqdm in /usr/local/lib/python3.6/dist-packages (from emnist) (4.41.1)\n",
            "Requirement already satisfied: requests in /usr/local/lib/python3.6/dist-packages (from emnist) (2.23.0)\n",
            "Requirement already satisfied: numpy in /usr/local/lib/python3.6/dist-packages (from emnist) (1.18.5)\n",
            "Requirement already satisfied: urllib3!=1.25.0,!=1.25.1,<1.26,>=1.21.1 in /usr/local/lib/python3.6/dist-packages (from requests->emnist) (1.24.3)\n",
            "Requirement already satisfied: idna<3,>=2.5 in /usr/local/lib/python3.6/dist-packages (from requests->emnist) (2.10)\n",
            "Requirement already satisfied: chardet<4,>=3.0.2 in /usr/local/lib/python3.6/dist-packages (from requests->emnist) (3.0.4)\n",
            "Requirement already satisfied: certifi>=2017.4.17 in /usr/local/lib/python3.6/dist-packages (from requests->emnist) (2020.6.20)\n",
            "Installing collected packages: emnist\n",
            "Successfully installed emnist-0.0\n"
          ],
          "name": "stdout"
        }
      ]
    },
    {
      "cell_type": "code",
      "metadata": {
        "id": "yzz5cngH59he"
      },
      "source": [
        "import os\n",
        "import numpy as np\n",
        "import matplotlib.pyplot as plt\n",
        "\n",
        "from pathlib import Path\n",
        "from collections import Counter\n",
        "\n",
        "import tensorflow as tf\n",
        "from tensorflow import keras\n",
        "from tensorflow.keras import layers\n",
        "\n",
        "from emnist import list_datasets, extract_training_samples, extract_test_samples"
      ],
      "execution_count": null,
      "outputs": []
    },
    {
      "cell_type": "code",
      "metadata": {
        "id": "9w6qPaD56HaU",
        "outputId": "48a144ef-b50e-433f-bcd4-dd4d9e13e2a9",
        "colab": {
          "base_uri": "https://localhost:8080/",
          "height": 35
        }
      },
      "source": [
        "# load emnist dataset 'by class'\n",
        "\n",
        "images, labels = extract_training_samples('byclass')\n",
        "images_test, labels_test = extract_test_samples('byclass')"
      ],
      "execution_count": null,
      "outputs": [
        {
          "output_type": "stream",
          "text": [
            "Downloading emnist.zip: 536MB [00:04, 138MB/s]\n"
          ],
          "name": "stderr"
        }
      ]
    },
    {
      "cell_type": "code",
      "metadata": {
        "id": "CgkMrn-N6WJP"
      },
      "source": [
        "# find index of uppercase letters\n",
        "\n",
        "tr_index_UPP = [i for i in range(len(labels)) if labels[i]>=36 and labels[i] <= 61] \n",
        "ts_index_UPP = [i for i in range(len(labels_test)) if labels_test[i]>=36 and labels_test[i] <= 61]"
      ],
      "execution_count": null,
      "outputs": []
    },
    {
      "cell_type": "code",
      "metadata": {
        "id": "pjpAgQBL6hxs"
      },
      "source": [
        "# save images and labels in uppercase\n",
        "\n",
        "im_train_UPP = images[tr_index_UPP]\n",
        "im_test_UPP = images_test[ts_index_UPP]\n",
        "lab_train_UPP = labels[tr_index_UPP]\n",
        "lab_test_UPP = labels_test[ts_index_UPP]"
      ],
      "execution_count": null,
      "outputs": []
    },
    {
      "cell_type": "code",
      "metadata": {
        "id": "8_99A-YR6uY3"
      },
      "source": [
        "# reformulate labels for application of built-in function 'to_categorical'\n",
        "\n",
        "alf_UPP = {\n",
        "       36: 0,\n",
        "       37: 1,\n",
        "       38: 2,\n",
        "       39: 3,\n",
        "       40: 4,\n",
        "       41: 5,\n",
        "       42: 6,\n",
        "       43: 7,\n",
        "       44: 8,\n",
        "       45: 9,\n",
        "       46: 10,\n",
        "       47: 11,\n",
        "       48: 12,\n",
        "       49: 13,\n",
        "       50: 14,\n",
        "       51: 15,\n",
        "       52: 16,\n",
        "       53: 17,\n",
        "       54: 18,\n",
        "       55: 19,\n",
        "       56: 20,\n",
        "       57: 21,\n",
        "       58: 22,\n",
        "       59: 23,\n",
        "       60: 24,\n",
        "       61: 25,\n",
        "       }\n",
        "\n",
        "lab_train_UPP = [alf_UPP[label] for label in lab_train_UPP]\n",
        "lab_test_UPP = [alf_UPP[label] for label in lab_test_UPP]"
      ],
      "execution_count": null,
      "outputs": []
    },
    {
      "cell_type": "code",
      "metadata": {
        "id": "gXvoJ4X1_595",
        "outputId": "565d4cf5-1d33-4e57-d0a2-3da59ef59540",
        "colab": {
          "base_uri": "https://localhost:8080/",
          "height": 35
        }
      },
      "source": [
        "# check labels\n",
        "\n",
        "lab_train_UPP[0]"
      ],
      "execution_count": null,
      "outputs": [
        {
          "output_type": "execute_result",
          "data": {
            "text/plain": [
              "0"
            ]
          },
          "metadata": {
            "tags": []
          },
          "execution_count": 8
        }
      ]
    },
    {
      "cell_type": "code",
      "metadata": {
        "id": "kj8i4Tyw_72J"
      },
      "source": [
        "# define image width and height and batch size\n",
        "\n",
        "# Batch size for training and validation\n",
        "batch_size = 32\n",
        "\n",
        "# Desired image dimensions\n",
        "img_width = 28\n",
        "img_height = 28"
      ],
      "execution_count": null,
      "outputs": []
    },
    {
      "cell_type": "code",
      "metadata": {
        "id": "txkyxT3JDili"
      },
      "source": [
        "# split training set in traininig and validation set\n",
        "\n",
        "def split_data(images, labels, train_size=0.9, shuffle=True):\n",
        "    # 1. Get the total size of the dataset\n",
        "    size = len(images)\n",
        "    # 2. Make an indices array and shuffle it, if required\n",
        "    indices = np.arange(size)\n",
        "    if shuffle:\n",
        "        np.random.shuffle(indices)\n",
        "    # 3. Get the size of training samples\n",
        "    train_samples = int(size * train_size)\n",
        "    # 4. Split data into training and validation sets\n",
        "    x_train, y_train = images[indices[:train_samples]], labels[indices[:train_samples]]\n",
        "    x_valid, y_valid = images[indices[train_samples:]], labels[indices[train_samples:]]\n",
        "    return x_train, x_valid, y_train, y_valid"
      ],
      "execution_count": null,
      "outputs": []
    },
    {
      "cell_type": "code",
      "metadata": {
        "id": "1Vp7uXl8Hamn"
      },
      "source": [
        "# Splitting data into training and validation sets\n",
        "x_train_UPP, x_valid_UPP, y_train_UPP, y_valid_UPP = split_data(np.array(im_train_UPP), np.array(lab_train_UPP))"
      ],
      "execution_count": null,
      "outputs": []
    },
    {
      "cell_type": "code",
      "metadata": {
        "id": "DlmupJ5eIGDF"
      },
      "source": [
        "# to categorical \n",
        "\n",
        "y_train_UPP = tf.keras.utils.to_categorical(y_train_UPP, 26)\n",
        "y_valid_UPP = tf.keras.utils.to_categorical(y_valid_UPP, 26)\n",
        "lab_test_UPP = tf.keras.utils.to_categorical(lab_test_UPP, 26)"
      ],
      "execution_count": null,
      "outputs": []
    },
    {
      "cell_type": "code",
      "metadata": {
        "id": "ZvQPt1RXI-OV"
      },
      "source": [
        "# normalize training, validation and test data\n",
        "\n",
        "x_train_UPP = tf.keras.utils.normalize(x_train_UPP, axis=1)\n",
        "x_valid_UPP = tf.keras.utils.normalize(x_valid_UPP, axis=1)\n",
        "im_test_UPP = tf.keras.utils.normalize(im_test_UPP, axis=1)"
      ],
      "execution_count": null,
      "outputs": []
    },
    {
      "cell_type": "code",
      "metadata": {
        "id": "xoml2gmkNnLr"
      },
      "source": [
        "# build model\n",
        "\n",
        "def build_model():\n",
        "    # Inputs to the model\n",
        "    input_img = layers.Input(\n",
        "        shape=(img_width, img_height, 1), name=\"image\", dtype=\"float32\"\n",
        "    )\n",
        "    x = layers.Reshape((img_width, img_height))(input_img)\n",
        "    # RNNs\n",
        "    x = layers.Bidirectional(layers.LSTM(64, return_sequences=True, dropout=0.25, name='bilstm1'))(x)\n",
        "    #x = layers.Flatten()(x)\n",
        "    x = layers.Bidirectional(layers.LSTM(32, return_sequences=True, dropout=0.25, name='bilstm2'))(x)\n",
        "    x = layers.Flatten()(x)\n",
        "    # Output layer\n",
        "    x = layers.Dense(units=128, activation='sigmoid', name='dense_1')(x)\n",
        "    output = layers.Dense(units=26, activation=\"softmax\", name=\"dense2\")(x)\n",
        "\n",
        "    # Define the model\n",
        "    model = keras.models.Model(\n",
        "        inputs=input_img, outputs=output, name=\"ocr_model_v1\"\n",
        "    )\n",
        "    # Optimizer\n",
        "    opt = keras.optimizers.Adam()\n",
        "    # Compile the model and return\n",
        "    model.compile(loss='categorical_crossentropy',optimizer=opt, metrics=['accuracy'])\n",
        "\n",
        "    return model"
      ],
      "execution_count": null,
      "outputs": []
    },
    {
      "cell_type": "code",
      "metadata": {
        "id": "bCVkysqePH29",
        "outputId": "56c9b15c-2a46-4f05-d1c7-8a3e37d59578",
        "colab": {
          "base_uri": "https://localhost:8080/",
          "height": 408
        }
      },
      "source": [
        "model = build_model()\n",
        "model.summary()"
      ],
      "execution_count": null,
      "outputs": [
        {
          "output_type": "stream",
          "text": [
            "Model: \"ocr_model_v1\"\n",
            "_________________________________________________________________\n",
            "Layer (type)                 Output Shape              Param #   \n",
            "=================================================================\n",
            "image (InputLayer)           [(None, 28, 28, 1)]       0         \n",
            "_________________________________________________________________\n",
            "reshape (Reshape)            (None, 28, 28)            0         \n",
            "_________________________________________________________________\n",
            "bidirectional (Bidirectional (None, 28, 128)           47616     \n",
            "_________________________________________________________________\n",
            "bidirectional_1 (Bidirection (None, 28, 64)            41216     \n",
            "_________________________________________________________________\n",
            "flatten (Flatten)            (None, 1792)              0         \n",
            "_________________________________________________________________\n",
            "dense_1 (Dense)              (None, 128)               229504    \n",
            "_________________________________________________________________\n",
            "dense2 (Dense)               (None, 26)                3354      \n",
            "=================================================================\n",
            "Total params: 321,690\n",
            "Trainable params: 321,690\n",
            "Non-trainable params: 0\n",
            "_________________________________________________________________\n"
          ],
          "name": "stdout"
        }
      ]
    },
    {
      "cell_type": "code",
      "metadata": {
        "id": "v8YiuOWiPKKM",
        "outputId": "6ecd4e06-1d4c-4fe3-9ad1-78a5855e8164",
        "colab": {
          "base_uri": "https://localhost:8080/",
          "height": 661
        }
      },
      "source": [
        "from keras.utils import plot_model\n",
        "plot_model(model, to_file='/content/drive/My Drive/TESI/Models/Immagini/model4_byclass_lower_noDA.png')"
      ],
      "execution_count": null,
      "outputs": [
        {
          "output_type": "execute_result",
          "data": {
            "image/png": "[encoded data removed]",
            "text/plain": [
              "<IPython.core.display.Image object>"
            ]
          },
          "metadata": {
            "tags": []
          },
          "execution_count": 16
        }
      ]
    },
    {
      "cell_type": "code",
      "metadata": {
        "id": "Bupp_Vi9PtBO"
      },
      "source": [
        "epochs = 100\n",
        "early_stopping_patience = 10\n",
        "# Add early stopping\n",
        "early_stopping = keras.callbacks.EarlyStopping(\n",
        "    monitor=\"val_accuracy\", patience=early_stopping_patience, restore_best_weights=True, verbose=1\n",
        ")\n",
        "\n",
        "# Model CheckPoint\n",
        "cp = keras.callbacks.ModelCheckpoint('/content/drive/My Drive/TESI/Models/model4_LOW_byclass_noDA.h5',\n",
        "                                     verbose=1,\n",
        "                                     monitor='val_accuracy',\n",
        "                                     save_best_only=True)"
      ],
      "execution_count": null,
      "outputs": []
    },
    {
      "cell_type": "code",
      "metadata": {
        "id": "wU2qe4yJQVK5",
        "outputId": "656e6345-1ee9-4e2a-ac02-cee10d868070",
        "colab": {
          "base_uri": "https://localhost:8080/",
          "height": 1000
        }
      },
      "source": [
        "# fit model\n",
        "history1_UPP = model.fit(x_train_UPP,y_train_UPP,\n",
        "                    validation_data=(x_valid_UPP,y_valid_UPP),\n",
        "                    batch_size=batch_size,\n",
        "                    epochs=epochs,\n",
        "                    verbose=1,\n",
        "                    callbacks=[cp, early_stopping])"
      ],
      "execution_count": null,
      "outputs": [
        {
          "output_type": "stream",
          "text": [
            "Epoch 1/100\n",
            "4608/4611 [============================>.] - ETA: 0s - loss: 0.4611 - accuracy: 0.8666\n",
            "Epoch 00001: val_accuracy improved from -inf to 0.92546, saving model to /content/drive/My Drive/TESI/Models/model4_LOW_byclass_noDA.h5\n",
            "4611/4611 [==============================] - 52s 11ms/step - loss: 0.4609 - accuracy: 0.8666 - val_loss: 0.2456 - val_accuracy: 0.9255\n",
            "Epoch 2/100\n",
            "4608/4611 [============================>.] - ETA: 0s - loss: 0.2338 - accuracy: 0.9284\n",
            "Epoch 00002: val_accuracy improved from 0.92546 to 0.93980, saving model to /content/drive/My Drive/TESI/Models/model4_LOW_byclass_noDA.h5\n",
            "4611/4611 [==============================] - 52s 11ms/step - loss: 0.2337 - accuracy: 0.9284 - val_loss: 0.1974 - val_accuracy: 0.9398\n",
            "Epoch 3/100\n",
            "4611/4611 [==============================] - ETA: 0s - loss: 0.1974 - accuracy: 0.9384\n",
            "Epoch 00003: val_accuracy improved from 0.93980 to 0.94175, saving model to /content/drive/My Drive/TESI/Models/model4_LOW_byclass_noDA.h5\n",
            "4611/4611 [==============================] - 51s 11ms/step - loss: 0.1974 - accuracy: 0.9384 - val_loss: 0.1916 - val_accuracy: 0.9417\n",
            "Epoch 4/100\n",
            "4609/4611 [============================>.] - ETA: 0s - loss: 0.1784 - accuracy: 0.9441\n",
            "Epoch 00004: val_accuracy did not improve from 0.94175\n",
            "4611/4611 [==============================] - 50s 11ms/step - loss: 0.1784 - accuracy: 0.9441 - val_loss: 0.1850 - val_accuracy: 0.9413\n",
            "Epoch 5/100\n",
            "4608/4611 [============================>.] - ETA: 0s - loss: 0.1633 - accuracy: 0.9481\n",
            "Epoch 00005: val_accuracy improved from 0.94175 to 0.94772, saving model to /content/drive/My Drive/TESI/Models/model4_LOW_byclass_noDA.h5\n",
            "4611/4611 [==============================] - 52s 11ms/step - loss: 0.1633 - accuracy: 0.9481 - val_loss: 0.1698 - val_accuracy: 0.9477\n",
            "Epoch 6/100\n",
            "4610/4611 [============================>.] - ETA: 0s - loss: 0.1539 - accuracy: 0.9508\n",
            "Epoch 00006: val_accuracy improved from 0.94772 to 0.94925, saving model to /content/drive/My Drive/TESI/Models/model4_LOW_byclass_noDA.h5\n",
            "4611/4611 [==============================] - 51s 11ms/step - loss: 0.1539 - accuracy: 0.9508 - val_loss: 0.1646 - val_accuracy: 0.9492\n",
            "Epoch 7/100\n",
            "4611/4611 [==============================] - ETA: 0s - loss: 0.1454 - accuracy: 0.9534\n",
            "Epoch 00007: val_accuracy did not improve from 0.94925\n",
            "4611/4611 [==============================] - 50s 11ms/step - loss: 0.1454 - accuracy: 0.9534 - val_loss: 0.1660 - val_accuracy: 0.9470\n",
            "Epoch 8/100\n",
            "4610/4611 [============================>.] - ETA: 0s - loss: 0.1391 - accuracy: 0.9553\n",
            "Epoch 00008: val_accuracy improved from 0.94925 to 0.94986, saving model to /content/drive/My Drive/TESI/Models/model4_LOW_byclass_noDA.h5\n",
            "4611/4611 [==============================] - 51s 11ms/step - loss: 0.1391 - accuracy: 0.9553 - val_loss: 0.1562 - val_accuracy: 0.9499\n",
            "Epoch 9/100\n",
            "4608/4611 [============================>.] - ETA: 0s - loss: 0.1323 - accuracy: 0.9569\n",
            "Epoch 00009: val_accuracy improved from 0.94986 to 0.95132, saving model to /content/drive/My Drive/TESI/Models/model4_LOW_byclass_noDA.h5\n",
            "4611/4611 [==============================] - 51s 11ms/step - loss: 0.1323 - accuracy: 0.9569 - val_loss: 0.1592 - val_accuracy: 0.9513\n",
            "Epoch 10/100\n",
            "4610/4611 [============================>.] - ETA: 0s - loss: 0.1279 - accuracy: 0.9577\n",
            "Epoch 00010: val_accuracy did not improve from 0.95132\n",
            "4611/4611 [==============================] - 50s 11ms/step - loss: 0.1279 - accuracy: 0.9577 - val_loss: 0.1666 - val_accuracy: 0.9513\n",
            "Epoch 11/100\n",
            "4609/4611 [============================>.] - ETA: 0s - loss: 0.1238 - accuracy: 0.9591\n",
            "Epoch 00011: val_accuracy improved from 0.95132 to 0.95480, saving model to /content/drive/My Drive/TESI/Models/model4_LOW_byclass_noDA.h5\n",
            "4611/4611 [==============================] - 51s 11ms/step - loss: 0.1238 - accuracy: 0.9591 - val_loss: 0.1527 - val_accuracy: 0.9548\n",
            "Epoch 12/100\n",
            "4607/4611 [============================>.] - ETA: 0s - loss: 0.1181 - accuracy: 0.9607\n",
            "Epoch 00012: val_accuracy did not improve from 0.95480\n",
            "4611/4611 [==============================] - 50s 11ms/step - loss: 0.1181 - accuracy: 0.9607 - val_loss: 0.1609 - val_accuracy: 0.9535\n",
            "Epoch 13/100\n",
            "4608/4611 [============================>.] - ETA: 0s - loss: 0.1155 - accuracy: 0.9609\n",
            "Epoch 00013: val_accuracy did not improve from 0.95480\n",
            "4611/4611 [==============================] - 50s 11ms/step - loss: 0.1155 - accuracy: 0.9609 - val_loss: 0.1661 - val_accuracy: 0.9507\n",
            "Epoch 14/100\n",
            "4610/4611 [============================>.] - ETA: 0s - loss: 0.1118 - accuracy: 0.9622\n",
            "Epoch 00014: val_accuracy did not improve from 0.95480\n",
            "4611/4611 [==============================] - 50s 11ms/step - loss: 0.1118 - accuracy: 0.9622 - val_loss: 0.1580 - val_accuracy: 0.9533\n",
            "Epoch 15/100\n",
            "4609/4611 [============================>.] - ETA: 0s - loss: 0.1079 - accuracy: 0.9633\n",
            "Epoch 00015: val_accuracy did not improve from 0.95480\n",
            "4611/4611 [==============================] - 49s 11ms/step - loss: 0.1079 - accuracy: 0.9633 - val_loss: 0.1586 - val_accuracy: 0.9529\n",
            "Epoch 16/100\n",
            "4607/4611 [============================>.] - ETA: 0s - loss: 0.1061 - accuracy: 0.9640\n",
            "Epoch 00016: val_accuracy did not improve from 0.95480\n",
            "4611/4611 [==============================] - 50s 11ms/step - loss: 0.1060 - accuracy: 0.9640 - val_loss: 0.1591 - val_accuracy: 0.9536\n",
            "Epoch 17/100\n",
            "4608/4611 [============================>.] - ETA: 0s - loss: 0.1038 - accuracy: 0.9642\n",
            "Epoch 00017: val_accuracy did not improve from 0.95480\n",
            "4611/4611 [==============================] - 50s 11ms/step - loss: 0.1038 - accuracy: 0.9642 - val_loss: 0.1553 - val_accuracy: 0.9540\n",
            "Epoch 18/100\n",
            "4610/4611 [============================>.] - ETA: 0s - loss: 0.1013 - accuracy: 0.9650\n",
            "Epoch 00018: val_accuracy did not improve from 0.95480\n",
            "4611/4611 [==============================] - 50s 11ms/step - loss: 0.1013 - accuracy: 0.9650 - val_loss: 0.1562 - val_accuracy: 0.9543\n",
            "Epoch 19/100\n",
            "4611/4611 [==============================] - ETA: 0s - loss: 0.0988 - accuracy: 0.9658\n",
            "Epoch 00019: val_accuracy did not improve from 0.95480\n",
            "4611/4611 [==============================] - 49s 11ms/step - loss: 0.0988 - accuracy: 0.9658 - val_loss: 0.1623 - val_accuracy: 0.9532\n",
            "Epoch 20/100\n",
            "4610/4611 [============================>.] - ETA: 0s - loss: 0.0954 - accuracy: 0.9670\n",
            "Epoch 00020: val_accuracy did not improve from 0.95480\n",
            "4611/4611 [==============================] - 49s 11ms/step - loss: 0.0954 - accuracy: 0.9671 - val_loss: 0.1623 - val_accuracy: 0.9545\n",
            "Epoch 21/100\n",
            "4607/4611 [============================>.] - ETA: 0s - loss: 0.0949 - accuracy: 0.9672\n",
            "Epoch 00021: val_accuracy did not improve from 0.95480\n",
            "Restoring model weights from the end of the best epoch.\n",
            "4611/4611 [==============================] - 50s 11ms/step - loss: 0.0949 - accuracy: 0.9672 - val_loss: 0.1608 - val_accuracy: 0.9546\n",
            "Epoch 00021: early stopping\n"
          ],
          "name": "stdout"
        }
      ]
    },
    {
      "cell_type": "code",
      "metadata": {
        "id": "XXHdIbq7Qv_I",
        "outputId": "1f2eef87-565f-4cd6-e9b1-7e77b87834e3",
        "colab": {
          "base_uri": "https://localhost:8080/",
          "height": 1000
        }
      },
      "source": [
        "plt.figure(figsize=(16,9))\n",
        "# summarize history for accuracy\n",
        "plt.plot(history1_UPP.history['accuracy'])\n",
        "plt.plot(history1_UPP.history['val_accuracy'])\n",
        "plt.title('Model 4 lowercase letters accuracy (without Data Augmentation)')\n",
        "plt.ylabel('accuracy')\n",
        "plt.xlabel('epoch')\n",
        "plt.legend(['train', 'validation'], loc='lower right')\n",
        "plt.show()\n",
        "plt.figure(figsize=(16,9))\n",
        "\n",
        "# summarize history for loss\n",
        "plt.plot(history1_UPP.history['loss'])\n",
        "plt.plot(history1_UPP.history['val_loss'])\n",
        "plt.title('Model 4 lowercase letters loss (without Data Augmentation)')\n",
        "plt.ylabel('loss')\n",
        "plt.xlabel('epoch')\n",
        "plt.legend(['train', 'validation'], loc='upper right')\n",
        "plt.show()"
      ],
      "execution_count": null,
      "outputs": [
        {
          "output_type": "display_data",
          "data": {
            "image/png": "[encoded data removed]",
            "text/plain": [
              "<Figure size 1152x648 with 1 Axes>"
            ]
          },
          "metadata": {
            "tags": [],
            "needs_background": "light"
          }
        },
        {
          "output_type": "display_data",
          "data": {
            "image/png": "[encoded data removed]",
            "text/plain": [
              "<Figure size 1152x648 with 1 Axes>"
            ]
          },
          "metadata": {
            "tags": [],
            "needs_background": "light"
          }
        }
      ]
    },
    {
      "cell_type": "code",
      "metadata": {
        "id": "jOltsguOxFJp",
        "outputId": "97be4c52-14fe-460b-ce10-b35e1e9be8cf",
        "colab": {
          "base_uri": "https://localhost:8080/",
          "height": 35
        }
      },
      "source": [
        "evaluation = model.evaluate(im_test_UPP, lab_test_UPP)"
      ],
      "execution_count": null,
      "outputs": [
        {
          "output_type": "stream",
          "text": [
            "846/846 [==============================] - 4s 5ms/step - loss: 0.1483 - accuracy: 0.9547\n"
          ],
          "name": "stdout"
        }
      ]
    },
    {
      "cell_type": "code",
      "metadata": {
        "id": "xMRCeTWLyimv",
        "outputId": "a863955d-fc15-4e3d-da7f-7c6c4b3feda2",
        "colab": {
          "base_uri": "https://localhost:8080/",
          "height": 35
        }
      },
      "source": [
        "evaluation"
      ],
      "execution_count": null,
      "outputs": [
        {
          "output_type": "execute_result",
          "data": {
            "text/plain": [
              "[0.1482597440481186, 0.9546546339988708]"
            ]
          },
          "metadata": {
            "tags": []
          },
          "execution_count": 21
        }
      ]
    },
    {
      "cell_type": "code",
      "metadata": {
        "id": "2b6yNk-c-oqX"
      },
      "source": [
        ""
      ],
      "execution_count": null,
      "outputs": []
    }
  ]
}