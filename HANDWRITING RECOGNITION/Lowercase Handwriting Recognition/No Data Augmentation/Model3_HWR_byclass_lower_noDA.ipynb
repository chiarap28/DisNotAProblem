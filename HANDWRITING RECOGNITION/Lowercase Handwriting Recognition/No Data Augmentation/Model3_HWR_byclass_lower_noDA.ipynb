{
  "nbformat": 4,
  "nbformat_minor": 0,
  "metadata": {
    "colab": {
      "name": "Model3-HWR-byclass-lower-noDA.ipynb",
      "provenance": []
    },
    "kernelspec": {
      "name": "python3",
      "display_name": "Python 3"
    },
    "accelerator": "GPU"
  },
  "cells": [
    {
      "cell_type": "code",
      "metadata": {
        "id": "WaamsQlM5zPi",
        "outputId": "5413e6b9-75db-49fc-9f48-ed3375a89d56",
        "colab": {
          "base_uri": "https://localhost:8080/",
          "height": 212
        }
      },
      "source": [
        "pip install emnist"
      ],
      "execution_count": null,
      "outputs": [
        {
          "output_type": "stream",
          "text": [
            "Collecting emnist\n",
            "  Downloading https://files.pythonhosted.org/packages/d1/f4/78b24acbef9e8fe976dda700f16a3606f3b8363b015bc555f8050fbbd8ac/emnist-0.0-py3-none-any.whl\n",
            "Requirement already satisfied: tqdm in /usr/local/lib/python3.6/dist-packages (from emnist) (4.41.1)\n",
            "Requirement already satisfied: requests in /usr/local/lib/python3.6/dist-packages (from emnist) (2.23.0)\n",
            "Requirement already satisfied: numpy in /usr/local/lib/python3.6/dist-packages (from emnist) (1.18.5)\n",
            "Requirement already satisfied: urllib3!=1.25.0,!=1.25.1,<1.26,>=1.21.1 in /usr/local/lib/python3.6/dist-packages (from requests->emnist) (1.24.3)\n",
            "Requirement already satisfied: certifi>=2017.4.17 in /usr/local/lib/python3.6/dist-packages (from requests->emnist) (2020.6.20)\n",
            "Requirement already satisfied: idna<3,>=2.5 in /usr/local/lib/python3.6/dist-packages (from requests->emnist) (2.10)\n",
            "Requirement already satisfied: chardet<4,>=3.0.2 in /usr/local/lib/python3.6/dist-packages (from requests->emnist) (3.0.4)\n",
            "Installing collected packages: emnist\n",
            "Successfully installed emnist-0.0\n"
          ],
          "name": "stdout"
        }
      ]
    },
    {
      "cell_type": "code",
      "metadata": {
        "id": "yzz5cngH59he"
      },
      "source": [
        "import os\n",
        "import numpy as np\n",
        "import matplotlib.pyplot as plt\n",
        "\n",
        "from pathlib import Path\n",
        "from collections import Counter\n",
        "\n",
        "import tensorflow as tf\n",
        "from tensorflow import keras\n",
        "from tensorflow.keras import layers\n",
        "\n",
        "from emnist import list_datasets, extract_training_samples, extract_test_samples"
      ],
      "execution_count": null,
      "outputs": []
    },
    {
      "cell_type": "code",
      "metadata": {
        "id": "9w6qPaD56HaU",
        "outputId": "317f00a0-156a-4ece-b47f-ea16e8932c6c",
        "colab": {
          "base_uri": "https://localhost:8080/",
          "height": 35
        }
      },
      "source": [
        "# load emnist dataset 'by class'\n",
        "\n",
        "images, labels = extract_training_samples('byclass')\n",
        "images_test, labels_test = extract_test_samples('byclass')"
      ],
      "execution_count": null,
      "outputs": [
        {
          "output_type": "stream",
          "text": [
            "Downloading emnist.zip: 536MB [00:04, 127MB/s]\n"
          ],
          "name": "stderr"
        }
      ]
    },
    {
      "cell_type": "code",
      "metadata": {
        "id": "CgkMrn-N6WJP"
      },
      "source": [
        "# find index of uppercase letters\n",
        "\n",
        "tr_index_UPP = [i for i in range(len(labels)) if labels[i]>=36 and labels[i] <= 61] \n",
        "ts_index_UPP = [i for i in range(len(labels_test)) if labels_test[i]>=36 and labels_test[i] <= 61]"
      ],
      "execution_count": null,
      "outputs": []
    },
    {
      "cell_type": "code",
      "metadata": {
        "id": "pjpAgQBL6hxs"
      },
      "source": [
        "# save images and labels in uppercase\n",
        "\n",
        "im_train_UPP = images[tr_index_UPP]\n",
        "im_test_UPP = images_test[ts_index_UPP]\n",
        "lab_train_UPP = labels[tr_index_UPP]\n",
        "lab_test_UPP = labels_test[ts_index_UPP]"
      ],
      "execution_count": null,
      "outputs": []
    },
    {
      "cell_type": "code",
      "metadata": {
        "id": "8_99A-YR6uY3"
      },
      "source": [
        "# reformulate labels for application of built-in function 'to_categorical'\n",
        "\n",
        "alf_UPP = {\n",
        "       36: 0,\n",
        "       37: 1,\n",
        "       38: 2,\n",
        "       39: 3,\n",
        "       40: 4,\n",
        "       41: 5,\n",
        "       42: 6,\n",
        "       43: 7,\n",
        "       44: 8,\n",
        "       45: 9,\n",
        "       46: 10,\n",
        "       47: 11,\n",
        "       48: 12,\n",
        "       49: 13,\n",
        "       50: 14,\n",
        "       51: 15,\n",
        "       52: 16,\n",
        "       53: 17,\n",
        "       54: 18,\n",
        "       55: 19,\n",
        "       56: 20,\n",
        "       57: 21,\n",
        "       58: 22,\n",
        "       59: 23,\n",
        "       60: 24,\n",
        "       61: 25,\n",
        "       }\n",
        "\n",
        "lab_train_UPP = [alf_UPP[label] for label in lab_train_UPP]\n",
        "lab_test_UPP = [alf_UPP[label] for label in lab_test_UPP]"
      ],
      "execution_count": null,
      "outputs": []
    },
    {
      "cell_type": "code",
      "metadata": {
        "id": "gXvoJ4X1_595",
        "outputId": "bc4efec2-d33f-4a16-d17b-8176610cb645",
        "colab": {
          "base_uri": "https://localhost:8080/",
          "height": 35
        }
      },
      "source": [
        "# check labels\n",
        "\n",
        "lab_train_UPP[0]"
      ],
      "execution_count": null,
      "outputs": [
        {
          "output_type": "execute_result",
          "data": {
            "text/plain": [
              "0"
            ]
          },
          "metadata": {
            "tags": []
          },
          "execution_count": 7
        }
      ]
    },
    {
      "cell_type": "code",
      "metadata": {
        "id": "kj8i4Tyw_72J"
      },
      "source": [
        "# define image width and height and batch size\n",
        "\n",
        "# Batch size for training and validation\n",
        "batch_size = 32\n",
        "\n",
        "# Desired image dimensions\n",
        "img_width = 28\n",
        "img_height = 28"
      ],
      "execution_count": null,
      "outputs": []
    },
    {
      "cell_type": "code",
      "metadata": {
        "id": "txkyxT3JDili"
      },
      "source": [
        "# split training set in traininig and validation set\n",
        "\n",
        "def split_data(images, labels, train_size=0.9, shuffle=True):\n",
        "    # 1. Get the total size of the dataset\n",
        "    size = len(images)\n",
        "    # 2. Make an indices array and shuffle it, if required\n",
        "    indices = np.arange(size)\n",
        "    if shuffle:\n",
        "        np.random.shuffle(indices)\n",
        "    # 3. Get the size of training samples\n",
        "    train_samples = int(size * train_size)\n",
        "    # 4. Split data into training and validation sets\n",
        "    x_train, y_train = images[indices[:train_samples]], labels[indices[:train_samples]]\n",
        "    x_valid, y_valid = images[indices[train_samples:]], labels[indices[train_samples:]]\n",
        "    return x_train, x_valid, y_train, y_valid"
      ],
      "execution_count": null,
      "outputs": []
    },
    {
      "cell_type": "code",
      "metadata": {
        "id": "1Vp7uXl8Hamn"
      },
      "source": [
        "# Splitting data into training and validation sets\n",
        "x_train_UPP, x_valid_UPP, y_train_UPP, y_valid_UPP = split_data(np.array(im_train_UPP), np.array(lab_train_UPP))"
      ],
      "execution_count": null,
      "outputs": []
    },
    {
      "cell_type": "code",
      "metadata": {
        "id": "DlmupJ5eIGDF"
      },
      "source": [
        "# to categorical \n",
        "\n",
        "y_train_UPP = tf.keras.utils.to_categorical(y_train_UPP, 26)\n",
        "y_valid_UPP = tf.keras.utils.to_categorical(y_valid_UPP, 26)\n",
        "lab_test_UPP = tf.keras.utils.to_categorical(lab_test_UPP, 26)"
      ],
      "execution_count": null,
      "outputs": []
    },
    {
      "cell_type": "code",
      "metadata": {
        "id": "ZvQPt1RXI-OV"
      },
      "source": [
        "# normalize training, validation and test data\n",
        "\n",
        "x_train_UPP = tf.keras.utils.normalize(x_train_UPP, axis=1)\n",
        "x_valid_UPP = tf.keras.utils.normalize(x_valid_UPP, axis=1)\n",
        "im_test_UPP = tf.keras.utils.normalize(im_test_UPP, axis=1)"
      ],
      "execution_count": null,
      "outputs": []
    },
    {
      "cell_type": "code",
      "metadata": {
        "id": "xoml2gmkNnLr"
      },
      "source": [
        "# build model\n",
        "\n",
        "def build_model():\n",
        "    # Inputs to the model\n",
        "    input_img = layers.Input(\n",
        "        shape=(img_width, img_height, 1), name=\"image\", dtype=\"float32\"\n",
        "    )\n",
        "    # First conv block\n",
        "    x = layers.Conv2D(\n",
        "        256,\n",
        "        (3, 3),\n",
        "        activation=\"relu\",\n",
        "        kernel_initializer=\"he_normal\",\n",
        "        padding=\"same\",\n",
        "        name=\"Conv1\",\n",
        "    )(input_img)\n",
        "    x = layers.MaxPooling2D((2, 2),padding='same',name=\"pool1\")(x)\n",
        "\n",
        "    # Second conv block\n",
        "    x = layers.Conv2D(\n",
        "        128,\n",
        "        (3, 3),\n",
        "        activation=\"relu\",\n",
        "        kernel_initializer=\"he_normal\",\n",
        "        padding=\"same\",\n",
        "        name=\"Conv2\",\n",
        "    )(x)\n",
        "    x = layers.MaxPooling2D((2, 2), padding='same',name=\"pool2\")(x)\n",
        "\n",
        "    # Third conv block\n",
        "    x = layers.Conv2D(\n",
        "        64,\n",
        "        (3, 3),\n",
        "        activation=\"relu\",\n",
        "        kernel_initializer=\"he_normal\",\n",
        "        padding=\"same\",\n",
        "        name=\"Conv3\",\n",
        "    )(x)\n",
        "    x = layers.MaxPooling2D((2, 2), padding='same',name=\"pool3\")(x)\n",
        "    x = layers.Flatten()(x)\n",
        "    \n",
        "    # MLP + Output layer\n",
        "    x = layers.Dense(units=128, activation='sigmoid', name='dense_1')(x)\n",
        "    output = layers.Dense(units=26, activation=\"softmax\", name=\"dense2\")(x)\n",
        "\n",
        "    # Define the model\n",
        "    model = keras.models.Model(\n",
        "        inputs=input_img, outputs=output, name=\"ocr_model_v1\"\n",
        "    )\n",
        "    # Optimizer\n",
        "    opt = keras.optimizers.Adam()\n",
        "    # Compile the model and return\n",
        "    model.compile(loss='categorical_crossentropy',optimizer=opt, metrics=['accuracy'])\n",
        "\n",
        "    return model"
      ],
      "execution_count": null,
      "outputs": []
    },
    {
      "cell_type": "code",
      "metadata": {
        "id": "bCVkysqePH29",
        "outputId": "0cf342af-f4b2-46fc-d94f-34377d67891a",
        "colab": {
          "base_uri": "https://localhost:8080/",
          "height": 515
        }
      },
      "source": [
        "model = build_model()\n",
        "model.summary()"
      ],
      "execution_count": null,
      "outputs": [
        {
          "output_type": "stream",
          "text": [
            "Model: \"ocr_model_v1\"\n",
            "_________________________________________________________________\n",
            "Layer (type)                 Output Shape              Param #   \n",
            "=================================================================\n",
            "image (InputLayer)           [(None, 28, 28, 1)]       0         \n",
            "_________________________________________________________________\n",
            "Conv1 (Conv2D)               (None, 28, 28, 256)       2560      \n",
            "_________________________________________________________________\n",
            "pool1 (MaxPooling2D)         (None, 14, 14, 256)       0         \n",
            "_________________________________________________________________\n",
            "Conv2 (Conv2D)               (None, 14, 14, 128)       295040    \n",
            "_________________________________________________________________\n",
            "pool2 (MaxPooling2D)         (None, 7, 7, 128)         0         \n",
            "_________________________________________________________________\n",
            "Conv3 (Conv2D)               (None, 7, 7, 64)          73792     \n",
            "_________________________________________________________________\n",
            "pool3 (MaxPooling2D)         (None, 4, 4, 64)          0         \n",
            "_________________________________________________________________\n",
            "flatten (Flatten)            (None, 1024)              0         \n",
            "_________________________________________________________________\n",
            "dense_1 (Dense)              (None, 128)               131200    \n",
            "_________________________________________________________________\n",
            "dense2 (Dense)               (None, 26)                3354      \n",
            "=================================================================\n",
            "Total params: 505,946\n",
            "Trainable params: 505,946\n",
            "Non-trainable params: 0\n",
            "_________________________________________________________________\n"
          ],
          "name": "stdout"
        }
      ]
    },
    {
      "cell_type": "code",
      "metadata": {
        "id": "v8YiuOWiPKKM",
        "outputId": "ab5ef4ec-1e12-4c32-8eb2-e37bac99cf95",
        "colab": {
          "base_uri": "https://localhost:8080/",
          "height": 953
        }
      },
      "source": [
        "from keras.utils import plot_model\n",
        "plot_model(model, to_file='/content/drive/My Drive/TESI/Models/Immagini/model3_byclass_lower_noDA.png')"
      ],
      "execution_count": null,
      "outputs": [
        {
          "output_type": "execute_result",
          "data": {
            "image/png": "[encoded data removed]",
            "text/plain": [
              "<IPython.core.display.Image object>"
            ]
          },
          "metadata": {
            "tags": []
          },
          "execution_count": 15
        }
      ]
    },
    {
      "cell_type": "code",
      "metadata": {
        "id": "Bupp_Vi9PtBO"
      },
      "source": [
        "epochs = 100\n",
        "early_stopping_patience = 10\n",
        "# Add early stopping\n",
        "early_stopping = keras.callbacks.EarlyStopping(\n",
        "    monitor=\"val_accuracy\", patience=early_stopping_patience, restore_best_weights=True, verbose=1\n",
        ")\n",
        "\n",
        "# Model CheckPoint\n",
        "cp = keras.callbacks.ModelCheckpoint('/content/drive/My Drive/TESI/Models/model3_LOW_byclass_noDA.h5',\n",
        "                                     verbose=1,\n",
        "                                     monitor='val_accuracy',\n",
        "                                     save_best_only=True)"
      ],
      "execution_count": null,
      "outputs": []
    },
    {
      "cell_type": "code",
      "metadata": {
        "id": "wU2qe4yJQVK5",
        "outputId": "9333ab42-7262-4730-c89e-364fd1a0835f",
        "colab": {
          "base_uri": "https://localhost:8080/",
          "height": 1000
        }
      },
      "source": [
        "# fit model\n",
        "history1_UPP = model.fit(x_train_UPP,y_train_UPP,\n",
        "                    validation_data=(x_valid_UPP,y_valid_UPP),\n",
        "                    batch_size=batch_size,\n",
        "                    epochs=epochs,\n",
        "                    verbose=1,\n",
        "                    callbacks=[cp, early_stopping])"
      ],
      "execution_count": null,
      "outputs": [
        {
          "output_type": "stream",
          "text": [
            "Epoch 1/100\n",
            "4611/4611 [==============================] - ETA: 0s - loss: 0.3227 - accuracy: 0.9103\n",
            "Epoch 00001: val_accuracy improved from -inf to 0.94187, saving model to /content/drive/My Drive/TESI/Models/model3_LOW_byclass_noDA.h5\n",
            "4611/4611 [==============================] - 58s 13ms/step - loss: 0.3227 - accuracy: 0.9103 - val_loss: 0.1939 - val_accuracy: 0.9419\n",
            "Epoch 2/100\n",
            "4609/4611 [============================>.] - ETA: 0s - loss: 0.1683 - accuracy: 0.9483\n",
            "Epoch 00002: val_accuracy improved from 0.94187 to 0.94931, saving model to /content/drive/My Drive/TESI/Models/model3_LOW_byclass_noDA.h5\n",
            "4611/4611 [==============================] - 58s 13ms/step - loss: 0.1683 - accuracy: 0.9483 - val_loss: 0.1651 - val_accuracy: 0.9493\n",
            "Epoch 3/100\n",
            "4611/4611 [==============================] - ETA: 0s - loss: 0.1443 - accuracy: 0.9548\n",
            "Epoch 00003: val_accuracy improved from 0.94931 to 0.95187, saving model to /content/drive/My Drive/TESI/Models/model3_LOW_byclass_noDA.h5\n",
            "4611/4611 [==============================] - 59s 13ms/step - loss: 0.1443 - accuracy: 0.9548 - val_loss: 0.1607 - val_accuracy: 0.9519\n",
            "Epoch 4/100\n",
            "4608/4611 [============================>.] - ETA: 0s - loss: 0.1308 - accuracy: 0.9583\n",
            "Epoch 00004: val_accuracy improved from 0.95187 to 0.95425, saving model to /content/drive/My Drive/TESI/Models/model3_LOW_byclass_noDA.h5\n",
            "4611/4611 [==============================] - 58s 13ms/step - loss: 0.1308 - accuracy: 0.9583 - val_loss: 0.1486 - val_accuracy: 0.9543\n",
            "Epoch 5/100\n",
            "4607/4611 [============================>.] - ETA: 0s - loss: 0.1216 - accuracy: 0.9613\n",
            "Epoch 00005: val_accuracy did not improve from 0.95425\n",
            "4611/4611 [==============================] - 57s 12ms/step - loss: 0.1216 - accuracy: 0.9613 - val_loss: 0.1589 - val_accuracy: 0.9510\n",
            "Epoch 6/100\n",
            "4611/4611 [==============================] - ETA: 0s - loss: 0.1161 - accuracy: 0.9623\n",
            "Epoch 00006: val_accuracy improved from 0.95425 to 0.95450, saving model to /content/drive/My Drive/TESI/Models/model3_LOW_byclass_noDA.h5\n",
            "4611/4611 [==============================] - 58s 13ms/step - loss: 0.1161 - accuracy: 0.9623 - val_loss: 0.1514 - val_accuracy: 0.9545\n",
            "Epoch 7/100\n",
            "4611/4611 [==============================] - ETA: 0s - loss: 0.1108 - accuracy: 0.9642\n",
            "Epoch 00007: val_accuracy did not improve from 0.95450\n",
            "4611/4611 [==============================] - 57s 12ms/step - loss: 0.1108 - accuracy: 0.9642 - val_loss: 0.1548 - val_accuracy: 0.9527\n",
            "Epoch 8/100\n",
            "4609/4611 [============================>.] - ETA: 0s - loss: 0.1082 - accuracy: 0.9651\n",
            "Epoch 00008: val_accuracy improved from 0.95450 to 0.95498, saving model to /content/drive/My Drive/TESI/Models/model3_LOW_byclass_noDA.h5\n",
            "4611/4611 [==============================] - 58s 13ms/step - loss: 0.1082 - accuracy: 0.9651 - val_loss: 0.1541 - val_accuracy: 0.9550\n",
            "Epoch 9/100\n",
            "4608/4611 [============================>.] - ETA: 0s - loss: 0.1061 - accuracy: 0.9654\n",
            "Epoch 00009: val_accuracy did not improve from 0.95498\n",
            "4611/4611 [==============================] - 57s 12ms/step - loss: 0.1061 - accuracy: 0.9654 - val_loss: 0.1552 - val_accuracy: 0.9530\n",
            "Epoch 10/100\n",
            "4608/4611 [============================>.] - ETA: 0s - loss: 0.1059 - accuracy: 0.9657\n",
            "Epoch 00010: val_accuracy did not improve from 0.95498\n",
            "4611/4611 [==============================] - 57s 12ms/step - loss: 0.1059 - accuracy: 0.9657 - val_loss: 0.1590 - val_accuracy: 0.9533\n",
            "Epoch 11/100\n",
            "4609/4611 [============================>.] - ETA: 0s - loss: 0.1062 - accuracy: 0.9654\n",
            "Epoch 00011: val_accuracy did not improve from 0.95498\n",
            "4611/4611 [==============================] - 57s 12ms/step - loss: 0.1062 - accuracy: 0.9654 - val_loss: 0.1597 - val_accuracy: 0.9535\n",
            "Epoch 12/100\n",
            "4611/4611 [==============================] - ETA: 0s - loss: 0.1050 - accuracy: 0.9655\n",
            "Epoch 00012: val_accuracy did not improve from 0.95498\n",
            "4611/4611 [==============================] - 57s 12ms/step - loss: 0.1050 - accuracy: 0.9655 - val_loss: 0.1671 - val_accuracy: 0.9495\n",
            "Epoch 13/100\n",
            "4608/4611 [============================>.] - ETA: 0s - loss: 0.1047 - accuracy: 0.9655\n",
            "Epoch 00013: val_accuracy did not improve from 0.95498\n",
            "4611/4611 [==============================] - 57s 12ms/step - loss: 0.1047 - accuracy: 0.9655 - val_loss: 0.1646 - val_accuracy: 0.9505\n",
            "Epoch 14/100\n",
            "4611/4611 [==============================] - ETA: 0s - loss: 0.1079 - accuracy: 0.9654\n",
            "Epoch 00014: val_accuracy did not improve from 0.95498\n",
            "4611/4611 [==============================] - 57s 12ms/step - loss: 0.1079 - accuracy: 0.9654 - val_loss: 0.1562 - val_accuracy: 0.9528\n",
            "Epoch 15/100\n",
            "4608/4611 [============================>.] - ETA: 0s - loss: 0.1077 - accuracy: 0.9649\n",
            "Epoch 00015: val_accuracy did not improve from 0.95498\n",
            "4611/4611 [==============================] - 57s 12ms/step - loss: 0.1077 - accuracy: 0.9649 - val_loss: 0.1681 - val_accuracy: 0.9516\n",
            "Epoch 16/100\n",
            "4610/4611 [============================>.] - ETA: 0s - loss: 0.1089 - accuracy: 0.9646\n",
            "Epoch 00016: val_accuracy did not improve from 0.95498\n",
            "4611/4611 [==============================] - 57s 12ms/step - loss: 0.1089 - accuracy: 0.9646 - val_loss: 0.1702 - val_accuracy: 0.9518\n",
            "Epoch 17/100\n",
            "4610/4611 [============================>.] - ETA: 0s - loss: 0.1128 - accuracy: 0.9635\n",
            "Epoch 00017: val_accuracy did not improve from 0.95498\n",
            "4611/4611 [==============================] - 57s 12ms/step - loss: 0.1128 - accuracy: 0.9635 - val_loss: 0.1656 - val_accuracy: 0.9525\n",
            "Epoch 18/100\n",
            "4608/4611 [============================>.] - ETA: 0s - loss: 0.1165 - accuracy: 0.9628\n",
            "Epoch 00018: val_accuracy did not improve from 0.95498\n",
            "Restoring model weights from the end of the best epoch.\n",
            "4611/4611 [==============================] - 57s 12ms/step - loss: 0.1165 - accuracy: 0.9628 - val_loss: 0.1673 - val_accuracy: 0.9516\n",
            "Epoch 00018: early stopping\n"
          ],
          "name": "stdout"
        }
      ]
    },
    {
      "cell_type": "code",
      "metadata": {
        "id": "XXHdIbq7Qv_I",
        "outputId": "f531e4ae-4e03-4d36-8934-ffbb47086eb4",
        "colab": {
          "base_uri": "https://localhost:8080/",
          "height": 1000
        }
      },
      "source": [
        "plt.figure(figsize=(16,9))\n",
        "# summarize history for accuracy\n",
        "plt.plot(history1_UPP.history['accuracy'])\n",
        "plt.plot(history1_UPP.history['val_accuracy'])\n",
        "plt.title('Model 3 lowercase letters accuracy (without Data Augmentation)')\n",
        "plt.ylabel('accuracy')\n",
        "plt.xlabel('epoch')\n",
        "plt.legend(['train', 'validation'], loc='lower right')\n",
        "plt.show()\n",
        "plt.figure(figsize=(16,9))\n",
        "\n",
        "# summarize history for loss\n",
        "plt.plot(history1_UPP.history['loss'])\n",
        "plt.plot(history1_UPP.history['val_loss'])\n",
        "plt.title('Model 3 lowercase letters loss (without Data Augmentation)')\n",
        "plt.ylabel('loss')\n",
        "plt.xlabel('epoch')\n",
        "plt.legend(['train', 'validation'], loc='upper right')\n",
        "plt.show()"
      ],
      "execution_count": null,
      "outputs": [
        {
          "output_type": "display_data",
          "data": {
            "image/png": "[encoded data removed]",
            "text/plain": [
              "<Figure size 1152x648 with 1 Axes>"
            ]
          },
          "metadata": {
            "tags": [],
            "needs_background": "light"
          }
        },
        {
          "output_type": "display_data",
          "data": {
            "image/png": "[encoded data removed]",
            "text/plain": [
              "<Figure size 1152x648 with 1 Axes>"
            ]
          },
          "metadata": {
            "tags": [],
            "needs_background": "light"
          }
        }
      ]
    },
    {
      "cell_type": "code",
      "metadata": {
        "id": "jOltsguOxFJp",
        "outputId": "f35e7eda-e940-4cd6-c905-e43fba5800e6",
        "colab": {
          "base_uri": "https://localhost:8080/",
          "height": 35
        }
      },
      "source": [
        "evaluation = model.evaluate(im_test_UPP, lab_test_UPP)"
      ],
      "execution_count": null,
      "outputs": [
        {
          "output_type": "stream",
          "text": [
            "846/846 [==============================] - 5s 6ms/step - loss: 0.1527 - accuracy: 0.9519\n"
          ],
          "name": "stdout"
        }
      ]
    },
    {
      "cell_type": "code",
      "metadata": {
        "id": "xMRCeTWLyimv",
        "outputId": "107044f8-8484-446e-bc93-0a5956810c78",
        "colab": {
          "base_uri": "https://localhost:8080/",
          "height": 35
        }
      },
      "source": [
        "evaluation"
      ],
      "execution_count": null,
      "outputs": [
        {
          "output_type": "execute_result",
          "data": {
            "text/plain": [
              "[0.15274710953235626, 0.9519198536872864]"
            ]
          },
          "metadata": {
            "tags": []
          },
          "execution_count": 20
        }
      ]
    },
    {
      "cell_type": "code",
      "metadata": {
        "id": "2b6yNk-c-oqX"
      },
      "source": [
        ""
      ],
      "execution_count": null,
      "outputs": []
    }
  ]
}