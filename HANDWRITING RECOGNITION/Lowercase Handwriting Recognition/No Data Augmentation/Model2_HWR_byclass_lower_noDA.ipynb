{
  "nbformat": 4,
  "nbformat_minor": 0,
  "metadata": {
    "colab": {
      "name": "Model2-HWR-byclass-lower-noDA.ipynb",
      "provenance": []
    },
    "kernelspec": {
      "name": "python3",
      "display_name": "Python 3"
    },
    "accelerator": "GPU"
  },
  "cells": [
    {
      "cell_type": "code",
      "metadata": {
        "id": "WaamsQlM5zPi",
        "outputId": "2f6856cc-d574-48a8-ed30-6038e3b384bd",
        "colab": {
          "base_uri": "https://localhost:8080/",
          "height": 232
        }
      },
      "source": [
        "pip install emnist"
      ],
      "execution_count": null,
      "outputs": [
        {
          "output_type": "stream",
          "text": [
            "Collecting emnist\n",
            "  Downloading https://files.pythonhosted.org/packages/d1/f4/78b24acbef9e8fe976dda700f16a3606f3b8363b015bc555f8050fbbd8ac/emnist-0.0-py3-none-any.whl\n",
            "Requirement already satisfied: numpy in /usr/local/lib/python3.6/dist-packages (from emnist) (1.18.5)\n",
            "Requirement already satisfied: requests in /usr/local/lib/python3.6/dist-packages (from emnist) (2.23.0)\n",
            "Requirement already satisfied: tqdm in /usr/local/lib/python3.6/dist-packages (from emnist) (4.41.1)\n",
            "Requirement already satisfied: idna<3,>=2.5 in /usr/local/lib/python3.6/dist-packages (from requests->emnist) (2.10)\n",
            "Requirement already satisfied: certifi>=2017.4.17 in /usr/local/lib/python3.6/dist-packages (from requests->emnist) (2020.6.20)\n",
            "Requirement already satisfied: chardet<4,>=3.0.2 in /usr/local/lib/python3.6/dist-packages (from requests->emnist) (3.0.4)\n",
            "Requirement already satisfied: urllib3!=1.25.0,!=1.25.1,<1.26,>=1.21.1 in /usr/local/lib/python3.6/dist-packages (from requests->emnist) (1.24.3)\n",
            "Installing collected packages: emnist\n",
            "Successfully installed emnist-0.0\n"
          ],
          "name": "stdout"
        }
      ]
    },
    {
      "cell_type": "code",
      "metadata": {
        "id": "yzz5cngH59he"
      },
      "source": [
        "import os\n",
        "import numpy as np\n",
        "import matplotlib.pyplot as plt\n",
        "\n",
        "from pathlib import Path\n",
        "from collections import Counter\n",
        "\n",
        "import tensorflow as tf\n",
        "from tensorflow import keras\n",
        "from tensorflow.keras import layers\n",
        "\n",
        "from emnist import list_datasets, extract_training_samples, extract_test_samples"
      ],
      "execution_count": null,
      "outputs": []
    },
    {
      "cell_type": "code",
      "metadata": {
        "id": "9w6qPaD56HaU",
        "outputId": "268013f7-2e6d-4cc1-a98d-eddaa71424de",
        "colab": {
          "base_uri": "https://localhost:8080/",
          "height": 35
        }
      },
      "source": [
        "# load emnist dataset 'by class'\n",
        "\n",
        "images, labels = extract_training_samples('byclass')\n",
        "images_test, labels_test = extract_test_samples('byclass')"
      ],
      "execution_count": null,
      "outputs": [
        {
          "output_type": "stream",
          "text": [
            "Downloading emnist.zip: 536MB [00:02, 205MB/s]\n"
          ],
          "name": "stderr"
        }
      ]
    },
    {
      "cell_type": "code",
      "metadata": {
        "id": "CgkMrn-N6WJP"
      },
      "source": [
        "# find index of uppercase letters\n",
        "\n",
        "tr_index_UPP = [i for i in range(len(labels)) if labels[i]>=36 and labels[i] <= 62] \n",
        "ts_index_UPP = [i for i in range(len(labels_test)) if labels_test[i]>=36 and labels_test[i] <= 62]"
      ],
      "execution_count": null,
      "outputs": []
    },
    {
      "cell_type": "code",
      "metadata": {
        "id": "pjpAgQBL6hxs"
      },
      "source": [
        "# save images and labels in uppercase\n",
        "\n",
        "im_train_UPP = images[tr_index_UPP]\n",
        "im_test_UPP = images_test[ts_index_UPP]\n",
        "lab_train_UPP = labels[tr_index_UPP]\n",
        "lab_test_UPP = labels_test[ts_index_UPP]"
      ],
      "execution_count": null,
      "outputs": []
    },
    {
      "cell_type": "code",
      "metadata": {
        "id": "8_99A-YR6uY3"
      },
      "source": [
        "# reformulate labels for application of built-in function 'to_categorical'\n",
        "\n",
        "\n",
        "alf_UPP = {\n",
        "       36: 0,\n",
        "       37: 1,\n",
        "       38: 2,\n",
        "       39: 3,\n",
        "       40: 4,\n",
        "       41: 5,\n",
        "       42: 6,\n",
        "       43: 7,\n",
        "       44: 8,\n",
        "       45: 9,\n",
        "       46: 10,\n",
        "       47: 11,\n",
        "       48: 12,\n",
        "       49: 13,\n",
        "       50: 14,\n",
        "       51: 15,\n",
        "       52: 16,\n",
        "       53: 17,\n",
        "       54: 18,\n",
        "       55: 19,\n",
        "       56: 20,\n",
        "       57: 21,\n",
        "       58: 22,\n",
        "       59: 23,\n",
        "       60: 24,\n",
        "       61: 25,\n",
        "       }\n",
        "\n",
        "lab_train_UPP = [alf_UPP[label] for label in lab_train_UPP]\n",
        "lab_test_UPP = [alf_UPP[label] for label in lab_test_UPP]"
      ],
      "execution_count": null,
      "outputs": []
    },
    {
      "cell_type": "code",
      "metadata": {
        "id": "gXvoJ4X1_595",
        "outputId": "6089a849-6c5b-447c-83b5-1cc02ced04ab",
        "colab": {
          "base_uri": "https://localhost:8080/",
          "height": 35
        }
      },
      "source": [
        "# check labels\n",
        "\n",
        "lab_train_UPP[0]"
      ],
      "execution_count": null,
      "outputs": [
        {
          "output_type": "execute_result",
          "data": {
            "text/plain": [
              "0"
            ]
          },
          "metadata": {
            "tags": []
          },
          "execution_count": 7
        }
      ]
    },
    {
      "cell_type": "code",
      "metadata": {
        "id": "kj8i4Tyw_72J"
      },
      "source": [
        "# define image width and height and batch size\n",
        "\n",
        "# Batch size for training and validation\n",
        "batch_size = 32\n",
        "\n",
        "# Desired image dimensions\n",
        "img_width = 28\n",
        "img_height = 28"
      ],
      "execution_count": null,
      "outputs": []
    },
    {
      "cell_type": "code",
      "metadata": {
        "id": "txkyxT3JDili"
      },
      "source": [
        "# split training set in traininig and validation set\n",
        "\n",
        "def split_data(images, labels, train_size=0.9, shuffle=True):\n",
        "    # 1. Get the total size of the dataset\n",
        "    size = len(images)\n",
        "    # 2. Make an indices array and shuffle it, if required\n",
        "    indices = np.arange(size)\n",
        "    if shuffle:\n",
        "        np.random.shuffle(indices)\n",
        "    # 3. Get the size of training samples\n",
        "    train_samples = int(size * train_size)\n",
        "    # 4. Split data into training and validation sets\n",
        "    x_train, y_train = images[indices[:train_samples]], labels[indices[:train_samples]]\n",
        "    x_valid, y_valid = images[indices[train_samples:]], labels[indices[train_samples:]]\n",
        "    return x_train, x_valid, y_train, y_valid"
      ],
      "execution_count": null,
      "outputs": []
    },
    {
      "cell_type": "code",
      "metadata": {
        "id": "1Vp7uXl8Hamn"
      },
      "source": [
        "# Splitting data into training and validation sets\n",
        "x_train_UPP, x_valid_UPP, y_train_UPP, y_valid_UPP = split_data(np.array(im_train_UPP), np.array(lab_train_UPP))"
      ],
      "execution_count": null,
      "outputs": []
    },
    {
      "cell_type": "code",
      "metadata": {
        "id": "DlmupJ5eIGDF"
      },
      "source": [
        "# to categorical \n",
        "\n",
        "y_train_UPP = tf.keras.utils.to_categorical(y_train_UPP, 26)\n",
        "y_valid_UPP = tf.keras.utils.to_categorical(y_valid_UPP, 26)\n",
        "lab_test_UPP = tf.keras.utils.to_categorical(lab_test_UPP, 26)"
      ],
      "execution_count": null,
      "outputs": []
    },
    {
      "cell_type": "code",
      "metadata": {
        "id": "ZvQPt1RXI-OV"
      },
      "source": [
        "# normalize training, validation and test data\n",
        "\n",
        "x_train_UPP = tf.keras.utils.normalize(x_train_UPP, axis=1)\n",
        "x_valid_UPP = tf.keras.utils.normalize(x_valid_UPP, axis=1)\n",
        "im_test_UPP = tf.keras.utils.normalize(im_test_UPP, axis=1)"
      ],
      "execution_count": null,
      "outputs": []
    },
    {
      "cell_type": "code",
      "metadata": {
        "id": "xoml2gmkNnLr"
      },
      "source": [
        "# build model\n",
        "\n",
        "def build_model():\n",
        "    # Inputs to the model\n",
        "    input_img = layers.Input(\n",
        "        shape=(img_width, img_height, 1), name=\"image\", dtype=\"float32\"\n",
        "    )\n",
        "    # First conv block\n",
        "    x = layers.Conv2D(\n",
        "        64,\n",
        "        (3, 3),\n",
        "        activation=\"relu\",\n",
        "        kernel_initializer=\"he_normal\",\n",
        "        padding=\"same\",\n",
        "        name=\"Conv1\",\n",
        "    )(input_img)\n",
        "    x = layers.MaxPooling2D((2, 2),padding='same',name=\"pool1\")(x)\n",
        "\n",
        "    # Second conv block\n",
        "    x = layers.Conv2D(\n",
        "        128,\n",
        "        (3, 3),\n",
        "        activation=\"relu\",\n",
        "        kernel_initializer=\"he_normal\",\n",
        "        padding=\"same\",\n",
        "        name=\"Conv2\",\n",
        "    )(x)\n",
        "    x = layers.MaxPooling2D((2, 2), padding='same',name=\"pool2\")(x)\n",
        "    x = layers.Flatten()(x)\n",
        "    \n",
        "    # MLP + Output layer\n",
        "    x = layers.Dense(units=128, activation='sigmoid', name='dense_1')(x)\n",
        "    output = layers.Dense(units=26, activation=\"softmax\", name=\"dense2\")(x)\n",
        "\n",
        "    # Define the model\n",
        "    model = keras.models.Model(\n",
        "        inputs=input_img, outputs=output, name=\"ocr_model_v1\"\n",
        "    )\n",
        "    # Optimizer\n",
        "    opt = keras.optimizers.Adam()\n",
        "    # Compile the model and return\n",
        "    model.compile(loss='categorical_crossentropy',optimizer=opt, metrics=['accuracy'])\n",
        "\n",
        "    return model"
      ],
      "execution_count": null,
      "outputs": []
    },
    {
      "cell_type": "code",
      "metadata": {
        "id": "bCVkysqePH29",
        "outputId": "851a2a6c-01fe-450a-d59a-2ea7e6c8a147",
        "colab": {
          "base_uri": "https://localhost:8080/",
          "height": 444
        }
      },
      "source": [
        "model = build_model()\n",
        "model.summary()"
      ],
      "execution_count": null,
      "outputs": [
        {
          "output_type": "stream",
          "text": [
            "Model: \"ocr_model_v1\"\n",
            "_________________________________________________________________\n",
            "Layer (type)                 Output Shape              Param #   \n",
            "=================================================================\n",
            "image (InputLayer)           [(None, 28, 28, 1)]       0         \n",
            "_________________________________________________________________\n",
            "Conv1 (Conv2D)               (None, 28, 28, 64)        640       \n",
            "_________________________________________________________________\n",
            "pool1 (MaxPooling2D)         (None, 14, 14, 64)        0         \n",
            "_________________________________________________________________\n",
            "Conv2 (Conv2D)               (None, 14, 14, 128)       73856     \n",
            "_________________________________________________________________\n",
            "pool2 (MaxPooling2D)         (None, 7, 7, 128)         0         \n",
            "_________________________________________________________________\n",
            "flatten (Flatten)            (None, 6272)              0         \n",
            "_________________________________________________________________\n",
            "dense_1 (Dense)              (None, 128)               802944    \n",
            "_________________________________________________________________\n",
            "dense2 (Dense)               (None, 26)                3354      \n",
            "=================================================================\n",
            "Total params: 880,794\n",
            "Trainable params: 880,794\n",
            "Non-trainable params: 0\n",
            "_________________________________________________________________\n"
          ],
          "name": "stdout"
        }
      ]
    },
    {
      "cell_type": "code",
      "metadata": {
        "id": "v8YiuOWiPKKM",
        "outputId": "d0ce97e8-a98e-4b7c-fd93-5c1575ae81b0",
        "colab": {
          "base_uri": "https://localhost:8080/",
          "height": 758
        }
      },
      "source": [
        "from keras.utils import plot_model\n",
        "plot_model(model, to_file='/content/drive/My Drive/TESI/Models/Immagini/model2_byclass_lower_noDA.png')"
      ],
      "execution_count": null,
      "outputs": [
        {
          "output_type": "execute_result",
          "data": {
            "image/png": "[encoded data removed]",
            "text/plain": [
              "<IPython.core.display.Image object>"
            ]
          },
          "metadata": {
            "tags": []
          },
          "execution_count": 15
        }
      ]
    },
    {
      "cell_type": "code",
      "metadata": {
        "id": "Bupp_Vi9PtBO"
      },
      "source": [
        "epochs = 100\n",
        "early_stopping_patience = 10\n",
        "# Add early stopping\n",
        "early_stopping = keras.callbacks.EarlyStopping(\n",
        "    monitor=\"val_accuracy\", patience=early_stopping_patience, restore_best_weights=True, verbose=1\n",
        ")\n",
        "\n",
        "# Model CheckPoint\n",
        "cp = keras.callbacks.ModelCheckpoint('/content/drive/My Drive/TESI/Models/model2_LOW_byclass_noDA.h5',\n",
        "                                     verbose=1,\n",
        "                                     monitor='val_accuracy',\n",
        "                                     save_best_only=True,\n",
        "                                     mode='max')"
      ],
      "execution_count": null,
      "outputs": []
    },
    {
      "cell_type": "code",
      "metadata": {
        "id": "wU2qe4yJQVK5",
        "outputId": "4ac50578-2eac-4df6-9137-0b6233a42a40",
        "colab": {
          "base_uri": "https://localhost:8080/",
          "height": 1000
        }
      },
      "source": [
        "# fit model\n",
        "history1_UPP = model.fit(x_train_UPP,y_train_UPP,\n",
        "                    validation_data=(x_valid_UPP,y_valid_UPP),\n",
        "                    batch_size=batch_size,\n",
        "                    epochs=epochs,\n",
        "                    verbose=1,\n",
        "                    callbacks=[cp, early_stopping])"
      ],
      "execution_count": null,
      "outputs": [
        {
          "output_type": "stream",
          "text": [
            "Epoch 1/100\n",
            "4610/4611 [============================>.] - ETA: 0s - loss: 0.3122 - accuracy: 0.9122\n",
            "Epoch 00001: val_accuracy improved from -inf to 0.93784, saving model to /content/drive/My Drive/TESI/Models/model2_LOW_byclass_noDA.h5\n",
            "4611/4611 [==============================] - 19s 4ms/step - loss: 0.3122 - accuracy: 0.9122 - val_loss: 0.2008 - val_accuracy: 0.9378\n",
            "Epoch 2/100\n",
            "4602/4611 [============================>.] - ETA: 0s - loss: 0.1632 - accuracy: 0.9500\n",
            "Epoch 00002: val_accuracy improved from 0.93784 to 0.94919, saving model to /content/drive/My Drive/TESI/Models/model2_LOW_byclass_noDA.h5\n",
            "4611/4611 [==============================] - 19s 4ms/step - loss: 0.1633 - accuracy: 0.9500 - val_loss: 0.1633 - val_accuracy: 0.9492\n",
            "Epoch 3/100\n",
            "4602/4611 [============================>.] - ETA: 0s - loss: 0.1269 - accuracy: 0.9610\n",
            "Epoch 00003: val_accuracy improved from 0.94919 to 0.95071, saving model to /content/drive/My Drive/TESI/Models/model2_LOW_byclass_noDA.h5\n",
            "4611/4611 [==============================] - 19s 4ms/step - loss: 0.1270 - accuracy: 0.9609 - val_loss: 0.1603 - val_accuracy: 0.9507\n",
            "Epoch 4/100\n",
            "4601/4611 [============================>.] - ETA: 0s - loss: 0.1025 - accuracy: 0.9679\n",
            "Epoch 00004: val_accuracy improved from 0.95071 to 0.95254, saving model to /content/drive/My Drive/TESI/Models/model2_LOW_byclass_noDA.h5\n",
            "4611/4611 [==============================] - 19s 4ms/step - loss: 0.1024 - accuracy: 0.9679 - val_loss: 0.1538 - val_accuracy: 0.9525\n",
            "Epoch 5/100\n",
            "4600/4611 [============================>.] - ETA: 0s - loss: 0.0822 - accuracy: 0.9736\n",
            "Epoch 00005: val_accuracy did not improve from 0.95254\n",
            "4611/4611 [==============================] - 18s 4ms/step - loss: 0.0822 - accuracy: 0.9736 - val_loss: 0.1628 - val_accuracy: 0.9494\n",
            "Epoch 6/100\n",
            "4601/4611 [============================>.] - ETA: 0s - loss: 0.0676 - accuracy: 0.9783\n",
            "Epoch 00006: val_accuracy improved from 0.95254 to 0.95462, saving model to /content/drive/My Drive/TESI/Models/model2_LOW_byclass_noDA.h5\n",
            "4611/4611 [==============================] - 20s 4ms/step - loss: 0.0676 - accuracy: 0.9783 - val_loss: 0.1593 - val_accuracy: 0.9546\n",
            "Epoch 7/100\n",
            "4604/4611 [============================>.] - ETA: 0s - loss: 0.0557 - accuracy: 0.9819\n",
            "Epoch 00007: val_accuracy did not improve from 0.95462\n",
            "4611/4611 [==============================] - 19s 4ms/step - loss: 0.0557 - accuracy: 0.9819 - val_loss: 0.1642 - val_accuracy: 0.9525\n",
            "Epoch 8/100\n",
            "4605/4611 [============================>.] - ETA: 0s - loss: 0.0466 - accuracy: 0.9843\n",
            "Epoch 00008: val_accuracy did not improve from 0.95462\n",
            "4611/4611 [==============================] - 18s 4ms/step - loss: 0.0465 - accuracy: 0.9844 - val_loss: 0.1673 - val_accuracy: 0.9529\n",
            "Epoch 9/100\n",
            "4604/4611 [============================>.] - ETA: 0s - loss: 0.0395 - accuracy: 0.9870\n",
            "Epoch 00009: val_accuracy did not improve from 0.95462\n",
            "4611/4611 [==============================] - 18s 4ms/step - loss: 0.0395 - accuracy: 0.9870 - val_loss: 0.1802 - val_accuracy: 0.9510\n",
            "Epoch 10/100\n",
            "4610/4611 [============================>.] - ETA: 0s - loss: 0.0332 - accuracy: 0.9887\n",
            "Epoch 00010: val_accuracy did not improve from 0.95462\n",
            "4611/4611 [==============================] - 18s 4ms/step - loss: 0.0332 - accuracy: 0.9887 - val_loss: 0.1825 - val_accuracy: 0.9521\n",
            "Epoch 11/100\n",
            "4610/4611 [============================>.] - ETA: 0s - loss: 0.0284 - accuracy: 0.9904\n",
            "Epoch 00011: val_accuracy did not improve from 0.95462\n",
            "4611/4611 [==============================] - 18s 4ms/step - loss: 0.0284 - accuracy: 0.9904 - val_loss: 0.1960 - val_accuracy: 0.9500\n",
            "Epoch 12/100\n",
            "4611/4611 [==============================] - ETA: 0s - loss: 0.0251 - accuracy: 0.9913\n",
            "Epoch 00012: val_accuracy did not improve from 0.95462\n",
            "4611/4611 [==============================] - 18s 4ms/step - loss: 0.0251 - accuracy: 0.9913 - val_loss: 0.1969 - val_accuracy: 0.9510\n",
            "Epoch 13/100\n",
            "4603/4611 [============================>.] - ETA: 0s - loss: 0.0222 - accuracy: 0.9925\n",
            "Epoch 00013: val_accuracy did not improve from 0.95462\n",
            "4611/4611 [==============================] - 18s 4ms/step - loss: 0.0221 - accuracy: 0.9926 - val_loss: 0.2164 - val_accuracy: 0.9500\n",
            "Epoch 14/100\n",
            "4610/4611 [============================>.] - ETA: 0s - loss: 0.0194 - accuracy: 0.9933\n",
            "Epoch 00014: val_accuracy did not improve from 0.95462\n",
            "4611/4611 [==============================] - 18s 4ms/step - loss: 0.0194 - accuracy: 0.9933 - val_loss: 0.2183 - val_accuracy: 0.9489\n",
            "Epoch 15/100\n",
            "4610/4611 [============================>.] - ETA: 0s - loss: 0.0181 - accuracy: 0.9937\n",
            "Epoch 00015: val_accuracy did not improve from 0.95462\n",
            "4611/4611 [==============================] - 18s 4ms/step - loss: 0.0181 - accuracy: 0.9937 - val_loss: 0.2228 - val_accuracy: 0.9471\n",
            "Epoch 16/100\n",
            "4602/4611 [============================>.] - ETA: 0s - loss: 0.0155 - accuracy: 0.9948\n",
            "Epoch 00016: val_accuracy did not improve from 0.95462\n",
            "Restoring model weights from the end of the best epoch.\n",
            "4611/4611 [==============================] - 18s 4ms/step - loss: 0.0155 - accuracy: 0.9948 - val_loss: 0.2320 - val_accuracy: 0.9486\n",
            "Epoch 00016: early stopping\n"
          ],
          "name": "stdout"
        }
      ]
    },
    {
      "cell_type": "code",
      "metadata": {
        "id": "XXHdIbq7Qv_I",
        "outputId": "9078e5fe-b43f-4213-c4ac-141df374a3ec",
        "colab": {
          "base_uri": "https://localhost:8080/",
          "height": 865
        }
      },
      "source": [
        "plt.figure(figsize=(16,9))\n",
        "# summarize history for accuracy\n",
        "plt.plot(history1_UPP.history['accuracy'])\n",
        "plt.plot(history1_UPP.history['val_accuracy'])\n",
        "plt.title('Model 2 lowercase letters accuracy (without Data Augmentation)')\n",
        "plt.ylabel('accuracy')\n",
        "plt.xlabel('epoch')\n",
        "plt.legend(['train', 'validation'], loc='lower right')\n",
        "plt.show()\n",
        "plt.figure(figsize=(16,9))\n",
        "\n",
        "# summarize history for loss\n",
        "plt.plot(history1_UPP.history['loss'])\n",
        "plt.plot(history1_UPP.history['val_loss'])\n",
        "plt.title('Model 2 lowercase letters loss (without Data Augmentation)')\n",
        "plt.ylabel('loss')\n",
        "plt.xlabel('epoch')\n",
        "plt.legend(['train', 'validation'], loc='upper right')\n",
        "plt.show()"
      ],
      "execution_count": null,
      "outputs": [
        {
          "output_type": "display_data",
          "data": {
            "image/png": "[encoded data removed]",
            "text/plain": [
              "<Figure size 1152x648 with 1 Axes>"
            ]
          },
          "metadata": {
            "tags": [],
            "needs_background": "light"
          }
        },
        {
          "output_type": "display_data",
          "data": {
            "image/png": "[encoded data removed]",
            "text/plain": [
              "<Figure size 1152x648 with 1 Axes>"
            ]
          },
          "metadata": {
            "tags": [],
            "needs_background": "light"
          }
        }
      ]
    },
    {
      "cell_type": "code",
      "metadata": {
        "id": "jOltsguOxFJp",
        "outputId": "7979a922-acf8-421c-e616-42097918e6c7",
        "colab": {
          "base_uri": "https://localhost:8080/",
          "height": 35
        }
      },
      "source": [
        "evaluation = model.evaluate(im_test_UPP, lab_test_UPP)"
      ],
      "execution_count": null,
      "outputs": [
        {
          "output_type": "stream",
          "text": [
            "846/846 [==============================] - 3s 3ms/step - loss: 0.1574 - accuracy: 0.9535\n"
          ],
          "name": "stdout"
        }
      ]
    },
    {
      "cell_type": "code",
      "metadata": {
        "id": "xMRCeTWLyimv",
        "outputId": "4091aaa0-2116-452e-fb36-c06330f1bdf5",
        "colab": {
          "base_uri": "https://localhost:8080/",
          "height": 35
        }
      },
      "source": [
        "evaluation"
      ],
      "execution_count": null,
      "outputs": [
        {
          "output_type": "execute_result",
          "data": {
            "text/plain": [
              "[0.15742437541484833, 0.9534720182418823]"
            ]
          },
          "metadata": {
            "tags": []
          },
          "execution_count": 20
        }
      ]
    },
    {
      "cell_type": "code",
      "metadata": {
        "id": "2b6yNk-c-oqX"
      },
      "source": [
        ""
      ],
      "execution_count": null,
      "outputs": []
    }
  ]
}