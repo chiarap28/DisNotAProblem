{
  "nbformat": 4,
  "nbformat_minor": 0,
  "metadata": {
    "colab": {
      "name": "Model5-HWR-byclass-lower-noDA.ipynb",
      "provenance": []
    },
    "kernelspec": {
      "name": "python3",
      "display_name": "Python 3"
    },
    "accelerator": "GPU"
  },
  "cells": [
    {
      "cell_type": "code",
      "metadata": {
        "id": "WaamsQlM5zPi",
        "outputId": "1d8ebc5d-7eee-47f8-efce-22a1f021dd8b",
        "colab": {
          "base_uri": "https://localhost:8080/",
          "height": 212
        }
      },
      "source": [
        "pip install emnist"
      ],
      "execution_count": null,
      "outputs": [
        {
          "output_type": "stream",
          "text": [
            "Collecting emnist\n",
            "  Downloading https://files.pythonhosted.org/packages/d1/f4/78b24acbef9e8fe976dda700f16a3606f3b8363b015bc555f8050fbbd8ac/emnist-0.0-py3-none-any.whl\n",
            "Requirement already satisfied: numpy in /usr/local/lib/python3.6/dist-packages (from emnist) (1.18.5)\n",
            "Requirement already satisfied: tqdm in /usr/local/lib/python3.6/dist-packages (from emnist) (4.41.1)\n",
            "Requirement already satisfied: requests in /usr/local/lib/python3.6/dist-packages (from emnist) (2.23.0)\n",
            "Requirement already satisfied: urllib3!=1.25.0,!=1.25.1,<1.26,>=1.21.1 in /usr/local/lib/python3.6/dist-packages (from requests->emnist) (1.24.3)\n",
            "Requirement already satisfied: certifi>=2017.4.17 in /usr/local/lib/python3.6/dist-packages (from requests->emnist) (2020.6.20)\n",
            "Requirement already satisfied: idna<3,>=2.5 in /usr/local/lib/python3.6/dist-packages (from requests->emnist) (2.10)\n",
            "Requirement already satisfied: chardet<4,>=3.0.2 in /usr/local/lib/python3.6/dist-packages (from requests->emnist) (3.0.4)\n",
            "Installing collected packages: emnist\n",
            "Successfully installed emnist-0.0\n"
          ],
          "name": "stdout"
        }
      ]
    },
    {
      "cell_type": "code",
      "metadata": {
        "id": "yzz5cngH59he"
      },
      "source": [
        "import os\n",
        "import numpy as np\n",
        "import matplotlib.pyplot as plt\n",
        "\n",
        "from pathlib import Path\n",
        "from collections import Counter\n",
        "\n",
        "import tensorflow as tf\n",
        "from tensorflow import keras\n",
        "from tensorflow.keras import layers\n",
        "\n",
        "from emnist import list_datasets, extract_training_samples, extract_test_samples"
      ],
      "execution_count": null,
      "outputs": []
    },
    {
      "cell_type": "code",
      "metadata": {
        "id": "9w6qPaD56HaU",
        "outputId": "691769a3-5d43-4e14-dadd-62e1f2ea4888",
        "colab": {
          "base_uri": "https://localhost:8080/",
          "height": 35
        }
      },
      "source": [
        "# load emnist dataset 'by class'\n",
        "\n",
        "images, labels = extract_training_samples('byclass')\n",
        "images_test, labels_test = extract_test_samples('byclass')"
      ],
      "execution_count": null,
      "outputs": [
        {
          "output_type": "stream",
          "text": [
            "Downloading emnist.zip: 536MB [00:03, 159MB/s]\n"
          ],
          "name": "stderr"
        }
      ]
    },
    {
      "cell_type": "code",
      "metadata": {
        "id": "CgkMrn-N6WJP"
      },
      "source": [
        "# find index of uppercase letters\n",
        "\n",
        "tr_index_UPP = [i for i in range(len(labels)) if labels[i]>=36 and labels[i] <= 61] \n",
        "ts_index_UPP = [i for i in range(len(labels_test)) if labels_test[i]>=36 and labels_test[i] <= 61]"
      ],
      "execution_count": null,
      "outputs": []
    },
    {
      "cell_type": "code",
      "metadata": {
        "id": "pjpAgQBL6hxs"
      },
      "source": [
        "# save images and labels in uppercase\n",
        "\n",
        "im_train_UPP = images[tr_index_UPP]\n",
        "im_test_UPP = images_test[ts_index_UPP]\n",
        "lab_train_UPP = labels[tr_index_UPP]\n",
        "lab_test_UPP = labels_test[ts_index_UPP]"
      ],
      "execution_count": null,
      "outputs": []
    },
    {
      "cell_type": "code",
      "metadata": {
        "id": "8_99A-YR6uY3"
      },
      "source": [
        "# reformulate labels for application of built-in function 'to_categorical'\n",
        "\n",
        "alf_UPP = {\n",
        "       36: 0,\n",
        "       37: 1,\n",
        "       38: 2,\n",
        "       39: 3,\n",
        "       40: 4,\n",
        "       41: 5,\n",
        "       42: 6,\n",
        "       43: 7,\n",
        "       44: 8,\n",
        "       45: 9,\n",
        "       46: 10,\n",
        "       47: 11,\n",
        "       48: 12,\n",
        "       49: 13,\n",
        "       50: 14,\n",
        "       51: 15,\n",
        "       52: 16,\n",
        "       53: 17,\n",
        "       54: 18,\n",
        "       55: 19,\n",
        "       56: 20,\n",
        "       57: 21,\n",
        "       58: 22,\n",
        "       59: 23,\n",
        "       60: 24,\n",
        "       61: 25,\n",
        "       }\n",
        "\n",
        "lab_train_UPP = [alf_UPP[label] for label in lab_train_UPP]\n",
        "lab_test_UPP = [alf_UPP[label] for label in lab_test_UPP]"
      ],
      "execution_count": null,
      "outputs": []
    },
    {
      "cell_type": "code",
      "metadata": {
        "id": "gXvoJ4X1_595",
        "outputId": "1e7568d3-6303-407d-bae2-c6669f29c0d9",
        "colab": {
          "base_uri": "https://localhost:8080/",
          "height": 35
        }
      },
      "source": [
        "# check labels\n",
        "\n",
        "lab_train_UPP[0]"
      ],
      "execution_count": null,
      "outputs": [
        {
          "output_type": "execute_result",
          "data": {
            "text/plain": [
              "0"
            ]
          },
          "metadata": {
            "tags": []
          },
          "execution_count": 7
        }
      ]
    },
    {
      "cell_type": "code",
      "metadata": {
        "id": "kj8i4Tyw_72J"
      },
      "source": [
        "# define image width and height and batch size\n",
        "\n",
        "# Batch size for training and validation\n",
        "batch_size = 32\n",
        "\n",
        "# Desired image dimensions\n",
        "img_width = 28\n",
        "img_height = 28"
      ],
      "execution_count": null,
      "outputs": []
    },
    {
      "cell_type": "code",
      "metadata": {
        "id": "txkyxT3JDili"
      },
      "source": [
        "# split training set in traininig and validation set\n",
        "\n",
        "def split_data(images, labels, train_size=0.9, shuffle=True):\n",
        "    # 1. Get the total size of the dataset\n",
        "    size = len(images)\n",
        "    # 2. Make an indices array and shuffle it, if required\n",
        "    indices = np.arange(size)\n",
        "    if shuffle:\n",
        "        np.random.shuffle(indices)\n",
        "    # 3. Get the size of training samples\n",
        "    train_samples = int(size * train_size)\n",
        "    # 4. Split data into training and validation sets\n",
        "    x_train, y_train = images[indices[:train_samples]], labels[indices[:train_samples]]\n",
        "    x_valid, y_valid = images[indices[train_samples:]], labels[indices[train_samples:]]\n",
        "    return x_train, x_valid, y_train, y_valid"
      ],
      "execution_count": null,
      "outputs": []
    },
    {
      "cell_type": "code",
      "metadata": {
        "id": "1Vp7uXl8Hamn"
      },
      "source": [
        "# Splitting data into training and validation sets\n",
        "x_train_UPP, x_valid_UPP, y_train_UPP, y_valid_UPP = split_data(np.array(im_train_UPP), np.array(lab_train_UPP))"
      ],
      "execution_count": null,
      "outputs": []
    },
    {
      "cell_type": "code",
      "metadata": {
        "id": "DlmupJ5eIGDF"
      },
      "source": [
        "# to categorical \n",
        "\n",
        "y_train_UPP = tf.keras.utils.to_categorical(y_train_UPP, 26)\n",
        "y_valid_UPP = tf.keras.utils.to_categorical(y_valid_UPP, 26)\n",
        "lab_test_UPP = tf.keras.utils.to_categorical(lab_test_UPP, 26)"
      ],
      "execution_count": null,
      "outputs": []
    },
    {
      "cell_type": "code",
      "metadata": {
        "id": "ZvQPt1RXI-OV"
      },
      "source": [
        "# normalize training, validation and test data\n",
        "\n",
        "x_train_UPP = tf.keras.utils.normalize(x_train_UPP, axis=1)\n",
        "x_valid_UPP = tf.keras.utils.normalize(x_valid_UPP, axis=1)\n",
        "im_test_UPP = tf.keras.utils.normalize(im_test_UPP, axis=1)"
      ],
      "execution_count": null,
      "outputs": []
    },
    {
      "cell_type": "code",
      "metadata": {
        "id": "xoml2gmkNnLr"
      },
      "source": [
        "# build model\n",
        "\n",
        "def build_model():\n",
        "    # Inputs to the model\n",
        "    input_img = layers.Input(\n",
        "        shape=(img_width, img_height, 1), name=\"image\", dtype=\"float32\"\n",
        "    )\n",
        "\n",
        "    # Output layer\n",
        "    x = layers.Dense(units=256, activation='sigmoid', name='dense_1')(input_img)\n",
        "    x = layers.Dense(units=128, activation=\"sigmoid\", name=\"dense2\")(x)\n",
        "    x = layers.Dense(units=64, activation=\"sigmoid\", name=\"dense3\")(x)\n",
        "    x = layers.Flatten()(x)\n",
        "    output = layers.Dense(units=26, activation=\"softmax\", name=\"dense4\")(x)\n",
        "\n",
        "    # Define the model\n",
        "    model = keras.models.Model(\n",
        "        inputs=input_img, outputs=output, name=\"ocr_model_v1\"\n",
        "    )\n",
        "    # Optimizer\n",
        "    opt = keras.optimizers.Adam()\n",
        "    # Compile the model and return\n",
        "    model.compile(loss='categorical_crossentropy',optimizer=opt, metrics=['accuracy'])\n",
        "\n",
        "    return model"
      ],
      "execution_count": null,
      "outputs": []
    },
    {
      "cell_type": "code",
      "metadata": {
        "id": "bCVkysqePH29",
        "outputId": "8619c569-249b-4510-d6c2-88419356c6f5",
        "colab": {
          "base_uri": "https://localhost:8080/",
          "height": 372
        }
      },
      "source": [
        "model = build_model()\n",
        "model.summary()"
      ],
      "execution_count": null,
      "outputs": [
        {
          "output_type": "stream",
          "text": [
            "Model: \"ocr_model_v1\"\n",
            "_________________________________________________________________\n",
            "Layer (type)                 Output Shape              Param #   \n",
            "=================================================================\n",
            "image (InputLayer)           [(None, 28, 28, 1)]       0         \n",
            "_________________________________________________________________\n",
            "dense_1 (Dense)              (None, 28, 28, 256)       512       \n",
            "_________________________________________________________________\n",
            "dense2 (Dense)               (None, 28, 28, 128)       32896     \n",
            "_________________________________________________________________\n",
            "dense3 (Dense)               (None, 28, 28, 64)        8256      \n",
            "_________________________________________________________________\n",
            "flatten (Flatten)            (None, 50176)             0         \n",
            "_________________________________________________________________\n",
            "dense4 (Dense)               (None, 26)                1304602   \n",
            "=================================================================\n",
            "Total params: 1,346,266\n",
            "Trainable params: 1,346,266\n",
            "Non-trainable params: 0\n",
            "_________________________________________________________________\n"
          ],
          "name": "stdout"
        }
      ]
    },
    {
      "cell_type": "code",
      "metadata": {
        "id": "v8YiuOWiPKKM",
        "outputId": "5271c1ec-c814-4670-ca3c-ef516bba22b3",
        "colab": {
          "base_uri": "https://localhost:8080/",
          "height": 564
        }
      },
      "source": [
        "from keras.utils import plot_model\n",
        "plot_model(model, to_file='/content/drive/My Drive/TESI/Models/Immagini/model5_byclass_lower_noDA.png')"
      ],
      "execution_count": null,
      "outputs": [
        {
          "output_type": "execute_result",
          "data": {
            "image/png": "[encoded data removed]",
            "text/plain": [
              "<IPython.core.display.Image object>"
            ]
          },
          "metadata": {
            "tags": []
          },
          "execution_count": 15
        }
      ]
    },
    {
      "cell_type": "code",
      "metadata": {
        "id": "Bupp_Vi9PtBO"
      },
      "source": [
        "epochs = 100\n",
        "early_stopping_patience = 10\n",
        "# Add early stopping\n",
        "early_stopping = keras.callbacks.EarlyStopping(\n",
        "    monitor=\"val_accuracy\", patience=early_stopping_patience, restore_best_weights=True, verbose=1\n",
        ")\n",
        "\n",
        "# Model CheckPoint\n",
        "cp = keras.callbacks.ModelCheckpoint('/content/drive/My Drive/TESI/Models/model5_LOW_byclass_noDA.h5',\n",
        "                                     verbose=1,\n",
        "                                     monitor='val_accuracy',\n",
        "                                     save_best_only=True,\n",
        "                                     mode='max')"
      ],
      "execution_count": null,
      "outputs": []
    },
    {
      "cell_type": "code",
      "metadata": {
        "id": "wU2qe4yJQVK5",
        "outputId": "c386a36f-f19d-410e-8ed1-20104670522f",
        "colab": {
          "base_uri": "https://localhost:8080/",
          "height": 1000
        }
      },
      "source": [
        "# fit model\n",
        "history1_UPP = model.fit(x_train_UPP,y_train_UPP,\n",
        "                    validation_data=(x_valid_UPP,y_valid_UPP),\n",
        "                    batch_size=batch_size,\n",
        "                    epochs=epochs,\n",
        "                    verbose=1,\n",
        "                    callbacks=[cp, early_stopping])"
      ],
      "execution_count": null,
      "outputs": [
        {
          "output_type": "stream",
          "text": [
            "Epoch 1/100\n",
            "4610/4611 [============================>.] - ETA: 0s - loss: 3.0536 - accuracy: 0.1498\n",
            "Epoch 00001: val_accuracy improved from -inf to 0.14981, saving model to /content/drive/My Drive/TESI/Models/model5_LOW_byclass_noDA.h5\n",
            "4611/4611 [==============================] - 33s 7ms/step - loss: 3.0535 - accuracy: 0.1498 - val_loss: 2.9048 - val_accuracy: 0.1498\n",
            "Epoch 2/100\n",
            "4610/4611 [============================>.] - ETA: 0s - loss: 2.2997 - accuracy: 0.3348\n",
            "Epoch 00002: val_accuracy improved from 0.14981 to 0.78547, saving model to /content/drive/My Drive/TESI/Models/model5_LOW_byclass_noDA.h5\n",
            "4611/4611 [==============================] - 34s 7ms/step - loss: 2.2995 - accuracy: 0.3349 - val_loss: 0.7832 - val_accuracy: 0.7855\n",
            "Epoch 3/100\n",
            "4609/4611 [============================>.] - ETA: 0s - loss: 0.7557 - accuracy: 0.7968\n",
            "Epoch 00003: val_accuracy improved from 0.78547 to 0.80603, saving model to /content/drive/My Drive/TESI/Models/model5_LOW_byclass_noDA.h5\n",
            "4611/4611 [==============================] - 34s 7ms/step - loss: 0.7558 - accuracy: 0.7968 - val_loss: 0.7390 - val_accuracy: 0.8060\n",
            "Epoch 4/100\n",
            "4606/4611 [============================>.] - ETA: 0s - loss: 0.7064 - accuracy: 0.8107\n",
            "Epoch 00004: val_accuracy improved from 0.80603 to 0.83646, saving model to /content/drive/My Drive/TESI/Models/model5_LOW_byclass_noDA.h5\n",
            "4611/4611 [==============================] - 35s 8ms/step - loss: 0.7063 - accuracy: 0.8108 - val_loss: 0.5952 - val_accuracy: 0.8365\n",
            "Epoch 5/100\n",
            "4606/4611 [============================>.] - ETA: 0s - loss: 0.5729 - accuracy: 0.8418\n",
            "Epoch 00005: val_accuracy improved from 0.83646 to 0.84751, saving model to /content/drive/My Drive/TESI/Models/model5_LOW_byclass_noDA.h5\n",
            "4611/4611 [==============================] - 34s 7ms/step - loss: 0.5730 - accuracy: 0.8418 - val_loss: 0.5592 - val_accuracy: 0.8475\n",
            "Epoch 6/100\n",
            "4607/4611 [============================>.] - ETA: 0s - loss: 0.5325 - accuracy: 0.8513\n",
            "Epoch 00006: val_accuracy improved from 0.84751 to 0.85452, saving model to /content/drive/My Drive/TESI/Models/model5_LOW_byclass_noDA.h5\n",
            "4611/4611 [==============================] - 34s 7ms/step - loss: 0.5325 - accuracy: 0.8513 - val_loss: 0.5299 - val_accuracy: 0.8545\n",
            "Epoch 7/100\n",
            "4604/4611 [============================>.] - ETA: 0s - loss: 0.5141 - accuracy: 0.8565\n",
            "Epoch 00007: val_accuracy improved from 0.85452 to 0.85861, saving model to /content/drive/My Drive/TESI/Models/model5_LOW_byclass_noDA.h5\n",
            "4611/4611 [==============================] - 35s 7ms/step - loss: 0.5141 - accuracy: 0.8565 - val_loss: 0.5172 - val_accuracy: 0.8586\n",
            "Epoch 8/100\n",
            "4611/4611 [==============================] - ETA: 0s - loss: 0.5018 - accuracy: 0.8594\n",
            "Epoch 00008: val_accuracy improved from 0.85861 to 0.85940, saving model to /content/drive/My Drive/TESI/Models/model5_LOW_byclass_noDA.h5\n",
            "4611/4611 [==============================] - 34s 7ms/step - loss: 0.5018 - accuracy: 0.8594 - val_loss: 0.5187 - val_accuracy: 0.8594\n",
            "Epoch 9/100\n",
            "4605/4611 [============================>.] - ETA: 0s - loss: 0.4919 - accuracy: 0.8617\n",
            "Epoch 00009: val_accuracy did not improve from 0.85940\n",
            "4611/4611 [==============================] - 33s 7ms/step - loss: 0.4917 - accuracy: 0.8618 - val_loss: 0.5162 - val_accuracy: 0.8549\n",
            "Epoch 10/100\n",
            "4609/4611 [============================>.] - ETA: 0s - loss: 0.4858 - accuracy: 0.8628\n",
            "Epoch 00010: val_accuracy did not improve from 0.85940\n",
            "4611/4611 [==============================] - 33s 7ms/step - loss: 0.4858 - accuracy: 0.8628 - val_loss: 0.5239 - val_accuracy: 0.8592\n",
            "Epoch 11/100\n",
            "4609/4611 [============================>.] - ETA: 0s - loss: 0.4797 - accuracy: 0.8647\n",
            "Epoch 00011: val_accuracy did not improve from 0.85940\n",
            "4611/4611 [==============================] - 33s 7ms/step - loss: 0.4797 - accuracy: 0.8647 - val_loss: 0.5148 - val_accuracy: 0.8586\n",
            "Epoch 12/100\n",
            "4610/4611 [============================>.] - ETA: 0s - loss: 0.4723 - accuracy: 0.8670\n",
            "Epoch 00012: val_accuracy improved from 0.85940 to 0.86452, saving model to /content/drive/My Drive/TESI/Models/model5_LOW_byclass_noDA.h5\n",
            "4611/4611 [==============================] - 34s 7ms/step - loss: 0.4723 - accuracy: 0.8670 - val_loss: 0.5023 - val_accuracy: 0.8645\n",
            "Epoch 13/100\n",
            "4608/4611 [============================>.] - ETA: 0s - loss: 0.4483 - accuracy: 0.8738\n",
            "Epoch 00013: val_accuracy improved from 0.86452 to 0.86672, saving model to /content/drive/My Drive/TESI/Models/model5_LOW_byclass_noDA.h5\n",
            "4611/4611 [==============================] - 35s 8ms/step - loss: 0.4484 - accuracy: 0.8738 - val_loss: 0.4990 - val_accuracy: 0.8667\n",
            "Epoch 14/100\n",
            "4610/4611 [============================>.] - ETA: 0s - loss: 0.4283 - accuracy: 0.8796\n",
            "Epoch 00014: val_accuracy did not improve from 0.86672\n",
            "4611/4611 [==============================] - 34s 7ms/step - loss: 0.4283 - accuracy: 0.8796 - val_loss: 0.5168 - val_accuracy: 0.8588\n",
            "Epoch 15/100\n",
            "4607/4611 [============================>.] - ETA: 0s - loss: 0.4162 - accuracy: 0.8821\n",
            "Epoch 00015: val_accuracy improved from 0.86672 to 0.86904, saving model to /content/drive/My Drive/TESI/Models/model5_LOW_byclass_noDA.h5\n",
            "4611/4611 [==============================] - 36s 8ms/step - loss: 0.4162 - accuracy: 0.8821 - val_loss: 0.4878 - val_accuracy: 0.8690\n",
            "Epoch 16/100\n",
            "4611/4611 [==============================] - ETA: 0s - loss: 0.4036 - accuracy: 0.8842\n",
            "Epoch 00016: val_accuracy did not improve from 0.86904\n",
            "4611/4611 [==============================] - 34s 7ms/step - loss: 0.4036 - accuracy: 0.8842 - val_loss: 0.5093 - val_accuracy: 0.8588\n",
            "Epoch 17/100\n",
            "4608/4611 [============================>.] - ETA: 0s - loss: 0.3874 - accuracy: 0.8890\n",
            "Epoch 00017: val_accuracy did not improve from 0.86904\n",
            "4611/4611 [==============================] - 34s 7ms/step - loss: 0.3875 - accuracy: 0.8890 - val_loss: 0.5144 - val_accuracy: 0.8618\n",
            "Epoch 18/100\n",
            "4610/4611 [============================>.] - ETA: 0s - loss: 0.3748 - accuracy: 0.8911\n",
            "Epoch 00018: val_accuracy did not improve from 0.86904\n",
            "4611/4611 [==============================] - 33s 7ms/step - loss: 0.3748 - accuracy: 0.8911 - val_loss: 0.5518 - val_accuracy: 0.8607\n",
            "Epoch 19/100\n",
            "4607/4611 [============================>.] - ETA: 0s - loss: 0.3613 - accuracy: 0.8953\n",
            "Epoch 00019: val_accuracy did not improve from 0.86904\n",
            "4611/4611 [==============================] - 33s 7ms/step - loss: 0.3612 - accuracy: 0.8953 - val_loss: 0.5141 - val_accuracy: 0.8637\n",
            "Epoch 20/100\n",
            "4611/4611 [==============================] - ETA: 0s - loss: 0.3482 - accuracy: 0.8991\n",
            "Epoch 00020: val_accuracy did not improve from 0.86904\n",
            "4611/4611 [==============================] - 33s 7ms/step - loss: 0.3482 - accuracy: 0.8991 - val_loss: 0.5112 - val_accuracy: 0.8670\n",
            "Epoch 21/100\n",
            "4610/4611 [============================>.] - ETA: 0s - loss: 0.3383 - accuracy: 0.9008\n",
            "Epoch 00021: val_accuracy did not improve from 0.86904\n",
            "4611/4611 [==============================] - 33s 7ms/step - loss: 0.3383 - accuracy: 0.9008 - val_loss: 0.5467 - val_accuracy: 0.8602\n",
            "Epoch 22/100\n",
            "4607/4611 [============================>.] - ETA: 0s - loss: 0.3277 - accuracy: 0.9036\n",
            "Epoch 00022: val_accuracy did not improve from 0.86904\n",
            "4611/4611 [==============================] - 33s 7ms/step - loss: 0.3277 - accuracy: 0.9036 - val_loss: 0.5403 - val_accuracy: 0.8628\n",
            "Epoch 23/100\n",
            "4605/4611 [============================>.] - ETA: 0s - loss: 0.3170 - accuracy: 0.9063\n",
            "Epoch 00023: val_accuracy did not improve from 0.86904\n",
            "4611/4611 [==============================] - 33s 7ms/step - loss: 0.3170 - accuracy: 0.9063 - val_loss: 0.5341 - val_accuracy: 0.8642\n",
            "Epoch 24/100\n",
            "4608/4611 [============================>.] - ETA: 0s - loss: 0.3093 - accuracy: 0.9082\n",
            "Epoch 00024: val_accuracy did not improve from 0.86904\n",
            "4611/4611 [==============================] - 33s 7ms/step - loss: 0.3093 - accuracy: 0.9082 - val_loss: 0.5224 - val_accuracy: 0.8663\n",
            "Epoch 25/100\n",
            "4610/4611 [============================>.] - ETA: 0s - loss: 0.2983 - accuracy: 0.9116\n",
            "Epoch 00025: val_accuracy did not improve from 0.86904\n",
            "Restoring model weights from the end of the best epoch.\n",
            "4611/4611 [==============================] - 33s 7ms/step - loss: 0.2983 - accuracy: 0.9116 - val_loss: 0.5781 - val_accuracy: 0.8578\n",
            "Epoch 00025: early stopping\n"
          ],
          "name": "stdout"
        }
      ]
    },
    {
      "cell_type": "code",
      "metadata": {
        "id": "XXHdIbq7Qv_I",
        "outputId": "39e7c4ce-e4aa-446d-ee26-979e067955b4",
        "colab": {
          "base_uri": "https://localhost:8080/",
          "height": 1000
        }
      },
      "source": [
        "plt.figure(figsize=(16,9))\n",
        "# summarize history for accuracy\n",
        "plt.plot(history1_UPP.history['accuracy'])\n",
        "plt.plot(history1_UPP.history['val_accuracy'])\n",
        "plt.title('Model 5 lowercase letters accuracy (without Data Augmentation)')\n",
        "plt.ylabel('accuracy')\n",
        "plt.xlabel('epoch')\n",
        "plt.legend(['train', 'validation'], loc='lower right')\n",
        "plt.show()\n",
        "plt.figure(figsize=(16,9))\n",
        "\n",
        "# summarize history for loss\n",
        "plt.plot(history1_UPP.history['loss'])\n",
        "plt.plot(history1_UPP.history['val_loss'])\n",
        "plt.title('Model 5 lowercase letters loss (without Data Augmentation)')\n",
        "plt.ylabel('loss')\n",
        "plt.xlabel('epoch')\n",
        "plt.legend(['train', 'validation'], loc='upper right')\n",
        "plt.show()"
      ],
      "execution_count": null,
      "outputs": [
        {
          "output_type": "display_data",
          "data": {
            "image/png": "[encoded data removed]",
            "text/plain": [
              "<Figure size 1152x648 with 1 Axes>"
            ]
          },
          "metadata": {
            "tags": [],
            "needs_background": "light"
          }
        },
        {
          "output_type": "display_data",
          "data": {
            "image/png": "[encoded data removed]",
            "text/plain": [
              "<Figure size 1152x648 with 1 Axes>"
            ]
          },
          "metadata": {
            "tags": [],
            "needs_background": "light"
          }
        }
      ]
    },
    {
      "cell_type": "code",
      "metadata": {
        "id": "jOltsguOxFJp",
        "outputId": "1b201b35-7793-4a23-fa7a-a726244e9059",
        "colab": {
          "base_uri": "https://localhost:8080/",
          "height": 35
        }
      },
      "source": [
        "evaluation = model.evaluate(im_test_UPP, lab_test_UPP)"
      ],
      "execution_count": null,
      "outputs": [
        {
          "output_type": "stream",
          "text": [
            "846/846 [==============================] - 3s 4ms/step - loss: 0.5026 - accuracy: 0.8643\n"
          ],
          "name": "stdout"
        }
      ]
    },
    {
      "cell_type": "code",
      "metadata": {
        "id": "xMRCeTWLyimv",
        "outputId": "97ae3a5d-5851-4cbf-95a7-e66749a54c94",
        "colab": {
          "base_uri": "https://localhost:8080/",
          "height": 35
        }
      },
      "source": [
        "evaluation"
      ],
      "execution_count": null,
      "outputs": [
        {
          "output_type": "execute_result",
          "data": {
            "text/plain": [
              "[0.5026121139526367, 0.864296555519104]"
            ]
          },
          "metadata": {
            "tags": []
          },
          "execution_count": 20
        }
      ]
    },
    {
      "cell_type": "code",
      "metadata": {
        "id": "2b6yNk-c-oqX"
      },
      "source": [
        ""
      ],
      "execution_count": null,
      "outputs": []
    }
  ]
}