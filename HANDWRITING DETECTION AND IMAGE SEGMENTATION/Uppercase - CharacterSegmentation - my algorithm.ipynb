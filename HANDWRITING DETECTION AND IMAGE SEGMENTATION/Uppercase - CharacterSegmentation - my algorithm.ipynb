{
 "cells": [
  {
   "cell_type": "code",
   "execution_count": 1,
   "metadata": {},
   "outputs": [],
   "source": [
    "import numpy as np\n",
    "import cv2 as cv\n",
    "from matplotlib import pyplot as plt\n",
    "import traceback"
   ]
  },
  {
   "cell_type": "code",
   "execution_count": 2,
   "metadata": {},
   "outputs": [],
   "source": [
    "def prepareImg(img, height):\n",
    "    \"convert given image to grayscale image (if needed) and resize to desired height\"\n",
    "    h = img.shape[0]\n",
    "    factor = height / h\n",
    "    return cv.resize(img, dsize=None, fx=factor, fy=factor)"
   ]
  },
  {
   "cell_type": "code",
   "execution_count": 75,
   "metadata": {},
   "outputs": [],
   "source": [
    "img = (cv.imread('seg_words/img_42.png'))"
   ]
  },
  {
   "cell_type": "code",
   "execution_count": 76,
   "metadata": {},
   "outputs": [
    {
     "data": {
      "text/plain": [
       "<matplotlib.image.AxesImage at 0x7f05ac736520>"
      ]
     },
     "execution_count": 76,
     "metadata": {},
     "output_type": "execute_result"
    },
    {
     "data": {
      "image/png": "[encoded data removed]",
      "text/plain": [
       "<Figure size 432x288 with 1 Axes>"
      ]
     },
     "metadata": {
      "needs_background": "light"
     },
     "output_type": "display_data"
    }
   ],
   "source": [
    "plt.imshow(img, cmap='gray')"
   ]
  },
  {
   "cell_type": "code",
   "execution_count": 77,
   "metadata": {},
   "outputs": [],
   "source": [
    "gray = cv.cvtColor(img, cv.COLOR_BGR2GRAY)\n",
    "\n",
    "th, letterGray = cv.threshold(gray, 170, 255, cv.THRESH_BINARY_INV|cv.THRESH_OTSU)"
   ]
  },
  {
   "cell_type": "code",
   "execution_count": 78,
   "metadata": {},
   "outputs": [
    {
     "data": {
      "text/plain": [
       "<matplotlib.image.AxesImage at 0x7f05ac701a30>"
      ]
     },
     "execution_count": 78,
     "metadata": {},
     "output_type": "execute_result"
    },
    {
     "data": {
      "image/png": "[encoded data removed]",
      "text/plain": [
       "<Figure size 432x288 with 1 Axes>"
      ]
     },
     "metadata": {
      "needs_background": "light"
     },
     "output_type": "display_data"
    }
   ],
   "source": [
    "plt.imshow(letterGray, cmap='gray')"
   ]
  },
  {
   "cell_type": "code",
   "execution_count": 79,
   "metadata": {},
   "outputs": [
    {
     "data": {
      "text/plain": [
       "(32, 105)"
      ]
     },
     "execution_count": 79,
     "metadata": {},
     "output_type": "execute_result"
    }
   ],
   "source": [
    "letterGray.shape"
   ]
  },
  {
   "cell_type": "code",
   "execution_count": 80,
   "metadata": {},
   "outputs": [],
   "source": [
    "h = letterGray.shape[0]\n",
    "w = letterGray.shape[1]"
   ]
  },
  {
   "cell_type": "code",
   "execution_count": 81,
   "metadata": {},
   "outputs": [],
   "source": [
    "# normalize image pixel in range [0,1]\n",
    "\n",
    "letterGray = letterGray/255"
   ]
  },
  {
   "cell_type": "code",
   "execution_count": 82,
   "metadata": {},
   "outputs": [],
   "source": [
    "def average_col(pc):\n",
    "    \n",
    "    sp = []\n",
    "    s = 0\n",
    "    n = 0\n",
    "    flag = False\n",
    "    # compute average between closed black columns\n",
    "    for i in range(len(pc)-1):\n",
    "    \n",
    "        if(pc[i+1]-pc[i] <= 3):\n",
    "\n",
    "            s += pc[i]\n",
    "            n += 1\n",
    "\n",
    "            if(i == len(pc)-2):\n",
    "                flag = True\n",
    "                s += pc[i+1]\n",
    "                n += 1\n",
    "                sp.append(s//n)\n",
    "        else:\n",
    "            if(n>0):\n",
    "                sp.append(s//n)\n",
    "                n = 0\n",
    "                s = 0\n",
    "            else:                \n",
    "                sp.append(pc[i])\n",
    "                \n",
    "    if not flag and sp!=[]:\n",
    "        sp.append(pc[-1])\n",
    "        \n",
    "    return sp"
   ]
  },
  {
   "cell_type": "code",
   "execution_count": 83,
   "metadata": {},
   "outputs": [],
   "source": [
    "def find_black_col(letterGray):\n",
    "    \"\"\"\n",
    "    Find columns with all pixel black (background)\n",
    "    from a binary inverted image; average closed columns;\n",
    "    remove columns which are more closed than a threshold\n",
    "    \n",
    "    img: a binary inverted image with normalized pixel\n",
    "    \n",
    "    return a list with indexs of black columns\n",
    "    \"\"\"\n",
    "    bc = []\n",
    "    # sum each column pixel \n",
    "    col = np.sum(letterGray==0, axis=0)\n",
    "    # save index of black columns\n",
    "    black_col = np.where(col==h)\n",
    "    black_col = black_col[0]\n",
    "    \n",
    "    bc = average_col(black_col)\n",
    "        \n",
    "    return bc"
   ]
  },
  {
   "cell_type": "code",
   "execution_count": 84,
   "metadata": {},
   "outputs": [],
   "source": [
    "bc = find_black_col(letterGray)"
   ]
  },
  {
   "cell_type": "code",
   "execution_count": 85,
   "metadata": {},
   "outputs": [
    {
     "data": {
      "text/plain": [
       "[]"
      ]
     },
     "execution_count": 85,
     "metadata": {},
     "output_type": "execute_result"
    }
   ],
   "source": [
    "bc"
   ]
  },
  {
   "cell_type": "code",
   "execution_count": 86,
   "metadata": {},
   "outputs": [],
   "source": [
    "THRESH1 = 8\n",
    "THRESH2 = 4"
   ]
  },
  {
   "cell_type": "code",
   "execution_count": 87,
   "metadata": {},
   "outputs": [],
   "source": [
    "def char_seg(a,b):\n",
    "    \"\"\"\n",
    "    a: int\n",
    "        start point\n",
    "    b: int\n",
    "        end point   \n",
    "        \n",
    "    return a list of potential segmentation points\n",
    "    \"\"\"\n",
    "        \n",
    "    col = np.sum(letterGray==1,axis=0)\n",
    "    psp = []\n",
    "    sp = []\n",
    "    \n",
    "    for i in range(a, b-1):\n",
    "        \n",
    "        if col[i+1]-col[i] >= THRESH2:\n",
    "\n",
    "            psp.append(i)\n",
    "    \n",
    "    sp = average_col(psp)\n",
    "            \n",
    "    return sp"
   ]
  },
  {
   "cell_type": "code",
   "execution_count": 88,
   "metadata": {},
   "outputs": [],
   "source": [
    "new_col = []\n",
    "no_black_col = False\n",
    "\n",
    "if(bc!=[]):\n",
    "    \n",
    "    if(bc[0]==0):\n",
    "        bc.remove(0)\n",
    "    \n",
    "    if(bc!=[] and bc[-1]==w-1):\n",
    "        bc.remove(w-1)\n",
    "    \n",
    "    if(bc!=[] and bc[0] < THRESH1):\n",
    "\n",
    "        bc.remove(bc[0])\n",
    "\n",
    "    for i in range(len(bc)-1):\n",
    "\n",
    "        if(i==0):\n",
    "\n",
    "            if(bc[i] > THRESH1):\n",
    "\n",
    "                new_col.append(char_seg(0, bc[i]))\n",
    "        \n",
    "        if(bc[i+1]-bc[i] > THRESH1):\n",
    "\n",
    "            new_col.append(char_seg(bc[i], bc[i+1]))\n",
    "            \n",
    "    if(bc!=[] and (w-1)-bc[-1] > THRESH1):\n",
    "\n",
    "        new_col.append(char_seg(bc[-1],w))\n",
    "        \n",
    "    if(len(bc)==1):\n",
    "        \n",
    "        new_col.append(char_seg(0,bc[0]))\n",
    "        new_col.append(char_seg(bc[0],w-1))\n",
    "        \n",
    "else:\n",
    "    \n",
    "    no_black_col = True\n",
    "    \n",
    "    new_col.append(char_seg(0, w-1))"
   ]
  },
  {
   "cell_type": "code",
   "execution_count": 89,
   "metadata": {},
   "outputs": [
    {
     "data": {
      "text/plain": [
       "[]"
      ]
     },
     "execution_count": 89,
     "metadata": {},
     "output_type": "execute_result"
    }
   ],
   "source": [
    "bc"
   ]
  },
  {
   "cell_type": "code",
   "execution_count": 90,
   "metadata": {},
   "outputs": [],
   "source": [
    "new_sp = []\n",
    "    \n",
    "for i in range(len(new_col)):\n",
    "\n",
    "    for x in new_col[i]:\n",
    "\n",
    "        new_sp.append(x)\n",
    "        \n",
    "if(new_sp!=[]):\n",
    "    \n",
    "    new_sp = (sorted(list(set(new_sp))))\n",
    "    \n",
    "\n",
    "    if(new_sp[0] < THRESH1):\n",
    "        \n",
    "        new_sp.remove(new_sp[0])\n",
    "    \n",
    "if(new_sp!=[]):\n",
    "    \n",
    "    if((w-1)-new_sp[-1] < THRESH2):\n",
    "        \n",
    "        new_sp.remove(new_sp[-1])"
   ]
  },
  {
   "cell_type": "code",
   "execution_count": 91,
   "metadata": {},
   "outputs": [],
   "source": [
    "final_col = []\n",
    "b = False\n",
    "\n",
    "for i in range(len(new_sp)):\n",
    "    \n",
    "    b = False\n",
    "    \n",
    "    for j in range(len(bc)):\n",
    "        \n",
    "        if(abs(bc[j]-new_sp[i]) < THRESH1):\n",
    "            \n",
    "            b=True\n",
    "            \n",
    "    if(not b):    \n",
    "        \n",
    "        final_col.append(new_sp[i])"
   ]
  },
  {
   "cell_type": "code",
   "execution_count": 92,
   "metadata": {},
   "outputs": [],
   "source": [
    "final_col = final_col+bc"
   ]
  },
  {
   "cell_type": "code",
   "execution_count": 93,
   "metadata": {},
   "outputs": [],
   "source": [
    "final_col = sorted(set(final_col))"
   ]
  },
  {
   "cell_type": "code",
   "execution_count": 94,
   "metadata": {},
   "outputs": [
    {
     "data": {
      "text/plain": [
       "[17, 57, 74, 82, 87, 96]"
      ]
     },
     "execution_count": 94,
     "metadata": {},
     "output_type": "execute_result"
    }
   ],
   "source": [
    "final_col"
   ]
  },
  {
   "cell_type": "code",
   "execution_count": 95,
   "metadata": {},
   "outputs": [
    {
     "data": {
      "text/plain": [
       "[]"
      ]
     },
     "execution_count": 95,
     "metadata": {},
     "output_type": "execute_result"
    }
   ],
   "source": [
    "bc"
   ]
  },
  {
   "cell_type": "code",
   "execution_count": 96,
   "metadata": {},
   "outputs": [
    {
     "data": {
      "text/plain": [
       "[17, 57, 74, 82, 87, 96]"
      ]
     },
     "execution_count": 96,
     "metadata": {},
     "output_type": "execute_result"
    }
   ],
   "source": [
    "new_sp"
   ]
  },
  {
   "cell_type": "code",
   "execution_count": 97,
   "metadata": {},
   "outputs": [
    {
     "data": {
      "text/plain": [
       "\"for i in range(len(sp)-1):\\n    \\n    currImg = im[:,sp[i]:sp[i+1]]\\n    \\n    #elif(i<len(cut)-1):    \\n    #    currImg = im[:,cut[i]:cut[i+1]]\\n    cv.imwrite('estratte/letter_img_18_'+str(i)+'.png', currImg)\\n    plt.figure()\\n    plt.imshow(currImg, cmap='gray')\\n\""
      ]
     },
     "execution_count": 97,
     "metadata": {},
     "output_type": "execute_result"
    }
   ],
   "source": [
    "im = img.copy()\n",
    "\n",
    "for i in final_col:\n",
    "        \n",
    "    cv.rectangle(img, (i,0), (i,h), (255,255,0))\n",
    "\n",
    "\"\"\"for i in range(len(sp)-1):\n",
    "    \n",
    "    currImg = im[:,sp[i]:sp[i+1]]\n",
    "    \n",
    "    #elif(i<len(cut)-1):    \n",
    "    #    currImg = im[:,cut[i]:cut[i+1]]\n",
    "    cv.imwrite('estratte/letter_img_18_'+str(i)+'.png', currImg)\n",
    "    plt.figure()\n",
    "    plt.imshow(currImg, cmap='gray')\n",
    "\"\"\""
   ]
  },
  {
   "cell_type": "code",
   "execution_count": 98,
   "metadata": {},
   "outputs": [
    {
     "data": {
      "text/plain": [
       "<matplotlib.image.AxesImage at 0x7f05ac65ff70>"
      ]
     },
     "execution_count": 98,
     "metadata": {},
     "output_type": "execute_result"
    },
    {
     "data": {
      "image/png": "[encoded data removed]",
      "text/plain": [
       "<Figure size 432x288 with 1 Axes>"
      ]
     },
     "metadata": {
      "needs_background": "light"
     },
     "output_type": "display_data"
    }
   ],
   "source": [
    "plt.imshow(img, cmap='gray')"
   ]
  },
  {
   "cell_type": "code",
   "execution_count": null,
   "metadata": {},
   "outputs": [],
   "source": []
  },
  {
   "cell_type": "code",
   "execution_count": null,
   "metadata": {},
   "outputs": [],
   "source": []
  },
  {
   "cell_type": "code",
   "execution_count": null,
   "metadata": {},
   "outputs": [],
   "source": []
  }
 ],
 "metadata": {
  "kernelspec": {
   "display_name": "Python [conda env:tf-gpu] *",
   "language": "python",
   "name": "conda-env-tf-gpu-py"
  },
  "language_info": {
   "codemirror_mode": {
    "name": "ipython",
    "version": 3
   },
   "file_extension": ".py",
   "mimetype": "text/x-python",
   "name": "python",
   "nbconvert_exporter": "python",
   "pygments_lexer": "ipython3",
   "version": "3.8.3"
  }
 },
 "nbformat": 4,
 "nbformat_minor": 4
}
